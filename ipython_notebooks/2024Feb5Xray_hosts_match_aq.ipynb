{
 "cells": [
  {
   "cell_type": "code",
   "execution_count": 1,
   "id": "080354d2-fa5e-45ca-9f30-1e219b8f8b48",
   "metadata": {},
   "outputs": [],
   "source": [
    "from pathlib import Path\n",
    "\n",
    "import numpy as np\n",
    "\n",
    "%matplotlib inline\n",
    "from matplotlib import pyplot as plt\n",
    "\n",
    "from astropy import units as u\n",
    "from astropy import table\n",
    "\n",
    "import pyvo as vo\n",
    "\n",
    "from tqdm.notebook import tqdm\n",
    "\n",
    "from multiprocess import Pool\n",
    "\n",
    "from dill import dump, load"
   ]
  },
  {
   "cell_type": "code",
   "execution_count": 2,
   "id": "014474d3-0a4d-49f8-9ea8-d9db31848730",
   "metadata": {},
   "outputs": [],
   "source": [
    "import warnings\n",
    "from astroquery.exceptions import NoResultsWarning\n",
    "warnings.simplefilter('ignore', NoResultsWarning)\n",
    "warnings.simplefilter('ignore', u.UnitsWarning) # comes up in the parsing of some heasarc tables but is just a \"discouraged by FITS standard\" issue"
   ]
  },
  {
   "cell_type": "code",
   "execution_count": 3,
   "id": "95ceb7f2-35a7-400d-b2f9-33a70dc22708",
   "metadata": {},
   "outputs": [
    {
     "name": "stdout",
     "output_type": "stream",
     "text": [
      "SAGA `shared_dir` set to /Users/etollerud/Dropbox/\n",
      "SAGA `local_dir`  set to /../\n"
     ]
    }
   ],
   "source": [
    "import SAGA\n",
    "saga = SAGA.QuickStart('/Users/etollerud/Dropbox/', '/../')"
   ]
  },
  {
   "cell_type": "code",
   "execution_count": 4,
   "id": "5dca7d3d-8a1a-47ae-8b46-02fb20fa8b2e",
   "metadata": {},
   "outputs": [],
   "source": [
    "hosts = saga.host_catalog.load()"
   ]
  },
  {
   "cell_type": "markdown",
   "id": "660dedd3-259a-4701-8094-2d99864db8b8",
   "metadata": {},
   "source": [
    "# First match HEASARC data"
   ]
  },
  {
   "cell_type": "code",
   "execution_count": 5,
   "id": "ab378a73-9ced-4880-81d5-e07d46d0cfb4",
   "metadata": {},
   "outputs": [],
   "source": [
    "from astroquery.heasarc import Heasarc\n",
    "heasarc = Heasarc()\n",
    "\n",
    "CONCURRENCY_QRYS = 10"
   ]
  },
  {
   "cell_type": "code",
   "execution_count": 6,
   "id": "0101fbe8-94aa-4681-8e9b-d2556a3fabf1",
   "metadata": {},
   "outputs": [
    {
     "data": {
      "text/html": [
       "<div><i>Table length=1185</i>\n",
       "<table id=\"table5571618704\" class=\"table-striped table-bordered table-condensed\">\n",
       "<thead><tr><th>Mission</th><th>Table</th><th>Table Description</th></tr></thead>\n",
       "<thead><tr><th>str16</th><th>str12</th><th>str80</th></tr></thead>\n",
       "<tr><td>AGILE</td><td>agilecat</td><td>First AGILE Catalog of High-Confidence Gamma-Ray Sources</td></tr>\n",
       "<tr><td>AGILE</td><td>agileupvar</td><td>Updated AGILE Catalog of Bright Gamma-Ray Sources and Variability</td></tr>\n",
       "<tr><td>AKARI</td><td>akaribsc</td><td>AKARI/FIS All-Sky Survey Bright Source Catalog, Version 1</td></tr>\n",
       "<tr><td>AKARI</td><td>akaripsc</td><td>AKARI/IRC All-Sky Survey Point Source Catalog, Version 1</td></tr>\n",
       "<tr><td>ANS</td><td>ansuvpscat</td><td>ANS Ultraviolet Photometry Catalog of Point Sources</td></tr>\n",
       "<tr><td>ARIEL V</td><td>ariel3a</td><td>3rd Ariel-V SSI Catalog</td></tr>\n",
       "<tr><td>...</td><td>...</td><td>...</td></tr>\n",
       "<tr><td>XMM-NEWTON</td><td>xmmstack</td><td>XMM-Newton Serendipitous Source Catalog from Stacked Observations (4XMM-DR13s)</td></tr>\n",
       "<tr><td>XMM-NEWTON</td><td>xmmstackob</td><td>XMM-Newton Serendipitous Source Catalog from Stacked Observations: Obs. Data</td></tr>\n",
       "<tr><td>XMM-NEWTON</td><td>xmmt2flare</td><td>2XMM Flares Detected from Tycho-2 Stars</td></tr>\n",
       "<tr><td>XMM-NEWTON</td><td>xmmvaragn</td><td>Ensemble X-Ray Variability of AGN in 2XMMi-DR3</td></tr>\n",
       "<tr><td>XMM-NEWTON</td><td>xmmxassist</td><td>XMM-Newton XAssist Source List</td></tr>\n",
       "<tr><td>XMM-NEWTON</td><td>xms</td><td>XMM-Newton Medium Sensitivity Survey (XMS) Source Catalog</td></tr>\n",
       "<tr><td>XMM-NEWTON</td><td>xwas</td><td>XMM-Newton Wide Angle Survey</td></tr>\n",
       "</table></div>"
      ],
      "text/plain": [
       "<Table length=1185>\n",
       " Mission   ...\n",
       "  str16    ...\n",
       "---------- ...\n",
       "     AGILE ...\n",
       "     AGILE ...\n",
       "     AKARI ...\n",
       "     AKARI ...\n",
       "       ANS ...\n",
       "   ARIEL V ...\n",
       "       ... ...\n",
       "XMM-NEWTON ...\n",
       "XMM-NEWTON ...\n",
       "XMM-NEWTON ...\n",
       "XMM-NEWTON ...\n",
       "XMM-NEWTON ...\n",
       "XMM-NEWTON ...\n",
       "XMM-NEWTON ..."
      ]
     },
     "execution_count": 6,
     "metadata": {},
     "output_type": "execute_result"
    }
   ],
   "source": [
    "missions = heasarc.query_mission_list()\n",
    "missions"
   ]
  },
  {
   "cell_type": "code",
   "execution_count": 7,
   "id": "37523581-acb0-4e29-90eb-2f427a075e7c",
   "metadata": {},
   "outputs": [
    {
     "data": {
      "text/plain": [
       "['AGILE',\n",
       " 'AKARI',\n",
       " 'ANS',\n",
       " 'ARIEL V',\n",
       " 'ASCA',\n",
       " 'BBXRT',\n",
       " 'BEPPOSAX',\n",
       " 'CALET',\n",
       " 'CGRO',\n",
       " 'CHANDRA',\n",
       " 'COBE',\n",
       " 'COPERNICUS',\n",
       " 'COROT',\n",
       " 'COS B',\n",
       " 'EINSTEIN',\n",
       " 'EUVE',\n",
       " 'EXOSAT',\n",
       " 'FAUST',\n",
       " 'FERMI',\n",
       " 'FUSE',\n",
       " 'GALAXY CATALOG',\n",
       " 'GALEX',\n",
       " 'GAMMA-RAY BURSTS',\n",
       " 'GENERAL CATALOG',\n",
       " 'GINGA',\n",
       " 'GROUND-BASED',\n",
       " 'HALOSAT',\n",
       " 'HEAO1',\n",
       " 'HERSCHEL',\n",
       " 'HETE-2',\n",
       " 'HITOMI',\n",
       " 'HST',\n",
       " 'ICECUBE',\n",
       " 'INTEGRAL',\n",
       " 'IRAS',\n",
       " 'ISO',\n",
       " 'IUE',\n",
       " 'IXPE',\n",
       " 'KVANT',\n",
       " 'LPF',\n",
       " 'MASTER CATALOG',\n",
       " 'MAXI',\n",
       " 'MSX',\n",
       " 'NEBULA CATALOG',\n",
       " 'NICER',\n",
       " 'NUSTAR',\n",
       " 'OSO8',\n",
       " 'PLANCK',\n",
       " 'RADIO CATALOG',\n",
       " 'RHESSI',\n",
       " 'ROSAT',\n",
       " 'RXTE',\n",
       " 'SAS-2',\n",
       " 'SAS-3',\n",
       " 'SDSS',\n",
       " 'SPITZER',\n",
       " 'SRG-EROSITA',\n",
       " 'STAR CATALOG',\n",
       " 'SUZAKU',\n",
       " 'SWIFT',\n",
       " 'TD1',\n",
       " 'UHURU',\n",
       " 'UIT',\n",
       " 'VELA 5B',\n",
       " 'VERITAS',\n",
       " 'WISE',\n",
       " 'WMAP',\n",
       " 'XMM-NEWTON']"
      ]
     },
     "execution_count": 7,
     "metadata": {},
     "output_type": "execute_result"
    }
   ],
   "source": [
    "list(np.unique(missions['Mission']))"
   ]
  },
  {
   "cell_type": "code",
   "execution_count": 8,
   "id": "83ec3c90-cbb8-48b9-894c-470168ff59c4",
   "metadata": {},
   "outputs": [],
   "source": [
    "xray_mission_tables = []"
   ]
  },
  {
   "cell_type": "code",
   "execution_count": 9,
   "id": "10a0bc9a-043e-4cb8-b834-4891d1f84e9e",
   "metadata": {},
   "outputs": [
    {
     "data": {
      "text/html": [
       "<div><i>Table length=5</i>\n",
       "<table id=\"table6217431632\" class=\"table-striped table-bordered table-condensed\">\n",
       "<thead><tr><th>Mission</th><th>Table</th><th>Table Description</th></tr></thead>\n",
       "<thead><tr><th>str16</th><th>str12</th><th>str80</th></tr></thead>\n",
       "<tr><td>SRG-EROSITA</td><td>efedshard</td><td>eROSITA eFEDS Hard X-Ray (2.3-5.0 keV) Source Catalog</td></tr>\n",
       "<tr><td>SRG-EROSITA</td><td>efedsmain</td><td>eROSITA eFEDS Main X-Ray (0.2-2.3 keV) Source Catalog</td></tr>\n",
       "<tr><td>SRG-EROSITA</td><td>erosmaster</td><td>eROSITA Observations Master Catalog</td></tr>\n",
       "<tr><td>SRG-EROSITA</td><td>etachahard</td><td>Eta Chamaeleontis eROSITA EDR Field X-Ray (2.3-5.0 keV) Source Catalog</td></tr>\n",
       "<tr><td>SRG-EROSITA</td><td>etachamain</td><td>Eta Chamaeleontis eROSITA EDR Field X-Ray (0.2-2.3 keV) Source Catalog</td></tr>\n",
       "</table></div>"
      ],
      "text/plain": [
       "<Table length=5>\n",
       "  Mission   ...\n",
       "   str16    ...\n",
       "----------- ...\n",
       "SRG-EROSITA ...\n",
       "SRG-EROSITA ...\n",
       "SRG-EROSITA ...\n",
       "SRG-EROSITA ...\n",
       "SRG-EROSITA ..."
      ]
     },
     "execution_count": 9,
     "metadata": {},
     "output_type": "execute_result"
    }
   ],
   "source": [
    "xray_mission_tables.append(missions[missions['Mission']=='SRG-EROSITA'])\n",
    "xray_mission_tables[-1]"
   ]
  },
  {
   "cell_type": "code",
   "execution_count": 10,
   "id": "8f36a1c9-df9f-445d-9bd6-291a6d532813",
   "metadata": {},
   "outputs": [
    {
     "data": {
      "text/html": [
       "<div><i>Table length=104</i>\n",
       "<table id=\"table5571521168\" class=\"table-striped table-bordered table-condensed\">\n",
       "<thead><tr><th>Mission</th><th>Table</th><th>Table Description</th></tr></thead>\n",
       "<thead><tr><th>str16</th><th>str12</th><th>str80</th></tr></thead>\n",
       "<tr><td>XMM-NEWTON</td><td>agnsdssxm2</td><td>Sloan Digital Sky Survey/XMM-Newton Type1 AGN X-Ray and Radio Properties Catalog</td></tr>\n",
       "<tr><td>XMM-NEWTON</td><td>agnsdssxmm</td><td>Sloan Digital Sky Survey/XMM-Newton AGN Spectral Properties Catalog</td></tr>\n",
       "<tr><td>XMM-NEWTON</td><td>alfperxmm</td><td>Alpha Per Open Cluster XMM-Newton X-Ray Source Catalog</td></tr>\n",
       "<tr><td>XMM-NEWTON</td><td>axis</td><td>AXIS XMM-Newton Source Catalog</td></tr>\n",
       "<tr><td>XMM-NEWTON</td><td>caixa</td><td>Catalog of AGN in the XMM-Newton Archive</td></tr>\n",
       "<tr><td>XMM-NEWTON</td><td>carinaxmm</td><td>Carina OB1 Association XMM-Newton X-Ray Point Source Catalog</td></tr>\n",
       "<tr><td>...</td><td>...</td><td>...</td></tr>\n",
       "<tr><td>XMM-NEWTON</td><td>xmmstack</td><td>XMM-Newton Serendipitous Source Catalog from Stacked Observations (4XMM-DR13s)</td></tr>\n",
       "<tr><td>XMM-NEWTON</td><td>xmmstackob</td><td>XMM-Newton Serendipitous Source Catalog from Stacked Observations: Obs. Data</td></tr>\n",
       "<tr><td>XMM-NEWTON</td><td>xmmt2flare</td><td>2XMM Flares Detected from Tycho-2 Stars</td></tr>\n",
       "<tr><td>XMM-NEWTON</td><td>xmmvaragn</td><td>Ensemble X-Ray Variability of AGN in 2XMMi-DR3</td></tr>\n",
       "<tr><td>XMM-NEWTON</td><td>xmmxassist</td><td>XMM-Newton XAssist Source List</td></tr>\n",
       "<tr><td>XMM-NEWTON</td><td>xms</td><td>XMM-Newton Medium Sensitivity Survey (XMS) Source Catalog</td></tr>\n",
       "<tr><td>XMM-NEWTON</td><td>xwas</td><td>XMM-Newton Wide Angle Survey</td></tr>\n",
       "</table></div>"
      ],
      "text/plain": [
       "<Table length=104>\n",
       " Mission   ...\n",
       "  str16    ...\n",
       "---------- ...\n",
       "XMM-NEWTON ...\n",
       "XMM-NEWTON ...\n",
       "XMM-NEWTON ...\n",
       "XMM-NEWTON ...\n",
       "XMM-NEWTON ...\n",
       "XMM-NEWTON ...\n",
       "       ... ...\n",
       "XMM-NEWTON ...\n",
       "XMM-NEWTON ...\n",
       "XMM-NEWTON ...\n",
       "XMM-NEWTON ...\n",
       "XMM-NEWTON ...\n",
       "XMM-NEWTON ...\n",
       "XMM-NEWTON ..."
      ]
     },
     "execution_count": 10,
     "metadata": {},
     "output_type": "execute_result"
    }
   ],
   "source": [
    "xray_mission_tables.append(missions[missions['Mission']=='XMM-NEWTON'])\n",
    "xray_mission_tables[-1]"
   ]
  },
  {
   "cell_type": "code",
   "execution_count": 11,
   "id": "db160035-e693-4b14-8f4f-ab3d29741258",
   "metadata": {},
   "outputs": [
    {
     "data": {
      "text/html": [
       "<div><i>Table length=86</i>\n",
       "<table id=\"table6281592336\" class=\"table-striped table-bordered table-condensed\">\n",
       "<thead><tr><th>Mission</th><th>Table</th><th>Table Description</th></tr></thead>\n",
       "<thead><tr><th>str16</th><th>str12</th><th>str80</th></tr></thead>\n",
       "<tr><td>ROSAT</td><td>bhrfscid</td><td>Byurakan/Hamburg/ROSAT Catalog of Optical IDs</td></tr>\n",
       "<tr><td>ROSAT</td><td>bmwhricat</td><td>Brera Multi-scale Wavelet ROSAT HRI Source Catalog</td></tr>\n",
       "<tr><td>ROSAT</td><td>chasfrxray</td><td>ROSAT All-Sky Survey: Chamaeleon Star Forming Region Study</td></tr>\n",
       "<tr><td>ROSAT</td><td>cmar1xray</td><td>ROSAT PSPC Catalog of Canis Major R1 X-Ray Sources</td></tr>\n",
       "<tr><td>ROSAT</td><td>dxrbs</td><td>ROSAT Deep X-Ray Radio Blazar Survey Catalog</td></tr>\n",
       "<tr><td>ROSAT</td><td>etgalxray</td><td>Early-Type Galaxies X-Ray Luminosities Catalog</td></tr>\n",
       "<tr><td>...</td><td>...</td><td>...</td></tr>\n",
       "<tr><td>ROSAT</td><td>smcrosxry2</td><td>ROSAT PSPC Catalog of SMC X-Ray Sources (Haberl et al.)</td></tr>\n",
       "<tr><td>ROSAT</td><td>spidersros</td><td>SDSS-IV/SPIDERS ROSAT-Based X-Ray Point Source Spectroscopic Catalog</td></tr>\n",
       "<tr><td>ROSAT</td><td>w2ragncat</td><td>WISE/2MASS/RASS (W2R) AGN Sample Catalog</td></tr>\n",
       "<tr><td>ROSAT</td><td>warps</td><td>Wide Angle ROSAT Pointed Survey, First Phase (WARPS-I)</td></tr>\n",
       "<tr><td>ROSAT</td><td>warps2</td><td>Wide Angle ROSAT Pointed Survey, Second Phase (WARPS-II) Clusters Catalog</td></tr>\n",
       "<tr><td>ROSAT</td><td>wfcpoint</td><td>ROSAT Archival WFC EUV Data</td></tr>\n",
       "<tr><td>ROSAT</td><td>wgacat</td><td>ROSAT Catalog PSPC WGA Sources</td></tr>\n",
       "</table></div>"
      ],
      "text/plain": [
       "<Table length=86>\n",
       "Mission ...\n",
       " str16  ...\n",
       "------- ...\n",
       "  ROSAT ...\n",
       "  ROSAT ...\n",
       "  ROSAT ...\n",
       "  ROSAT ...\n",
       "  ROSAT ...\n",
       "  ROSAT ...\n",
       "    ... ...\n",
       "  ROSAT ...\n",
       "  ROSAT ...\n",
       "  ROSAT ...\n",
       "  ROSAT ...\n",
       "  ROSAT ...\n",
       "  ROSAT ...\n",
       "  ROSAT ..."
      ]
     },
     "execution_count": 11,
     "metadata": {},
     "output_type": "execute_result"
    }
   ],
   "source": [
    "xray_mission_tables.append(missions[missions['Mission']=='ROSAT'])\n",
    "xray_mission_tables[-1]"
   ]
  },
  {
   "cell_type": "code",
   "execution_count": 12,
   "id": "1b5038a2-0d38-4615-833f-eb0f966cd76a",
   "metadata": {},
   "outputs": [
    {
     "data": {
      "text/html": [
       "<div><i>Table length=201</i>\n",
       "<table id=\"table5578380368\" class=\"table-striped table-bordered table-condensed\">\n",
       "<thead><tr><th>Mission</th><th>Table</th><th>Table Description</th></tr></thead>\n",
       "<thead><tr><th>str16</th><th>str12</th><th>str80</th></tr></thead>\n",
       "<tr><td>CHANDRA</td><td>acceptcat</td><td>Archive of Chandra Cluster Entropy Profile Tables (ACCEPT) Catalog</td></tr>\n",
       "<tr><td>CHANDRA</td><td>aegisx</td><td>AEGIS-X Chandra Extended Groth Strip X-Ray Point Source Catalog</td></tr>\n",
       "<tr><td>CHANDRA</td><td>aegisxdcxo</td><td>AEGIS-X Deep Survey Chandra X-Ray Point Source Catalog</td></tr>\n",
       "<tr><td>CHANDRA</td><td>aknepdfcxo</td><td>Akari North Ecliptic Pole Deep Field Chandra X-Ray Point Source Catalog</td></tr>\n",
       "<tr><td>CHANDRA</td><td>arcquincxo</td><td>Arches and Quintuplet Clusters Chandra X-Ray Point Source Catalog</td></tr>\n",
       "<tr><td>CHANDRA</td><td>bmwchancat</td><td>Brera Multi-scale Wavelet Chandra Source Catalog</td></tr>\n",
       "<tr><td>...</td><td>...</td><td>...</td></tr>\n",
       "<tr><td>CHANDRA</td><td>vlulxcat</td><td>Extremely Luminous X-Ray Source Candidates Catalog</td></tr>\n",
       "<tr><td>CHANDRA</td><td>w40sfrcxo</td><td>W 40 Star-Forming Region Chandra X-Ray Point Source Catalog</td></tr>\n",
       "<tr><td>CHANDRA</td><td>wd1cxo</td><td>Westerlund 1 Chandra X-Ray Point Source Catalog</td></tr>\n",
       "<tr><td>CHANDRA</td><td>xbootes</td><td>XBOOTES: NDWFS Bootes Field X-Ray Point Source Catalog</td></tr>\n",
       "<tr><td>CHANDRA</td><td>xbootesoid</td><td>XBOOTES: NDWFS Bootes Field Optical &amp; Near IR Counterparts</td></tr>\n",
       "<tr><td>CHANDRA</td><td>xdeep2</td><td>DEEP2 Galaxy Redshift Survey Fields Chandra Point Source Catalog</td></tr>\n",
       "<tr><td>CHANDRA</td><td>xshzagncxo</td><td>X-Ray Selected High-z AGN Catalog</td></tr>\n",
       "</table></div>"
      ],
      "text/plain": [
       "<Table length=201>\n",
       "Mission ...\n",
       " str16  ...\n",
       "------- ...\n",
       "CHANDRA ...\n",
       "CHANDRA ...\n",
       "CHANDRA ...\n",
       "CHANDRA ...\n",
       "CHANDRA ...\n",
       "CHANDRA ...\n",
       "    ... ...\n",
       "CHANDRA ...\n",
       "CHANDRA ...\n",
       "CHANDRA ...\n",
       "CHANDRA ...\n",
       "CHANDRA ...\n",
       "CHANDRA ...\n",
       "CHANDRA ..."
      ]
     },
     "execution_count": 12,
     "metadata": {},
     "output_type": "execute_result"
    }
   ],
   "source": [
    "xray_mission_tables.append(missions[missions['Mission']=='CHANDRA'])\n",
    "xray_mission_tables[-1]"
   ]
  },
  {
   "cell_type": "code",
   "execution_count": 13,
   "id": "dd178cb1-d996-47b4-bf59-df271c132c3d",
   "metadata": {},
   "outputs": [
    {
     "data": {
      "text/html": [
       "<div><i>Table length=5</i>\n",
       "<table id=\"table6217481424\" class=\"table-striped table-bordered table-condensed\">\n",
       "<thead><tr><th>Mission</th><th>Table</th><th>Table Description</th></tr></thead>\n",
       "<thead><tr><th>str16</th><th>str12</th><th>str80</th></tr></thead>\n",
       "<tr><td>SRG-EROSITA</td><td>erosmaster</td><td>eROSITA Observations Master Catalog</td></tr>\n",
       "<tr><td>XMM-NEWTON</td><td>xmmmaster</td><td>XMM-Newton Master Log &amp; Public Archive</td></tr>\n",
       "<tr><td>ROSAT</td><td>rassmaster</td><td>ROSAT All-Sky Survey Archival Data</td></tr>\n",
       "<tr><td>ROSAT</td><td>rosmaster</td><td>ROSAT Archival Data</td></tr>\n",
       "<tr><td>CHANDRA</td><td>chanmaster</td><td>Chandra Observations</td></tr>\n",
       "</table></div>"
      ],
      "text/plain": [
       "<Table length=5>\n",
       "  Mission     Table              Table Description           \n",
       "   str16      str12                    str80                 \n",
       "----------- ---------- --------------------------------------\n",
       "SRG-EROSITA erosmaster    eROSITA Observations Master Catalog\n",
       " XMM-NEWTON  xmmmaster XMM-Newton Master Log & Public Archive\n",
       "      ROSAT rassmaster     ROSAT All-Sky Survey Archival Data\n",
       "      ROSAT  rosmaster                    ROSAT Archival Data\n",
       "    CHANDRA chanmaster                   Chandra Observations"
      ]
     },
     "execution_count": 13,
     "metadata": {},
     "output_type": "execute_result"
    }
   ],
   "source": [
    "xray_mission_all = table.vstack(xray_mission_tables)\n",
    "xray_mission_masters = xray_mission_all[np.array(['master' in row['Table'] for row in xray_mission_all])]\n",
    "xray_mission_masters"
   ]
  },
  {
   "cell_type": "code",
   "execution_count": 14,
   "id": "230976eb-b7f5-4552-be73-28a80019e741",
   "metadata": {
    "scrolled": true
   },
   "outputs": [
    {
     "data": {
      "text/html": [
       "<div><i>Table length=110</i>\n",
       "<table id=\"table6217677008\" class=\"table-striped table-bordered table-condensed\">\n",
       "<thead><tr><th>OBSID</th><th>STATUS</th><th>NAME</th><th>RA</th><th>DEC</th><th>TIME</th><th>DETECTOR</th><th>GRATING</th><th>EXPOSURE</th><th>TYPE</th><th>PI</th><th>PUBLIC_DATE</th><th>SEARCH_OFFSET_</th></tr></thead>\n",
       "<thead><tr><th></th><th></th><th></th><th>deg</th><th>deg</th><th>mjd</th><th></th><th></th><th>s</th><th></th><th></th><th>mjd</th><th></th></tr></thead>\n",
       "<thead><tr><th>int32</th><th>bytes20</th><th>bytes50</th><th>float64</th><th>float64</th><th>bytes16</th><th>bytes6</th><th>bytes4</th><th>float64</th><th>bytes3</th><th>bytes40</th><th>int32</th><th>bytes39</th></tr></thead>\n",
       "<tr><td>16233</td><td>archived</td><td>NGC 1404</td><td>54.76700</td><td>-35.59200</td><td>56970.5976273148</td><td>ACIS-S</td><td>NONE</td><td>100060</td><td>GO</td><td>Kraft</td><td>57480</td><td>565.847 (65.1095870053,-31.7245872504)\\n</td></tr>\n",
       "<tr><td>16304</td><td>archived</td><td>MCS J0416.1-2403</td><td>64.03750</td><td>-24.06783</td><td>56616.8403356482</td><td>ACIS-I</td><td>NONE</td><td>99080</td><td>GTO</td><td>Murray</td><td>56983</td><td>462.900 (65.1095870053,-31.7245872504)\\n</td></tr>\n",
       "<tr><td>16234</td><td>archived</td><td>NGC 1404 tail</td><td>54.84300</td><td>-35.64500</td><td>56960.0303819444</td><td>ACIS-S</td><td>NONE</td><td>92060</td><td>GO</td><td>Kraft</td><td>57326</td><td>563.563 (65.1095870053,-31.7245872504)\\n</td></tr>\n",
       "<tr><td>3577</td><td>archived</td><td>RCS0439.6-2905</td><td>69.90833</td><td>-29.08200</td><td>52745.966712963</td><td>ACIS-S</td><td>NONE</td><td>77170</td><td>GTO</td><td>Garmire</td><td>53117</td><td>294.578 (65.1095870053,-31.7245872504)\\n</td></tr>\n",
       "<tr><td>16523</td><td>archived</td><td>MACSJ0416.1-2403</td><td>64.03583</td><td>-24.07794</td><td>57008.8562615741</td><td>ACIS-I</td><td>NONE</td><td>72070</td><td>GO</td><td>Jones</td><td>57010</td><td>462.309 (65.1095870053,-31.7245872504)\\n</td></tr>\n",
       "<tr><td>7191</td><td>archived</td><td>ClG J0405-4100</td><td>61.35125</td><td>-41.00417</td><td>53874.0065162037</td><td>ACIS-I</td><td>NONE</td><td>70130</td><td>GO</td><td>Vikhlinin</td><td>54241</td><td>585.473 (65.1095870053,-31.7245872504)\\n</td></tr>\n",
       "<tr><td>...</td><td>...</td><td>...</td><td>...</td><td>...</td><td>...</td><td>...</td><td>...</td><td>...</td><td>...</td><td>...</td><td>...</td><td>...</td></tr>\n",
       "<tr><td>4458</td><td>archived</td><td>EARTH</td><td>75.10000</td><td>-36.45000</td><td>53063.2086689815</td><td>HRC-I</td><td>NONE</td><td>1250</td><td>GO</td><td>Elsner</td><td>53444</td><td>571.231 (65.1095870053,-31.7245872504)\\n</td></tr>\n",
       "<tr><td>4464</td><td>archived</td><td>EARTH</td><td>72.50000</td><td>-37.00000</td><td>53105.518912037</td><td>HRC-I</td><td>NONE</td><td>1200</td><td>GO</td><td>Elsner</td><td>53472</td><td>483.618 (65.1095870053,-31.7245872504)\\n</td></tr>\n",
       "<tr><td>4465</td><td>archived</td><td>EARTH</td><td>73.50000</td><td>-37.20000</td><td>53108.1564351852</td><td>HRC-I</td><td>NONE</td><td>1180</td><td>GO</td><td>Elsner</td><td>53476</td><td>528.960 (65.1095870053,-31.7245872504)\\n</td></tr>\n",
       "<tr><td>4459</td><td>archived</td><td>EARTH</td><td>74.70000</td><td>-36.00000</td><td>53028.833587963</td><td>HRC-I</td><td>NONE</td><td>1180</td><td>GO</td><td>Elsner</td><td>53410</td><td>541.943 (65.1095870053,-31.7245872504)\\n</td></tr>\n",
       "<tr><td>4460</td><td>archived</td><td>EARTH</td><td>76.10000</td><td>-35.70000</td><td>53034.1286574074</td><td>HRC-I</td><td>NONE</td><td>1170</td><td>GO</td><td>Elsner</td><td>53405</td><td>597.675 (65.1095870053,-31.7245872504)\\n</td></tr>\n",
       "<tr><td>4461</td><td>archived</td><td>EARTH</td><td>75.10000</td><td>-35.90000</td><td>53049.9979398148</td><td>HRC-I</td><td>NONE</td><td>1150</td><td>GO</td><td>Elsner</td><td>53424</td><td>557.095 (65.1095870053,-31.7245872504)\\n</td></tr>\n",
       "</table></div>"
      ],
      "text/plain": [
       "<Table length=110>\n",
       "OBSID        STATUS        ...              SEARCH_OFFSET_             \n",
       "                           ...                                         \n",
       "int32       bytes20        ...                 bytes39                 \n",
       "----- -------------------- ... ----------------------------------------\n",
       "16233 archived             ... 565.847 (65.1095870053,-31.7245872504)\\n\n",
       "16304 archived             ... 462.900 (65.1095870053,-31.7245872504)\\n\n",
       "16234 archived             ... 563.563 (65.1095870053,-31.7245872504)\\n\n",
       " 3577 archived             ... 294.578 (65.1095870053,-31.7245872504)\\n\n",
       "16523 archived             ... 462.309 (65.1095870053,-31.7245872504)\\n\n",
       " 7191 archived             ... 585.473 (65.1095870053,-31.7245872504)\\n\n",
       "  ...                  ... ...                                      ...\n",
       " 4458 archived             ... 571.231 (65.1095870053,-31.7245872504)\\n\n",
       " 4464 archived             ... 483.618 (65.1095870053,-31.7245872504)\\n\n",
       " 4465 archived             ... 528.960 (65.1095870053,-31.7245872504)\\n\n",
       " 4459 archived             ... 541.943 (65.1095870053,-31.7245872504)\\n\n",
       " 4460 archived             ... 597.675 (65.1095870053,-31.7245872504)\\n\n",
       " 4461 archived             ... 557.095 (65.1095870053,-31.7245872504)\\n"
      ]
     },
     "execution_count": 14,
     "metadata": {},
     "output_type": "execute_result"
    }
   ],
   "source": [
    "heasarc.query_region(hosts[35]['coord'], mission='chanmaster', radius=10.*u.degree)"
   ]
  },
  {
   "cell_type": "code",
   "execution_count": 15,
   "id": "d3ff0f7a-1b83-4712-ad8f-f42089ca05b3",
   "metadata": {},
   "outputs": [
    {
     "data": {
      "text/html": [
       "<div><i>Table length=103</i>\n",
       "<table id=\"table6281445840\" class=\"table-striped table-bordered table-condensed\">\n",
       "<thead><tr><th>SEQ_ID</th><th>INSTRUMENT</th><th>EXPOSURE</th><th>NAME</th><th>RA</th><th>DEC</th><th>START_TIME</th><th>END_TIME</th><th>SEARCH_OFFSET_</th></tr></thead>\n",
       "<thead><tr><th></th><th></th><th>s</th><th></th><th>deg</th><th>deg</th><th>mjd</th><th>mjd</th><th></th></tr></thead>\n",
       "<thead><tr><th>bytes16</th><th>bytes6</th><th>int32</th><th>bytes20</th><th>float64</th><th>float64</th><th>bytes16</th><th>bytes16</th><th>bytes39</th></tr></thead>\n",
       "<tr><td>RH600831A01</td><td>HRI</td><td>88557</td><td>NGC 1399</td><td>54.6300</td><td>-35.4500</td><td>50271.6172685185</td><td>50321.6630208333</td><td>569.094 (65.1095870053,-31.7245872504)\\n</td></tr>\n",
       "<tr><td>RH600831N00</td><td>HRI</td><td>73509</td><td>NGC 1399</td><td>54.6300</td><td>-35.4500</td><td>50086.5952083333</td><td>50136.41</td><td>569.094 (65.1095870053,-31.7245872504)\\n</td></tr>\n",
       "<tr><td>RH600940N00</td><td>HRI</td><td>63877</td><td>NGC 1404</td><td>54.7200</td><td>-35.5900</td><td>50475.3758680556</td><td>50482.6659606481</td><td>567.942 (65.1095870053,-31.7245872504)\\n</td></tr>\n",
       "<tr><td>RP600043N00</td><td>PSPCB</td><td>53511</td><td>N1399</td><td>54.6200</td><td>-35.4500</td><td>48483.1505092593</td><td>48484.0520138889</td><td>569.553 (65.1095870053,-31.7245872504)\\n</td></tr>\n",
       "<tr><td>RH600676N00</td><td>HRI</td><td>42601</td><td>NGC 1380</td><td>54.1100</td><td>-34.9800</td><td>49923.6369097222</td><td>49925.3159027778</td><td>584.459 (65.1095870053,-31.7245872504)\\n</td></tr>\n",
       "<tr><td>RH600839N00</td><td>HRI</td><td>38362</td><td>ESO359-29</td><td>63.2100</td><td>-33.0000</td><td>50321.2355555556</td><td>50322.3530671296</td><td>122.977 (65.1095870053,-31.7245872504)\\n</td></tr>\n",
       "<tr><td>...</td><td>...</td><td>...</td><td>...</td><td>...</td><td>...</td><td>...</td><td>...</td><td>...</td></tr>\n",
       "<tr><td>RP190924N00</td><td>PSPCB</td><td>0</td><td></td><td>71.3179</td><td>-40.3460</td><td>50507.7731828704</td><td>50507.7749074074</td><td>598.201 (65.1095870053,-31.7245872504)\\n</td></tr>\n",
       "<tr><td>RP190490N00</td><td>PSPC</td><td>0</td><td></td><td>57.0292</td><td>-32.7300</td><td>50482.9356018519</td><td>50482.9570601852</td><td>414.437 (65.1095870053,-31.7245872504)\\n</td></tr>\n",
       "<tr><td>RP190920N00</td><td>PSPCB</td><td>0</td><td></td><td>54.0500</td><td>-29.6900</td><td>50483.2486226852</td><td>50483.2536342593</td><td>583.161 (65.1095870053,-31.7245872504)\\n</td></tr>\n",
       "<tr><td>RP190137N00</td><td>PSPC</td><td>0</td><td></td><td>59.7000</td><td>-39.1300</td><td>50489.9998148148</td><td>50490.0014583333</td><td>516.828 (65.1095870053,-31.7245872504)\\n</td></tr>\n",
       "<tr><td>RP190908N00</td><td>PSPCB</td><td>0</td><td></td><td>63.2992</td><td>-33.0919</td><td>50506.5782986111</td><td>50506.5853240741</td><td>123.041 (65.1095870053,-31.7245872504)\\n</td></tr>\n",
       "<tr><td>RP190782N00</td><td>PSPCB</td><td>0</td><td></td><td>65.9858</td><td>-41.2081</td><td>50484.8931712963</td><td>50484.91875</td><td>570.570 (65.1095870053,-31.7245872504)\\n</td></tr>\n",
       "</table></div>"
      ],
      "text/plain": [
       "<Table length=103>\n",
       "     SEQ_ID      INSTRUMENT ...              SEARCH_OFFSET_             \n",
       "                            ...                                         \n",
       "    bytes16        bytes6   ...                 bytes39                 \n",
       "---------------- ---------- ... ----------------------------------------\n",
       "RH600831A01          HRI    ... 569.094 (65.1095870053,-31.7245872504)\\n\n",
       "RH600831N00          HRI    ... 569.094 (65.1095870053,-31.7245872504)\\n\n",
       "RH600940N00          HRI    ... 567.942 (65.1095870053,-31.7245872504)\\n\n",
       "RP600043N00          PSPCB  ... 569.553 (65.1095870053,-31.7245872504)\\n\n",
       "RH600676N00          HRI    ... 584.459 (65.1095870053,-31.7245872504)\\n\n",
       "RH600839N00          HRI    ... 122.977 (65.1095870053,-31.7245872504)\\n\n",
       "             ...        ... ...                                      ...\n",
       "RP190924N00          PSPCB  ... 598.201 (65.1095870053,-31.7245872504)\\n\n",
       "RP190490N00          PSPC   ... 414.437 (65.1095870053,-31.7245872504)\\n\n",
       "RP190920N00          PSPCB  ... 583.161 (65.1095870053,-31.7245872504)\\n\n",
       "RP190137N00          PSPC   ... 516.828 (65.1095870053,-31.7245872504)\\n\n",
       "RP190908N00          PSPCB  ... 123.041 (65.1095870053,-31.7245872504)\\n\n",
       "RP190782N00          PSPCB  ... 570.570 (65.1095870053,-31.7245872504)\\n"
      ]
     },
     "execution_count": 15,
     "metadata": {},
     "output_type": "execute_result"
    }
   ],
   "source": [
    "heasarc.query_region(hosts[35]['coord'], mission='rosmaster', radius=10.*u.degree)"
   ]
  },
  {
   "cell_type": "code",
   "execution_count": 16,
   "id": "9aa59a9d-d850-4613-a48a-2fd4ef972258",
   "metadata": {},
   "outputs": [
    {
     "data": {
      "text/html": [
       "<div><i>Table length=12</i>\n",
       "<table id=\"table6217599440\" class=\"table-striped table-bordered table-condensed\">\n",
       "<thead><tr><th>SEQ_ID</th><th>INSTRUMENT</th><th>EXPOSURE</th><th>RA</th><th>DEC</th><th>TITLE</th><th>PUBLIC_DATE</th><th>SEARCH_OFFSET_</th></tr></thead>\n",
       "<thead><tr><th></th><th></th><th>s</th><th>deg</th><th>deg</th><th></th><th>mjd</th><th></th></tr></thead>\n",
       "<thead><tr><th>bytes16</th><th>bytes6</th><th>int32</th><th>float64</th><th>float64</th><th>bytes20</th><th>int32</th><th>bytes39</th></tr></thead>\n",
       "<tr><td>RS932410N00</td><td>PSPC</td><td>791</td><td>65.76692</td><td>-39.37500</td><td>RASS 3/24/10</td><td>51615</td><td>460.141 (65.1095870053,-31.7245872504)\\n</td></tr>\n",
       "<tr><td>RS932311N00</td><td>PSPC</td><td>718</td><td>68.72521</td><td>-33.75000</td><td>RASS 3/23/11</td><td>51615</td><td>219.216 (65.1095870053,-31.7245872504)\\n</td></tr>\n",
       "<tr><td>RS932310N00</td><td>PSPC</td><td>717</td><td>62.17942</td><td>-33.75000</td><td>RASS 3/23/10</td><td>51615</td><td>191.394 (65.1095870053,-31.7245872504)\\n</td></tr>\n",
       "<tr><td>RS932409N00</td><td>PSPC</td><td>678</td><td>58.84583</td><td>-39.37500</td><td>RASS 3/24/09</td><td>51615</td><td>551.197 (65.1095870053,-31.7245872504)\\n</td></tr>\n",
       "<tr><td>RS932312N00</td><td>PSPC</td><td>659</td><td>75.27100</td><td>-33.75000</td><td>RASS 3/23/12</td><td>51615</td><td>526.794 (65.1095870053,-31.7245872504)\\n</td></tr>\n",
       "<tr><td>RS932211N00</td><td>PSPC</td><td>629</td><td>65.17096</td><td>-28.12500</td><td>RASS 3/22/11</td><td>51615</td><td>215.999 (65.1095870053,-31.7245872504)\\n</td></tr>\n",
       "<tr><td>RS932212N00</td><td>PSPC</td><td>629</td><td>71.37917</td><td>-28.12500</td><td>RASS 3/22/12</td><td>51615</td><td>390.948 (65.1095870053,-31.7245872504)\\n</td></tr>\n",
       "<tr><td>RS932210N00</td><td>PSPC</td><td>628</td><td>58.96279</td><td>-28.12500</td><td>RASS 3/22/10</td><td>51615</td><td>385.646 (65.1095870053,-31.7245872504)\\n</td></tr>\n",
       "<tr><td>RS932411N00</td><td>PSPC</td><td>619</td><td>72.69171</td><td>-39.37500</td><td>RASS 3/24/11</td><td>51615</td><td>589.168 (65.1095870053,-31.7245872504)\\n</td></tr>\n",
       "<tr><td>RS932309N00</td><td>PSPC</td><td>566</td><td>55.63363</td><td>-33.75000</td><td>RASS 3/23/09</td><td>51615</td><td>493.237 (65.1095870053,-31.7245872504)\\n</td></tr>\n",
       "<tr><td>RS932111N00</td><td>PSPC</td><td>552</td><td>61.96671</td><td>-22.50000</td><td>RASS 3/21/11</td><td>51615</td><td>578.272 (65.1095870053,-31.7245872504)\\n</td></tr>\n",
       "<tr><td>RS932112N00</td><td>PSPC</td><td>461</td><td>67.86687</td><td>-22.50000</td><td>RASS 3/21/12</td><td>51615</td><td>572.656 (65.1095870053,-31.7245872504)\\n</td></tr>\n",
       "</table></div>"
      ],
      "text/plain": [
       "<Table length=12>\n",
       "     SEQ_ID      INSTRUMENT ...              SEARCH_OFFSET_             \n",
       "                            ...                                         \n",
       "    bytes16        bytes6   ...                 bytes39                 \n",
       "---------------- ---------- ... ----------------------------------------\n",
       "RS932410N00          PSPC   ... 460.141 (65.1095870053,-31.7245872504)\\n\n",
       "RS932311N00          PSPC   ... 219.216 (65.1095870053,-31.7245872504)\\n\n",
       "RS932310N00          PSPC   ... 191.394 (65.1095870053,-31.7245872504)\\n\n",
       "RS932409N00          PSPC   ... 551.197 (65.1095870053,-31.7245872504)\\n\n",
       "RS932312N00          PSPC   ... 526.794 (65.1095870053,-31.7245872504)\\n\n",
       "RS932211N00          PSPC   ... 215.999 (65.1095870053,-31.7245872504)\\n\n",
       "RS932212N00          PSPC   ... 390.948 (65.1095870053,-31.7245872504)\\n\n",
       "RS932210N00          PSPC   ... 385.646 (65.1095870053,-31.7245872504)\\n\n",
       "RS932411N00          PSPC   ... 589.168 (65.1095870053,-31.7245872504)\\n\n",
       "RS932309N00          PSPC   ... 493.237 (65.1095870053,-31.7245872504)\\n\n",
       "RS932111N00          PSPC   ... 578.272 (65.1095870053,-31.7245872504)\\n\n",
       "RS932112N00          PSPC   ... 572.656 (65.1095870053,-31.7245872504)\\n"
      ]
     },
     "execution_count": 16,
     "metadata": {},
     "output_type": "execute_result"
    }
   ],
   "source": [
    "heasarc.query_region(hosts[35]['coord'], mission='rassmaster', radius=10.*u.degree)"
   ]
  },
  {
   "cell_type": "code",
   "execution_count": 17,
   "id": "2ce75882-61c6-47f3-b231-c0f6dc19e5d1",
   "metadata": {},
   "outputs": [
    {
     "data": {
      "text/html": [
       "<div><i>Table length=58</i>\n",
       "<table id=\"table6281487824\" class=\"table-striped table-bordered table-condensed\">\n",
       "<thead><tr><th>OBSID</th><th>STATUS</th><th>NAME</th><th>RA</th><th>DEC</th><th>TIME</th><th>DURATION</th><th>PI_LNAME</th><th>PI_FNAME</th><th>PUBLIC_DATE</th><th>DATA_IN_HEASARC</th><th>SEARCH_OFFSET_</th></tr></thead>\n",
       "<thead><tr><th></th><th></th><th></th><th>deg</th><th>deg</th><th>mjd</th><th>s</th><th></th><th></th><th>mjd</th><th></th><th></th></tr></thead>\n",
       "<thead><tr><th>bytes10</th><th>bytes9</th><th>bytes24</th><th>float64</th><th>float64</th><th>bytes16</th><th>int32</th><th>bytes20</th><th>bytes20</th><th>int32</th><th>bytes1</th><th>bytes39</th></tr></thead>\n",
       "<tr><td>0804790501</td><td>archived</td><td>WASP-79</td><td>66.37090</td><td>-30.60044</td><td>57952.221875</td><td>12000</td><td>Sanz-Forcada</td><td>Jorge</td><td>58331</td><td>Y</td><td>93.503 (65.1095870053,-31.7245872504)\\n</td></tr>\n",
       "<tr><td>0405730401</td><td>archived</td><td>SN 2003bg</td><td>62.74758</td><td>-31.41397</td><td>54129.8308912037</td><td>21910</td><td>Filippenko</td><td>Alex</td><td>54530</td><td>Y</td><td>122.174 (65.1095870053,-31.7245872504)\\n</td></tr>\n",
       "<tr><td>0881990201</td><td>archived</td><td>SN2003bg</td><td>62.74758</td><td>-31.41394</td><td>59601.4691898148</td><td>20400</td><td>Stroh</td><td>Michael</td><td>59978</td><td>Y</td><td>122.174 (65.1095870053,-31.7245872504)\\n</td></tr>\n",
       "<tr><td>0765000901</td><td>archived</td><td>A3223</td><td>62.06750</td><td>-30.89444</td><td>57415.7816782407</td><td>11000</td><td>Reiprich</td><td>Thomas</td><td>57798</td><td>Y</td><td>163.699 (65.1095870053,-31.7245872504)\\n</td></tr>\n",
       "<tr><td>0301330401</td><td>archived</td><td>F04103-2838</td><td>63.08125</td><td>-28.50678</td><td>53779.3893865741</td><td>22855</td><td>Wilson</td><td>Andrew</td><td>54165</td><td>Y</td><td>219.890 (65.1095870053,-31.7245872504)\\n</td></tr>\n",
       "<tr><td>0742500301</td><td>archived</td><td>DH Eri</td><td>65.91791</td><td>-27.83027</td><td>56907.2393402778</td><td>15000</td><td>Sahai</td><td>Raghvendra</td><td>57283</td><td>Y</td><td>237.418 (65.1095870053,-31.7245872504)\\n</td></tr>\n",
       "<tr><td>...</td><td>...</td><td>...</td><td>...</td><td>...</td><td>...</td><td>...</td><td>...</td><td>...</td><td>...</td><td>...</td><td>...</td></tr>\n",
       "<tr><td>0550931001</td><td>archived</td><td>Fornax offset J</td><td>54.41201</td><td>-35.75500</td><td>54642.7047569444</td><td>21820</td><td>Matsushita</td><td>Kyoko</td><td>55043</td><td>Y</td><td>585.520 (65.1095870053,-31.7245872504)\\n</td></tr>\n",
       "<tr><td>0550931201</td><td>archived</td><td>Fornax offset L</td><td>54.06500</td><td>-35.54900</td><td>54642.5222569444</td><td>13415</td><td>Matsushita</td><td>Kyoko</td><td>55043</td><td>Y</td><td>597.074 (65.1095870053,-31.7245872504)\\n</td></tr>\n",
       "<tr><td>0801780301</td><td>archived</td><td>SWIFTJ0503.7-2819</td><td>75.95541</td><td>-28.38577</td><td>58184.4366782407</td><td>28000</td><td>de Martino</td><td>Domitilla</td><td>58582</td><td>Y</td><td>597.466 (65.1095870053,-31.7245872504)\\n</td></tr>\n",
       "<tr><td>0862770701</td><td>archived</td><td>6dFGS gJ041338.1-215</td><td>63.40866</td><td>-21.86800</td><td>59285.3814351852</td><td>63000</td><td>Krumpe</td><td>Mirko</td><td>59681</td><td>Y</td><td>598.340 (65.1095870053,-31.7245872504)\\n</td></tr>\n",
       "<tr><td>0827230901</td><td>archived</td><td>W-CDS-S</td><td>54.19449</td><td>-28.47397</td><td>58899.0290509259</td><td>37897</td><td>Brandt</td><td>William</td><td>58904</td><td>Y</td><td>598.877 (65.1095870053,-31.7245872504)\\n</td></tr>\n",
       "<tr><td>0827231801</td><td>archived</td><td>W-CDS-S</td><td>54.19449</td><td>-28.47397</td><td>59064.3746643519</td><td>14000</td><td>Brandt</td><td>William</td><td>59072</td><td>Y</td><td>598.877 (65.1095870053,-31.7245872504)\\n</td></tr>\n",
       "</table></div>"
      ],
      "text/plain": [
       "<Table length=58>\n",
       "  OBSID      STATUS  ...              SEARCH_OFFSET_             \n",
       "                     ...                                         \n",
       " bytes10     bytes9  ...                 bytes39                 \n",
       "---------- --------- ... ----------------------------------------\n",
       "0804790501 archived  ...  93.503 (65.1095870053,-31.7245872504)\\n\n",
       "0405730401 archived  ... 122.174 (65.1095870053,-31.7245872504)\\n\n",
       "0881990201 archived  ... 122.174 (65.1095870053,-31.7245872504)\\n\n",
       "0765000901 archived  ... 163.699 (65.1095870053,-31.7245872504)\\n\n",
       "0301330401 archived  ... 219.890 (65.1095870053,-31.7245872504)\\n\n",
       "0742500301 archived  ... 237.418 (65.1095870053,-31.7245872504)\\n\n",
       "       ...       ... ...                                      ...\n",
       "0550931001 archived  ... 585.520 (65.1095870053,-31.7245872504)\\n\n",
       "0550931201 archived  ... 597.074 (65.1095870053,-31.7245872504)\\n\n",
       "0801780301 archived  ... 597.466 (65.1095870053,-31.7245872504)\\n\n",
       "0862770701 archived  ... 598.340 (65.1095870053,-31.7245872504)\\n\n",
       "0827230901 archived  ... 598.877 (65.1095870053,-31.7245872504)\\n\n",
       "0827231801 archived  ... 598.877 (65.1095870053,-31.7245872504)\\n"
      ]
     },
     "execution_count": 17,
     "metadata": {},
     "output_type": "execute_result"
    }
   ],
   "source": [
    "heasarc.query_region(hosts[35]['coord'], mission='xmmmaster', radius=10.*u.degree)"
   ]
  },
  {
   "cell_type": "code",
   "execution_count": 18,
   "id": "b3970ef0-1da7-4f88-8a05-576e57b92a93",
   "metadata": {},
   "outputs": [
    {
     "data": {
      "text/html": [
       "<div><i>Table length=0</i>\n",
       "<No columns></div>"
      ],
      "text/plain": [
       "<Table length=0>\n",
       "<No columns>"
      ]
     },
     "execution_count": 18,
     "metadata": {},
     "output_type": "execute_result"
    }
   ],
   "source": [
    "heasarc.query_region(hosts[35]['coord'], mission='erosmaster', radius=10.*u.degree)"
   ]
  },
  {
   "cell_type": "markdown",
   "id": "b0010d2a-9770-455e-94b7-90763b1d9792",
   "metadata": {},
   "source": [
    "Alright, this seems to be working as expected for everything except eROSITA.\n",
    "\n",
    "So what we want to do is for each host, query the relevant \"master\" catalog with an area that's about matched to whatever the main detector's FOV is (generously) to find which have any observations.  Only from those do we search for actual sources.\n",
    "\n",
    "For eROSITA it turns out it's a totally separate source, so we skip that and use the vo cone search directly from eROSITA instead of HEASARC.  Similarly, for the ROSAT rassmaster, the all-sky-survey is supposed to be, well, an all-sky survey so we skip it."
   ]
  },
  {
   "cell_type": "code",
   "execution_count": 19,
   "id": "66bec715-c23d-4e71-a38d-1c6bcb5b61d4",
   "metadata": {},
   "outputs": [],
   "source": [
    "mission_to_rad = {'xmmmaster': 15*u.arcmin, # \" telescope's field of view (FOV) of 30 arcmin and in th\"\n",
    "                  'chanmaster':8*u.arcmin, # this is ~ half ASIC's FOV\n",
    "                  'rosmaster':2.5*u.deg,  #\"5 degree diameter\"\n",
    "                  'rassmaster':2.5*u.deg,  #\"5 degree diameter\"\n",
    "                }"
   ]
  },
  {
   "cell_type": "code",
   "execution_count": 20,
   "id": "8a7424aa-a6d4-400a-90ac-51011166df15",
   "metadata": {},
   "outputs": [
    {
     "data": {
      "application/vnd.jupyter.widget-view+json": {
       "model_id": "90d7edc03dff4ed1bb25f6d1dcc9a568",
       "version_major": 2,
       "version_minor": 0
      },
      "text/plain": [
       "  0%|          | 0/2 [00:00<?, ?it/s]"
      ]
     },
     "metadata": {},
     "output_type": "display_data"
    }
   ],
   "source": [
    "host_results = []\n",
    "    \n",
    "for host in tqdm(hosts[:2]):\n",
    "    reses = {}\n",
    "    for tabname, rad in mission_to_rad.items():\n",
    "        reses[tabname] = heasarc.query_region(host['coord'], mission=tabname, radius=rad)\n",
    "    host_results.append(reses)\n",
    "            \n"
   ]
  },
  {
   "cell_type": "markdown",
   "id": "fc917de6-259a-48df-bdcf-6c6c590ddc93",
   "metadata": {},
   "source": [
    "Better parallel:"
   ]
  },
  {
   "cell_type": "code",
   "execution_count": 21,
   "id": "eac1182d-c395-4d19-9115-0fa7b4914560",
   "metadata": {},
   "outputs": [
    {
     "name": "stdout",
     "output_type": "stream",
     "text": [
      "heasarc_master_results.pickle already exists, not overwriting, loading\n"
     ]
    }
   ],
   "source": [
    "pres = Path('heasarc_master_results.pickle')\n",
    "\n",
    "results = []\n",
    "if pres.exists():\n",
    "    print(f'{pres} already exists, not overwriting, loading')\n",
    "    with pres.open('rb') as f:\n",
    "        results.extend(load(f))\n",
    "else:\n",
    "    with Pool(CONCURRENCY_QRYS) as p:\n",
    "        reses = []\n",
    "        for host in hosts:\n",
    "            for tabname, rad in mission_to_rad.items():\n",
    "                ares = p.apply_async(heasarc.query_region, (host['coord'],), kwds={'mission':tabname, 'radius':rad})\n",
    "                reses.append((host['HOSTID'], tabname, ares))\n",
    "        t = tqdm(total=len(reses))\n",
    "        while t.n < t.total:\n",
    "            nrdy = sum([r[2].ready() for r in reses])\n",
    "            if nrdy > t.n:\n",
    "                t.update(nrdy - t.n)\n",
    "    \n",
    "        for r in reses:\n",
    "            results.append((r[0], r[1], r[2].get()))\n",
    "\n",
    "    print(f'writing to {pres}')\n",
    "    with pres.open('bw') as f:\n",
    "        dump(results, f)"
   ]
  },
  {
   "cell_type": "code",
   "execution_count": 22,
   "id": "0d5b2b36-0df4-4614-aa1d-c3fbe63e1c4f",
   "metadata": {},
   "outputs": [
    {
     "data": {
      "text/html": [
       "<div><i>Table length=300</i>\n",
       "<table id=\"table5571711376\" class=\"table-striped table-bordered table-condensed\">\n",
       "<thead><tr><th>HOSTID</th><th>PGC</th><th>SAGA_NAME</th><th>COMMON_NAME</th><th>NSAID</th><th>NSA1ID</th><th>RA</th><th>DEC</th><th>GLON</th><th>GLAT</th><th>V_HELIO</th><th>V_VIRGO</th><th>Z_COSMO</th><th>Z_HELIO</th><th>DIST</th><th>DISTMOD</th><th>K_RAW</th><th>K_TC</th><th>K_ABS</th><th>M_HALO</th><th>REMOVED_BY_HAND</th><th>SGA_ID</th><th>MORPHTYPE</th><th>LOG_MHI</th><th>BRIGHTEST_K_R1</th><th>BRIGHTEST_K_R2</th><th>BRIGHTEST_K_BG_R1</th><th>BRIGHTEST_K_BG_R2</th><th>BRIGHTEST_STAR_R1</th><th>STAR_DENSITY_R1</th><th>BRIGHTEST_STAR_R2</th><th>STAR_DENSITY_R2</th><th>COVERAGE_DECALS_DR5</th><th>COVERAGE_DECALS_DR6</th><th>COVERAGE_DECALS_DR7</th><th>COVERAGE_DECALS_DR8</th><th>COVERAGE_DECALS_DR9</th><th>COVERAGE_DES_DR1</th><th>COVERAGE_SDSS</th><th>HOST_SCORE</th><th>HAS_IMAGE</th><th>NEAREST_MW</th><th>NEAREST_MW_DIST</th><th>NEAREST_MW_SEP</th><th>NEARBY_MW_COUNT_1</th><th>NEARBY_MW_COUNT_1.5</th><th>NEARBY_MW_COUNT_2</th><th>NEAREST_MASSIVE</th><th>NEAREST_MASSIVE_DIST</th><th>NEAREST_MASSIVE_SEP</th><th>NEARBY_MASSIVE_COUNT_1</th><th>NEARBY_MASSIVE_COUNT_1.5</th><th>NEARBY_MASSIVE_COUNT_2</th><th>coord</th><th>in_xmmmaster</th><th>in_chanmaster</th><th>in_rosmaster</th><th>in_rassmaster</th></tr></thead>\n",
       "<thead><tr><th></th><th></th><th></th><th></th><th></th><th></th><th></th><th></th><th></th><th></th><th></th><th></th><th></th><th></th><th></th><th></th><th></th><th></th><th></th><th></th><th></th><th></th><th></th><th></th><th></th><th></th><th></th><th></th><th></th><th></th><th></th><th></th><th></th><th></th><th></th><th></th><th></th><th></th><th></th><th></th><th></th><th></th><th></th><th></th><th></th><th></th><th></th><th></th><th></th><th></th><th></th><th></th><th></th><th>deg,deg</th><th></th><th></th><th></th><th></th></tr></thead>\n",
       "<thead><tr><th>str10</th><th>int64</th><th>str13</th><th>str22</th><th>int64</th><th>int64</th><th>float64</th><th>float64</th><th>float64</th><th>float64</th><th>float64</th><th>float64</th><th>float64</th><th>float64</th><th>float64</th><th>float64</th><th>float64</th><th>float64</th><th>float64</th><th>float64</th><th>int64</th><th>int64</th><th>str4</th><th>float64</th><th>float64</th><th>float64</th><th>float64</th><th>float64</th><th>float64</th><th>float64</th><th>float64</th><th>float64</th><th>float64</th><th>float64</th><th>float64</th><th>float64</th><th>float64</th><th>float64</th><th>float64</th><th>int64</th><th>int64</th><th>str9</th><th>float64</th><th>float64</th><th>int64</th><th>int64</th><th>int64</th><th>str9</th><th>float64</th><th>float64</th><th>int64</th><th>int64</th><th>int64</th><th>SkyCoord</th><th>bool</th><th>bool</th><th>bool</th><th>bool</th></tr></thead>\n",
       "<tr><td>nsa126115</td><td>279</td><td>Bandamanna</td><td>NGC7817</td><td>126115</td><td>613769</td><td>0.995382</td><td>20.7523559</td><td>108.2284018</td><td>-40.7605243</td><td>2309.4</td><td>2379.7</td><td>0.007509265978</td><td>0.007703329215</td><td>32.35243745</td><td>32.54953503</td><td>8.4</td><td>8.413236622</td><td>-24.13629841</td><td>12.22914145</td><td>0</td><td>1359702</td><td>Sbc</td><td>9.564883996</td><td>99.0</td><td>99.0</td><td>99.0</td><td>10.04360438</td><td>7.6193</td><td>0.0</td><td>8.1267</td><td>0.0</td><td>0.0</td><td>0.0</td><td>1.0</td><td>1.0</td><td>1.0</td><td>0.0</td><td>1.0</td><td>4</td><td>2</td><td>nsa153017</td><td>1.796472819</td><td>1.065293456</td><td>0</td><td>0</td><td>1</td><td>nsa153017</td><td>1.796472819</td><td>1.065293456</td><td>0</td><td>0</td><td>1</td><td>0.995382,20.7523559</td><td>False</td><td>False</td><td>True</td><td>False</td></tr>\n",
       "<tr><td>pgc1952</td><td>1952</td><td></td><td>ESO079-003</td><td>-1</td><td>-1</td><td>8.008776</td><td>-64.2533874</td><td>306.4105111</td><td>-52.7435281</td><td>2623.3</td><td>2355.9</td><td>0.007833922449</td><td>0.008750386909</td><td>33.75981049</td><td>32.642</td><td>9.01</td><td>9.018797428</td><td>-23.62320257</td><td>12.04514145</td><td>0</td><td>509348</td><td>SBb</td><td>9.479355042</td><td>11.808</td><td>99.0</td><td>11.968</td><td>99.0</td><td>9.4397</td><td>0.0</td><td>6.5878</td><td>0.4092455203</td><td>0.0</td><td>0.0</td><td>0.0</td><td>1.0</td><td>1.0</td><td>1.0</td><td>0.0</td><td>4</td><td>2</td><td>pgc3743</td><td>3.984681028</td><td>3.532546535</td><td>0</td><td>0</td><td>0</td><td>pgc3743</td><td>3.984681028</td><td>3.532546535</td><td>0</td><td>0</td><td>0</td><td>8.008776,-64.2533874</td><td>False</td><td>False</td><td>True</td><td>False</td></tr>\n",
       "<tr><td>pgc2052</td><td>2052</td><td></td><td>NGC0150</td><td>-1</td><td>-1</td><td>8.564589</td><td>-27.8036183</td><td>21.8951315</td><td>-86.130036</td><td>1577.8</td><td>1407.1</td><td>0.004890905952</td><td>0.005262974294</td><td>21.02809837</td><td>31.614</td><td>8.506</td><td>8.516911926</td><td>-23.09708807</td><td>11.56114145</td><td>0</td><td>1165798</td><td>SBbc</td><td>nan</td><td>99.0</td><td>11.661</td><td>10.49967197</td><td>9.866801199</td><td>8.0514</td><td>0.0</td><td>7.1699</td><td>0.0</td><td>0.0</td><td>0.0</td><td>0.0</td><td>1.0</td><td>1.0</td><td>1.0</td><td>0.0</td><td>2</td><td>2</td><td>pgc3089</td><td>1.930768513</td><td>5.26053089</td><td>0</td><td>0</td><td>1</td><td>pgc3089</td><td>1.930768513</td><td>5.26053089</td><td>0</td><td>0</td><td>1</td><td>8.564589,-27.8036183</td><td>False</td><td>False</td><td>True</td><td>True</td></tr>\n",
       "<tr><td>nsa127226</td><td>2081</td><td></td><td>NGC0157</td><td>127226</td><td>614858</td><td>8.694936</td><td>-8.3964957</td><td>110.2762933</td><td>-70.8578303</td><td>1655.1</td><td>1566.9</td><td>0.006427784722</td><td>0.00552081934</td><td>27.66941645</td><td>32.21</td><td>7.665</td><td>7.679767546</td><td>-24.53023245</td><td>12.20914145</td><td>0</td><td>895869</td><td>SABb</td><td>10.09376372</td><td>99.0</td><td>99.0</td><td>10.34780753</td><td>9.609372536</td><td>8.1775</td><td>0.0</td><td>8.2894</td><td>0.0</td><td>0.0</td><td>0.0</td><td>1.0</td><td>1.0</td><td>1.0</td><td>0.0</td><td>1.0</td><td>4</td><td>2</td><td>nsa128381</td><td>5.463821353</td><td>7.379299229</td><td>0</td><td>0</td><td>0</td><td>nsa128381</td><td>5.463821353</td><td>7.379299229</td><td>0</td><td>0</td><td>0</td><td>8.694936,-8.3964957</td><td>False</td><td>True</td><td>True</td><td>False</td></tr>\n",
       "<tr><td>pgc2778</td><td>2778</td><td></td><td>NGC0254</td><td>-1</td><td>-1</td><td>11.864958</td><td>-31.4216944</td><td>314.1143294</td><td>-85.6198155</td><td>1626.1</td><td>1434.8</td><td>0.004947318959</td><td>0.005424085752</td><td>21.27159227</td><td>31.639</td><td>8.72</td><td>8.730921303</td><td>-22.9080787</td><td>11.87914145</td><td>0</td><td>242698</td><td>S0-a</td><td>nan</td><td>99.0</td><td>7.998540595</td><td>11.52414343</td><td>9.998289411</td><td>7.2489</td><td>0.0</td><td>6.969</td><td>0.1624415358</td><td>0.0</td><td>0.0</td><td>0.0</td><td>1.0</td><td>1.0</td><td>1.0</td><td>0.0</td><td>2</td><td>2</td><td>pgc3089</td><td>0.6050530296</td><td>1.140973174</td><td>1</td><td>1</td><td>2</td><td>pgc3089</td><td>0.6050530296</td><td>1.140973174</td><td>1</td><td>1</td><td>2</td><td>11.864958,-31.4216944</td><td>False</td><td>False</td><td>True</td><td>False</td></tr>\n",
       "<tr><td>pgc3089</td><td>3089</td><td></td><td>NGC0289</td><td>-1</td><td>-1</td><td>13.176354</td><td>-31.2058056</td><td>299.1263539</td><td>-85.9130198</td><td>1629.6</td><td>1436.3</td><td>0.004846237289</td><td>0.005435760495</td><td>20.83531161</td><td>31.594</td><td>7.99</td><td>7.998540595</td><td>-23.59545941</td><td>12.10414145</td><td>0</td><td>1138552</td><td>SBbc</td><td>nan</td><td>99.0</td><td>8.730921303</td><td>9.998289411</td><td>10.41550149</td><td>9.31</td><td>0.0</td><td>7.2489</td><td>0.0</td><td>0.0</td><td>0.0</td><td>0.0</td><td>1.0</td><td>1.0</td><td>1.0</td><td>0.0</td><td>2</td><td>2</td><td>pgc2052</td><td>1.930768513</td><td>5.26053089</td><td>0</td><td>0</td><td>1</td><td>pgc2052</td><td>1.930768513</td><td>5.26053089</td><td>0</td><td>0</td><td>1</td><td>13.176354,-31.2058056</td><td>False</td><td>True</td><td>True</td><td>False</td></tr>\n",
       "<tr><td>...</td><td>...</td><td>...</td><td>...</td><td>...</td><td>...</td><td>...</td><td>...</td><td>...</td><td>...</td><td>...</td><td>...</td><td>...</td><td>...</td><td>...</td><td>...</td><td>...</td><td>...</td><td>...</td><td>...</td><td>...</td><td>...</td><td>...</td><td>...</td><td>...</td><td>...</td><td>...</td><td>...</td><td>...</td><td>...</td><td>...</td><td>...</td><td>...</td><td>...</td><td>...</td><td>...</td><td>...</td><td>...</td><td>...</td><td>...</td><td>...</td><td>...</td><td>...</td><td>...</td><td>...</td><td>...</td><td>...</td><td>...</td><td>...</td><td>...</td><td>...</td><td>...</td><td>...</td><td>...</td><td>...</td><td>...</td><td>...</td><td>...</td></tr>\n",
       "<tr><td>pgc72060</td><td>72060</td><td></td><td>NGC7727</td><td>-1</td><td>-1</td><td>354.9742875</td><td>-12.2927807</td><td>70.940544</td><td>-67.6143473</td><td>1857.3</td><td>1786.4</td><td>0.006020066375</td><td>0.00619528594</td><td>25.90597845</td><td>32.067</td><td>7.676</td><td>7.688059251</td><td>-24.37894075</td><td>12.69814145</td><td>0</td><td>406835</td><td>SABa</td><td>7.89794529</td><td>10.10569866</td><td>8.274865754</td><td>11.685</td><td>11.2439156</td><td>9.806</td><td>0.0</td><td>5.8226</td><td>0.4819189543</td><td>0.0</td><td>0.0</td><td>0.2529550827</td><td>1.0</td><td>1.0</td><td>0.0</td><td>0.0</td><td>4</td><td>2</td><td>pgc72009</td><td>0.7207127243</td><td>0.706998915</td><td>1</td><td>1</td><td>1</td><td>pgc72009</td><td>0.7207127243</td><td>0.706998915</td><td>1</td><td>1</td><td>1</td><td>354.9742875,-12.2927807</td><td>True</td><td>True</td><td>True</td><td>True</td></tr>\n",
       "<tr><td>nsa169525</td><td>72260</td><td></td><td>NGC7742</td><td>169525</td><td>692324</td><td>356.065458</td><td>10.7670833</td><td>97.4326963</td><td>-48.7503514</td><td>1659.9</td><td>1695.7</td><td>0.004984183972</td><td>0.005536830416</td><td>21.4307234</td><td>31.65518415</td><td>8.612</td><td>8.621702907</td><td>-23.03348125</td><td>12.04014145</td><td>0</td><td>163620</td><td>Sb</td><td>nan</td><td>99.0</td><td>8.404249973</td><td>11.25359983</td><td>10.20040197</td><td>5.1767</td><td>0.989549766</td><td>6.0514</td><td>0.1648818608</td><td>0.1260096931</td><td>0.0</td><td>0.9789983845</td><td>1.0</td><td>1.0</td><td>0.0</td><td>1.0</td><td>2</td><td>2</td><td>nsa126092</td><td>7.307686817</td><td>7.086911185</td><td>0</td><td>0</td><td>0</td><td>nsa126092</td><td>7.307686817</td><td>7.086911185</td><td>0</td><td>0</td><td>0</td><td>356.065458,10.7670833</td><td>False</td><td>False</td><td>True</td><td>True</td></tr>\n",
       "<tr><td>pgc72444</td><td>72444</td><td></td><td>NGC7755</td><td>-1</td><td>-1</td><td>356.9657175</td><td>-30.5220634</td><td>15.4685084</td><td>-75.6818212</td><td>2959.9</td><td>2805.0</td><td>0.007982307518</td><td>0.009873163654</td><td>34.40329188</td><td>32.683</td><td>8.959</td><td>8.971897864</td><td>-23.71110214</td><td>11.94114145</td><td>0</td><td>-1</td><td>N/A</td><td>nan</td><td>99.0</td><td>99.0</td><td>10.87895282</td><td>11.7</td><td>10.3945</td><td>0.0</td><td>8.2763</td><td>0.0</td><td>0.0</td><td>0.0</td><td>0.0</td><td>0.0</td><td>0.0</td><td>0.0</td><td>0.0</td><td>4</td><td>0</td><td>pgc70505</td><td>7.167260373</td><td>10.2639726</td><td>0</td><td>0</td><td>0</td><td>pgc70505</td><td>7.167260373</td><td>10.2639726</td><td>0</td><td>0</td><td>0</td><td>356.9657175,-30.5220634</td><td>False</td><td>False</td><td>True</td><td>True</td></tr>\n",
       "<tr><td>nsa153017</td><td>73163</td><td></td><td>NGC7798</td><td>153017</td><td>639189</td><td>359.8561875</td><td>20.7499195</td><td>106.8694293</td><td>-40.4939194</td><td>2403.4</td><td>2476.4</td><td>0.007898452636</td><td>0.008016879464</td><td>34.03963145</td><td>32.65992425</td><td>9.348</td><td>9.363953635</td><td>-23.29597061</td><td>11.87714145</td><td>0</td><td>689946</td><td>SBc</td><td>9.120092115</td><td>99.0</td><td>99.0</td><td>99.0</td><td>11.13690305</td><td>7.8541</td><td>0.0</td><td>6.8253</td><td>0.4160586626</td><td>0.0</td><td>0.0</td><td>0.9504132231</td><td>0.9504132231</td><td>0.9504132231</td><td>0.0</td><td>1.0</td><td>4</td><td>1</td><td>nsa126115</td><td>1.796472819</td><td>1.065293456</td><td>0</td><td>0</td><td>1</td><td>nsa126115</td><td>1.796472819</td><td>1.065293456</td><td>0</td><td>0</td><td>1</td><td>359.8561875,20.7499195</td><td>False</td><td>False</td><td>True</td><td>False</td></tr>\n",
       "<tr><td>pgc771919</td><td>771919</td><td></td><td>NGC1201</td><td>-1</td><td>-1</td><td>46.033425</td><td>-26.0696911</td><td>218.5424771</td><td>-60.4041451</td><td>1677.9</td><td>1443.5</td><td>0.004716818793</td><td>0.005596871953</td><td>20.2768272</td><td>31.535</td><td>7.671</td><td>7.682834582</td><td>-23.85216542</td><td>12.21714145</td><td>0</td><td>868032</td><td>E-S0</td><td>nan</td><td>10.10433109</td><td>10.29815625</td><td>99.0</td><td>10.5369267</td><td>7.6919</td><td>0.0</td><td>5.7905</td><td>0.1475987249</td><td>0.0</td><td>0.0</td><td>0.0</td><td>1.0</td><td>1.0</td><td>1.0</td><td>0.0</td><td>2</td><td>2</td><td>pgc11479</td><td>1.718392339</td><td>3.220814858</td><td>0</td><td>0</td><td>1</td><td>pgc11479</td><td>1.718392339</td><td>3.220814858</td><td>0</td><td>0</td><td>1</td><td>46.033425,-26.0696911</td><td>False</td><td>False</td><td>True</td><td>True</td></tr>\n",
       "<tr><td>pgc3806285</td><td>3806285</td><td></td><td>2MASXJ13201659-2426464</td><td>-1</td><td>-1</td><td>200.0691045</td><td>-24.4462083</td><td>311.2635102</td><td>37.9585888</td><td>2060.2</td><td>2016.2</td><td>0.006825350058</td><td>0.006872087489</td><td>29.39002801</td><td>32.341</td><td>8.886</td><td>8.88610254</td><td>-23.45489746</td><td>12.15914145</td><td>0</td><td>-1</td><td>N/A</td><td>nan</td><td>99.0</td><td>99.0</td><td>9.994622119</td><td>10.3658402</td><td>6.9925</td><td>0.9305661889</td><td>7.229</td><td>0.0</td><td>0.0</td><td>0.0</td><td>0.0</td><td>0.0</td><td>0.0</td><td>0.0</td><td>0.0</td><td>4</td><td>0</td><td>pgc46878</td><td>1.792604158</td><td>3.452525337</td><td>0</td><td>0</td><td>1</td><td>pgc46330</td><td>1.303563193</td><td>2.441389402</td><td>0</td><td>1</td><td>3</td><td>200.0691045,-24.4462083</td><td>False</td><td>False</td><td>True</td><td>False</td></tr>\n",
       "</table></div>"
      ],
      "text/plain": [
       "<Table length=300>\n",
       "  HOSTID     PGC   SAGA_NAME  ... in_chanmaster in_rosmaster in_rassmaster\n",
       "                              ...                                         \n",
       "  str10     int64    str13    ...      bool         bool          bool    \n",
       "---------- ------- ---------- ... ------------- ------------ -------------\n",
       " nsa126115     279 Bandamanna ...         False         True         False\n",
       "   pgc1952    1952            ...         False         True         False\n",
       "   pgc2052    2052            ...         False         True          True\n",
       " nsa127226    2081            ...          True         True         False\n",
       "   pgc2778    2778            ...         False         True         False\n",
       "   pgc3089    3089            ...          True         True         False\n",
       "       ...     ...        ... ...           ...          ...           ...\n",
       "  pgc72060   72060            ...          True         True          True\n",
       " nsa169525   72260            ...         False         True          True\n",
       "  pgc72444   72444            ...         False         True          True\n",
       " nsa153017   73163            ...         False         True         False\n",
       " pgc771919  771919            ...         False         True          True\n",
       "pgc3806285 3806285            ...         False         True         False"
      ]
     },
     "execution_count": 22,
     "metadata": {},
     "output_type": "execute_result"
    }
   ],
   "source": [
    "for tabnm in mission_to_rad:\n",
    "    hosts['in_'+tabnm] = [False for _ in range(len(hosts))] \n",
    "\n",
    "for hnm, tabnm, tab in results:\n",
    "    if len(tab)>0:\n",
    "        hosts['in_'+tabnm][hosts['HOSTID']==hnm] = True\n",
    "hosts"
   ]
  },
  {
   "cell_type": "code",
   "execution_count": 23,
   "id": "4da6a2dd-4892-43ab-9628-8c350a2b52a9",
   "metadata": {},
   "outputs": [
    {
     "data": {
      "text/plain": [
       "0.2"
      ]
     },
     "execution_count": 23,
     "metadata": {},
     "output_type": "execute_result"
    }
   ],
   "source": [
    "np.sum(hosts['in_chanmaster'])/len(hosts)"
   ]
  },
  {
   "cell_type": "code",
   "execution_count": 24,
   "id": "91b14221-e656-478d-b4a8-032dfa9a3f8d",
   "metadata": {},
   "outputs": [
    {
     "data": {
      "text/plain": [
       "0.12666666666666668"
      ]
     },
     "execution_count": 24,
     "metadata": {},
     "output_type": "execute_result"
    }
   ],
   "source": [
    "np.sum(hosts['in_xmmmaster'])/len(hosts)"
   ]
  },
  {
   "cell_type": "code",
   "execution_count": 25,
   "id": "616e663d-0395-489f-ad13-dd2395b4a9ca",
   "metadata": {},
   "outputs": [
    {
     "data": {
      "text/plain": [
       "0.8"
      ]
     },
     "execution_count": 25,
     "metadata": {},
     "output_type": "execute_result"
    }
   ],
   "source": [
    "np.sum(hosts['in_rosmaster'])/len(hosts)"
   ]
  },
  {
   "cell_type": "code",
   "execution_count": 26,
   "id": "e855f472-7332-43f8-9f85-abd35fe9c44c",
   "metadata": {},
   "outputs": [
    {
     "data": {
      "text/plain": [
       "0.5566666666666666"
      ]
     },
     "execution_count": 26,
     "metadata": {},
     "output_type": "execute_result"
    }
   ],
   "source": [
    "np.sum(hosts['in_rassmaster'])/len(hosts)"
   ]
  },
  {
   "cell_type": "markdown",
   "id": "50be7566-83d9-4920-8952-5901393e3af3",
   "metadata": {},
   "source": [
    "Now check the relevant source catalogs for anything that's in a footprint"
   ]
  },
  {
   "cell_type": "code",
   "execution_count": 27,
   "id": "8419e4f4-74ff-472a-b37c-e1e7ad3ae335",
   "metadata": {},
   "outputs": [
    {
     "data": {
      "text/html": [
       "<div><i>Table length=200</i>\n",
       "<table id=\"table5092868752\" class=\"table-striped table-bordered table-condensed\">\n",
       "<thead><tr><th>Mission</th><th>Table</th><th>Table Description</th></tr></thead>\n",
       "<thead><tr><th>str16</th><th>str12</th><th>str80</th></tr></thead>\n",
       "<tr><td>CHANDRA</td><td>acceptcat</td><td>Archive of Chandra Cluster Entropy Profile Tables (ACCEPT) Catalog</td></tr>\n",
       "<tr><td>CHANDRA</td><td>aegisx</td><td>AEGIS-X Chandra Extended Groth Strip X-Ray Point Source Catalog</td></tr>\n",
       "<tr><td>CHANDRA</td><td>aegisxdcxo</td><td>AEGIS-X Deep Survey Chandra X-Ray Point Source Catalog</td></tr>\n",
       "<tr><td>CHANDRA</td><td>aknepdfcxo</td><td>Akari North Ecliptic Pole Deep Field Chandra X-Ray Point Source Catalog</td></tr>\n",
       "<tr><td>CHANDRA</td><td>arcquincxo</td><td>Arches and Quintuplet Clusters Chandra X-Ray Point Source Catalog</td></tr>\n",
       "<tr><td>CHANDRA</td><td>bmwchancat</td><td>Brera Multi-scale Wavelet Chandra Source Catalog</td></tr>\n",
       "<tr><td>...</td><td>...</td><td>...</td></tr>\n",
       "<tr><td>CHANDRA</td><td>vlulxcat</td><td>Extremely Luminous X-Ray Source Candidates Catalog</td></tr>\n",
       "<tr><td>CHANDRA</td><td>w40sfrcxo</td><td>W 40 Star-Forming Region Chandra X-Ray Point Source Catalog</td></tr>\n",
       "<tr><td>CHANDRA</td><td>wd1cxo</td><td>Westerlund 1 Chandra X-Ray Point Source Catalog</td></tr>\n",
       "<tr><td>CHANDRA</td><td>xbootes</td><td>XBOOTES: NDWFS Bootes Field X-Ray Point Source Catalog</td></tr>\n",
       "<tr><td>CHANDRA</td><td>xbootesoid</td><td>XBOOTES: NDWFS Bootes Field Optical &amp; Near IR Counterparts</td></tr>\n",
       "<tr><td>CHANDRA</td><td>xdeep2</td><td>DEEP2 Galaxy Redshift Survey Fields Chandra Point Source Catalog</td></tr>\n",
       "<tr><td>CHANDRA</td><td>xshzagncxo</td><td>X-Ray Selected High-z AGN Catalog</td></tr>\n",
       "</table></div>"
      ],
      "text/plain": [
       "<Table length=200>\n",
       "Mission ...\n",
       " str16  ...\n",
       "------- ...\n",
       "CHANDRA ...\n",
       "CHANDRA ...\n",
       "CHANDRA ...\n",
       "CHANDRA ...\n",
       "CHANDRA ...\n",
       "CHANDRA ...\n",
       "    ... ...\n",
       "CHANDRA ...\n",
       "CHANDRA ...\n",
       "CHANDRA ...\n",
       "CHANDRA ...\n",
       "CHANDRA ...\n",
       "CHANDRA ...\n",
       "CHANDRA ..."
      ]
     },
     "execution_count": 27,
     "metadata": {},
     "output_type": "execute_result"
    }
   ],
   "source": [
    "chandra_tables = xray_mission_all[np.array([row['Mission']=='CHANDRA' and 'master' not in row['Table'] for row in xray_mission_all])]\n",
    "chandra_tables"
   ]
  },
  {
   "cell_type": "markdown",
   "id": "cee239cb-41ea-4f88-905a-8c1c0686db47",
   "metadata": {},
   "source": [
    "Chandra has *arcsec* resolution, but I'm not confident I understand enough about extended source catalogs to know how to interpret that for something as sensitive as Chandra.  So we'll just choose 2 arcmin as a not-crazy scale to be conservative about"
   ]
  },
  {
   "cell_type": "code",
   "execution_count": 29,
   "id": "61433ff8-073e-4ebc-987a-49916495d78f",
   "metadata": {},
   "outputs": [
    {
     "data": {
      "application/vnd.jupyter.widget-view+json": {
       "model_id": "0ccf6123f2d64184b71853c444ede459",
       "version_major": 2,
       "version_minor": 0
      },
      "text/plain": [
       "  0%|          | 0/9 [00:00<?, ?it/s]"
      ]
     },
     "metadata": {},
     "output_type": "display_data"
    },
    {
     "data": {
      "application/vnd.jupyter.widget-view+json": {
       "model_id": "1a8724bc34dc415c90940b7cc2b9433c",
       "version_major": 2,
       "version_minor": 0
      },
      "text/plain": [
       "  0%|          | 0/1400 [00:00<?, ?it/s]"
      ]
     },
     "metadata": {},
     "output_type": "display_data"
    },
    {
     "data": {
      "application/vnd.jupyter.widget-view+json": {
       "model_id": "f77d3f1458334e5d8228263c5c4d47a9",
       "version_major": 2,
       "version_minor": 0
      },
      "text/plain": [
       "  0%|          | 0/1000 [00:00<?, ?it/s]"
      ]
     },
     "metadata": {},
     "output_type": "display_data"
    },
    {
     "data": {
      "application/vnd.jupyter.widget-view+json": {
       "model_id": "b4454fb50aff42d2a6bd9c73b833a727",
       "version_major": 2,
       "version_minor": 0
      },
      "text/plain": [
       "  0%|          | 0/1600 [00:00<?, ?it/s]"
      ]
     },
     "metadata": {},
     "output_type": "display_data"
    },
    {
     "data": {
      "application/vnd.jupyter.widget-view+json": {
       "model_id": "4a7973f84563452eb5384c24dd9f2826",
       "version_major": 2,
       "version_minor": 0
      },
      "text/plain": [
       "  0%|          | 0/1200 [00:00<?, ?it/s]"
      ]
     },
     "metadata": {},
     "output_type": "display_data"
    },
    {
     "data": {
      "application/vnd.jupyter.widget-view+json": {
       "model_id": "cefc50f8fb08422cbaa2e294fd16bf22",
       "version_major": 2,
       "version_minor": 0
      },
      "text/plain": [
       "  0%|          | 0/1400 [00:00<?, ?it/s]"
      ]
     },
     "metadata": {},
     "output_type": "display_data"
    },
    {
     "data": {
      "application/vnd.jupyter.widget-view+json": {
       "model_id": "999c90dc15114d2b82d450c28451d248",
       "version_major": 2,
       "version_minor": 0
      },
      "text/plain": [
       "  0%|          | 0/2400 [00:00<?, ?it/s]"
      ]
     },
     "metadata": {},
     "output_type": "display_data"
    },
    {
     "ename": "KeyboardInterrupt",
     "evalue": "",
     "output_type": "error",
     "traceback": [
      "\u001b[0;31m---------------------------------------------------------------------------\u001b[0m",
      "\u001b[0;31mKeyboardInterrupt\u001b[0m                         Traceback (most recent call last)",
      "Cell \u001b[0;32mIn[29], line 26\u001b[0m\n\u001b[1;32m     24\u001b[0m t \u001b[38;5;241m=\u001b[39m tqdm(total\u001b[38;5;241m=\u001b[39m\u001b[38;5;28mlen\u001b[39m([r \u001b[38;5;28;01mfor\u001b[39;00m r \u001b[38;5;129;01min\u001b[39;00m reses \u001b[38;5;28;01mif\u001b[39;00m r[\u001b[38;5;241m2\u001b[39m] \u001b[38;5;129;01mis\u001b[39;00m \u001b[38;5;129;01mnot\u001b[39;00m \u001b[38;5;28;01mNone\u001b[39;00m]))\n\u001b[1;32m     25\u001b[0m \u001b[38;5;28;01mwhile\u001b[39;00m t\u001b[38;5;241m.\u001b[39mn \u001b[38;5;241m<\u001b[39m t\u001b[38;5;241m.\u001b[39mtotal:\n\u001b[0;32m---> 26\u001b[0m     nrdy \u001b[38;5;241m=\u001b[39m \u001b[38;5;28msum\u001b[39m(\u001b[43m[\u001b[49m\u001b[43mr\u001b[49m\u001b[43m[\u001b[49m\u001b[38;5;241;43m2\u001b[39;49m\u001b[43m]\u001b[49m\u001b[38;5;241;43m.\u001b[39;49m\u001b[43mready\u001b[49m\u001b[43m(\u001b[49m\u001b[43m)\u001b[49m\u001b[43m \u001b[49m\u001b[38;5;28;43;01mfor\u001b[39;49;00m\u001b[43m \u001b[49m\u001b[43mr\u001b[49m\u001b[43m \u001b[49m\u001b[38;5;129;43;01min\u001b[39;49;00m\u001b[43m \u001b[49m\u001b[43mreses\u001b[49m\u001b[43m \u001b[49m\u001b[38;5;28;43;01mif\u001b[39;49;00m\u001b[43m \u001b[49m\u001b[43mr\u001b[49m\u001b[43m[\u001b[49m\u001b[38;5;241;43m2\u001b[39;49m\u001b[43m]\u001b[49m\u001b[43m \u001b[49m\u001b[38;5;129;43;01mis\u001b[39;49;00m\u001b[43m \u001b[49m\u001b[38;5;129;43;01mnot\u001b[39;49;00m\u001b[43m \u001b[49m\u001b[38;5;28;43;01mNone\u001b[39;49;00m\u001b[43m]\u001b[49m)\n\u001b[1;32m     27\u001b[0m     \u001b[38;5;28;01mif\u001b[39;00m nrdy \u001b[38;5;241m>\u001b[39m t\u001b[38;5;241m.\u001b[39mn:\n\u001b[1;32m     28\u001b[0m         t\u001b[38;5;241m.\u001b[39mupdate(nrdy \u001b[38;5;241m-\u001b[39m t\u001b[38;5;241m.\u001b[39mn)\n",
      "Cell \u001b[0;32mIn[29], line 26\u001b[0m, in \u001b[0;36m<listcomp>\u001b[0;34m(.0)\u001b[0m\n\u001b[1;32m     24\u001b[0m t \u001b[38;5;241m=\u001b[39m tqdm(total\u001b[38;5;241m=\u001b[39m\u001b[38;5;28mlen\u001b[39m([r \u001b[38;5;28;01mfor\u001b[39;00m r \u001b[38;5;129;01min\u001b[39;00m reses \u001b[38;5;28;01mif\u001b[39;00m r[\u001b[38;5;241m2\u001b[39m] \u001b[38;5;129;01mis\u001b[39;00m \u001b[38;5;129;01mnot\u001b[39;00m \u001b[38;5;28;01mNone\u001b[39;00m]))\n\u001b[1;32m     25\u001b[0m \u001b[38;5;28;01mwhile\u001b[39;00m t\u001b[38;5;241m.\u001b[39mn \u001b[38;5;241m<\u001b[39m t\u001b[38;5;241m.\u001b[39mtotal:\n\u001b[0;32m---> 26\u001b[0m     nrdy \u001b[38;5;241m=\u001b[39m \u001b[38;5;28msum\u001b[39m([r[\u001b[38;5;241m2\u001b[39m]\u001b[38;5;241m.\u001b[39mready() \u001b[38;5;28;01mfor\u001b[39;00m r \u001b[38;5;129;01min\u001b[39;00m reses \u001b[38;5;28;01mif\u001b[39;00m r[\u001b[38;5;241m2\u001b[39m] \u001b[38;5;129;01mis\u001b[39;00m \u001b[38;5;129;01mnot\u001b[39;00m \u001b[38;5;28;01mNone\u001b[39;00m])\n\u001b[1;32m     27\u001b[0m     \u001b[38;5;28;01mif\u001b[39;00m nrdy \u001b[38;5;241m>\u001b[39m t\u001b[38;5;241m.\u001b[39mn:\n\u001b[1;32m     28\u001b[0m         t\u001b[38;5;241m.\u001b[39mupdate(nrdy \u001b[38;5;241m-\u001b[39m t\u001b[38;5;241m.\u001b[39mn)\n",
      "\u001b[0;31mKeyboardInterrupt\u001b[0m: "
     ]
    }
   ],
   "source": [
    "pres = Path('heasarc_chandra_results.pickle')\n",
    "\n",
    "results = []\n",
    "if pres.exists():\n",
    "    print(f'{pres} already exists, not overwriting, loading')\n",
    "    with pres.open('rb') as f:\n",
    "        results.extend(load(f))\n",
    "else:\n",
    "    rad = 2*u.arcmin\n",
    "\n",
    "    chunk_edges = np.linspace(0, len(hosts), 10)\n",
    "    host_chunks = [hosts[int(i):int(j)] for i,j in zip(chunk_edges[:-1], chunk_edges[1:])]\n",
    "    \n",
    "    for hosts_chunk in tqdm(host_chunks):\n",
    "        with Pool(CONCURRENCY_QRYS) as p:\n",
    "            reses = []\n",
    "            for host in hosts_chunk:\n",
    "                for tabname in chandra_tables['Table']:\n",
    "                    if host['in_chanmaster']:\n",
    "                        ares = p.apply_async(heasarc.query_region, (host['coord'],), kwds={'mission':tabname, 'radius':rad})\n",
    "                        reses.append((host['HOSTID'], tabname, ares))\n",
    "                    else:\n",
    "                        reses.append((host['HOSTID'], tabname, None))\n",
    "            t = tqdm(total=len([r for r in reses if r[2] is not None]))\n",
    "            while t.n < t.total:\n",
    "                nrdy = sum([r[2].ready() for r in reses if r[2] is not None])\n",
    "                if nrdy > t.n:\n",
    "                    t.update(nrdy - t.n)\n",
    "        \n",
    "            for r in reses:\n",
    "                results.append((r[0], r[1], None if r[2] is None else r[2].get()))\n",
    "            \n",
    "    print(f'writing to {pres}')\n",
    "    with pres.open('bw') as f:\n",
    "        dump(results, f)"
   ]
  },
  {
   "cell_type": "markdown",
   "id": "78aeec2e-bdc4-4dfc-ad5f-d6f7b220bb89",
   "metadata": {},
   "source": [
    "The above keeps freezing up.  Lets try just a few selected major catalogs instead"
   ]
  },
  {
   "cell_type": "code",
   "execution_count": 34,
   "id": "e67e666c-dff9-4627-a121-991e9880b54a",
   "metadata": {},
   "outputs": [
    {
     "data": {
      "application/vnd.jupyter.widget-view+json": {
       "model_id": "da5781c56e2142fc91c0723e420479b7",
       "version_major": 2,
       "version_minor": 0
      },
      "text/plain": [
       "  0%|          | 0/1 [00:00<?, ?it/s]"
      ]
     },
     "metadata": {},
     "output_type": "display_data"
    },
    {
     "data": {
      "application/vnd.jupyter.widget-view+json": {
       "model_id": "39bab145c0fa4dc890e7f17939120dea",
       "version_major": 2,
       "version_minor": 0
      },
      "text/plain": [
       "  0%|          | 0/60 [00:00<?, ?it/s]"
      ]
     },
     "metadata": {},
     "output_type": "display_data"
    },
    {
     "ename": "KeyboardInterrupt",
     "evalue": "",
     "output_type": "error",
     "traceback": [
      "\u001b[0;31m---------------------------------------------------------------------------\u001b[0m",
      "\u001b[0;31mKeyboardInterrupt\u001b[0m                         Traceback (most recent call last)",
      "Cell \u001b[0;32mIn[34], line 26\u001b[0m\n\u001b[1;32m     24\u001b[0m t \u001b[38;5;241m=\u001b[39m tqdm(total\u001b[38;5;241m=\u001b[39m\u001b[38;5;28mlen\u001b[39m([r \u001b[38;5;28;01mfor\u001b[39;00m r \u001b[38;5;129;01min\u001b[39;00m reses \u001b[38;5;28;01mif\u001b[39;00m r[\u001b[38;5;241m2\u001b[39m] \u001b[38;5;129;01mis\u001b[39;00m \u001b[38;5;129;01mnot\u001b[39;00m \u001b[38;5;28;01mNone\u001b[39;00m]))\n\u001b[1;32m     25\u001b[0m \u001b[38;5;28;01mwhile\u001b[39;00m t\u001b[38;5;241m.\u001b[39mn \u001b[38;5;241m<\u001b[39m t\u001b[38;5;241m.\u001b[39mtotal:\n\u001b[0;32m---> 26\u001b[0m     nrdy \u001b[38;5;241m=\u001b[39m \u001b[38;5;28msum\u001b[39m(\u001b[43m[\u001b[49m\u001b[43mr\u001b[49m\u001b[43m[\u001b[49m\u001b[38;5;241;43m2\u001b[39;49m\u001b[43m]\u001b[49m\u001b[38;5;241;43m.\u001b[39;49m\u001b[43mready\u001b[49m\u001b[43m(\u001b[49m\u001b[43m)\u001b[49m\u001b[43m \u001b[49m\u001b[38;5;28;43;01mfor\u001b[39;49;00m\u001b[43m \u001b[49m\u001b[43mr\u001b[49m\u001b[43m \u001b[49m\u001b[38;5;129;43;01min\u001b[39;49;00m\u001b[43m \u001b[49m\u001b[43mreses\u001b[49m\u001b[43m \u001b[49m\u001b[38;5;28;43;01mif\u001b[39;49;00m\u001b[43m \u001b[49m\u001b[43mr\u001b[49m\u001b[43m[\u001b[49m\u001b[38;5;241;43m2\u001b[39;49m\u001b[43m]\u001b[49m\u001b[43m \u001b[49m\u001b[38;5;129;43;01mis\u001b[39;49;00m\u001b[43m \u001b[49m\u001b[38;5;129;43;01mnot\u001b[39;49;00m\u001b[43m \u001b[49m\u001b[38;5;28;43;01mNone\u001b[39;49;00m\u001b[43m]\u001b[49m)\n\u001b[1;32m     27\u001b[0m     \u001b[38;5;28;01mif\u001b[39;00m nrdy \u001b[38;5;241m>\u001b[39m t\u001b[38;5;241m.\u001b[39mn:\n\u001b[1;32m     28\u001b[0m         t\u001b[38;5;241m.\u001b[39mupdate(nrdy \u001b[38;5;241m-\u001b[39m t\u001b[38;5;241m.\u001b[39mn)\n",
      "Cell \u001b[0;32mIn[34], line 26\u001b[0m, in \u001b[0;36m<listcomp>\u001b[0;34m(.0)\u001b[0m\n\u001b[1;32m     24\u001b[0m t \u001b[38;5;241m=\u001b[39m tqdm(total\u001b[38;5;241m=\u001b[39m\u001b[38;5;28mlen\u001b[39m([r \u001b[38;5;28;01mfor\u001b[39;00m r \u001b[38;5;129;01min\u001b[39;00m reses \u001b[38;5;28;01mif\u001b[39;00m r[\u001b[38;5;241m2\u001b[39m] \u001b[38;5;129;01mis\u001b[39;00m \u001b[38;5;129;01mnot\u001b[39;00m \u001b[38;5;28;01mNone\u001b[39;00m]))\n\u001b[1;32m     25\u001b[0m \u001b[38;5;28;01mwhile\u001b[39;00m t\u001b[38;5;241m.\u001b[39mn \u001b[38;5;241m<\u001b[39m t\u001b[38;5;241m.\u001b[39mtotal:\n\u001b[0;32m---> 26\u001b[0m     nrdy \u001b[38;5;241m=\u001b[39m \u001b[38;5;28msum\u001b[39m([\u001b[43mr\u001b[49m\u001b[43m[\u001b[49m\u001b[38;5;241;43m2\u001b[39;49m\u001b[43m]\u001b[49m\u001b[38;5;241;43m.\u001b[39;49m\u001b[43mready\u001b[49m\u001b[43m(\u001b[49m\u001b[43m)\u001b[49m \u001b[38;5;28;01mfor\u001b[39;00m r \u001b[38;5;129;01min\u001b[39;00m reses \u001b[38;5;28;01mif\u001b[39;00m r[\u001b[38;5;241m2\u001b[39m] \u001b[38;5;129;01mis\u001b[39;00m \u001b[38;5;129;01mnot\u001b[39;00m \u001b[38;5;28;01mNone\u001b[39;00m])\n\u001b[1;32m     27\u001b[0m     \u001b[38;5;28;01mif\u001b[39;00m nrdy \u001b[38;5;241m>\u001b[39m t\u001b[38;5;241m.\u001b[39mn:\n\u001b[1;32m     28\u001b[0m         t\u001b[38;5;241m.\u001b[39mupdate(nrdy \u001b[38;5;241m-\u001b[39m t\u001b[38;5;241m.\u001b[39mn)\n",
      "File \u001b[0;32m~/miniforge3/envs/py311/lib/python3.11/site-packages/multiprocess/pool.py:757\u001b[0m, in \u001b[0;36mApplyResult.ready\u001b[0;34m(self)\u001b[0m\n\u001b[1;32m    756\u001b[0m \u001b[38;5;28;01mdef\u001b[39;00m \u001b[38;5;21mready\u001b[39m(\u001b[38;5;28mself\u001b[39m):\n\u001b[0;32m--> 757\u001b[0m     \u001b[38;5;28;01mreturn\u001b[39;00m \u001b[38;5;28;43mself\u001b[39;49m\u001b[38;5;241;43m.\u001b[39;49m\u001b[43m_event\u001b[49m\u001b[38;5;241;43m.\u001b[39;49m\u001b[43mis_set\u001b[49m\u001b[43m(\u001b[49m\u001b[43m)\u001b[49m\n",
      "File \u001b[0;32m~/miniforge3/envs/py311/lib/python3.11/threading.py:575\u001b[0m, in \u001b[0;36mEvent.is_set\u001b[0;34m(self)\u001b[0m\n\u001b[1;32m    571\u001b[0m \u001b[38;5;28;01mdef\u001b[39;00m \u001b[38;5;21m_at_fork_reinit\u001b[39m(\u001b[38;5;28mself\u001b[39m):\n\u001b[1;32m    572\u001b[0m     \u001b[38;5;66;03m# Private method called by Thread._reset_internal_locks()\u001b[39;00m\n\u001b[1;32m    573\u001b[0m     \u001b[38;5;28mself\u001b[39m\u001b[38;5;241m.\u001b[39m_cond\u001b[38;5;241m.\u001b[39m_at_fork_reinit()\n\u001b[0;32m--> 575\u001b[0m \u001b[38;5;28;01mdef\u001b[39;00m \u001b[38;5;21mis_set\u001b[39m(\u001b[38;5;28mself\u001b[39m):\n\u001b[1;32m    576\u001b[0m \u001b[38;5;250m    \u001b[39m\u001b[38;5;124;03m\"\"\"Return true if and only if the internal flag is true.\"\"\"\u001b[39;00m\n\u001b[1;32m    577\u001b[0m     \u001b[38;5;28;01mreturn\u001b[39;00m \u001b[38;5;28mself\u001b[39m\u001b[38;5;241m.\u001b[39m_flag\n",
      "\u001b[0;31mKeyboardInterrupt\u001b[0m: "
     ]
    }
   ],
   "source": [
    "pres = Path('heasarc_chandra_results.pickle')\n",
    "\n",
    "results = []\n",
    "if pres.exists():\n",
    "    print(f'{pres} already exists, not overwriting, loading')\n",
    "    with pres.open('rb') as f:\n",
    "        results.extend(load(f))\n",
    "else:\n",
    "    rad = 2*u.arcmin\n",
    "\n",
    "    chunk_edges = np.linspace(0, len(hosts), 2)\n",
    "    host_chunks = [hosts[int(i):int(j)] for i,j in zip(chunk_edges[:-1], chunk_edges[1:])]\n",
    "    \n",
    "    for hosts_chunk in tqdm(host_chunks):\n",
    "        with Pool(CONCURRENCY_QRYS) as p:\n",
    "            reses = []\n",
    "            for host in hosts_chunk:\n",
    "                for tabname in ['csc']:\n",
    "                    if host['in_chanmaster']:\n",
    "                        ares = p.apply_async(heasarc.query_region, (host['coord'],), kwds={'mission':tabname, 'radius':rad})\n",
    "                        reses.append((host['HOSTID'], tabname, ares))\n",
    "                    else:\n",
    "                        reses.append((host['HOSTID'], tabname, None))\n",
    "            t = tqdm(total=len([r for r in reses if r[2] is not None]))\n",
    "            while t.n < t.total:\n",
    "                nrdy = sum([r[2].ready() for r in reses if r[2] is not None])\n",
    "                if nrdy > t.n:\n",
    "                    t.update(nrdy - t.n)\n",
    "        \n",
    "            for r in reses:\n",
    "                results.append((r[0], r[1], None if r[2] is None else r[2].get()))\n",
    "            \n",
    "    print(f'writing to {pres}')\n",
    "    with pres.open('bw') as f:\n",
    "        dump(results, f)"
   ]
  },
  {
   "cell_type": "code",
   "execution_count": null,
   "id": "f2c8b5c7-34c8-4f4f-aec2-4bc83618095d",
   "metadata": {},
   "outputs": [],
   "source": [
    "hosts['in_chandra_source'] = [False]*len(hosts)\n",
    "\n",
    "for hnm, tabnm, tab in results:\n",
    "    if len(tab)>0:\n",
    "        hosts['in_chandra_source'][hosts['HOSTID']==hnm] = True\n",
    "hosts[hosts['in_chandra_source']"
   ]
  },
  {
   "cell_type": "code",
   "execution_count": null,
   "id": "b1a77d71-77f8-482c-b8c0-ff2658afc77a",
   "metadata": {},
   "outputs": [],
   "source": [
    "hosts['in_chandra_source'] = [False]*len(hosts)\n",
    "\n",
    "for hnm, tabnm, tab in results:\n",
    "    if  'master' not in tabnm and len(tab)>0:\n",
    "        hosts['in_chandra_source'][hosts['HOSTID']==hnm] = True\n",
    "hosts[hosts['in_chandra_source']]"
   ]
  },
  {
   "cell_type": "markdown",
   "id": "9f6de68c-3818-46a6-88f0-3f0ce8cdebf8",
   "metadata": {},
   "source": [
    "Xmm-newton claims ~arcsec as a resolution.  But take the same approach as Chandra for safety"
   ]
  },
  {
   "cell_type": "code",
   "execution_count": 83,
   "id": "70f7d457-1859-4e99-b1d6-bf82afc2eecf",
   "metadata": {},
   "outputs": [
    {
     "data": {
      "text/html": [
       "<div><i>Table length=103</i>\n",
       "<table id=\"table6141049104\" class=\"table-striped table-bordered table-condensed\">\n",
       "<thead><tr><th>Mission</th><th>Table</th><th>Table Description</th></tr></thead>\n",
       "<thead><tr><th>str16</th><th>str12</th><th>str80</th></tr></thead>\n",
       "<tr><td>XMM-NEWTON</td><td>agnsdssxm2</td><td>Sloan Digital Sky Survey/XMM-Newton Type1 AGN X-Ray and Radio Properties Catalog</td></tr>\n",
       "<tr><td>XMM-NEWTON</td><td>agnsdssxmm</td><td>Sloan Digital Sky Survey/XMM-Newton AGN Spectral Properties Catalog</td></tr>\n",
       "<tr><td>XMM-NEWTON</td><td>alfperxmm</td><td>Alpha Per Open Cluster XMM-Newton X-Ray Source Catalog</td></tr>\n",
       "<tr><td>XMM-NEWTON</td><td>axis</td><td>AXIS XMM-Newton Source Catalog</td></tr>\n",
       "<tr><td>XMM-NEWTON</td><td>caixa</td><td>Catalog of AGN in the XMM-Newton Archive</td></tr>\n",
       "<tr><td>XMM-NEWTON</td><td>carinaxmm</td><td>Carina OB1 Association XMM-Newton X-Ray Point Source Catalog</td></tr>\n",
       "<tr><td>...</td><td>...</td><td>...</td></tr>\n",
       "<tr><td>XMM-NEWTON</td><td>xmmstack</td><td>XMM-Newton Serendipitous Source Catalog from Stacked Observations (4XMM-DR13s)</td></tr>\n",
       "<tr><td>XMM-NEWTON</td><td>xmmstackob</td><td>XMM-Newton Serendipitous Source Catalog from Stacked Observations: Obs. Data</td></tr>\n",
       "<tr><td>XMM-NEWTON</td><td>xmmt2flare</td><td>2XMM Flares Detected from Tycho-2 Stars</td></tr>\n",
       "<tr><td>XMM-NEWTON</td><td>xmmvaragn</td><td>Ensemble X-Ray Variability of AGN in 2XMMi-DR3</td></tr>\n",
       "<tr><td>XMM-NEWTON</td><td>xmmxassist</td><td>XMM-Newton XAssist Source List</td></tr>\n",
       "<tr><td>XMM-NEWTON</td><td>xms</td><td>XMM-Newton Medium Sensitivity Survey (XMS) Source Catalog</td></tr>\n",
       "<tr><td>XMM-NEWTON</td><td>xwas</td><td>XMM-Newton Wide Angle Survey</td></tr>\n",
       "</table></div>"
      ],
      "text/plain": [
       "<Table length=103>\n",
       " Mission   ...\n",
       "  str16    ...\n",
       "---------- ...\n",
       "XMM-NEWTON ...\n",
       "XMM-NEWTON ...\n",
       "XMM-NEWTON ...\n",
       "XMM-NEWTON ...\n",
       "XMM-NEWTON ...\n",
       "XMM-NEWTON ...\n",
       "       ... ...\n",
       "XMM-NEWTON ...\n",
       "XMM-NEWTON ...\n",
       "XMM-NEWTON ...\n",
       "XMM-NEWTON ...\n",
       "XMM-NEWTON ...\n",
       "XMM-NEWTON ...\n",
       "XMM-NEWTON ..."
      ]
     },
     "execution_count": 83,
     "metadata": {},
     "output_type": "execute_result"
    }
   ],
   "source": [
    "xmmn_tables = xray_mission_all[np.array([row['Mission']=='XMM-NEWTON' and 'master' not in row['Table'] for row in xray_mission_all])]\n",
    "xmmn_tables"
   ]
  },
  {
   "cell_type": "code",
   "execution_count": 84,
   "id": "451b0f1c-a685-4705-948d-102848d27397",
   "metadata": {},
   "outputs": [
    {
     "data": {
      "application/vnd.jupyter.widget-view+json": {
       "model_id": "bd01dce474de47eabd77ba71a5df9811",
       "version_major": 2,
       "version_minor": 0
      },
      "text/plain": [
       "  0%|          | 0/3914 [00:00<?, ?it/s]"
      ]
     },
     "metadata": {},
     "output_type": "display_data"
    },
    {
     "ename": "KeyboardInterrupt",
     "evalue": "",
     "output_type": "error",
     "traceback": [
      "\u001b[0;31m---------------------------------------------------------------------------\u001b[0m",
      "\u001b[0;31mKeyboardInterrupt\u001b[0m                         Traceback (most recent call last)",
      "Cell \u001b[0;32mIn[84], line 23\u001b[0m\n\u001b[1;32m     21\u001b[0m t \u001b[38;5;241m=\u001b[39m tqdm(total\u001b[38;5;241m=\u001b[39m\u001b[38;5;28mlen\u001b[39m([r \u001b[38;5;28;01mfor\u001b[39;00m r \u001b[38;5;129;01min\u001b[39;00m reses \u001b[38;5;28;01mif\u001b[39;00m r[\u001b[38;5;241m2\u001b[39m] \u001b[38;5;129;01mis\u001b[39;00m \u001b[38;5;129;01mnot\u001b[39;00m \u001b[38;5;28;01mNone\u001b[39;00m]))\n\u001b[1;32m     22\u001b[0m \u001b[38;5;28;01mwhile\u001b[39;00m t\u001b[38;5;241m.\u001b[39mn \u001b[38;5;241m<\u001b[39m t\u001b[38;5;241m.\u001b[39mtotal:\n\u001b[0;32m---> 23\u001b[0m     nrdy \u001b[38;5;241m=\u001b[39m \u001b[38;5;28msum\u001b[39m(\u001b[43m[\u001b[49m\u001b[43mr\u001b[49m\u001b[43m[\u001b[49m\u001b[38;5;241;43m2\u001b[39;49m\u001b[43m]\u001b[49m\u001b[38;5;241;43m.\u001b[39;49m\u001b[43mready\u001b[49m\u001b[43m(\u001b[49m\u001b[43m)\u001b[49m\u001b[43m \u001b[49m\u001b[38;5;28;43;01mfor\u001b[39;49;00m\u001b[43m \u001b[49m\u001b[43mr\u001b[49m\u001b[43m \u001b[49m\u001b[38;5;129;43;01min\u001b[39;49;00m\u001b[43m \u001b[49m\u001b[43mreses\u001b[49m\u001b[43m \u001b[49m\u001b[38;5;28;43;01mif\u001b[39;49;00m\u001b[43m \u001b[49m\u001b[43mr\u001b[49m\u001b[43m[\u001b[49m\u001b[38;5;241;43m2\u001b[39;49m\u001b[43m]\u001b[49m\u001b[43m \u001b[49m\u001b[38;5;129;43;01mis\u001b[39;49;00m\u001b[43m \u001b[49m\u001b[38;5;129;43;01mnot\u001b[39;49;00m\u001b[43m \u001b[49m\u001b[38;5;28;43;01mNone\u001b[39;49;00m\u001b[43m]\u001b[49m)\n\u001b[1;32m     24\u001b[0m     \u001b[38;5;28;01mif\u001b[39;00m nrdy \u001b[38;5;241m>\u001b[39m t\u001b[38;5;241m.\u001b[39mn:\n\u001b[1;32m     25\u001b[0m         t\u001b[38;5;241m.\u001b[39mupdate(nrdy \u001b[38;5;241m-\u001b[39m t\u001b[38;5;241m.\u001b[39mn)\n",
      "Cell \u001b[0;32mIn[84], line 23\u001b[0m, in \u001b[0;36m<listcomp>\u001b[0;34m(.0)\u001b[0m\n\u001b[1;32m     21\u001b[0m t \u001b[38;5;241m=\u001b[39m tqdm(total\u001b[38;5;241m=\u001b[39m\u001b[38;5;28mlen\u001b[39m([r \u001b[38;5;28;01mfor\u001b[39;00m r \u001b[38;5;129;01min\u001b[39;00m reses \u001b[38;5;28;01mif\u001b[39;00m r[\u001b[38;5;241m2\u001b[39m] \u001b[38;5;129;01mis\u001b[39;00m \u001b[38;5;129;01mnot\u001b[39;00m \u001b[38;5;28;01mNone\u001b[39;00m]))\n\u001b[1;32m     22\u001b[0m \u001b[38;5;28;01mwhile\u001b[39;00m t\u001b[38;5;241m.\u001b[39mn \u001b[38;5;241m<\u001b[39m t\u001b[38;5;241m.\u001b[39mtotal:\n\u001b[0;32m---> 23\u001b[0m     nrdy \u001b[38;5;241m=\u001b[39m \u001b[38;5;28msum\u001b[39m([\u001b[43mr\u001b[49m\u001b[43m[\u001b[49m\u001b[38;5;241;43m2\u001b[39;49m\u001b[43m]\u001b[49m\u001b[38;5;241;43m.\u001b[39;49m\u001b[43mready\u001b[49m\u001b[43m(\u001b[49m\u001b[43m)\u001b[49m \u001b[38;5;28;01mfor\u001b[39;00m r \u001b[38;5;129;01min\u001b[39;00m reses \u001b[38;5;28;01mif\u001b[39;00m r[\u001b[38;5;241m2\u001b[39m] \u001b[38;5;129;01mis\u001b[39;00m \u001b[38;5;129;01mnot\u001b[39;00m \u001b[38;5;28;01mNone\u001b[39;00m])\n\u001b[1;32m     24\u001b[0m     \u001b[38;5;28;01mif\u001b[39;00m nrdy \u001b[38;5;241m>\u001b[39m t\u001b[38;5;241m.\u001b[39mn:\n\u001b[1;32m     25\u001b[0m         t\u001b[38;5;241m.\u001b[39mupdate(nrdy \u001b[38;5;241m-\u001b[39m t\u001b[38;5;241m.\u001b[39mn)\n",
      "File \u001b[0;32m~/miniforge3/envs/py311/lib/python3.11/site-packages/multiprocess/pool.py:756\u001b[0m, in \u001b[0;36mApplyResult.ready\u001b[0;34m(self)\u001b[0m\n\u001b[1;32m    753\u001b[0m     \u001b[38;5;28mself\u001b[39m\u001b[38;5;241m.\u001b[39m_error_callback \u001b[38;5;241m=\u001b[39m error_callback\n\u001b[1;32m    754\u001b[0m     \u001b[38;5;28mself\u001b[39m\u001b[38;5;241m.\u001b[39m_cache[\u001b[38;5;28mself\u001b[39m\u001b[38;5;241m.\u001b[39m_job] \u001b[38;5;241m=\u001b[39m \u001b[38;5;28mself\u001b[39m\n\u001b[0;32m--> 756\u001b[0m \u001b[38;5;28;01mdef\u001b[39;00m \u001b[38;5;21mready\u001b[39m(\u001b[38;5;28mself\u001b[39m):\n\u001b[1;32m    757\u001b[0m     \u001b[38;5;28;01mreturn\u001b[39;00m \u001b[38;5;28mself\u001b[39m\u001b[38;5;241m.\u001b[39m_event\u001b[38;5;241m.\u001b[39mis_set()\n\u001b[1;32m    759\u001b[0m \u001b[38;5;28;01mdef\u001b[39;00m \u001b[38;5;21msuccessful\u001b[39m(\u001b[38;5;28mself\u001b[39m):\n",
      "\u001b[0;31mKeyboardInterrupt\u001b[0m: "
     ]
    }
   ],
   "source": [
    "pres = Path('heasarc_xmmnewton_results.pickle')\n",
    "\n",
    "results = []\n",
    "if pres.exists():\n",
    "    print(f'{pres} already exists, not overwriting, loading')\n",
    "    with pres.open('rb') as f:\n",
    "        results.extend(load(f))\n",
    "else:\n",
    "    rad = 2*u.arcmin\n",
    "    results = []\n",
    "    \n",
    "    with Pool(CONCURRENCY_QRYS) as p:\n",
    "        reses = []\n",
    "        for host in hosts:\n",
    "            for tabname in xmmn_tables['Table']:\n",
    "                if host['in_xmmmaster']:\n",
    "                    ares = p.apply_async(heasarc.query_region, (host['coord'],), kwds={'mission':tabname, 'radius':rad})\n",
    "                    reses.append((host['HOSTID'], tabname, ares))\n",
    "                else:\n",
    "                    reses.append((host['HOSTID'], tabname, None))\n",
    "        t = tqdm(total=len([r for r in reses if r[2] is not None]))\n",
    "        while t.n < t.total:\n",
    "            nrdy = sum([r[2].ready() for r in reses if r[2] is not None])\n",
    "            if nrdy > t.n:\n",
    "                t.update(nrdy - t.n)\n",
    "    \n",
    "        for r in reses:\n",
    "            results.append((r[0], r[1], None if r[2] is None else r[2].get()))\n",
    "            \n",
    "    print(f'writing to {pres}')\n",
    "    with pres.open('bw') as f:\n",
    "        dump(results, f)"
   ]
  },
  {
   "cell_type": "code",
   "execution_count": null,
   "id": "a8cc3ac4-d2b9-45ef-b538-c91faac3e948",
   "metadata": {},
   "outputs": [],
   "source": [
    "hosts['in_xmmn_source'] = [False]*len(hosts)\n",
    "\n",
    "for hnm, tabnm, tab in results:\n",
    "    if  'master' not in tabnm and len(tab)>0:\n",
    "        hosts['in_xmmn_source'][hosts['HOSTID']==hnm] = True\n",
    "hosts[hosts['in_xmmn_source']]"
   ]
  },
  {
   "cell_type": "markdown",
   "id": "e8bd5981-f256-4cb1-8638-29c24c4974ff",
   "metadata": {},
   "source": [
    "ROSAT PSPC instrument claims 25\" at 1 kev (https://heasarc.gsfc.nasa.gov/docs/rosat/pspc.html), so we will take 1 arcmin to be a match, since probably only Point Source are bright enough for rosat"
   ]
  },
  {
   "cell_type": "code",
   "execution_count": null,
   "id": "f6392d91-95ff-4e08-8c32-0fe5e6de8d08",
   "metadata": {},
   "outputs": [],
   "source": [
    "rosat_tables = xray_mission_all[np.array([row['Mission']=='ROSAT' and 'master' not in row['Table'] for row in xray_mission_all])]\n",
    "rosat_tables"
   ]
  },
  {
   "cell_type": "code",
   "execution_count": null,
   "id": "bd0dc4e3-df26-454b-9bde-7e567b012d3b",
   "metadata": {},
   "outputs": [],
   "source": [
    "pres = Path('heasarc_rosat_results.pickle')\n",
    "\n",
    "results = []\n",
    "if pres.exists():\n",
    "    print(f'{pres} already exists, not overwriting, loading')\n",
    "    with pres.open('rb') as f:\n",
    "        results.extend(load(f))\n",
    "else:\n",
    "    rad = 2*u.arcmin\n",
    "    results = []\n",
    "    \n",
    "    with Pool(CONCURRENCY_QRYS) as p:\n",
    "        reses = []\n",
    "        for host in hosts:\n",
    "            for tabname in rosat_tables['Table']:\n",
    "                if host['in_rosmaster'] | host['in_rassmaster']:\n",
    "                    ares = p.apply_async(heasarc.query_region, (host['coord'],), kwds={'mission':tabname, 'radius':rad})\n",
    "                    reses.append((host['HOSTID'], tabname, ares))\n",
    "                else:\n",
    "                    reses.append((host['HOSTID'], tabname, None))\n",
    "        t = tqdm(total=len([r for r in reses if r[2] is not None]))\n",
    "        while t.n < t.total:\n",
    "            nrdy = sum([r[2].ready() for r in reses if r[2] is not None])\n",
    "            if nrdy > t.n:\n",
    "                t.update(nrdy - t.n)\n",
    "    \n",
    "        for r in reses:\n",
    "            results.append((r[0], r[1], None if r[2] is None else r[2].get()))\n",
    "            \n",
    "    print(f'writing to {pres}')\n",
    "    with pres.open('bw') as f:\n",
    "        dump(results, f)"
   ]
  },
  {
   "cell_type": "code",
   "execution_count": null,
   "id": "c689b0b3-9aeb-4869-aeb3-953b735d1ce6",
   "metadata": {},
   "outputs": [],
   "source": [
    "hosts['in_rosat_source'] = [False]*len(hosts)\n",
    "\n",
    "for hnm, tabnm, tab in results:\n",
    "    if  'master' not in tabnm and len(tab)>0:\n",
    "        hosts['in_rosat_source'][hosts['HOSTID']==hnm] = True\n",
    "hosts[hosts['in_rosat_source']]"
   ]
  },
  {
   "cell_type": "code",
   "execution_count": null,
   "id": "025f20c3-2ca8-4c14-84de-87cb0b9bbea1",
   "metadata": {},
   "outputs": [],
   "source": []
  }
 ],
 "metadata": {
  "kernelspec": {
   "display_name": "Python 3 (ipykernel)",
   "language": "python",
   "name": "python3"
  },
  "language_info": {
   "codemirror_mode": {
    "name": "ipython",
    "version": 3
   },
   "file_extension": ".py",
   "mimetype": "text/x-python",
   "name": "python",
   "nbconvert_exporter": "python",
   "pygments_lexer": "ipython3",
   "version": "3.11.7"
  }
 },
 "nbformat": 4,
 "nbformat_minor": 5
}
