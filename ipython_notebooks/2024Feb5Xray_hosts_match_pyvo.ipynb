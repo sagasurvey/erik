{
 "cells": [
  {
   "cell_type": "code",
   "execution_count": 79,
   "id": "080354d2-fa5e-45ca-9f30-1e219b8f8b48",
   "metadata": {},
   "outputs": [],
   "source": [
    "import io\n",
    "from pathlib import Path\n",
    "\n",
    "import numpy as np\n",
    "\n",
    "%matplotlib inline\n",
    "from matplotlib import pyplot as plt\n",
    "\n",
    "from astropy import units as u\n",
    "from astropy import table\n",
    "from astropy.io import votable\n",
    "from astropy.coordinates import SkyCoord\n",
    "\n",
    "import pyvo as vo\n",
    "\n",
    "from tqdm.notebook import tqdm\n",
    "\n",
    "from multiprocess import Pool\n",
    "\n",
    "from dill import dump, load"
   ]
  },
  {
   "cell_type": "code",
   "execution_count": 2,
   "id": "014474d3-0a4d-49f8-9ea8-d9db31848730",
   "metadata": {},
   "outputs": [],
   "source": [
    "import warnings\n",
    "from astroquery.exceptions import NoResultsWarning\n",
    "warnings.simplefilter('ignore', NoResultsWarning)\n",
    "warnings.simplefilter('ignore', u.UnitsWarning) # comes up in the parsing of some heasarc tables but is just a \"discouraged by FITS standard\" issue"
   ]
  },
  {
   "cell_type": "code",
   "execution_count": 3,
   "id": "95ceb7f2-35a7-400d-b2f9-33a70dc22708",
   "metadata": {},
   "outputs": [
    {
     "name": "stdout",
     "output_type": "stream",
     "text": [
      "loading hosts from file\n"
     ]
    }
   ],
   "source": [
    "hpath = Path('hosts.ecsv')\n",
    "\n",
    "if hpath.exists():\n",
    "    print(\"loading hosts from file\")\n",
    "    hosts = table.Table.read(hpath)\n",
    "else:\n",
    "    import SAGA\n",
    "    saga = SAGA.QuickStart('/Users/etollerud/Dropbox/', '/../')\n",
    "    hosts = saga.host_catalog.load()"
   ]
  },
  {
   "cell_type": "code",
   "execution_count": 4,
   "id": "f376e267-1d72-449a-972e-bc78553ec286",
   "metadata": {},
   "outputs": [
    {
     "data": {
      "text/plain": [
       "<VOTable length=300>\n",
       "  HOSTID        RA         DEC    \n",
       "  str10      float64     float64  \n",
       "---------- ----------- -----------\n",
       " nsa126115    0.995382  20.7523559\n",
       "   pgc1952    8.008776 -64.2533874\n",
       "   pgc2052    8.564589 -27.8036183\n",
       " nsa127226    8.694936  -8.3964957\n",
       "   pgc2778   11.864958 -31.4216944\n",
       "   pgc3089   13.176354 -31.2058056\n",
       "       ...         ...         ...\n",
       "  pgc72009 354.7378755 -12.9610833\n",
       "  pgc72060 354.9742875 -12.2927807\n",
       " nsa169525  356.065458  10.7670833\n",
       "  pgc72444 356.9657175 -30.5220634\n",
       " nsa153017 359.8561875  20.7499195\n",
       " pgc771919   46.033425 -26.0696911\n",
       "pgc3806285 200.0691045 -24.4462083"
      ]
     },
     "execution_count": 4,
     "metadata": {},
     "output_type": "execute_result"
    }
   ],
   "source": [
    "hosts_vot = votable.from_table(hosts['HOSTID', 'RA','DEC'])\n",
    "hosts_vot.get_first_table()"
   ]
  },
  {
   "cell_type": "markdown",
   "id": "801aecc4-2080-4c48-8f8b-98d1e472d968",
   "metadata": {},
   "source": [
    "# Match using HEASARC's PyVO interface\n",
    "\n",
    "According to Tess Jaffe, the astroquery interface is using an older not-well-supported approach, and is to be updated whenever HEASARC can get the resources to do it."
   ]
  },
  {
   "cell_type": "code",
   "execution_count": 5,
   "id": "16aba8c6-5069-4dad-b922-be7df32f4d22",
   "metadata": {},
   "outputs": [],
   "source": [
    "import pyvo"
   ]
  },
  {
   "cell_type": "code",
   "execution_count": 6,
   "id": "b87d9b02-211a-4e75-98ed-daa8c5fcb75d",
   "metadata": {},
   "outputs": [],
   "source": [
    "tap_services = pyvo.regsearch(servicetype='tap', keywords=['heasarc'])\n",
    "assert len(tap_services)==1\n",
    "heasarc_tap = tap_services[0]\n",
    "\n",
    "tables_dct = dict(heasarc_tap.service.tables.items())"
   ]
  },
  {
   "cell_type": "code",
   "execution_count": 7,
   "id": "2ff21db2-2133-437b-97bb-f7d16f27f06e",
   "metadata": {},
   "outputs": [
    {
     "data": {
      "text/html": [
       "<div><i>Table length=138</i>\n",
       "<table id=\"table140142062062928\" class=\"table-striped table-bordered table-condensed\">\n",
       "<thead><tr><th>chanmaster___row</th><th>chanmaster_obsid</th><th>chanmaster_status</th><th>chanmaster_name</th><th>chanmaster_ra</th><th>chanmaster_dec</th><th>chanmaster_lii</th><th>chanmaster_bii</th><th>chanmaster_time</th><th>chanmaster_detector</th><th>chanmaster_grating</th><th>chanmaster_exposure</th><th>chanmaster_type</th><th>chanmaster_pi</th><th>chanmaster_cycle</th><th>chanmaster_proposal</th><th>chanmaster_public_date</th><th>chanmaster_sequence_number</th><th>chanmaster_data_mode</th><th>chanmaster_category</th><th>chanmaster_class</th><th>chanmaster___x_ra_dec</th><th>chanmaster___y_ra_dec</th><th>chanmaster___z_ra_dec</th><th>hostid</th></tr></thead>\n",
       "<thead><tr><th></th><th></th><th></th><th></th><th>deg</th><th>deg</th><th>deg</th><th>deg</th><th>d</th><th></th><th></th><th>s</th><th></th><th></th><th></th><th></th><th>d</th><th></th><th></th><th></th><th></th><th></th><th></th><th></th><th></th></tr></thead>\n",
       "<thead><tr><th>int32</th><th>int32</th><th>object</th><th>object</th><th>float64</th><th>float64</th><th>float64</th><th>float64</th><th>float64</th><th>object</th><th>object</th><th>float64</th><th>object</th><th>object</th><th>int16</th><th>object</th><th>int32</th><th>int32</th><th>object</th><th>object</th><th>int16</th><th>float64</th><th>float64</th><th>float64</th><th>object</th></tr></thead>\n",
       "<tr><td>9685</td><td>23571</td><td>archived</td><td>SN 2009em</td><td>8.68554</td><td>-8.39933</td><td>110.24683</td><td>-70.85875</td><td>59115.954849537</td><td>ACIS-S</td><td>NONE</td><td>12080</td><td>GO</td><td>Patnaude</td><td>22</td><td>22500259</td><td>59481</td><td>503246</td><td>TE_0057A</td><td>SN, SNR AND ISOLATED NS</td><td>3200</td><td>0.149391603204477</td><td>0.977929075843426</td><td>-0.14607146029262</td><td>nsa127226</td></tr>\n",
       "<tr><td>9688</td><td>27644</td><td>archived</td><td>SN 2022jli</td><td>8.69037</td><td>-8.38671</td><td>110.26870</td><td>-70.84733</td><td>59961.4469907407</td><td>ACIS-S</td><td>NONE</td><td>10060</td><td>DDT</td><td>Chen</td><td>23</td><td>23508880</td><td>59962</td><td>503448</td><td>TE_007BC</td><td>SN, SNR AND ISOLATED NS</td><td>3200</td><td>0.149478899171775</td><td>0.977948259426569</td><td>-0.145853558705086</td><td>nsa127226</td></tr>\n",
       "<tr><td>9689</td><td>27646</td><td>archived</td><td>SN 2022jli</td><td>8.69037</td><td>-8.38671</td><td>110.26870</td><td>-70.84733</td><td>59969.882962963</td><td>ACIS-S</td><td>NONE</td><td>10060</td><td>DDT</td><td>Chen</td><td>23</td><td>23508880</td><td>59970</td><td>503450</td><td>TE_007BC</td><td>SN, SNR AND ISOLATED NS</td><td>3200</td><td>0.149478899171775</td><td>0.977948259426569</td><td>-0.145853558705086</td><td>nsa127226</td></tr>\n",
       "<tr><td>9690</td><td>27645</td><td>archived</td><td>SN 2022jli</td><td>8.69037</td><td>-8.38671</td><td>110.26870</td><td>-70.84733</td><td>59965.9437962963</td><td>ACIS-S</td><td>NONE</td><td>10060</td><td>DDT</td><td>Chen</td><td>23</td><td>23508880</td><td>59969</td><td>503449</td><td>TE_007BC</td><td>SN, SNR AND ISOLATED NS</td><td>3200</td><td>0.149478899171775</td><td>0.977948259426569</td><td>-0.145853558705086</td><td>nsa127226</td></tr>\n",
       "<tr><td>5179</td><td>16352</td><td>archived</td><td>NGC289</td><td>13.17667</td><td>-31.20583</td><td>299.12257</td><td>-85.91303</td><td>56881.5004398148</td><td>ACIS-I</td><td>NONE</td><td>50090</td><td>GTO</td><td>Garmire</td><td>15</td><td>15610062</td><td>57247</td><td>601152</td><td>TE_006E6</td><td>NORMAL GALAXIES</td><td>6000</td><td>0.194972050737596</td><td>0.832792734473645</td><td>-0.518114042310268</td><td>pgc3089</td></tr>\n",
       "<tr><td>13871</td><td>4408</td><td>archived</td><td>NGC 821</td><td>32.08750</td><td>10.99472</td><td>151.55478</td><td>-47.55719</td><td>52604.7187152778</td><td>ACIS-S</td><td>NONE</td><td>25270</td><td>GO</td><td>Fabbiano</td><td>4</td><td>04700486</td><td>52984</td><td>700685</td><td>TE_005A0</td><td>ACTIVE GALAXIES AND QUASARS</td><td>7000</td><td>0.521463199181968</td><td>0.831686583139149</td><td>0.190718534299197</td><td>pgc8160</td></tr>\n",
       "<tr><td>...</td><td>...</td><td>...</td><td>...</td><td>...</td><td>...</td><td>...</td><td>...</td><td>...</td><td>...</td><td>...</td><td>...</td><td>...</td><td>...</td><td>...</td><td>...</td><td>...</td><td>...</td><td>...</td><td>...</td><td>...</td><td>...</td><td>...</td><td>...</td><td>...</td></tr>\n",
       "<tr><td>6444</td><td>11344</td><td>archived</td><td>NGC7507</td><td>348.02917</td><td>-28.54061</td><td>23.44014</td><td>-68.03611</td><td>55471.1952893519</td><td>ACIS-S</td><td>NONE</td><td>7350</td><td>GO</td><td>Gallo</td><td>11</td><td>11620915</td><td>55483</td><td>600863</td><td>TE_00600</td><td>NORMAL GALAXIES</td><td>6000</td><td>-0.182208495439119</td><td>0.859374701084884</td><td>-0.477781526772518</td><td>pgc70676</td></tr>\n",
       "<tr><td>12598</td><td>7070</td><td>archived</td><td>NGC 7541</td><td>348.67958</td><td>4.53444</td><td>82.84005</td><td>-50.65237</td><td>54038.6863657407</td><td>ACIS-S</td><td>NONE</td><td>39480</td><td>GO</td><td>Kaaret</td><td>7</td><td>07620217</td><td>54040</td><td>600508</td><td>TE_002A2</td><td>NORMAL GALAXIES</td><td>6000</td><td>-0.195681212410991</td><td>0.977475649393056</td><td>0.0790583199479204</td><td>nsa150887</td></tr>\n",
       "<tr><td>3542</td><td>23557</td><td>archived</td><td>SN 2012dj</td><td>348.69992</td><td>-43.60619</td><td>346.40715</td><td>-64.48628</td><td>59140.7461342593</td><td>ACIS-S</td><td>NONE</td><td>13080</td><td>GO</td><td>Patnaude</td><td>22</td><td>22500259</td><td>59506</td><td>503232</td><td>TE_0057A</td><td>SN, SNR AND ISOLATED NS</td><td>3200</td><td>-0.141885075916964</td><td>0.710060281004244</td><td>-0.689697776255811</td><td>pgc70800</td></tr>\n",
       "<tr><td>11469</td><td>22526</td><td>archived</td><td>SDSS J233602.98+001728.7</td><td>354.01250</td><td>0.29131</td><td>86.40021</td><td>-57.13398</td><td>58761.0245138889</td><td>ACIS-S</td><td>NONE</td><td>30110</td><td>GO</td><td>Ruan</td><td>21</td><td>21700036</td><td>59130</td><td>703914</td><td>TE_005C6</td><td>ACTIVE GALAXIES AND QUASARS</td><td>7000</td><td>-0.104310141523773</td><td>0.994531821663823</td><td>0.00508429673882261</td><td>nsa61945</td></tr>\n",
       "<tr><td>11470</td><td>19517</td><td>archived</td><td>SDSS J233602.98+001728.7</td><td>354.01250</td><td>0.29131</td><td>86.40021</td><td>-57.13398</td><td>57958.2444212963</td><td>ACIS-S</td><td>NONE</td><td>11060</td><td>GO</td><td>Ruan</td><td>18</td><td>18700505</td><td>58323</td><td>703365</td><td>TE_004A6</td><td>ACTIVE GALAXIES AND QUASARS</td><td>7000</td><td>-0.104310141523773</td><td>0.994531821663823</td><td>0.00508429673882261</td><td>nsa61945</td></tr>\n",
       "<tr><td>9028</td><td>2045</td><td>archived</td><td>ARP 222</td><td>354.97583</td><td>-12.29194</td><td>70.94499</td><td>-67.61484</td><td>52261.0923842593</td><td>ACIS-S</td><td>NONE</td><td>19260</td><td>GO</td><td>Read</td><td>2</td><td>02600706</td><td>52639</td><td>600179</td><td>TE_002A2</td><td>NORMAL GALAXIES</td><td>6000</td><td>-0.085568343198147</td><td>0.97332145505167</td><td>-0.212892939710136</td><td>pgc72060</td></tr>\n",
       "</table></div>"
      ],
      "text/plain": [
       "<Table length=138>\n",
       "chanmaster___row chanmaster_obsid ... chanmaster___z_ra_dec   hostid \n",
       "                                  ...                                \n",
       "     int32            int32       ...        float64          object \n",
       "---------------- ---------------- ... --------------------- ---------\n",
       "            9685            23571 ...     -0.14607146029262 nsa127226\n",
       "            9688            27644 ...    -0.145853558705086 nsa127226\n",
       "            9689            27646 ...    -0.145853558705086 nsa127226\n",
       "            9690            27645 ...    -0.145853558705086 nsa127226\n",
       "            5179            16352 ...    -0.518114042310268   pgc3089\n",
       "           13871             4408 ...     0.190718534299197   pgc8160\n",
       "             ...              ... ...                   ...       ...\n",
       "            6444            11344 ...    -0.477781526772518  pgc70676\n",
       "           12598             7070 ...    0.0790583199479204 nsa150887\n",
       "            3542            23557 ...    -0.689697776255811  pgc70800\n",
       "           11469            22526 ...   0.00508429673882261  nsa61945\n",
       "           11470            19517 ...   0.00508429673882261  nsa61945\n",
       "            9028             2045 ...    -0.212892939710136  pgc72060"
      ]
     },
     "execution_count": 7,
     "metadata": {},
     "output_type": "execute_result"
    }
   ],
   "source": [
    "def get_matches_for_catalog(cat, radius, table, idcol='HOSTID'):\n",
    "    deg = radius.to(u.deg).value\n",
    "    query=f\"\"\"\n",
    "    SELECT *, mt.{idcol}\n",
    "    FROM {table} cat, tap_upload.mysources mt\n",
    "    WHERE \n",
    "    contains(point('ICRS',cat.ra,cat.dec),circle('ICRS',mt.ra,mt.dec,{deg}))=1\n",
    "    ORDER by cat.ra\n",
    "    \"\"\"\n",
    "    \n",
    "    vot = votable.from_table(cat[idcol, 'RA', 'DEC'])\n",
    "    bio = io.BytesIO()\n",
    "    vot.to_xml(bio)\n",
    "    bio.seek(0)\n",
    "    \n",
    "    res = heasarc_tap.service.run_async(query, uploads={'mysources': bio})\n",
    "    return res.to_table()\n",
    "\n",
    "get_matches_for_catalog(hosts, 15*u.arcmin, 'chanmaster')"
   ]
  },
  {
   "cell_type": "code",
   "execution_count": 8,
   "id": "22e9edef-199b-4b23-bb23-a2e3f4132a21",
   "metadata": {},
   "outputs": [
    {
     "name": "stdout",
     "output_type": "stream",
     "text": [
      "loading existing data from heasarc_master_matches.pickle\n"
     ]
    }
   ],
   "source": [
    "mission_to_rad = {'xmmmaster': 15*u.arcmin, # \" telescope's field of view (FOV) of 30 arcmin and in th\"\n",
    "                  'chanmaster':8*u.arcmin, # this is ~ half ASIC's FOV\n",
    "                  'rosmaster':2.5*u.deg,  #\"5 degree diameter\"\n",
    "                  'rassmaster':2.5*u.deg,  #\"5 degree diameter\"\n",
    "                }\n",
    "\n",
    "pth = Path('heasarc_master_matches.pickle')\n",
    "\n",
    "if pth.exists():\n",
    "    print(f'loading existing data from {pth}')\n",
    "    with pth.open('rb') as f:\n",
    "        matches = load(f)\n",
    "else:\n",
    "    matches = {}\n",
    "    for tab in tqdm(mission_to_rad):\n",
    "        matches[tab] = get_matches_for_catalog(hosts, mission_to_rad[tab], tab)\n",
    "    \n",
    "    print(f'writing to {pth}')\n",
    "    with pth.open('wb') as f:\n",
    "        dump(matches, f)\n",
    "    \n",
    "master_matches = matches"
   ]
  },
  {
   "cell_type": "markdown",
   "id": "a9eec814-88e9-4269-a891-0341f973e513",
   "metadata": {},
   "source": [
    "How many are in the footprints?"
   ]
  },
  {
   "cell_type": "code",
   "execution_count": 9,
   "id": "1fe79a50-364f-45ad-bc09-062c8a6ec7b8",
   "metadata": {},
   "outputs": [
    {
     "data": {
      "text/plain": [
       "{'xmmmaster': 87, 'chanmaster': 131, 'rosmaster': 1437, 'rassmaster': 168}"
      ]
     },
     "execution_count": 9,
     "metadata": {},
     "output_type": "execute_result"
    }
   ],
   "source": [
    "{k:len(v) for k,v in  master_matches.items()}"
   ]
  },
  {
   "cell_type": "markdown",
   "id": "6d32ba0a-c956-4b85-ab70-0db35e12632e",
   "metadata": {},
   "source": [
    "And what fraction is that?"
   ]
  },
  {
   "cell_type": "code",
   "execution_count": 10,
   "id": "02be7927-771d-4163-88b8-7b0d3a086c1d",
   "metadata": {},
   "outputs": [
    {
     "data": {
      "text/plain": [
       "{'xmmmaster': 0.29,\n",
       " 'chanmaster': 0.43666666666666665,\n",
       " 'rosmaster': 4.79,\n",
       " 'rassmaster': 0.56}"
      ]
     },
     "execution_count": 10,
     "metadata": {},
     "output_type": "execute_result"
    }
   ],
   "source": [
    "{k:len(v)/len(hosts) for k,v in  master_matches.items()}"
   ]
  },
  {
   "cell_type": "markdown",
   "id": "f86798c8-f38d-4c2a-89c3-0b79b21d33c3",
   "metadata": {},
   "source": [
    "Great!  Now lets look at mission specifc tables\n",
    "\n",
    "# IDing specific mission tables"
   ]
  },
  {
   "cell_type": "code",
   "execution_count": 11,
   "id": "a72a8026-cc96-45c5-bbeb-c76c45f8f68b",
   "metadata": {},
   "outputs": [
    {
     "data": {
      "text/plain": [
       "188"
      ]
     },
     "execution_count": 11,
     "metadata": {},
     "output_type": "execute_result"
    }
   ],
   "source": [
    "chantabs = [v.description for k,v in tables_dct.items() if 'chandra' in v.description.lower()]\n",
    "len(chantabs)"
   ]
  },
  {
   "cell_type": "markdown",
   "id": "bc440b84-2df7-455f-8e87-d100684b51ba",
   "metadata": {},
   "source": [
    "There doesn't seem to be any way to ask TAP for just *chandra* tables. Some of the above are things that aren't quite matched. So lets instead use the astroquery interface to get those:"
   ]
  },
  {
   "cell_type": "code",
   "execution_count": 12,
   "id": "eb849230-c3eb-40ec-875b-163ee7feac20",
   "metadata": {},
   "outputs": [
    {
     "data": {
      "text/html": [
       "<div><i>Table length=1185</i>\n",
       "<table id=\"table140141978665360\" class=\"table-striped table-bordered table-condensed\">\n",
       "<thead><tr><th>Mission</th><th>Table</th><th>Table Description</th><th>in_tap</th></tr></thead>\n",
       "<thead><tr><th>str16</th><th>str12</th><th>str80</th><th>bool</th></tr></thead>\n",
       "<tr><td>AGILE</td><td>agilecat</td><td>First AGILE Catalog of High-Confidence Gamma-Ray Sources</td><td>True</td></tr>\n",
       "<tr><td>AGILE</td><td>agileupvar</td><td>Updated AGILE Catalog of Bright Gamma-Ray Sources and Variability</td><td>True</td></tr>\n",
       "<tr><td>AKARI</td><td>akaribsc</td><td>AKARI/FIS All-Sky Survey Bright Source Catalog, Version 1</td><td>True</td></tr>\n",
       "<tr><td>AKARI</td><td>akaripsc</td><td>AKARI/IRC All-Sky Survey Point Source Catalog, Version 1</td><td>True</td></tr>\n",
       "<tr><td>ANS</td><td>ansuvpscat</td><td>ANS Ultraviolet Photometry Catalog of Point Sources</td><td>True</td></tr>\n",
       "<tr><td>ARIEL V</td><td>ariel3a</td><td>3rd Ariel-V SSI Catalog</td><td>True</td></tr>\n",
       "<tr><td>...</td><td>...</td><td>...</td><td>...</td></tr>\n",
       "<tr><td>XMM-NEWTON</td><td>xmmstack</td><td>XMM-Newton Serendipitous Source Catalog from Stacked Observations (4XMM-DR13s)</td><td>True</td></tr>\n",
       "<tr><td>XMM-NEWTON</td><td>xmmstackob</td><td>XMM-Newton Serendipitous Source Catalog from Stacked Observations: Obs. Data</td><td>True</td></tr>\n",
       "<tr><td>XMM-NEWTON</td><td>xmmt2flare</td><td>2XMM Flares Detected from Tycho-2 Stars</td><td>True</td></tr>\n",
       "<tr><td>XMM-NEWTON</td><td>xmmvaragn</td><td>Ensemble X-Ray Variability of AGN in 2XMMi-DR3</td><td>True</td></tr>\n",
       "<tr><td>XMM-NEWTON</td><td>xmmxassist</td><td>XMM-Newton XAssist Source List</td><td>True</td></tr>\n",
       "<tr><td>XMM-NEWTON</td><td>xms</td><td>XMM-Newton Medium Sensitivity Survey (XMS) Source Catalog</td><td>True</td></tr>\n",
       "<tr><td>XMM-NEWTON</td><td>xwas</td><td>XMM-Newton Wide Angle Survey</td><td>True</td></tr>\n",
       "</table></div>"
      ],
      "text/plain": [
       "<Table length=1185>\n",
       " Mission     Table    ... in_tap\n",
       "  str16      str12    ...  bool \n",
       "---------- ---------- ... ------\n",
       "     AGILE   agilecat ...   True\n",
       "     AGILE agileupvar ...   True\n",
       "     AKARI   akaribsc ...   True\n",
       "     AKARI   akaripsc ...   True\n",
       "       ANS ansuvpscat ...   True\n",
       "   ARIEL V    ariel3a ...   True\n",
       "       ...        ... ...    ...\n",
       "XMM-NEWTON   xmmstack ...   True\n",
       "XMM-NEWTON xmmstackob ...   True\n",
       "XMM-NEWTON xmmt2flare ...   True\n",
       "XMM-NEWTON  xmmvaragn ...   True\n",
       "XMM-NEWTON xmmxassist ...   True\n",
       "XMM-NEWTON        xms ...   True\n",
       "XMM-NEWTON       xwas ...   True"
      ]
     },
     "execution_count": 12,
     "metadata": {},
     "output_type": "execute_result"
    }
   ],
   "source": [
    "from astroquery.heasarc import Heasarc\n",
    "heasarc = Heasarc()\n",
    "missions = heasarc.query_mission_list()\n",
    "missions['in_tap'] = [row['Table'] in tables_dct for row in missions]\n",
    "missions"
   ]
  },
  {
   "cell_type": "code",
   "execution_count": 13,
   "id": "52377053-1dc9-4410-aed7-19ff283f1153",
   "metadata": {},
   "outputs": [
    {
     "data": {
      "text/plain": [
       "['AGILE',\n",
       " 'AKARI',\n",
       " 'ANS',\n",
       " 'ARIEL V',\n",
       " 'ASCA',\n",
       " 'BBXRT',\n",
       " 'BEPPOSAX',\n",
       " 'CALET',\n",
       " 'CGRO',\n",
       " 'CHANDRA',\n",
       " 'COBE',\n",
       " 'COPERNICUS',\n",
       " 'COROT',\n",
       " 'COS B',\n",
       " 'EINSTEIN',\n",
       " 'EUVE',\n",
       " 'EXOSAT',\n",
       " 'FAUST',\n",
       " 'FERMI',\n",
       " 'FUSE',\n",
       " 'GALAXY CATALOG',\n",
       " 'GALEX',\n",
       " 'GAMMA-RAY BURSTS',\n",
       " 'GENERAL CATALOG',\n",
       " 'GINGA',\n",
       " 'GROUND-BASED',\n",
       " 'HALOSAT',\n",
       " 'HEAO1',\n",
       " 'HERSCHEL',\n",
       " 'HETE-2',\n",
       " 'HITOMI',\n",
       " 'HST',\n",
       " 'ICECUBE',\n",
       " 'INTEGRAL',\n",
       " 'IRAS',\n",
       " 'ISO',\n",
       " 'IUE',\n",
       " 'IXPE',\n",
       " 'KVANT',\n",
       " 'LPF',\n",
       " 'MASTER CATALOG',\n",
       " 'MAXI',\n",
       " 'MSX',\n",
       " 'NEBULA CATALOG',\n",
       " 'NICER',\n",
       " 'NUSTAR',\n",
       " 'OSO8',\n",
       " 'PLANCK',\n",
       " 'RADIO CATALOG',\n",
       " 'RHESSI',\n",
       " 'ROSAT',\n",
       " 'RXTE',\n",
       " 'SAS-2',\n",
       " 'SAS-3',\n",
       " 'SDSS',\n",
       " 'SPITZER',\n",
       " 'SRG-EROSITA',\n",
       " 'STAR CATALOG',\n",
       " 'SUZAKU',\n",
       " 'SWIFT',\n",
       " 'TD1',\n",
       " 'UHURU',\n",
       " 'UIT',\n",
       " 'VELA 5B',\n",
       " 'VERITAS',\n",
       " 'WISE',\n",
       " 'WMAP',\n",
       " 'XMM-NEWTON']"
      ]
     },
     "execution_count": 13,
     "metadata": {},
     "output_type": "execute_result"
    }
   ],
   "source": [
    "list(np.unique(missions['Mission']))"
   ]
  },
  {
   "cell_type": "code",
   "execution_count": 14,
   "id": "871bf255-3ffa-4623-b620-9adc90c951d0",
   "metadata": {},
   "outputs": [
    {
     "data": {
      "text/plain": [
       "(1184, 1185)"
      ]
     },
     "execution_count": 14,
     "metadata": {},
     "output_type": "execute_result"
    }
   ],
   "source": [
    "np.sum(missions['in_tap']), len(missions)"
   ]
  },
  {
   "cell_type": "code",
   "execution_count": 15,
   "id": "8890a1fc-0ea8-4133-891c-74b0a260f498",
   "metadata": {},
   "outputs": [
    {
     "data": {
      "text/html": [
       "<div><i>Table length=1</i>\n",
       "<table id=\"table140141980668304\" class=\"table-striped table-bordered table-condensed\">\n",
       "<thead><tr><th>Mission</th><th>Table</th><th>Table Description</th><th>in_tap</th></tr></thead>\n",
       "<thead><tr><th>str16</th><th>str12</th><th>str80</th><th>bool</th></tr></thead>\n",
       "<tr><td>RADIO CATALOG</td><td>first</td><td>Faint Images of the Radio Sky at Twenty cm (FIRST)</td><td>False</td></tr>\n",
       "</table></div>"
      ],
      "text/plain": [
       "<Table length=1>\n",
       "   Mission    Table                 Table Description                  in_tap\n",
       "    str16     str12                       str80                         bool \n",
       "------------- ----- -------------------------------------------------- ------\n",
       "RADIO CATALOG first Faint Images of the Radio Sky at Twenty cm (FIRST)  False"
      ]
     },
     "execution_count": 15,
     "metadata": {},
     "output_type": "execute_result"
    }
   ],
   "source": [
    "missions[~missions['in_tap']]"
   ]
  },
  {
   "cell_type": "markdown",
   "id": "c46bb81c-b5c7-4f98-944f-a612b759fadc",
   "metadata": {},
   "source": [
    "Weird!  But ok that means we are fine for the others"
   ]
  },
  {
   "cell_type": "markdown",
   "id": "01d4d076-e3a9-438e-9b8b-d331f3b9b18f",
   "metadata": {},
   "source": [
    "188 < 200 , so some are missing from the list above proving the problem."
   ]
  },
  {
   "cell_type": "markdown",
   "id": "8d959ae2-0c20-4364-8ca1-5cc869d51c32",
   "metadata": {},
   "source": [
    "# Download all the source matches"
   ]
  },
  {
   "cell_type": "markdown",
   "id": "5dce3354-9669-439e-93c9-7b3ecf92e812",
   "metadata": {},
   "source": [
    "Chandra has *arcsec* resolution, but I'm not confident I understand enough about extended source catalogs to know how to interpret that for something as sensitive as Chandra.  So we'll just choose 2 arcmin as a not-crazy scale to be conservative about"
   ]
  },
  {
   "cell_type": "code",
   "execution_count": 16,
   "id": "4976348b-108a-461c-a4a7-4562fe533fa6",
   "metadata": {},
   "outputs": [
    {
     "data": {
      "text/html": [
       "<div><i>Table length=200</i>\n",
       "<table id=\"table140141979148560\" class=\"table-striped table-bordered table-condensed\">\n",
       "<thead><tr><th>Mission</th><th>Table</th><th>Table Description</th><th>in_tap</th></tr></thead>\n",
       "<thead><tr><th>str16</th><th>str12</th><th>str80</th><th>bool</th></tr></thead>\n",
       "<tr><td>CHANDRA</td><td>acceptcat</td><td>Archive of Chandra Cluster Entropy Profile Tables (ACCEPT) Catalog</td><td>True</td></tr>\n",
       "<tr><td>CHANDRA</td><td>aegisx</td><td>AEGIS-X Chandra Extended Groth Strip X-Ray Point Source Catalog</td><td>True</td></tr>\n",
       "<tr><td>CHANDRA</td><td>aegisxdcxo</td><td>AEGIS-X Deep Survey Chandra X-Ray Point Source Catalog</td><td>True</td></tr>\n",
       "<tr><td>CHANDRA</td><td>aknepdfcxo</td><td>Akari North Ecliptic Pole Deep Field Chandra X-Ray Point Source Catalog</td><td>True</td></tr>\n",
       "<tr><td>CHANDRA</td><td>arcquincxo</td><td>Arches and Quintuplet Clusters Chandra X-Ray Point Source Catalog</td><td>True</td></tr>\n",
       "<tr><td>CHANDRA</td><td>bmwchancat</td><td>Brera Multi-scale Wavelet Chandra Source Catalog</td><td>True</td></tr>\n",
       "<tr><td>...</td><td>...</td><td>...</td><td>...</td></tr>\n",
       "<tr><td>CHANDRA</td><td>vlulxcat</td><td>Extremely Luminous X-Ray Source Candidates Catalog</td><td>True</td></tr>\n",
       "<tr><td>CHANDRA</td><td>w40sfrcxo</td><td>W 40 Star-Forming Region Chandra X-Ray Point Source Catalog</td><td>True</td></tr>\n",
       "<tr><td>CHANDRA</td><td>wd1cxo</td><td>Westerlund 1 Chandra X-Ray Point Source Catalog</td><td>True</td></tr>\n",
       "<tr><td>CHANDRA</td><td>xbootes</td><td>XBOOTES: NDWFS Bootes Field X-Ray Point Source Catalog</td><td>True</td></tr>\n",
       "<tr><td>CHANDRA</td><td>xbootesoid</td><td>XBOOTES: NDWFS Bootes Field Optical &amp; Near IR Counterparts</td><td>True</td></tr>\n",
       "<tr><td>CHANDRA</td><td>xdeep2</td><td>DEEP2 Galaxy Redshift Survey Fields Chandra Point Source Catalog</td><td>True</td></tr>\n",
       "<tr><td>CHANDRA</td><td>xshzagncxo</td><td>X-Ray Selected High-z AGN Catalog</td><td>True</td></tr>\n",
       "</table></div>"
      ],
      "text/plain": [
       "<Table length=200>\n",
       "Mission   Table    ... in_tap\n",
       " str16    str12    ...  bool \n",
       "------- ---------- ... ------\n",
       "CHANDRA  acceptcat ...   True\n",
       "CHANDRA     aegisx ...   True\n",
       "CHANDRA aegisxdcxo ...   True\n",
       "CHANDRA aknepdfcxo ...   True\n",
       "CHANDRA arcquincxo ...   True\n",
       "CHANDRA bmwchancat ...   True\n",
       "    ...        ... ...    ...\n",
       "CHANDRA   vlulxcat ...   True\n",
       "CHANDRA  w40sfrcxo ...   True\n",
       "CHANDRA     wd1cxo ...   True\n",
       "CHANDRA    xbootes ...   True\n",
       "CHANDRA xbootesoid ...   True\n",
       "CHANDRA     xdeep2 ...   True\n",
       "CHANDRA xshzagncxo ...   True"
      ]
     },
     "execution_count": 16,
     "metadata": {},
     "output_type": "execute_result"
    }
   ],
   "source": [
    "chandra_tables = missions[(missions['Mission']=='CHANDRA') & (np.char.count(missions['Table'], 'master')==0)]\n",
    "chandra_tables"
   ]
  },
  {
   "cell_type": "code",
   "execution_count": 17,
   "id": "5a3d9d2d-adb4-4d13-bd02-e349cb0ab433",
   "metadata": {},
   "outputs": [
    {
     "name": "stdout",
     "output_type": "stream",
     "text": [
      "loading existing data from heasarc_chandra_matches.pickle\n"
     ]
    }
   ],
   "source": [
    "rad = 2*u.arcmin\n",
    "pth = Path('heasarc_chandra_matches.pickle')\n",
    "\n",
    "if pth.exists():\n",
    "    print(f'loading existing data from {pth}')\n",
    "    with pth.open('rb') as f:\n",
    "        matches = load(f)\n",
    "else:\n",
    "    matches = {}\n",
    "    for tab in tqdm(chandra_tables['Table']):\n",
    "        try:\n",
    "            matches[tab] = get_matches_for_catalog(hosts, rad, tab)\n",
    "        except pyvo.DALQueryError as e:\n",
    "            print(f'errored on tab {tab}')\n",
    "            matches[tab] = e\n",
    "    \n",
    "    print(f'writing to {pth}')\n",
    "    with pth.open('wb') as f:\n",
    "        dump(matches, f)\n",
    "    \n",
    "chandra_matches = matches"
   ]
  },
  {
   "cell_type": "code",
   "execution_count": 18,
   "id": "59cf2ff0-76e1-4017-a2b4-164097f7b70e",
   "metadata": {},
   "outputs": [
    {
     "data": {
      "text/plain": [
       "DALQueryError: Error[s] detected in query preprocessing"
      ]
     },
     "execution_count": 18,
     "metadata": {},
     "output_type": "execute_result"
    }
   ],
   "source": [
    "chandra_matches['m31phatsfh']"
   ]
  },
  {
   "cell_type": "code",
   "execution_count": 19,
   "id": "f42439f2-b0be-4b8c-817f-78e702a86fb6",
   "metadata": {},
   "outputs": [],
   "source": [
    "chandra_matches = {k:v for k,v in chandra_matches.items() if k!='m31phatsfh'}"
   ]
  },
  {
   "cell_type": "markdown",
   "id": "ca500b3d-d6be-4ae5-b183-34cc74a0bffe",
   "metadata": {},
   "source": [
    "Xmm-newton claims ~arcsec as a resolution.  But take the same approach as Chandra for safety"
   ]
  },
  {
   "cell_type": "code",
   "execution_count": 20,
   "id": "8672b2b6-eab5-4d2b-b902-232bf7875278",
   "metadata": {},
   "outputs": [
    {
     "data": {
      "text/html": [
       "<div><i>Table length=103</i>\n",
       "<table id=\"table140141976626512\" class=\"table-striped table-bordered table-condensed\">\n",
       "<thead><tr><th>Mission</th><th>Table</th><th>Table Description</th><th>in_tap</th></tr></thead>\n",
       "<thead><tr><th>str16</th><th>str12</th><th>str80</th><th>bool</th></tr></thead>\n",
       "<tr><td>XMM-NEWTON</td><td>agnsdssxm2</td><td>Sloan Digital Sky Survey/XMM-Newton Type1 AGN X-Ray and Radio Properties Catalog</td><td>True</td></tr>\n",
       "<tr><td>XMM-NEWTON</td><td>agnsdssxmm</td><td>Sloan Digital Sky Survey/XMM-Newton AGN Spectral Properties Catalog</td><td>True</td></tr>\n",
       "<tr><td>XMM-NEWTON</td><td>alfperxmm</td><td>Alpha Per Open Cluster XMM-Newton X-Ray Source Catalog</td><td>True</td></tr>\n",
       "<tr><td>XMM-NEWTON</td><td>axis</td><td>AXIS XMM-Newton Source Catalog</td><td>True</td></tr>\n",
       "<tr><td>XMM-NEWTON</td><td>caixa</td><td>Catalog of AGN in the XMM-Newton Archive</td><td>True</td></tr>\n",
       "<tr><td>XMM-NEWTON</td><td>carinaxmm</td><td>Carina OB1 Association XMM-Newton X-Ray Point Source Catalog</td><td>True</td></tr>\n",
       "<tr><td>...</td><td>...</td><td>...</td><td>...</td></tr>\n",
       "<tr><td>XMM-NEWTON</td><td>xmmstack</td><td>XMM-Newton Serendipitous Source Catalog from Stacked Observations (4XMM-DR13s)</td><td>True</td></tr>\n",
       "<tr><td>XMM-NEWTON</td><td>xmmstackob</td><td>XMM-Newton Serendipitous Source Catalog from Stacked Observations: Obs. Data</td><td>True</td></tr>\n",
       "<tr><td>XMM-NEWTON</td><td>xmmt2flare</td><td>2XMM Flares Detected from Tycho-2 Stars</td><td>True</td></tr>\n",
       "<tr><td>XMM-NEWTON</td><td>xmmvaragn</td><td>Ensemble X-Ray Variability of AGN in 2XMMi-DR3</td><td>True</td></tr>\n",
       "<tr><td>XMM-NEWTON</td><td>xmmxassist</td><td>XMM-Newton XAssist Source List</td><td>True</td></tr>\n",
       "<tr><td>XMM-NEWTON</td><td>xms</td><td>XMM-Newton Medium Sensitivity Survey (XMS) Source Catalog</td><td>True</td></tr>\n",
       "<tr><td>XMM-NEWTON</td><td>xwas</td><td>XMM-Newton Wide Angle Survey</td><td>True</td></tr>\n",
       "</table></div>"
      ],
      "text/plain": [
       "<Table length=103>\n",
       " Mission     Table    ... in_tap\n",
       "  str16      str12    ...  bool \n",
       "---------- ---------- ... ------\n",
       "XMM-NEWTON agnsdssxm2 ...   True\n",
       "XMM-NEWTON agnsdssxmm ...   True\n",
       "XMM-NEWTON  alfperxmm ...   True\n",
       "XMM-NEWTON       axis ...   True\n",
       "XMM-NEWTON      caixa ...   True\n",
       "XMM-NEWTON  carinaxmm ...   True\n",
       "       ...        ... ...    ...\n",
       "XMM-NEWTON   xmmstack ...   True\n",
       "XMM-NEWTON xmmstackob ...   True\n",
       "XMM-NEWTON xmmt2flare ...   True\n",
       "XMM-NEWTON  xmmvaragn ...   True\n",
       "XMM-NEWTON xmmxassist ...   True\n",
       "XMM-NEWTON        xms ...   True\n",
       "XMM-NEWTON       xwas ...   True"
      ]
     },
     "execution_count": 20,
     "metadata": {},
     "output_type": "execute_result"
    }
   ],
   "source": [
    "xmmn_tables = missions[(missions['Mission']=='XMM-NEWTON') & (np.char.count(missions['Table'], 'master')==0)]\n",
    "xmmn_tables"
   ]
  },
  {
   "cell_type": "code",
   "execution_count": 22,
   "id": "3c72aed2-1a47-4cdc-b8d5-ea4490994c8d",
   "metadata": {},
   "outputs": [
    {
     "data": {
      "application/vnd.jupyter.widget-view+json": {
       "model_id": "6f2bef0905d24c6d961ec847919db3b0",
       "version_major": 2,
       "version_minor": 0
      },
      "text/plain": [
       "  0%|          | 0/103 [00:00<?, ?it/s]"
      ]
     },
     "metadata": {},
     "output_type": "display_data"
    },
    {
     "name": "stdout",
     "output_type": "stream",
     "text": [
      "writing to heasarc_xmmnewton_matches.pickle\n"
     ]
    }
   ],
   "source": [
    "rad = 2*u.arcmin\n",
    "pth = Path('heasarc_xmmnewton_matches.pickle')\n",
    "\n",
    "if pth.exists():\n",
    "    print(f'loading existing data from {pth}')\n",
    "    with pth.open('rb') as f:\n",
    "        matches = load(f)\n",
    "else:\n",
    "    matches = {}\n",
    "    for tab in tqdm(xmmn_tables['Table']):\n",
    "        try:\n",
    "            matches[tab] = get_matches_for_catalog(hosts, rad, tab)\n",
    "        except pyvo.DALQueryError as e:\n",
    "            print(f'errored on tab {tab}')\n",
    "            matches[tab] = e\n",
    "    \n",
    "    print(f'writing to {pth}')\n",
    "    with pth.open('wb') as f:\n",
    "        dump(matches, f)\n",
    "    \n",
    "xmmn_matches = matches"
   ]
  },
  {
   "cell_type": "markdown",
   "id": "e2bbd07d-08ea-4587-afd1-f5d9c8c4b86f",
   "metadata": {},
   "source": [
    "ROSAT PSPC instrument claims 25\" at 1 kev (https://heasarc.gsfc.nasa.gov/docs/rosat/pspc.html), so we will take 1 arcmin to be a match, since probably only Point Source are bright enough for rosat"
   ]
  },
  {
   "cell_type": "code",
   "execution_count": 23,
   "id": "15ce0645-e2e6-41b2-80a3-d95c40b13734",
   "metadata": {},
   "outputs": [
    {
     "data": {
      "text/html": [
       "<div><i>Table length=84</i>\n",
       "<table id=\"table140141828314704\" class=\"table-striped table-bordered table-condensed\">\n",
       "<thead><tr><th>Mission</th><th>Table</th><th>Table Description</th><th>in_tap</th></tr></thead>\n",
       "<thead><tr><th>str16</th><th>str12</th><th>str80</th><th>bool</th></tr></thead>\n",
       "<tr><td>ROSAT</td><td>bhrfscid</td><td>Byurakan/Hamburg/ROSAT Catalog of Optical IDs</td><td>True</td></tr>\n",
       "<tr><td>ROSAT</td><td>bmwhricat</td><td>Brera Multi-scale Wavelet ROSAT HRI Source Catalog</td><td>True</td></tr>\n",
       "<tr><td>ROSAT</td><td>chasfrxray</td><td>ROSAT All-Sky Survey: Chamaeleon Star Forming Region Study</td><td>True</td></tr>\n",
       "<tr><td>ROSAT</td><td>cmar1xray</td><td>ROSAT PSPC Catalog of Canis Major R1 X-Ray Sources</td><td>True</td></tr>\n",
       "<tr><td>ROSAT</td><td>dxrbs</td><td>ROSAT Deep X-Ray Radio Blazar Survey Catalog</td><td>True</td></tr>\n",
       "<tr><td>ROSAT</td><td>etgalxray</td><td>Early-Type Galaxies X-Ray Luminosities Catalog</td><td>True</td></tr>\n",
       "<tr><td>...</td><td>...</td><td>...</td><td>...</td></tr>\n",
       "<tr><td>ROSAT</td><td>smcrosxry2</td><td>ROSAT PSPC Catalog of SMC X-Ray Sources (Haberl et al.)</td><td>True</td></tr>\n",
       "<tr><td>ROSAT</td><td>spidersros</td><td>SDSS-IV/SPIDERS ROSAT-Based X-Ray Point Source Spectroscopic Catalog</td><td>True</td></tr>\n",
       "<tr><td>ROSAT</td><td>w2ragncat</td><td>WISE/2MASS/RASS (W2R) AGN Sample Catalog</td><td>True</td></tr>\n",
       "<tr><td>ROSAT</td><td>warps</td><td>Wide Angle ROSAT Pointed Survey, First Phase (WARPS-I)</td><td>True</td></tr>\n",
       "<tr><td>ROSAT</td><td>warps2</td><td>Wide Angle ROSAT Pointed Survey, Second Phase (WARPS-II) Clusters Catalog</td><td>True</td></tr>\n",
       "<tr><td>ROSAT</td><td>wfcpoint</td><td>ROSAT Archival WFC EUV Data</td><td>True</td></tr>\n",
       "<tr><td>ROSAT</td><td>wgacat</td><td>ROSAT Catalog PSPC WGA Sources</td><td>True</td></tr>\n",
       "</table></div>"
      ],
      "text/plain": [
       "<Table length=84>\n",
       "Mission   Table    ... in_tap\n",
       " str16    str12    ...  bool \n",
       "------- ---------- ... ------\n",
       "  ROSAT   bhrfscid ...   True\n",
       "  ROSAT  bmwhricat ...   True\n",
       "  ROSAT chasfrxray ...   True\n",
       "  ROSAT  cmar1xray ...   True\n",
       "  ROSAT      dxrbs ...   True\n",
       "  ROSAT  etgalxray ...   True\n",
       "    ...        ... ...    ...\n",
       "  ROSAT smcrosxry2 ...   True\n",
       "  ROSAT spidersros ...   True\n",
       "  ROSAT  w2ragncat ...   True\n",
       "  ROSAT      warps ...   True\n",
       "  ROSAT     warps2 ...   True\n",
       "  ROSAT   wfcpoint ...   True\n",
       "  ROSAT     wgacat ...   True"
      ]
     },
     "execution_count": 23,
     "metadata": {},
     "output_type": "execute_result"
    }
   ],
   "source": [
    "rosat_tables = missions[(missions['Mission']=='ROSAT') & (np.char.count(missions['Table'], 'master')==0)]\n",
    "rosat_tables"
   ]
  },
  {
   "cell_type": "code",
   "execution_count": 24,
   "id": "ec261934-16ac-4e7e-8d4c-b9a15c3cf20b",
   "metadata": {},
   "outputs": [
    {
     "data": {
      "application/vnd.jupyter.widget-view+json": {
       "model_id": "1a3c56cb279648af9e9285f631428f6d",
       "version_major": 2,
       "version_minor": 0
      },
      "text/plain": [
       "  0%|          | 0/84 [00:00<?, ?it/s]"
      ]
     },
     "metadata": {},
     "output_type": "display_data"
    },
    {
     "name": "stdout",
     "output_type": "stream",
     "text": [
      "errored on tab rosprspec\n",
      "writing to heasarc_rosat_matches.pickle\n"
     ]
    }
   ],
   "source": [
    "rad = 1*u.arcmin\n",
    "pth = Path('heasarc_rosat_matches.pickle')\n",
    "\n",
    "if pth.exists():\n",
    "    print(f'loading existing data from {pth}')\n",
    "    with pth.open('rb') as f:\n",
    "        matches = load(f)\n",
    "else:\n",
    "    matches = {}\n",
    "    for tab in tqdm(rosat_tables['Table']):\n",
    "        try:\n",
    "            matches[tab] = get_matches_for_catalog(hosts, rad, tab)\n",
    "        except pyvo.DALQueryError as e:\n",
    "            print(f'errored on tab {tab}')\n",
    "            matches[tab] = e\n",
    "    \n",
    "    print(f'writing to {pth}')\n",
    "    with pth.open('wb') as f:\n",
    "        dump(matches, f)\n",
    "    \n",
    "rosat_matches = matches"
   ]
  },
  {
   "cell_type": "code",
   "execution_count": 29,
   "id": "287c8c93-aa3d-4d61-881c-b32f5f5e18cf",
   "metadata": {},
   "outputs": [
    {
     "data": {
      "text/plain": [
       "DALQueryError: Error[s] detected in query preprocessing"
      ]
     },
     "execution_count": 29,
     "metadata": {},
     "output_type": "execute_result"
    }
   ],
   "source": [
    "rosat_matches['rosprspec']"
   ]
  },
  {
   "cell_type": "code",
   "execution_count": 30,
   "id": "525c38de-99c8-485f-85b1-5092382c0fec",
   "metadata": {},
   "outputs": [],
   "source": [
    "rosat_matches = {k:v for k,v in rosat_matches.items() if k!='rosprspec'}"
   ]
  },
  {
   "cell_type": "markdown",
   "id": "09898f2c-99e8-4dff-8eb1-51d0a71839b0",
   "metadata": {},
   "source": [
    "# Tabulate stuff"
   ]
  },
  {
   "cell_type": "code",
   "execution_count": 50,
   "id": "cd4001f3-f6d0-4ec3-b2af-bfdb14475ac2",
   "metadata": {},
   "outputs": [
    {
     "data": {
      "text/plain": [
       "{'bmwhricat': (6, 'Brera Multi-scale Wavelet ROSAT HRI Source Catalog'),\n",
       " 'etgalxray': (31, 'Early-Type Galaxies X-Ray Luminosities Catalog'),\n",
       " 'hrasscat': (2, 'Hamburg/RASS Catalog: X-Ray Sources'),\n",
       " 'hrassoptid': (3, 'Hamburg/RASS Catalog: Optical Identifications'),\n",
       " 'nwayawgros': (13,\n",
       "  'AllWISE Counterparts and Gaia Matches to ROSAT/2RXS X-Ray Source'),\n",
       " 'qorgcat': (151, 'All-Sky Optical Catalog of Radio/X-Ray Sources'),\n",
       " 'rass2mass': (3,\n",
       "  'ROSAT All-Sky Survey BSC/2MASS PSC Cross-Associations XID II Cat'),\n",
       " 'rass2rxs': (13, 'Second ROSAT All-Sky Survey Point Source Catalog (2RXS)'),\n",
       " 'rass6dfgs': (1,\n",
       "  'ROSAT All-Sky Survey/6dF Galaxy Survey Catalog of X-Ray Selected'),\n",
       " 'rassbsc': (3, 'ROSAT All-Sky Survey: Bright Sources'),\n",
       " 'rassbscpgc': (3,\n",
       "  'ROSAT All-Sky Survey Bright Source Catalog/Catalog of Principal'),\n",
       " 'rassdssagn': (1,\n",
       "  'ROSAT All-Sky Survey and SDSS DR5 Sample of X-Ray Emitting AGN'),\n",
       " 'rassfirst': (3, 'ROSAT All-Sky Survey Single FIRST Matches Catalog'),\n",
       " 'rassfsc': (9, 'ROSAT All-Sky Survey: Faint Sources'),\n",
       " 'rassusnoid': (2,\n",
       "  'ROSAT All-Sky Survey Bright Source Catalog USNO A2 Cross-Associa'),\n",
       " 'rbscnvss': (2, 'ROSAT All-Sky Survey/NVSS Bright X-Ray Source Sample'),\n",
       " 'rosatlog': (97, 'ROSAT Observation Log'),\n",
       " 'roshri': (5, 'ROSAT Results Archive Sources for the HRI'),\n",
       " 'roshritotal': (38, 'ROSAT Complete Results Archive Sources for the HRI'),\n",
       " 'rospspc': (16, 'ROSAT Results Archive Sources for the PSPC'),\n",
       " 'rospspctotal': (18, 'ROSAT Complete Results Archive Sources for the PSPC'),\n",
       " 'roxa': (1, 'ROXA (Radio-Optical-X-ray at ASDC) Blazars Catalog'),\n",
       " 'spidersros': (2,\n",
       "  'SDSS-IV/SPIDERS ROSAT-Based X-Ray Point Source Spectroscopic Cat'),\n",
       " 'wfcpoint': (8, 'ROSAT Archival WFC EUV Data'),\n",
       " 'wgacat': (21, 'ROSAT Catalog PSPC WGA Sources')}"
      ]
     },
     "execution_count": 50,
     "metadata": {},
     "output_type": "execute_result"
    }
   ],
   "source": [
    "{k:(len(v), tables_dct[k].description) for k,v in rosat_matches.items() if len(v) > 0}"
   ]
  },
  {
   "cell_type": "markdown",
   "id": "62e884cb-0c38-432b-9557-dd457a5dd755",
   "metadata": {},
   "source": [
    "A lot of the ROSAT ones are actually *other* catalogs cross-matched, or some ancillary data set, so lets drop those:"
   ]
  },
  {
   "cell_type": "code",
   "execution_count": 57,
   "id": "6df5e559-5ce4-452d-920b-b532d846f2ee",
   "metadata": {},
   "outputs": [],
   "source": [
    "rosat_matches = {k:v for k,v in rosat_matches.items() if k not in 'hrassoptid,nwayawgros,rass6dfgs,rassusnoid,rosatlog,spidersros,wfcpoint'.split(',')}"
   ]
  },
  {
   "cell_type": "markdown",
   "id": "a428e23f-5ec7-4a6f-8ec8-5d8e0a6baf38",
   "metadata": {},
   "source": [
    "Some of those are >300!  It must be that some hosts have multiple matches.  Lets instead populate the host table"
   ]
  },
  {
   "cell_type": "code",
   "execution_count": 48,
   "id": "c51e9c46-fe4c-4361-a46b-8025355c7901",
   "metadata": {},
   "outputs": [
    {
     "data": {
      "text/plain": [
       "{'chansngcat': (33, 'Chandra ACIS Survey for X-Ray AGN in Nearby Galaxies'),\n",
       " 'chngpscliu': (191,\n",
       "  'Chandra ACIS Survey of Nearby Galaxies X-Ray Point Source Catalo'),\n",
       " 'csc': (477, 'Chandra Source Catalog, v2.0'),\n",
       " 'cxogsgsrc': (371, 'Chandra ACIS GSG Point-Like X-Ray Source Catalog'),\n",
       " 'cxoxassist': (513, 'Chandra XAssist Source List'),\n",
       " 'hcgxrbs': (1, 'X-Ray Observations of Compact Group Galaxies'),\n",
       " 'sdsss82cxo': (1,\n",
       "  'Sloan Digital Sky Survey Stripe 82 Chandra Source Match Catalog'),\n",
       " 'selhcgcxo': (44,\n",
       "  'Selected Hickson Compact Groups Chandra X-Ray Point Source Catal'),\n",
       " 'sfgalhmxb': (15, 'Star-Forming Galaxies High-Mass X-Ray Binaries Catalog')}"
      ]
     },
     "execution_count": 48,
     "metadata": {},
     "output_type": "execute_result"
    }
   ],
   "source": [
    "{k:(len(v), tables_dct[k].description) for k,v in chandra_matches.items() if len(v) > 0}"
   ]
  },
  {
   "cell_type": "markdown",
   "id": "521adf0c-b21e-49ad-9dda-0ee2e5d6d9e9",
   "metadata": {},
   "source": [
    "Same deal with chandra where not all these are actual chandra data:"
   ]
  },
  {
   "cell_type": "code",
   "execution_count": 59,
   "id": "48e58beb-70ae-4ecc-b756-4c3edd14502d",
   "metadata": {},
   "outputs": [],
   "source": [
    "chandra_matches = {k:v for k,v in chandra_matches.items() if k not in 'cxoxassist,sdsss82cxo,sfgalhmxb'.split(',')}"
   ]
  },
  {
   "cell_type": "code",
   "execution_count": 49,
   "id": "733c521a-b59d-407f-896a-920f2bbb7fba",
   "metadata": {},
   "outputs": [
    {
     "data": {
      "text/plain": [
       "{'caixa': (1, 'Catalog of AGN in the XMM-Newton Archive'),\n",
       " 'nwayawgxmm': (3,\n",
       "  'AllWISE Counterparts and Gaia Matches to XMM-Newton Slew Survey'),\n",
       " 'spidersxmm': (3,\n",
       "  'SDSS-IV/SPIDERS XMM-Based X-Ray Point Source Spectroscopic Catal'),\n",
       " 'xmmao': (45, 'XMM-Newton Accepted Targets'),\n",
       " 'xmmlss10ks': (5,\n",
       "  'XMM-Newton Large-Scale Structure Uniform 10-ksec Exposure X-Ray'),\n",
       " 'xmmlssclas': (3,\n",
       "  'XMM-Newton Large-Scale Structure Optical Counterparts and Redshi'),\n",
       " 'xmmlssdeep': (6,\n",
       "  'XMM-Newton Large-Scale Structure Deep Full-Exposure X-Ray Source'),\n",
       " 'xmmomcat': (867, 'XMM-Newton OM Object Catalog'),\n",
       " 'xmmomsuob': (52,\n",
       "  'XMM-Newton Optical Monitor SUSS Catalog, v6.1: Observation IDs'),\n",
       " 'xmmomsuss': (1762,\n",
       "  'XMM-Newton Optical Monitor Serendipitous UV Source Survey Catalo'),\n",
       " 'xmmslewcln': (6, 'XMM-Newton Slew Survey Clean Source Catalog, v2.0'),\n",
       " 'xmmslewegs': (1, 'XMM-Newton Slew Survey Extragalactic Sample'),\n",
       " 'xmmslewful': (11, 'XMM-Newton Slew Survey Full Source Catalog, v2.0'),\n",
       " 'xmmssc': (255,\n",
       "  'XMM-Newton Serendipitous Source Catalog (4XMM-DR13 Version)'),\n",
       " 'xmmssclwbd': (7, 'XMM-Newton 2XMMi-DR3 Selected Source Detections Catalog'),\n",
       " 'xmmssclwbs': (2,\n",
       "  'XMM-Newton 2XMMi-DR3 Selected Source Classifications Catalog'),\n",
       " 'xmmstack': (77,\n",
       "  'XMM-Newton Serendipitous Source Catalog from Stacked Observation'),\n",
       " 'xmmstackob': (352,\n",
       "  'XMM-Newton Serendipitous Source Catalog from Stacked Observation'),\n",
       " 'xmmxassist': (235, 'XMM-Newton XAssist Source List')}"
      ]
     },
     "execution_count": 49,
     "metadata": {},
     "output_type": "execute_result"
    }
   ],
   "source": [
    "{k:(len(v), tables_dct[k].description) for k,v in xmmn_matches.items() if len(v) > 0}"
   ]
  },
  {
   "cell_type": "markdown",
   "id": "867041fc-7314-46b9-b6fe-49fbcb368733",
   "metadata": {},
   "source": [
    "Same deal with xmm-newton where not all these are actual xray data:"
   ]
  },
  {
   "cell_type": "code",
   "execution_count": 63,
   "id": "ea2f4827-948a-45ef-9c52-1b0c4c721653",
   "metadata": {},
   "outputs": [],
   "source": [
    "xmmn_matches = {k:v for k,v in xmmn_matches.items() if k not in 'nwayawgxmm,spidersxmm,xmmao,xmmlssclas,xmmomcat,xmmomsuob,xmmomsuss,xmmxassist'.split(',')}"
   ]
  },
  {
   "cell_type": "markdown",
   "id": "49590e43-ba45-41af-8a01-8b7fbd8b624a",
   "metadata": {},
   "source": [
    "Note though that some are >300.  Must be multiple matches per host.  Lets clean this up to get an \"any x-ray-detection\" set"
   ]
  },
  {
   "cell_type": "code",
   "execution_count": 64,
   "id": "efd180be-d07f-44d9-872f-bf7b19bf5c89",
   "metadata": {},
   "outputs": [
    {
     "name": "stdout",
     "output_type": "stream",
     "text": [
      "src_in_chandra 40 0.13333333333333333\n",
      "src_in_xmmn 43 0.14333333333333334\n",
      "src_in_rosat 164 0.5466666666666666\n"
     ]
    }
   ],
   "source": [
    "for missionnm in ['chandra', 'xmmn', 'rosat']:\n",
    "    matches = globals()[f'{missionnm}_matches']\n",
    "    colnm = f'src_in_{missionnm}'\n",
    "    hosts[colnm] = np.zeros(len(hosts), dtype=bool)\n",
    "    for tabnm, tab in matches.items():\n",
    "        for hostid in np.unique(tab['hostid']):\n",
    "            hosts[colnm][hosts['HOSTID'] == hostid] = True\n",
    "    print(colnm, np.sum(hosts[colnm]), np.sum(hosts[colnm])/len(hosts))"
   ]
  },
  {
   "cell_type": "code",
   "execution_count": 65,
   "id": "4bcd19a5-fcce-42a3-837c-ec682f98c8ae",
   "metadata": {},
   "outputs": [
    {
     "name": "stdout",
     "output_type": "stream",
     "text": [
      "in_xmmmaster 38 0.12666666666666668\n",
      "in_chanmaster 60 0.2\n",
      "in_rosmaster 240 0.8\n",
      "in_rassmaster 167 0.5566666666666666\n"
     ]
    }
   ],
   "source": [
    "for tabnm, tab in master_matches.items():\n",
    "    colnm = f'in_{tabnm}'\n",
    "    hosts[colnm] = np.zeros(len(hosts), dtype=bool)\n",
    "    for hostid in np.unique(tab['hostid']):\n",
    "        hosts[colnm][hosts['HOSTID'] == hostid] = True\n",
    "    print(colnm, np.sum(hosts[colnm]), np.sum(hosts[colnm])/len(hosts))"
   ]
  },
  {
   "cell_type": "markdown",
   "id": "f1a82178-5fec-4a4d-a8a8-380581e73dbd",
   "metadata": {},
   "source": [
    "Oddity: rosmaster is for the ROSAT pointed observations, while RASSMASTER is the sky survey.  Why so different?"
   ]
  },
  {
   "cell_type": "code",
   "execution_count": 69,
   "id": "572a720b-2f5b-405d-8ff8-b3069335ae14",
   "metadata": {},
   "outputs": [
    {
     "name": "stdout",
     "output_type": "stream",
     "text": [
      "209 / 300\n"
     ]
    }
   ],
   "source": [
    "print(np.sum(hosts['in_xmmmaster']|hosts['in_chanmaster']|hosts['in_rassmaster']), '/', len(hosts))"
   ]
  },
  {
   "cell_type": "code",
   "execution_count": 70,
   "id": "9d75b865-0aac-4204-a562-0c8fc2cfa909",
   "metadata": {},
   "outputs": [
    {
     "name": "stdout",
     "output_type": "stream",
     "text": [
      "177 / 209\n"
     ]
    }
   ],
   "source": [
    "print(np.sum(hosts['src_in_chandra']|hosts['src_in_xmmn']|hosts['src_in_rosat']), '/', np.sum(hosts['in_xmmmaster']|hosts['in_chanmaster']|hosts['in_rassmaster']))"
   ]
  },
  {
   "cell_type": "code",
   "execution_count": 72,
   "id": "229b52be-14f5-46e5-b90c-3fdebd580a36",
   "metadata": {},
   "outputs": [
    {
     "name": "stdout",
     "output_type": "stream",
     "text": [
      "69 / 78\n"
     ]
    }
   ],
   "source": [
    "print(np.sum(hosts['src_in_chandra']|hosts['src_in_xmmn']), '/', np.sum(hosts['in_xmmmaster']|hosts['in_chanmaster']))"
   ]
  },
  {
   "cell_type": "markdown",
   "id": "2fc0b450-fa45-4b35-a1e4-a352b68b00cd",
   "metadata": {},
   "source": [
    "# Focus on core catalogs\n",
    "\n",
    "Each of these missions has a few tables that are their main source lists.  Lets focus on those"
   ]
  },
  {
   "cell_type": "markdown",
   "id": "4ce35fbd-e571-4d7e-9ba0-2c187742e9f1",
   "metadata": {},
   "source": [
    "### Chandra source catalog"
   ]
  },
  {
   "cell_type": "code",
   "execution_count": 101,
   "id": "2cca22a3-6aaa-4862-8ddd-4f250d9dc465",
   "metadata": {},
   "outputs": [],
   "source": [
    "csc = chandra_matches['csc']\n",
    "csc_coo = SkyCoord(ra=csc['csc_ra'], dec=csc['csc_dec'])\n",
    "\n",
    "seps = []\n",
    "for coo, row in zip(csc_coo,csc):\n",
    "    hrow = hosts[row['hostid']==hosts['HOSTID']]\n",
    "    assert len(hrow)==1, len(hrow)\n",
    "    hrow = hrow[0]\n",
    "\n",
    "    seps.append(hrow['coord'].separation(coo))\n",
    "csc['seps'] = u.Quantity(seps)"
   ]
  },
  {
   "cell_type": "code",
   "execution_count": 123,
   "id": "f651211d-d3ef-4b0a-b511-83312b8cb150",
   "metadata": {},
   "outputs": [
    {
     "data": {
      "image/png": "[encoded data removed]",
      "text/plain": [
       "<Figure size 1200x500 with 3 Axes>"
      ]
     },
     "metadata": {},
     "output_type": "display_data"
    }
   ],
   "source": [
    "fig, (ax1, ax2, ax3) = plt.subplots(1, 3, figsize=(12, 5))\n",
    "ax1.hist(u.Quantity(csc['seps']).to(u.arcsec), bins=100)\n",
    "ax2.hist(u.Quantity(csc['seps']).to(u.arcsec), bins=100, range=(0*u.arcsec, 10*u.arcsec));\n",
    "ax3.hist(u.Quantity(csc['seps']).to(u.arcsec), bins=50, range=(0*u.arcsec, 2*u.arcsec));"
   ]
  },
  {
   "cell_type": "markdown",
   "id": "88459f8d-56d8-4a19-be27-38e5dbf8f912",
   "metadata": {},
   "source": [
    "Now do a by-eye inspection at https://heasarc.gsfc.nasa.gov/xamin/xamin.jsp - the below prints out coordinates, as well as a blank dictionary which is to be copied into the next cell and filled out."
   ]
  },
  {
   "cell_type": "code",
   "execution_count": 156,
   "id": "fdef29e2-a7f3-4a4b-bc88-a2bfe9f5696f",
   "metadata": {},
   "outputs": [
    {
     "name": "stdout",
     "output_type": "stream",
     "text": [
      "by_eye_checks = {\n",
      "'nsa133115': '',\n",
      "# 45.910458,-15.6138572\n",
      "'nsa135739': '',\n",
      "# 138.101577,35.0274969\n",
      "'nsa138201': '',\n",
      "# 162.817584,27.9750391\n",
      "'nsa138375': '',\n",
      "# 164.006163,57.1169763\n",
      "'nsa139121': '',\n",
      "# 169.605291,58.7862361\n",
      "'nsa140594': '',\n",
      "# 180.098356,-1.100072\n",
      "'nsa143555': '',\n",
      "# 202.547541,46.6708056\n",
      "'nsa144262': '',\n",
      "# 210.175128,55.1644509\n",
      "'nsa147606': '',\n",
      "# 255.209689,23.0110376\n",
      "'nsa150578': '',\n",
      "# 346.236102,12.3228077\n",
      "'nsa150887': '',\n",
      "# 348.682763,4.533989\n",
      "'nsa157300': '',\n",
      "# 143.025937,8.4418092\n",
      "'nsa164865': '',\n",
      "# 215.265411,3.2710116\n",
      "'nsa165153': '',\n",
      "# 218.023359,57.9214316\n",
      "'nsa67650': '',\n",
      "# 213.89202,36.226669\n",
      "'nsa94340': '',\n",
      "# 208.324161,33.4908244\n",
      "'pgc12131': '',\n",
      "# 49.0032315,-2.4273468\n",
      "'pgc12431': '',\n",
      "# 49.9627635,-26.0605611\n",
      "'pgc14084': '',\n",
      "# 58.662132,-20.5023357\n",
      "'pgc26034': '',\n",
      "# 138.521169,40.1137263\n",
      "'pgc27982': '',\n",
      "# 146.425173,-14.3263754\n",
      "'pgc42139': '',\n",
      "# 189.354291,74.1918611\n",
      "'pgc43426': '',\n",
      "# 192.530042,72.8744722\n",
      "'pgc45170': '',\n",
      "# 196.059813,-10.3395694\n",
      "'pgc47394': '',\n",
      "# 202.453191,-17.9664979\n",
      "'pgc52521': '',\n",
      "# 220.599537,-17.2530053\n",
      "'pgc61742': '',\n",
      "# 274.943166,74.5683889\n",
      "'pgc64980': '',\n",
      "# 308.585718,-31.9808826\n",
      "'pgc70094': '',\n",
      "# 344.306316,-43.3960258\n",
      "'pgc70676': '',\n",
      "# 348.031554,-28.539653\n",
      "'pgc72060': '',\n",
      "# 354.974288,-12.2927807\n",
      "'pgc8160': '',\n",
      "# 32.08803,10.9949848\n",
      "}\n"
     ]
    }
   ],
   "source": [
    "possible_match_rad = 5*u.arcsec\n",
    "\n",
    "print('by_eye_checks = {')\n",
    "for hostid in np.unique(csc[u.Quantity(csc['seps'])<possible_match_rad]['hostid']):\n",
    "    row = hosts[hosts['HOSTID']==hostid][0]\n",
    "    print(f\"'{hostid}': '',\")\n",
    "    print('# {0.ra.deg:.9},{0.dec.deg:.9}'.format(row['coord']))\n",
    "print('}')"
   ]
  },
  {
   "cell_type": "markdown",
   "id": "49f040e5-0886-4abb-9522-c5d400bda4f4",
   "metadata": {},
   "source": [
    "The options are:\n",
    "* 'a' - strong point source at glx center\n",
    "* 'y' - definitely real source at glx center\n",
    "* 'm' - possible source, but not obvious\n",
    "* 'n' - galaxy definitly not x-ray source\n",
    "* 'f' - not in footprint of heasarc viewer tool"
   ]
  },
  {
   "cell_type": "code",
   "execution_count": 175,
   "id": "0519b7c8-d131-4537-96ad-93452893b96e",
   "metadata": {},
   "outputs": [],
   "source": [
    "by_eye_checks_csc = {\n",
    "'nsa133115': 'm',\n",
    "# 45.910458,-15.6138572\n",
    "'nsa135739': 'n',\n",
    "# 138.101577,35.0274969\n",
    "'nsa138201': 'y',\n",
    "# 162.817584,27.9750391\n",
    "'nsa138375': 'f',  # theres a source in the catalog but it's not in the Xamin tool?\n",
    "# 164.006163,57.1169763\n",
    "'nsa139121': 'n',\n",
    "# 169.605291,58.7862361\n",
    "'nsa140594': 'm', # a lot of null columns, maybe an extended source?\n",
    "# 180.098356,-1.100072\n",
    "'nsa143555': 'y',  # borderline weak but something is definitiyl there\n",
    "# 202.547541,46.6708056\n",
    "'nsa144262': 'y',  # CSC and optical images off-center?\n",
    "# 210.175128,55.1644509\n",
    "'nsa147606': 'y',\n",
    "# 255.209689,23.0110376\n",
    "'nsa150578': 'y', #elongated along bar?\n",
    "# 346.236102,12.3228077\n",
    "'nsa150887': 'm',\n",
    "# 348.682763,4.533989\n",
    "'nsa157300': 'm',\n",
    "# 143.025937,8.4418092\n",
    "'nsa164865': 'y',\n",
    "# 215.265411,3.2710116\n",
    "'nsa165153': 'n',\n",
    "# 218.023359,57.9214316\n",
    "'nsa67650': 'm', #nearly edge-on - extincted?\n",
    "# 213.89202,36.226669\n",
    "'nsa94340': 'y',\n",
    "# 208.324161,33.4908244\n",
    "'pgc12131': 'm', #confusing - there are quite a few source but not p[oint-like?\n",
    "# 49.0032315,-2.4273468\n",
    "'pgc12431': 'n',\n",
    "# 49.9627635,-26.0605611\n",
    "'pgc14084': 'm',  #diffuse and maybe off-center, but definitely detection\n",
    "# 58.662132,-20.5023357\n",
    "'pgc26034': 'm',  #diffuse and off-center  but real\n",
    "# 138.521169,40.1137263\n",
    "'pgc27982': 'a',  # VERY bright point-like source - lookint it up its a well-known seyfert\n",
    "# 146.425173,-14.3263754\n",
    "'pgc42139': 'y',\n",
    "# 189.354291,74.1918611\n",
    "'pgc43426': 'y',  #point source but not especially bright\n",
    "# 192.530042,72.8744722\n",
    "'pgc45170': 'y',  # point-like but seems a bit diffuse?\n",
    "# 196.059813,-10.3395694\n",
    "'pgc47394': 'm',  #point-like but not very bright\n",
    "# 202.453191,-17.9664979\n",
    "'pgc52521': 'y',\n",
    "# 220.599537,-17.2530053\n",
    "'pgc61742': 'n',\n",
    "# 274.943166,74.5683889\n",
    "'pgc64980': 'm',  #point but not strong\n",
    "# 308.585718,-31.9808826\n",
    "'pgc70094': 'm',  # definite but rather extended emission\n",
    "# 344.306316,-43.3960258\n",
    "'pgc70676': 'm',\n",
    "# 348.031554,-28.539653\n",
    "'pgc72060': 'n',\n",
    "# 354.974288,-12.2927807\n",
    "'pgc8160': 'y',  # a central source but several others near the core as well\n",
    "# 32.08803,10.9949848\n",
    "}"
   ]
  },
  {
   "cell_type": "code",
   "execution_count": 185,
   "id": "709c5f8a-9b2a-407c-828c-079fc37009db",
   "metadata": {},
   "outputs": [],
   "source": [
    "hosts['in_csc'] = np.zeros(len(hosts), dtype=bool)\n",
    "hosts['src_in_csc'] = np.zeros(len(hosts), dtype=bool)\n",
    "for k,v in by_eye_checks_csc.items():\n",
    "    hostsmsk = hosts['HOSTID']==k\n",
    "    if v!='f':\n",
    "        hosts['in_csc'][hostsmsk] = True\n",
    "    if v=='a' or v=='y':\n",
    "        hosts['src_in_csc'][hostsmsk] = True"
   ]
  },
  {
   "cell_type": "code",
   "execution_count": 186,
   "id": "afaf998d-df34-4afd-8c3c-1241be897db6",
   "metadata": {},
   "outputs": [
    {
     "data": {
      "text/plain": [
       "(0.10333333333333333, 0.41935483870967744)"
      ]
     },
     "execution_count": 186,
     "metadata": {},
     "output_type": "execute_result"
    }
   ],
   "source": [
    "np.sum(hosts['in_csc'])/len(hosts), np.sum(hosts['src_in_csc'])/np.sum(hosts['in_csc'])"
   ]
  },
  {
   "cell_type": "markdown",
   "id": "c8d67fa6-2de2-4ad1-96cf-bfb38773cccf",
   "metadata": {},
   "source": [
    "### XMM-Newton"
   ]
  },
  {
   "cell_type": "code",
   "execution_count": 158,
   "id": "a08bc451-b708-49ee-bcb8-948d3ee6fd98",
   "metadata": {},
   "outputs": [
    {
     "data": {
      "text/plain": [
       "{'caixa': (1, 'Catalog of AGN in the XMM-Newton Archive'),\n",
       " 'xmmlss10ks': (5,\n",
       "  'XMM-Newton Large-Scale Structure Uniform 10-ksec Exposure X-Ray'),\n",
       " 'xmmlssdeep': (6,\n",
       "  'XMM-Newton Large-Scale Structure Deep Full-Exposure X-Ray Source'),\n",
       " 'xmmslewcln': (6, 'XMM-Newton Slew Survey Clean Source Catalog, v2.0'),\n",
       " 'xmmslewegs': (1, 'XMM-Newton Slew Survey Extragalactic Sample'),\n",
       " 'xmmslewful': (11, 'XMM-Newton Slew Survey Full Source Catalog, v2.0'),\n",
       " 'xmmssc': (255,\n",
       "  'XMM-Newton Serendipitous Source Catalog (4XMM-DR13 Version)'),\n",
       " 'xmmssclwbd': (7, 'XMM-Newton 2XMMi-DR3 Selected Source Detections Catalog'),\n",
       " 'xmmssclwbs': (2,\n",
       "  'XMM-Newton 2XMMi-DR3 Selected Source Classifications Catalog'),\n",
       " 'xmmstack': (77,\n",
       "  'XMM-Newton Serendipitous Source Catalog from Stacked Observation'),\n",
       " 'xmmstackob': (352,\n",
       "  'XMM-Newton Serendipitous Source Catalog from Stacked Observation')}"
      ]
     },
     "execution_count": 158,
     "metadata": {},
     "output_type": "execute_result"
    }
   ],
   "source": [
    "{k:(len(v), tables_dct[k].description) for k,v in xmmn_matches.items() if len(v) > 0}"
   ]
  },
  {
   "cell_type": "code",
   "execution_count": 159,
   "id": "ba24f658-96f3-4a81-880f-2188fda24d57",
   "metadata": {},
   "outputs": [
    {
     "data": {
      "text/html": [
       "<div><i>Table length=1</i>\n",
       "<table id=\"table140141938572496\" class=\"table-striped table-bordered table-condensed\">\n",
       "<thead><tr><th>caixa___row</th><th>caixa_name</th><th>caixa_ra</th><th>caixa_dec</th><th>caixa_lii</th><th>caixa_bii</th><th>caixa_obsid</th><th>caixa_exposure</th><th>caixa_sb_flux</th><th>caixa_sb_flux_error</th><th>caixa_hb_flux</th><th>caixa_hb_flux_error</th><th>caixa_sb_lx</th><th>caixa_sb_lx_error</th><th>caixa_hb_lx</th><th>caixa_hb_lx_error</th><th>caixa_sb_spect_index</th><th>caixa_sb_spect_index_pos_err</th><th>caixa_sb_spect_index_neg_err</th><th>caixa_hb_spect_index</th><th>caixa_hb_spect_index_pos_err</th><th>caixa_hb_spect_index_neg_err</th><th>caixa_ew_6p4_kev</th><th>caixa_ew_6p4_kev_pos_err</th><th>caixa_ew_6p4_kev_neg_err</th><th>caixa_ew_6p7_kev</th><th>caixa_ew_6p7_kev_pos_err</th><th>caixa_ew_6p7_kev_neg_err</th><th>caixa_ew_6p96_kev</th><th>caixa_ew_6p96_kev_pos_err</th><th>caixa_ew_6p96_kev_neg_err</th><th>caixa_redshift</th><th>caixa_abs_mag</th><th>caixa_flux_6_cm</th><th>caixa_flux_6_cm_flag</th><th>caixa_ref_flux_6_cm</th><th>caixa_flux_20_cm</th><th>caixa_ref_flux_20_cm</th><th>caixa_fwhm_h_beta</th><th>caixa_ref_fwhm_h_beta</th><th>caixa_log_blackhole_mass</th><th>caixa_ref_log_blackhole_mass</th><th>caixa_log_blackhole_mass_flag</th><th>caixa_vmag</th><th>caixa_bv_color</th><th>caixa___x_ra_dec</th><th>caixa___y_ra_dec</th><th>caixa___z_ra_dec</th><th>hostid</th></tr></thead>\n",
       "<thead><tr><th></th><th></th><th>deg</th><th>deg</th><th>deg</th><th>deg</th><th></th><th>s</th><th>erg/s/cm^2</th><th>erg/s/cm^2</th><th>erg/s/cm^2</th><th>erg/s/cm^2</th><th>erg / s</th><th>erg / s</th><th>erg / s</th><th>erg / s</th><th></th><th></th><th></th><th></th><th></th><th></th><th>eV</th><th>eV</th><th>eV</th><th>eV</th><th>eV</th><th>eV</th><th>eV</th><th>eV</th><th>eV</th><th></th><th>mag</th><th>mJy</th><th></th><th></th><th>mJy</th><th></th><th>km / s</th><th></th><th>Solar_Mass</th><th></th><th></th><th>mag</th><th>mag</th><th></th><th></th><th></th><th></th></tr></thead>\n",
       "<thead><tr><th>int32</th><th>object</th><th>float64</th><th>float64</th><th>float64</th><th>float64</th><th>object</th><th>float64</th><th>float64</th><th>float64</th><th>float64</th><th>float64</th><th>float64</th><th>float64</th><th>float64</th><th>float64</th><th>float64</th><th>float64</th><th>float64</th><th>float64</th><th>float64</th><th>float64</th><th>int16</th><th>int16</th><th>int16</th><th>int16</th><th>int16</th><th>int16</th><th>int16</th><th>int16</th><th>int16</th><th>float64</th><th>float64</th><th>float64</th><th>object</th><th>object</th><th>float64</th><th>object</th><th>int32</th><th>object</th><th>float64</th><th>object</th><th>object</th><th>float64</th><th>float64</th><th>float64</th><th>float64</th><th>float64</th><th>object</th></tr></thead>\n",
       "<tr><td>154</td><td>NGC 3516</td><td>166.69788</td><td>72.568580</td><td>133.23567</td><td>42.40282</td><td>0107460701</td><td>87400</td><td>2.4e-12</td><td>5e-14</td><td>1.55e-11</td><td>9e-14</td><td>4.59e+41</td><td>1e+40</td><td>2.89e+42</td><td>2e+40</td><td>5.240</td><td>0.130</td><td>0.080</td><td>0.887</td><td>0.008</td><td>0.008</td><td>244</td><td>10</td><td>10</td><td>45</td><td>8</td><td>8</td><td>27</td><td>7</td><td>10</td><td>0.0088</td><td>-20.5</td><td>15.00</td><td></td><td>1</td><td>27.0</td><td>1</td><td>4770</td><td>i</td><td>7.36</td><td>A</td><td>r</td><td>12.40</td><td>0.72</td><td>0.0689254145594522</td><td>-0.291526840688724</td><td>0.954076196320744</td><td>pgc33623</td></tr>\n",
       "</table></div>"
      ],
      "text/plain": [
       "<Table length=1>\n",
       "caixa___row caixa_name  caixa_ra ...  caixa___z_ra_dec  hostid \n",
       "                          deg    ...                           \n",
       "   int32      object    float64  ...      float64       object \n",
       "----------- ---------- --------- ... ----------------- --------\n",
       "        154   NGC 3516 166.69788 ... 0.954076196320744 pgc33623"
      ]
     },
     "execution_count": 159,
     "metadata": {},
     "output_type": "execute_result"
    }
   ],
   "source": [
    "xmmn_matches['caixa']"
   ]
  },
  {
   "cell_type": "markdown",
   "id": "585ac288-5bac-48c1-88ad-33c8ecbd5d21",
   "metadata": {},
   "source": [
    "that one is NGC 3516 - one of the original Seyfert Seyferts"
   ]
  },
  {
   "cell_type": "code",
   "execution_count": 161,
   "id": "4a1fa49d-ed55-4287-8904-d6de33d3a006",
   "metadata": {},
   "outputs": [
    {
     "data": {
      "text/html": [
       "<div><i>Table length=11</i>\n",
       "<table id=\"table140141826209360\" class=\"table-striped table-bordered table-condensed\">\n",
       "<thead><tr><th>xmmslewful___row</th><th>xmmslewful_xmmslew_name</th><th>xmmslewful_obsid</th><th>xmmslewful_sourcenum</th><th>xmmslewful_ra</th><th>xmmslewful_dec</th><th>xmmslewful_radec_error</th><th>xmmslewful_lii</th><th>xmmslewful_bii</th><th>xmmslewful_hr1</th><th>xmmslewful_hr1_error</th><th>xmmslewful_time</th><th>xmmslewful_end_time</th><th>xmmslewful_scts_b8</th><th>xmmslewful_scts_b8_error</th><th>xmmslewful_scts_b7</th><th>xmmslewful_scts_b7_error</th><th>xmmslewful_scts_b6</th><th>xmmslewful_scts_b6_error</th><th>xmmslewful_x_ima_b8</th><th>xmmslewful_y_ima_b8</th><th>xmmslewful_x_ima_b7</th><th>xmmslewful_y_ima_b7</th><th>xmmslewful_x_ima_b6</th><th>xmmslewful_y_ima_b6</th><th>xmmslewful_ext_b8</th><th>xmmslewful_ext_b8_error</th><th>xmmslewful_ext_b7</th><th>xmmslewful_ext_b7_error</th><th>xmmslewful_ext_b6</th><th>xmmslewful_ext_b6_error</th><th>xmmslewful_det_ml_b8</th><th>xmmslewful_det_ml_b7</th><th>xmmslewful_det_ml_b6</th><th>xmmslewful_ext_ml_b8</th><th>xmmslewful_ext_ml_b7</th><th>xmmslewful_ext_ml_b6</th><th>xmmslewful_bg_map_b8</th><th>xmmslewful_bg_map_b7</th><th>xmmslewful_bg_map_b6</th><th>xmmslewful_exp_map_b8</th><th>xmmslewful_exp_map_b7</th><th>xmmslewful_exp_map_b6</th><th>xmmslewful_flux_b8</th><th>xmmslewful_flux_b8_error</th><th>xmmslewful_flux_b7</th><th>xmmslewful_flux_b7_error</th><th>xmmslewful_flux_b6</th><th>xmmslewful_flux_b6_error</th><th>xmmslewful_count_rate_b8</th><th>xmmslewful_count_rate_b8_error</th><th>xmmslewful_count_rate_b7</th><th>xmmslewful_count_rate_b7_error</th><th>xmmslewful_count_rate_b6</th><th>xmmslewful_count_rate_b6_error</th><th>xmmslewful_ra_b8</th><th>xmmslewful_dec_b8</th><th>xmmslewful_radec_b8_error</th><th>xmmslewful_lii_b8</th><th>xmmslewful_bii_b8</th><th>xmmslewful_ra_b7</th><th>xmmslewful_dec_b7</th><th>xmmslewful_radec_b7_error</th><th>xmmslewful_lii_b7</th><th>xmmslewful_bii_b7</th><th>xmmslewful_ra_b6</th><th>xmmslewful_dec_b6</th><th>xmmslewful_radec_b6_error</th><th>xmmslewful_lii_b6</th><th>xmmslewful_bii_b6</th><th>xmmslewful_val_flag</th><th>xmmslewful_srcname_b8</th><th>xmmslewful_srcname_b7</th><th>xmmslewful_srcname_b6</th><th>xmmslewful_ximname_b8</th><th>xmmslewful_ximname_b7</th><th>xmmslewful_ximname_b6</th><th>xmmslewful_ver_inext</th><th>xmmslewful_ver_halo</th><th>xmmslewful_ver_hibgnd</th><th>xmmslewful_ver_nredg</th><th>xmmslewful_ver_psusp</th><th>xmmslewful_ver_false</th><th>xmmslewful_flag_comment</th><th>xmmslewful_name</th><th>xmmslewful_alt_name</th><th>xmmslewful_rass_name</th><th>xmmslewful_id_category</th><th>xmmslewful_id_resource</th><th>xmmslewful_id_offset</th><th>xmmslewful_rass_offset</th><th>xmmslewful_mode_id</th><th>xmmslewful_image_bg_rate</th><th>xmmslewful_subimage_time</th><th>xmmslewful_subimage_end_time</th><th>xmmslewful_ver_optload</th><th>xmmslewful_filtered_counts</th><th>xmmslewful_unfiltered_counts</th><th>xmmslewful_xmmsl1_name</th><th>xmmslewful_extras_source_number</th><th>xmmslewful_class</th><th>xmmslewful___x_ra_dec</th><th>xmmslewful___y_ra_dec</th><th>xmmslewful___z_ra_dec</th><th>hostid</th></tr></thead>\n",
       "<thead><tr><th></th><th></th><th></th><th></th><th>deg</th><th>deg</th><th>arcsec</th><th>deg</th><th>deg</th><th></th><th></th><th>d</th><th>d</th><th>ct</th><th>ct</th><th>ct</th><th>ct</th><th>ct</th><th>ct</th><th>pix</th><th>pix</th><th>pix</th><th>pix</th><th>pix</th><th>pix</th><th>pix</th><th>pix</th><th>pix</th><th>pix</th><th>pix</th><th>pix</th><th></th><th></th><th></th><th></th><th></th><th></th><th>ct / pix</th><th>ct / pix</th><th>ct / pix</th><th>s</th><th>s</th><th>s</th><th>erg/cm^2/s</th><th>erg/cm^2/s</th><th>erg/cm^2/s</th><th>erg/cm^2/s</th><th>erg/cm^2/s</th><th>erg/cm^2/s</th><th>ct / s</th><th>ct / s</th><th>ct / s</th><th>ct / s</th><th>ct / s</th><th>ct / s</th><th>deg</th><th>deg</th><th>arcsec</th><th>deg</th><th>deg</th><th>deg</th><th>deg</th><th>arcsec</th><th>deg</th><th>deg</th><th>deg</th><th>deg</th><th>arcsec</th><th>deg</th><th>deg</th><th></th><th></th><th></th><th></th><th></th><th></th><th></th><th></th><th></th><th></th><th></th><th></th><th></th><th></th><th></th><th></th><th></th><th></th><th></th><th>arcsec</th><th>arcsec</th><th></th><th>ct / s</th><th>d</th><th>d</th><th></th><th>ct</th><th>ct</th><th></th><th></th><th></th><th></th><th></th><th></th><th></th></tr></thead>\n",
       "<thead><tr><th>int32</th><th>object</th><th>object</th><th>int16</th><th>float64</th><th>float64</th><th>float64</th><th>float64</th><th>float64</th><th>float64</th><th>float64</th><th>float64</th><th>float64</th><th>float64</th><th>float64</th><th>float64</th><th>float64</th><th>float64</th><th>float64</th><th>float64</th><th>float64</th><th>float64</th><th>float64</th><th>float64</th><th>float64</th><th>float64</th><th>float64</th><th>float64</th><th>float64</th><th>float64</th><th>float64</th><th>float64</th><th>float64</th><th>float64</th><th>float64</th><th>float64</th><th>float64</th><th>float64</th><th>float64</th><th>float64</th><th>float64</th><th>float64</th><th>float64</th><th>float64</th><th>float64</th><th>float64</th><th>float64</th><th>float64</th><th>float64</th><th>float64</th><th>float64</th><th>float64</th><th>float64</th><th>float64</th><th>float64</th><th>float64</th><th>float64</th><th>float64</th><th>float64</th><th>float64</th><th>float64</th><th>float64</th><th>float64</th><th>float64</th><th>float64</th><th>float64</th><th>float64</th><th>float64</th><th>float64</th><th>float64</th><th>object</th><th>object</th><th>object</th><th>object</th><th>object</th><th>object</th><th>object</th><th>object</th><th>object</th><th>object</th><th>object</th><th>object</th><th>object</th><th>object</th><th>object</th><th>object</th><th>object</th><th>object</th><th>object</th><th>float64</th><th>float64</th><th>object</th><th>float64</th><th>float64</th><th>float64</th><th>object</th><th>int16</th><th>int16</th><th>object</th><th>int32</th><th>int16</th><th>float64</th><th>float64</th><th>float64</th><th>object</th></tr></thead>\n",
       "<tr><td>71505</td><td>XMMSL2 J091356.8+791120</td><td>9206600002</td><td>31</td><td>138.486974</td><td>79.188860</td><td>3.17264</td><td>133.41008</td><td>33.03379</td><td>--</td><td>--</td><td>55641.6074074074</td><td>55641.6074074074</td><td>14.152</td><td>3.85107</td><td>--</td><td>--</td><td>13.287</td><td>3.69552</td><td>1002.3</td><td>397.04</td><td>--</td><td>--</td><td>1001.9</td><td>397.25</td><td>0</td><td>0</td><td>--</td><td>--</td><td>0</td><td>0</td><td>53.062</td><td>--</td><td>60.765</td><td>--</td><td>--</td><td>--</td><td>0.00084878</td><td>--</td><td>0.00029853</td><td>5.4767</td><td>--</td><td>6.3242</td><td>8.1628e-12</td><td>2.2213e-12</td><td>--</td><td>--</td><td>3.017e-12</td><td>8.3912e-13</td><td>2.584</td><td>0.70318</td><td>--</td><td>--</td><td>2.101</td><td>0.58435</td><td>138.4848</td><td>79.1886</td><td>3.347</td><td>133.4106</td><td>33.03357</td><td>--</td><td>--</td><td>--</td><td>--</td><td>--</td><td>138.487</td><td>79.18886</td><td>3.1726</td><td>133.4101</td><td>33.03379</td><td>CLEAN_SAMPLE</td><td>xs2066_9206600002_09:13:56.3+79:11:19</td><td></td><td>xs2066_9206600002_09:13:56.8+79:11:20</td><td>P9206600002PNS003IMAGE_8022.FTZ</td><td></td><td>P9206600002PNS003IMAGE_6022.FTZ</td><td>F</td><td>F</td><td>F</td><td>F</td><td>F</td><td>F</td><td></td><td>[ZEH2003] RX J0913.9+7911  1</td><td></td><td>J091358.6+791114</td><td>QSO</td><td>SIMBAD</td><td>6.3149</td><td>7.83</td><td>FF</td><td>3.3</td><td>55641.62768306</td><td>55641.62820389</td><td>F</td><td>14</td><td>17</td><td>XMMSL1 J091357.5+791119</td><td>410781</td><td>7200</td><td>0.124321099261732</td><td>-0.140455083492718</td><td>0.982250799846662</td><td>pgc25999</td></tr>\n",
       "<tr><td>34972</td><td>XMMSL2 J094541.7-141935</td><td>9100500003</td><td>21</td><td>146.424154</td><td>-14.326362</td><td>2.15235</td><td>249.70530</td><td>28.78019</td><td>0.535789</td><td>0.227281</td><td>53526.2287731481</td><td>53526.2877893519</td><td>20.671</td><td>4.69958</td><td>15.223</td><td>3.97425</td><td>5.3176</td><td>2.45331</td><td>487.14</td><td>646.96</td><td>487.3</td><td>647.05</td><td>487.02</td><td>646.76</td><td>0</td><td>0</td><td>0</td><td>0</td><td>0</td><td>0</td><td>85.79</td><td>74.882</td><td>16.959</td><td>--</td><td>--</td><td>--</td><td>0.00071507</td><td>0.00023303</td><td>0.00041978</td><td>8.3677</td><td>7.8193</td><td>9.0365</td><td>7.8037e-12</td><td>1.7742e-12</td><td>1.7802e-11</td><td>4.6475e-12</td><td>8.4502e-13</td><td>3.8986e-13</td><td>2.4703</td><td>0.56163</td><td>1.9468</td><td>0.50826</td><td>0.58845</td><td>0.27149</td><td>146.4242</td><td>-14.32636</td><td>2.1524</td><td>249.7053</td><td>28.78019</td><td>146.424</td><td>-14.32626</td><td>2.7017</td><td>249.7051</td><td>28.78013</td><td>146.4243</td><td>-14.32659</td><td>3.8974</td><td>249.7056</td><td>28.78013</td><td>CLEAN_SAMPLE</td><td>xs1005_9100500003_09:45:41.7-14:19:35</td><td>xs1005_9100500003_09:45:41.7-14:19:35</td><td>xs1005_9100500003_09:45:41.8-14:19:36</td><td>P9100500003PNS003IMAGE_801c.FTZ</td><td>P9100500003PNS003IMAGE_701c.FTZ</td><td>P9100500003PNS003IMAGE_601c.FTZ</td><td>F</td><td>F</td><td>F</td><td>F</td><td>F</td><td>F</td><td></td><td>NGC  2992</td><td></td><td>J094541.9-141927</td><td>Seyfert_2</td><td>SIMBAD</td><td>5.0154</td><td>8.496</td><td>FF</td><td>7.9</td><td>53526.2458775</td><td>53526.24639833</td><td>F</td><td>19</td><td>23</td><td></td><td>114043</td><td>7106</td><td>0.535841910498469</td><td>-0.807245009169956</td><td>-0.247444826423082</td><td>pgc27982</td></tr>\n",
       "<tr><td>34974</td><td>XMMSL2 J094541.7-141935</td><td>9173000003</td><td>14</td><td>146.425364</td><td>-14.324820</td><td>3.78867</td><td>249.70491</td><td>28.78210</td><td>--</td><td>--</td><td>54972.3137847222</td><td>54972.3132986111</td><td>8.6671</td><td>3.16326</td><td>--</td><td>--</td><td>5.487</td><td>2.44740</td><td>510</td><td>819.61</td><td>--</td><td>--</td><td>510.69</td><td>819.68</td><td>0</td><td>0</td><td>--</td><td>--</td><td>0</td><td>0</td><td>26.678</td><td>--</td><td>21.176</td><td>--</td><td>--</td><td>--</td><td>0.00089152</td><td>--</td><td>0.00027714</td><td>6.0502</td><td>--</td><td>6.8479</td><td>4.5254e-12</td><td>1.6516e-12</td><td>--</td><td>--</td><td>1.1506e-12</td><td>5.1322e-13</td><td>1.4325</td><td>0.52284</td><td>--</td><td>--</td><td>0.80127</td><td>0.35739</td><td>146.4254</td><td>-14.32482</td><td>3.7887</td><td>249.7049</td><td>28.7821</td><td>--</td><td>--</td><td>--</td><td>--</td><td>--</td><td>146.4245</td><td>-14.32475</td><td>3.523</td><td>249.7042</td><td>28.78157</td><td>CLEAN_SAMPLE</td><td>xs1730_9173000003_09:45:42.0-14:19:29</td><td></td><td>xs1730_9173000003_09:45:41.9-14:19:29</td><td>P9173000003PNS003IMAGE_8020.FTZ</td><td></td><td>P9173000003PNS003IMAGE_6020.FTZ</td><td>F</td><td>F</td><td>F</td><td>F</td><td>F</td><td>F</td><td></td><td>NGC  2992</td><td></td><td>J094541.9-141927</td><td>Seyfert_2</td><td>SIMBAD</td><td>5.0154</td><td>8.496</td><td>FF</td><td>2.8</td><td>54972.3330187</td><td>54972.33353954</td><td>F</td><td>10</td><td>9</td><td>XMMSL1 J094541.7-141928</td><td>114043</td><td>7106</td><td>0.535828537809479</td><td>-0.807261875044046</td><td>-0.247418760746485</td><td>pgc27982</td></tr>\n",
       "<tr><td>53012</td><td>XMMSL2 J125441.7+285642</td><td>9174700002</td><td>32</td><td>193.674468</td><td>28.945116</td><td>5.17160</td><td>101.52238</td><td>88.04593</td><td>--</td><td>--</td><td>55006.4898958333</td><td>55006.4898958333</td><td>--</td><td>--</td><td>--</td><td>--</td><td>3.5192</td><td>2.05122</td><td>--</td><td>--</td><td>--</td><td>--</td><td>432.31</td><td>284.74</td><td>--</td><td>--</td><td>--</td><td>--</td><td>0</td><td>0</td><td>--</td><td>--</td><td>10.653</td><td>--</td><td>--</td><td>--</td><td>--</td><td>--</td><td>0.00032163</td><td>--</td><td>--</td><td>8.1931</td><td>--</td><td>--</td><td>--</td><td>--</td><td>6.168e-13</td><td>3.5952e-13</td><td>--</td><td>--</td><td>--</td><td>--</td><td>0.42953</td><td>0.25036</td><td>--</td><td>--</td><td>--</td><td>--</td><td>--</td><td>--</td><td>--</td><td>--</td><td>--</td><td>--</td><td>193.6745</td><td>28.94512</td><td>5.1716</td><td>101.5224</td><td>88.04593</td><td>XXXXXXXXXXXX</td><td></td><td></td><td>xs1747_9174700002_12:54:41.7+28:56:42</td><td></td><td></td><td>P9174700002PNS003IMAGE_6037.FTZ</td><td>F</td><td>F</td><td>F</td><td>F</td><td>F</td><td>F</td><td></td><td></td><td></td><td></td><td></td><td></td><td>--</td><td>--</td><td>FF</td><td>2.7</td><td>55006.52110898</td><td>55006.52162981</td><td>F</td><td>5</td><td>8</td><td></td><td>--</td><td>9999</td><td>-0.206874321593194</td><td>-0.850279081040811</td><td>0.483971589465487</td><td>nsa142509</td></tr>\n",
       "<tr><td>58964</td><td>XMMSL2 J134519.0+414242</td><td>9201500004</td><td>3</td><td>206.326791</td><td>41.708797</td><td>4.31445</td><td>89.27318</td><td>71.71825</td><td>0.060704</td><td>0.298527</td><td>55540.9918171296</td><td>55540.9918171296</td><td>13.555</td><td>3.79523</td><td>5.679</td><td>2.51667</td><td>6.9636</td><td>2.72921</td><td>566.52</td><td>683.02</td><td>566.89</td><td>685.14</td><td>566.18</td><td>683.04</td><td>0</td><td>0</td><td>0</td><td>0</td><td>0</td><td>0</td><td>47.979</td><td>16.712</td><td>24.519</td><td>--</td><td>--</td><td>--</td><td>0.00024226</td><td>0.00019253</td><td>0.00019365</td><td>5.955</td><td>5.1438</td><td>7.1226</td><td>7.1905e-12</td><td>2.0133e-12</td><td>1.0095e-11</td><td>4.4738e-12</td><td>1.404e-12</td><td>5.5025e-13</td><td>2.2762</td><td>0.63731</td><td>1.104</td><td>0.48926</td><td>0.97768</td><td>0.38318</td><td>206.3268</td><td>41.7088</td><td>4.3144</td><td>89.27318</td><td>71.71825</td><td>206.3262</td><td>41.71121</td><td>6.1554</td><td>89.27928</td><td>71.71672</td><td>206.3273</td><td>41.70881</td><td>5.6349</td><td>89.27228</td><td>71.71798</td><td>CLEAN_SAMPLE</td><td>xs2015_9201500004_13:45:18.3+41:42:32</td><td>xs2015_9201500004_13:45:18.3+41:42:40</td><td>xs2015_9201500004_13:45:18.7+41:42:32</td><td>P9201500004PNS003IMAGE_8075.FTZ</td><td>P9201500004PNS003IMAGE_7075.FTZ</td><td>P9201500004PNS003IMAGE_6075.FTZ</td><td>F</td><td>F</td><td>F</td><td>F</td><td>F</td><td>F</td><td></td><td>NGC  5290</td><td></td><td>J134518.5+414242</td><td>Seyfert_2</td><td>SIMBAD</td><td>2.821</td><td>5.604</td><td>FF</td><td>15.9</td><td>55541.05533352</td><td>55541.05585435</td><td>F</td><td>12</td><td>22</td><td>XMMSL1 J134518.3+414235</td><td>406800</td><td>7106</td><td>-0.331081515717967</td><td>-0.669104690351643</td><td>0.665344980667417</td><td>nsa163956</td></tr>\n",
       "<tr><td>58966</td><td>XMMSL2 J134519.0+414242</td><td>9100600002</td><td>5</td><td>206.327035</td><td>41.712588</td><td>3.37006</td><td>89.28073</td><td>71.71528</td><td>--</td><td>--</td><td>53527.9111111111</td><td>53527.9586458333</td><td>9.3299</td><td>3.11674</td><td>6.1473</td><td>2.51617</td><td>--</td><td>--</td><td>555</td><td>564.85</td><td>554.54</td><td>564.82</td><td>--</td><td>--</td><td>0</td><td>0</td><td>0</td><td>0</td><td>--</td><td>--</td><td>38.834</td><td>28.403</td><td>--</td><td>--</td><td>--</td><td>--</td><td>0.00066595</td><td>0.0002071</td><td>--</td><td>7.4418</td><td>6.8093</td><td>--</td><td>3.9605e-12</td><td>1.323e-12</td><td>8.255e-12</td><td>3.3789e-12</td><td>--</td><td>--</td><td>1.2537</td><td>0.41882</td><td>0.90278</td><td>0.36952</td><td>--</td><td>--</td><td>206.327</td><td>41.71259</td><td>3.3701</td><td>89.28073</td><td>71.71528</td><td>206.3277</td><td>41.71255</td><td>4.0153</td><td>89.27937</td><td>71.71496</td><td>--</td><td>--</td><td>--</td><td>--</td><td>--</td><td>CLEAN_SAMPLE</td><td>xs1006_9100600002_13:45:18.3+41:42:45</td><td>xs1006_9100600002_13:45:18.7+41:42:45</td><td></td><td>P9100600002PNS003IMAGE_8044.FTZ</td><td>P9100600002PNS003IMAGE_7044.FTZ</td><td></td><td>F</td><td>F</td><td>F</td><td>F</td><td>F</td><td>F</td><td></td><td>NGC  5290</td><td></td><td>J134518.5+414242</td><td>Seyfert_2</td><td>SIMBAD</td><td>2.821</td><td>5.604</td><td>FF</td><td>2.3</td><td>53527.9490488</td><td>53527.94956963</td><td>F</td><td>9</td><td>10</td><td></td><td>406800</td><td>7106</td><td>-0.331064838472676</td><td>-0.669063826963889</td><td>0.665394370411635</td><td>nsa163956</td></tr>\n",
       "<tr><td>58965</td><td>XMMSL2 J134519.0+414242</td><td>9129100002</td><td>12</td><td>206.329498</td><td>41.711699</td><td>2.47920</td><td>89.27446</td><td>71.71474</td><td>0.119220</td><td>0.291451</td><td>54096.5263425926</td><td>54096.5263425926</td><td>12.885</td><td>3.76319</td><td>6.4723</td><td>2.63517</td><td>6.4395</td><td>2.65753</td><td>276.02</td><td>677.61</td><td>275.55</td><td>677.12</td><td>276.49</td><td>678</td><td>0</td><td>0</td><td>0</td><td>0</td><td>0</td><td>0</td><td>53.069</td><td>26.335</td><td>27.271</td><td>--</td><td>--</td><td>--</td><td>0.00054962</td><td>0.00027254</td><td>0.00023272</td><td>6.3598</td><td>5.7043</td><td>7.2119</td><td>6.4e-12</td><td>1.8692e-12</td><td>1.0375e-11</td><td>4.2241e-12</td><td>1.2822e-12</td><td>5.2915e-13</td><td>2.0259</td><td>0.59171</td><td>1.1346</td><td>0.46196</td><td>0.8929</td><td>0.36849</td><td>206.3295</td><td>41.7117</td><td>2.4792</td><td>89.27446</td><td>71.71474</td><td>206.3302</td><td>41.71114</td><td>4.0242</td><td>89.27203</td><td>71.71481</td><td>206.3288</td><td>41.71214</td><td>3.2294</td><td>89.27667</td><td>71.71476</td><td>CLEAN_SAMPLE</td><td>xs1291_9129100002_13:45:19.0+41:42:42</td><td>xs1291_9129100002_13:45:19.0+41:42:40</td><td>xs1291_9129100002_13:45:19.0+41:42:44</td><td>P9129100002PNS003IMAGE_8058.FTZ</td><td>P9129100002PNS003IMAGE_7058.FTZ</td><td>P9129100002PNS003IMAGE_6058.FTZ</td><td>F</td><td>F</td><td>F</td><td>F</td><td>F</td><td>F</td><td></td><td>NGC  5290</td><td></td><td>J134518.5+414242</td><td>Seyfert_2</td><td>SIMBAD</td><td>2.821</td><td>5.604</td><td>FF</td><td>2.4</td><td>54096.57472009</td><td>54096.57524093</td><td>F</td><td>12</td><td>18</td><td>XMMSL1 J134519.4+414243</td><td>406800</td><td>7106</td><td>-0.331098179768032</td><td>-0.669058843591037</td><td>0.665382791456858</td><td>nsa163956</td></tr>\n",
       "<tr><td>58967</td><td>XMMSL2 J134519.0+414242</td><td>9129600004</td><td>30</td><td>206.331067</td><td>41.712760</td><td>4.27518</td><td>89.27389</td><td>71.71317</td><td>--</td><td>--</td><td>54106.9478935185</td><td>54106.9478935185</td><td>4.8458</td><td>2.30198</td><td>--</td><td>--</td><td>--</td><td>--</td><td>527.88</td><td>623.64</td><td>--</td><td>--</td><td>--</td><td>--</td><td>0</td><td>0</td><td>--</td><td>--</td><td>--</td><td>--</td><td>14.511</td><td>--</td><td>--</td><td>--</td><td>--</td><td>--</td><td>0.0011473</td><td>--</td><td>--</td><td>4.2209</td><td>--</td><td>--</td><td>3.6267e-12</td><td>1.7228e-12</td><td>--</td><td>--</td><td>--</td><td>--</td><td>1.148</td><td>0.54537</td><td>--</td><td>--</td><td>--</td><td>--</td><td>206.3311</td><td>41.71276</td><td>4.2752</td><td>89.27389</td><td>71.71317</td><td>--</td><td>--</td><td>--</td><td>--</td><td>--</td><td>--</td><td>--</td><td>--</td><td>--</td><td>--</td><td>XXXXXXXXXXXX</td><td>xs1296_9129600004_13:45:19.4+41:42:46</td><td></td><td></td><td>P9129600004PNS003IMAGE_8085.FTZ</td><td></td><td></td><td>F</td><td>F</td><td>F</td><td>F</td><td>F</td><td>F</td><td></td><td>NGC  5290</td><td></td><td>J134518.5+414242</td><td>Seyfert_2</td><td>SIMBAD</td><td>2.821</td><td>5.604</td><td>FF</td><td>5.4</td><td>54107.01970852</td><td>54107.02022935</td><td>F</td><td>5</td><td>9</td><td></td><td>--</td><td>7106</td><td>-0.33111103339567</td><td>-0.669038727748646</td><td>0.665396621825001</td><td>nsa163956</td></tr>\n",
       "<tr><td>37963</td><td>XMMSL2 J141747.0-072445</td><td>9257800004</td><td>13</td><td>214.445560</td><td>-7.412400</td><td>4.36030</td><td>337.20870</td><td>49.62555</td><td>--</td><td>--</td><td>56663.7487268519</td><td>56663.7487268519</td><td>--</td><td>--</td><td>3.8112</td><td>2.09367</td><td>--</td><td>--</td><td>--</td><td>--</td><td>463.68</td><td>607.18</td><td>--</td><td>--</td><td>--</td><td>--</td><td>0</td><td>0</td><td>--</td><td>--</td><td>--</td><td>12.469</td><td>--</td><td>--</td><td>--</td><td>--</td><td>--</td><td>0.00039294</td><td>--</td><td>--</td><td>3.706</td><td>--</td><td>--</td><td>--</td><td>9.4037e-12</td><td>5.1659e-12</td><td>--</td><td>--</td><td>--</td><td>--</td><td>1.0284</td><td>0.56495</td><td>--</td><td>--</td><td>--</td><td>--</td><td>--</td><td>--</td><td>--</td><td>214.4456</td><td>-7.4124</td><td>4.3603</td><td>337.2087</td><td>49.62555</td><td>--</td><td>--</td><td>--</td><td>--</td><td>--</td><td>XXXXXXXXXXXX</td><td></td><td>xs2578_9257800004_14:17:47.0-07:24:45</td><td></td><td></td><td>P9257800004PNS003IMAGE_7010.FTZ</td><td></td><td>F</td><td>F</td><td>F</td><td>F</td><td>F</td><td>F</td><td></td><td></td><td></td><td></td><td></td><td></td><td>--</td><td>--</td><td>FF</td><td>6.7</td><td>56663.75965065</td><td>56663.76017148</td><td>F</td><td>3</td><td>4</td><td></td><td>--</td><td>9999</td><td>-0.56089617100874</td><td>-0.817772493077978</td><td>-0.129010212435929</td><td>pgc51055</td></tr>\n",
       "<tr><td>15464</td><td>XMMSL2 J215609.2-493127</td><td>9254300002</td><td>38</td><td>329.038793</td><td>-49.524281</td><td>5.09495</td><td>347.05459</td><td>-49.79014</td><td>--</td><td>--</td><td>56593.0766666667</td><td>56593.0766666667</td><td>--</td><td>--</td><td>--</td><td>--</td><td>3.6095</td><td>2.03456</td><td>--</td><td>--</td><td>--</td><td>--</td><td>370.65</td><td>488.16</td><td>--</td><td>--</td><td>--</td><td>--</td><td>0</td><td>0</td><td>--</td><td>--</td><td>13.036</td><td>--</td><td>--</td><td>--</td><td>--</td><td>--</td><td>0.00024118</td><td>--</td><td>--</td><td>11.073</td><td>--</td><td>--</td><td>--</td><td>--</td><td>4.6808e-13</td><td>2.6384e-13</td><td>--</td><td>--</td><td>--</td><td>--</td><td>0.32596</td><td>0.18373</td><td>--</td><td>--</td><td>--</td><td>--</td><td>--</td><td>--</td><td>--</td><td>--</td><td>--</td><td>--</td><td>329.0388</td><td>-49.52428</td><td>5.095</td><td>347.0546</td><td>-49.79014</td><td>XXXXXXXXXXXX</td><td></td><td></td><td>xs2543_9254300002_21:56:09.2-49:31:27</td><td></td><td></td><td>P9254300002PNS003IMAGE_6020.FTZ</td><td>F</td><td>F</td><td>F</td><td>F</td><td>F</td><td>F</td><td></td><td>NGC  7155</td><td></td><td></td><td>GinGroup</td><td>SIMBAD</td><td>9.5729</td><td>--</td><td>FF</td><td>2.6</td><td>56593.0959238</td><td>56593.09644463</td><td>F</td><td>3</td><td>3</td><td></td><td>--</td><td>6700</td><td>-0.333947673380984</td><td>0.556635598164212</td><td>-0.76068111735457</td><td>pgc67663</td></tr>\n",
       "<tr><td>23659</td><td>XMMSL2 J230704.4-361623</td><td>9054200002</td><td>44</td><td>346.768038</td><td>-36.273075</td><td>4.20922</td><td>3.95049</td><td>-66.08817</td><td>--</td><td>--</td><td>52602.047037037</td><td>52602.1188888889</td><td>3.6885</td><td>2.03888</td><td>--</td><td>--</td><td>--</td><td>--</td><td>351.98</td><td>766.46</td><td>--</td><td>--</td><td>--</td><td>--</td><td>0</td><td>0</td><td>--</td><td>--</td><td>--</td><td>--</td><td>15.09</td><td>--</td><td>--</td><td>--</td><td>--</td><td>--</td><td>0.0002022</td><td>--</td><td>--</td><td>4.2977</td><td>--</td><td>--</td><td>2.7112e-12</td><td>1.4987e-12</td><td>--</td><td>--</td><td>--</td><td>--</td><td>0.85825</td><td>0.47441</td><td>--</td><td>--</td><td>--</td><td>--</td><td>346.768</td><td>-36.27308</td><td>4.2092</td><td>3.950491</td><td>-66.08817</td><td>--</td><td>--</td><td>--</td><td>--</td><td>--</td><td>--</td><td>--</td><td>--</td><td>--</td><td>--</td><td>XXXXXXXXXXXX</td><td>xs0542_9054200002_23:07:04.4-36:16:23</td><td></td><td></td><td>P9054200002PNS003IMAGE_804e.FTZ</td><td></td><td></td><td>F</td><td>F</td><td>F</td><td>F</td><td>F</td><td>F</td><td></td><td>NGC  7484</td><td></td><td></td><td>GinPair</td><td>SIMBAD</td><td>10.644</td><td>--</td><td>FF</td><td>1.9</td><td>52602.09018306</td><td>52602.09070389</td><td>F</td><td>4</td><td>5</td><td></td><td>--</td><td>6700</td><td>-0.184535761660196</td><td>0.784802715309546</td><td>-0.591634389392009</td><td>pgc70505</td></tr>\n",
       "</table></div>"
      ],
      "text/plain": [
       "<Table length=11>\n",
       "xmmslewful___row xmmslewful_xmmslew_name ... xmmslewful___z_ra_dec   hostid \n",
       "                                         ...                                \n",
       "     int32                object         ...        float64          object \n",
       "---------------- ----------------------- ... --------------------- ---------\n",
       "           71505 XMMSL2 J091356.8+791120 ...     0.982250799846662  pgc25999\n",
       "           34972 XMMSL2 J094541.7-141935 ...    -0.247444826423082  pgc27982\n",
       "           34974 XMMSL2 J094541.7-141935 ...    -0.247418760746485  pgc27982\n",
       "           53012 XMMSL2 J125441.7+285642 ...     0.483971589465487 nsa142509\n",
       "           58964 XMMSL2 J134519.0+414242 ...     0.665344980667417 nsa163956\n",
       "           58966 XMMSL2 J134519.0+414242 ...     0.665394370411635 nsa163956\n",
       "           58965 XMMSL2 J134519.0+414242 ...     0.665382791456858 nsa163956\n",
       "           58967 XMMSL2 J134519.0+414242 ...     0.665396621825001 nsa163956\n",
       "           37963 XMMSL2 J141747.0-072445 ...    -0.129010212435929  pgc51055\n",
       "           15464 XMMSL2 J215609.2-493127 ...     -0.76068111735457  pgc67663\n",
       "           23659 XMMSL2 J230704.4-361623 ...    -0.591634389392009  pgc70505"
      ]
     },
     "execution_count": 161,
     "metadata": {},
     "output_type": "execute_result"
    }
   ],
   "source": [
    "cat = xmmn_matches['xmmslewful']\n",
    "cat"
   ]
  },
  {
   "cell_type": "code",
   "execution_count": 168,
   "id": "fed33e91-aa71-4d37-a3e7-8fdfbbbad975",
   "metadata": {},
   "outputs": [
    {
     "data": {
      "text/html": [
       "<div><i>Table length=11</i>\n",
       "<table id=\"table140141826209360\" class=\"table-striped table-bordered table-condensed\">\n",
       "<thead><tr><th>xmmslewful___row</th><th>xmmslewful_xmmslew_name</th><th>xmmslewful_obsid</th><th>xmmslewful_sourcenum</th><th>xmmslewful_ra</th><th>xmmslewful_dec</th><th>xmmslewful_radec_error</th><th>xmmslewful_lii</th><th>xmmslewful_bii</th><th>xmmslewful_hr1</th><th>xmmslewful_hr1_error</th><th>xmmslewful_time</th><th>xmmslewful_end_time</th><th>xmmslewful_scts_b8</th><th>xmmslewful_scts_b8_error</th><th>xmmslewful_scts_b7</th><th>xmmslewful_scts_b7_error</th><th>xmmslewful_scts_b6</th><th>xmmslewful_scts_b6_error</th><th>xmmslewful_x_ima_b8</th><th>xmmslewful_y_ima_b8</th><th>xmmslewful_x_ima_b7</th><th>xmmslewful_y_ima_b7</th><th>xmmslewful_x_ima_b6</th><th>xmmslewful_y_ima_b6</th><th>xmmslewful_ext_b8</th><th>xmmslewful_ext_b8_error</th><th>xmmslewful_ext_b7</th><th>xmmslewful_ext_b7_error</th><th>xmmslewful_ext_b6</th><th>xmmslewful_ext_b6_error</th><th>xmmslewful_det_ml_b8</th><th>xmmslewful_det_ml_b7</th><th>xmmslewful_det_ml_b6</th><th>xmmslewful_ext_ml_b8</th><th>xmmslewful_ext_ml_b7</th><th>xmmslewful_ext_ml_b6</th><th>xmmslewful_bg_map_b8</th><th>xmmslewful_bg_map_b7</th><th>xmmslewful_bg_map_b6</th><th>xmmslewful_exp_map_b8</th><th>xmmslewful_exp_map_b7</th><th>xmmslewful_exp_map_b6</th><th>xmmslewful_flux_b8</th><th>xmmslewful_flux_b8_error</th><th>xmmslewful_flux_b7</th><th>xmmslewful_flux_b7_error</th><th>xmmslewful_flux_b6</th><th>xmmslewful_flux_b6_error</th><th>xmmslewful_count_rate_b8</th><th>xmmslewful_count_rate_b8_error</th><th>xmmslewful_count_rate_b7</th><th>xmmslewful_count_rate_b7_error</th><th>xmmslewful_count_rate_b6</th><th>xmmslewful_count_rate_b6_error</th><th>xmmslewful_ra_b8</th><th>xmmslewful_dec_b8</th><th>xmmslewful_radec_b8_error</th><th>xmmslewful_lii_b8</th><th>xmmslewful_bii_b8</th><th>xmmslewful_ra_b7</th><th>xmmslewful_dec_b7</th><th>xmmslewful_radec_b7_error</th><th>xmmslewful_lii_b7</th><th>xmmslewful_bii_b7</th><th>xmmslewful_ra_b6</th><th>xmmslewful_dec_b6</th><th>xmmslewful_radec_b6_error</th><th>xmmslewful_lii_b6</th><th>xmmslewful_bii_b6</th><th>xmmslewful_val_flag</th><th>xmmslewful_srcname_b8</th><th>xmmslewful_srcname_b7</th><th>xmmslewful_srcname_b6</th><th>xmmslewful_ximname_b8</th><th>xmmslewful_ximname_b7</th><th>xmmslewful_ximname_b6</th><th>xmmslewful_ver_inext</th><th>xmmslewful_ver_halo</th><th>xmmslewful_ver_hibgnd</th><th>xmmslewful_ver_nredg</th><th>xmmslewful_ver_psusp</th><th>xmmslewful_ver_false</th><th>xmmslewful_flag_comment</th><th>xmmslewful_name</th><th>xmmslewful_alt_name</th><th>xmmslewful_rass_name</th><th>xmmslewful_id_category</th><th>xmmslewful_id_resource</th><th>xmmslewful_id_offset</th><th>xmmslewful_rass_offset</th><th>xmmslewful_mode_id</th><th>xmmslewful_image_bg_rate</th><th>xmmslewful_subimage_time</th><th>xmmslewful_subimage_end_time</th><th>xmmslewful_ver_optload</th><th>xmmslewful_filtered_counts</th><th>xmmslewful_unfiltered_counts</th><th>xmmslewful_xmmsl1_name</th><th>xmmslewful_extras_source_number</th><th>xmmslewful_class</th><th>xmmslewful___x_ra_dec</th><th>xmmslewful___y_ra_dec</th><th>xmmslewful___z_ra_dec</th><th>hostid</th><th>seps</th><th>cp-coo</th></tr></thead>\n",
       "<thead><tr><th></th><th></th><th></th><th></th><th>deg</th><th>deg</th><th>arcsec</th><th>deg</th><th>deg</th><th></th><th></th><th>d</th><th>d</th><th>ct</th><th>ct</th><th>ct</th><th>ct</th><th>ct</th><th>ct</th><th>pix</th><th>pix</th><th>pix</th><th>pix</th><th>pix</th><th>pix</th><th>pix</th><th>pix</th><th>pix</th><th>pix</th><th>pix</th><th>pix</th><th></th><th></th><th></th><th></th><th></th><th></th><th>ct / pix</th><th>ct / pix</th><th>ct / pix</th><th>s</th><th>s</th><th>s</th><th>erg/cm^2/s</th><th>erg/cm^2/s</th><th>erg/cm^2/s</th><th>erg/cm^2/s</th><th>erg/cm^2/s</th><th>erg/cm^2/s</th><th>ct / s</th><th>ct / s</th><th>ct / s</th><th>ct / s</th><th>ct / s</th><th>ct / s</th><th>deg</th><th>deg</th><th>arcsec</th><th>deg</th><th>deg</th><th>deg</th><th>deg</th><th>arcsec</th><th>deg</th><th>deg</th><th>deg</th><th>deg</th><th>arcsec</th><th>deg</th><th>deg</th><th></th><th></th><th></th><th></th><th></th><th></th><th></th><th></th><th></th><th></th><th></th><th></th><th></th><th></th><th></th><th></th><th></th><th></th><th></th><th>arcsec</th><th>arcsec</th><th></th><th>ct / s</th><th>d</th><th>d</th><th></th><th>ct</th><th>ct</th><th></th><th></th><th></th><th></th><th></th><th></th><th></th><th>deg</th><th></th></tr></thead>\n",
       "<thead><tr><th>int32</th><th>object</th><th>object</th><th>int16</th><th>float64</th><th>float64</th><th>float64</th><th>float64</th><th>float64</th><th>float64</th><th>float64</th><th>float64</th><th>float64</th><th>float64</th><th>float64</th><th>float64</th><th>float64</th><th>float64</th><th>float64</th><th>float64</th><th>float64</th><th>float64</th><th>float64</th><th>float64</th><th>float64</th><th>float64</th><th>float64</th><th>float64</th><th>float64</th><th>float64</th><th>float64</th><th>float64</th><th>float64</th><th>float64</th><th>float64</th><th>float64</th><th>float64</th><th>float64</th><th>float64</th><th>float64</th><th>float64</th><th>float64</th><th>float64</th><th>float64</th><th>float64</th><th>float64</th><th>float64</th><th>float64</th><th>float64</th><th>float64</th><th>float64</th><th>float64</th><th>float64</th><th>float64</th><th>float64</th><th>float64</th><th>float64</th><th>float64</th><th>float64</th><th>float64</th><th>float64</th><th>float64</th><th>float64</th><th>float64</th><th>float64</th><th>float64</th><th>float64</th><th>float64</th><th>float64</th><th>float64</th><th>object</th><th>object</th><th>object</th><th>object</th><th>object</th><th>object</th><th>object</th><th>object</th><th>object</th><th>object</th><th>object</th><th>object</th><th>object</th><th>object</th><th>object</th><th>object</th><th>object</th><th>object</th><th>object</th><th>float64</th><th>float64</th><th>object</th><th>float64</th><th>float64</th><th>float64</th><th>object</th><th>int16</th><th>int16</th><th>object</th><th>int32</th><th>int16</th><th>float64</th><th>float64</th><th>float64</th><th>object</th><th>float64</th><th>str22</th></tr></thead>\n",
       "<tr><td>71505</td><td>XMMSL2 J091356.8+791120</td><td>9206600002</td><td>31</td><td>138.486974</td><td>79.188860</td><td>3.17264</td><td>133.41008</td><td>33.03379</td><td>--</td><td>--</td><td>55641.6074074074</td><td>55641.6074074074</td><td>14.152</td><td>3.85107</td><td>--</td><td>--</td><td>13.287</td><td>3.69552</td><td>1002.3</td><td>397.04</td><td>--</td><td>--</td><td>1001.9</td><td>397.25</td><td>0</td><td>0</td><td>--</td><td>--</td><td>0</td><td>0</td><td>53.062</td><td>--</td><td>60.765</td><td>--</td><td>--</td><td>--</td><td>0.00084878</td><td>--</td><td>0.00029853</td><td>5.4767</td><td>--</td><td>6.3242</td><td>8.1628e-12</td><td>2.2213e-12</td><td>--</td><td>--</td><td>3.017e-12</td><td>8.3912e-13</td><td>2.584</td><td>0.70318</td><td>--</td><td>--</td><td>2.101</td><td>0.58435</td><td>138.4848</td><td>79.1886</td><td>3.347</td><td>133.4106</td><td>33.03357</td><td>--</td><td>--</td><td>--</td><td>--</td><td>--</td><td>138.487</td><td>79.18886</td><td>3.1726</td><td>133.4101</td><td>33.03379</td><td>CLEAN_SAMPLE</td><td>xs2066_9206600002_09:13:56.3+79:11:19</td><td></td><td>xs2066_9206600002_09:13:56.8+79:11:20</td><td>P9206600002PNS003IMAGE_8022.FTZ</td><td></td><td>P9206600002PNS003IMAGE_6022.FTZ</td><td>F</td><td>F</td><td>F</td><td>F</td><td>F</td><td>F</td><td></td><td>[ZEH2003] RX J0913.9+7911  1</td><td></td><td>J091358.6+791114</td><td>QSO</td><td>SIMBAD</td><td>6.3149</td><td>7.83</td><td>FF</td><td>3.3</td><td>55641.62768306</td><td>55641.62820389</td><td>F</td><td>14</td><td>17</td><td>XMMSL1 J091357.5+791119</td><td>410781</td><td>7200</td><td>0.124321099261732</td><td>-0.140455083492718</td><td>0.982250799846662</td><td>pgc25999</td><td>0.025145082817921566</td><td>138.486974,79.1888601</td></tr>\n",
       "<tr><td>34972</td><td>XMMSL2 J094541.7-141935</td><td>9100500003</td><td>21</td><td>146.424154</td><td>-14.326362</td><td>2.15235</td><td>249.70530</td><td>28.78019</td><td>0.535789</td><td>0.227281</td><td>53526.2287731481</td><td>53526.2877893519</td><td>20.671</td><td>4.69958</td><td>15.223</td><td>3.97425</td><td>5.3176</td><td>2.45331</td><td>487.14</td><td>646.96</td><td>487.3</td><td>647.05</td><td>487.02</td><td>646.76</td><td>0</td><td>0</td><td>0</td><td>0</td><td>0</td><td>0</td><td>85.79</td><td>74.882</td><td>16.959</td><td>--</td><td>--</td><td>--</td><td>0.00071507</td><td>0.00023303</td><td>0.00041978</td><td>8.3677</td><td>7.8193</td><td>9.0365</td><td>7.8037e-12</td><td>1.7742e-12</td><td>1.7802e-11</td><td>4.6475e-12</td><td>8.4502e-13</td><td>3.8986e-13</td><td>2.4703</td><td>0.56163</td><td>1.9468</td><td>0.50826</td><td>0.58845</td><td>0.27149</td><td>146.4242</td><td>-14.32636</td><td>2.1524</td><td>249.7053</td><td>28.78019</td><td>146.424</td><td>-14.32626</td><td>2.7017</td><td>249.7051</td><td>28.78013</td><td>146.4243</td><td>-14.32659</td><td>3.8974</td><td>249.7056</td><td>28.78013</td><td>CLEAN_SAMPLE</td><td>xs1005_9100500003_09:45:41.7-14:19:35</td><td>xs1005_9100500003_09:45:41.7-14:19:35</td><td>xs1005_9100500003_09:45:41.8-14:19:36</td><td>P9100500003PNS003IMAGE_801c.FTZ</td><td>P9100500003PNS003IMAGE_701c.FTZ</td><td>P9100500003PNS003IMAGE_601c.FTZ</td><td>F</td><td>F</td><td>F</td><td>F</td><td>F</td><td>F</td><td></td><td>NGC  2992</td><td></td><td>J094541.9-141927</td><td>Seyfert_2</td><td>SIMBAD</td><td>5.0154</td><td>8.496</td><td>FF</td><td>7.9</td><td>53526.2458775</td><td>53526.24639833</td><td>F</td><td>19</td><td>23</td><td></td><td>114043</td><td>7106</td><td>0.535841910498469</td><td>-0.807245009169956</td><td>-0.247444826423082</td><td>pgc27982</td><td>0.000987385382552127</td><td>146.424154,-14.3263615</td></tr>\n",
       "<tr><td>34974</td><td>XMMSL2 J094541.7-141935</td><td>9173000003</td><td>14</td><td>146.425364</td><td>-14.324820</td><td>3.78867</td><td>249.70491</td><td>28.78210</td><td>--</td><td>--</td><td>54972.3137847222</td><td>54972.3132986111</td><td>8.6671</td><td>3.16326</td><td>--</td><td>--</td><td>5.487</td><td>2.44740</td><td>510</td><td>819.61</td><td>--</td><td>--</td><td>510.69</td><td>819.68</td><td>0</td><td>0</td><td>--</td><td>--</td><td>0</td><td>0</td><td>26.678</td><td>--</td><td>21.176</td><td>--</td><td>--</td><td>--</td><td>0.00089152</td><td>--</td><td>0.00027714</td><td>6.0502</td><td>--</td><td>6.8479</td><td>4.5254e-12</td><td>1.6516e-12</td><td>--</td><td>--</td><td>1.1506e-12</td><td>5.1322e-13</td><td>1.4325</td><td>0.52284</td><td>--</td><td>--</td><td>0.80127</td><td>0.35739</td><td>146.4254</td><td>-14.32482</td><td>3.7887</td><td>249.7049</td><td>28.7821</td><td>--</td><td>--</td><td>--</td><td>--</td><td>--</td><td>146.4245</td><td>-14.32475</td><td>3.523</td><td>249.7042</td><td>28.78157</td><td>CLEAN_SAMPLE</td><td>xs1730_9173000003_09:45:42.0-14:19:29</td><td></td><td>xs1730_9173000003_09:45:41.9-14:19:29</td><td>P9173000003PNS003IMAGE_8020.FTZ</td><td></td><td>P9173000003PNS003IMAGE_6020.FTZ</td><td>F</td><td>F</td><td>F</td><td>F</td><td>F</td><td>F</td><td></td><td>NGC  2992</td><td></td><td>J094541.9-141927</td><td>Seyfert_2</td><td>SIMBAD</td><td>5.0154</td><td>8.496</td><td>FF</td><td>2.8</td><td>54972.3330187</td><td>54972.33353954</td><td>F</td><td>10</td><td>9</td><td>XMMSL1 J094541.7-141928</td><td>114043</td><td>7106</td><td>0.535828537809479</td><td>-0.807261875044046</td><td>-0.247418760746485</td><td>pgc27982</td><td>0.0015662696440619942</td><td>146.425364,-14.3248202</td></tr>\n",
       "<tr><td>53012</td><td>XMMSL2 J125441.7+285642</td><td>9174700002</td><td>32</td><td>193.674468</td><td>28.945116</td><td>5.17160</td><td>101.52238</td><td>88.04593</td><td>--</td><td>--</td><td>55006.4898958333</td><td>55006.4898958333</td><td>--</td><td>--</td><td>--</td><td>--</td><td>3.5192</td><td>2.05122</td><td>--</td><td>--</td><td>--</td><td>--</td><td>432.31</td><td>284.74</td><td>--</td><td>--</td><td>--</td><td>--</td><td>0</td><td>0</td><td>--</td><td>--</td><td>10.653</td><td>--</td><td>--</td><td>--</td><td>--</td><td>--</td><td>0.00032163</td><td>--</td><td>--</td><td>8.1931</td><td>--</td><td>--</td><td>--</td><td>--</td><td>6.168e-13</td><td>3.5952e-13</td><td>--</td><td>--</td><td>--</td><td>--</td><td>0.42953</td><td>0.25036</td><td>--</td><td>--</td><td>--</td><td>--</td><td>--</td><td>--</td><td>--</td><td>--</td><td>--</td><td>--</td><td>193.6745</td><td>28.94512</td><td>5.1716</td><td>101.5224</td><td>88.04593</td><td>XXXXXXXXXXXX</td><td></td><td></td><td>xs1747_9174700002_12:54:41.7+28:56:42</td><td></td><td></td><td>P9174700002PNS003IMAGE_6037.FTZ</td><td>F</td><td>F</td><td>F</td><td>F</td><td>F</td><td>F</td><td></td><td></td><td></td><td></td><td></td><td></td><td>--</td><td>--</td><td>FF</td><td>2.7</td><td>55006.52110898</td><td>55006.52162981</td><td>F</td><td>5</td><td>8</td><td></td><td>--</td><td>9999</td><td>-0.206874321593194</td><td>-0.850279081040811</td><td>0.483971589465487</td><td>nsa142509</td><td>0.007881780529974704</td><td>193.674468,28.9451157</td></tr>\n",
       "<tr><td>58964</td><td>XMMSL2 J134519.0+414242</td><td>9201500004</td><td>3</td><td>206.326791</td><td>41.708797</td><td>4.31445</td><td>89.27318</td><td>71.71825</td><td>0.060704</td><td>0.298527</td><td>55540.9918171296</td><td>55540.9918171296</td><td>13.555</td><td>3.79523</td><td>5.679</td><td>2.51667</td><td>6.9636</td><td>2.72921</td><td>566.52</td><td>683.02</td><td>566.89</td><td>685.14</td><td>566.18</td><td>683.04</td><td>0</td><td>0</td><td>0</td><td>0</td><td>0</td><td>0</td><td>47.979</td><td>16.712</td><td>24.519</td><td>--</td><td>--</td><td>--</td><td>0.00024226</td><td>0.00019253</td><td>0.00019365</td><td>5.955</td><td>5.1438</td><td>7.1226</td><td>7.1905e-12</td><td>2.0133e-12</td><td>1.0095e-11</td><td>4.4738e-12</td><td>1.404e-12</td><td>5.5025e-13</td><td>2.2762</td><td>0.63731</td><td>1.104</td><td>0.48926</td><td>0.97768</td><td>0.38318</td><td>206.3268</td><td>41.7088</td><td>4.3144</td><td>89.27318</td><td>71.71825</td><td>206.3262</td><td>41.71121</td><td>6.1554</td><td>89.27928</td><td>71.71672</td><td>206.3273</td><td>41.70881</td><td>5.6349</td><td>89.27228</td><td>71.71798</td><td>CLEAN_SAMPLE</td><td>xs2015_9201500004_13:45:18.3+41:42:32</td><td>xs2015_9201500004_13:45:18.3+41:42:40</td><td>xs2015_9201500004_13:45:18.7+41:42:32</td><td>P9201500004PNS003IMAGE_8075.FTZ</td><td>P9201500004PNS003IMAGE_7075.FTZ</td><td>P9201500004PNS003IMAGE_6075.FTZ</td><td>F</td><td>F</td><td>F</td><td>F</td><td>F</td><td>F</td><td></td><td>NGC  5290</td><td></td><td>J134518.5+414242</td><td>Seyfert_2</td><td>SIMBAD</td><td>2.821</td><td>5.604</td><td>FF</td><td>15.9</td><td>55541.05533352</td><td>55541.05585435</td><td>F</td><td>12</td><td>22</td><td>XMMSL1 J134518.3+414235</td><td>406800</td><td>7106</td><td>-0.331081515717967</td><td>-0.669104690351643</td><td>0.665344980667417</td><td>nsa163956</td><td>0.0043012663893224265</td><td>206.326791,41.7087968</td></tr>\n",
       "<tr><td>58966</td><td>XMMSL2 J134519.0+414242</td><td>9100600002</td><td>5</td><td>206.327035</td><td>41.712588</td><td>3.37006</td><td>89.28073</td><td>71.71528</td><td>--</td><td>--</td><td>53527.9111111111</td><td>53527.9586458333</td><td>9.3299</td><td>3.11674</td><td>6.1473</td><td>2.51617</td><td>--</td><td>--</td><td>555</td><td>564.85</td><td>554.54</td><td>564.82</td><td>--</td><td>--</td><td>0</td><td>0</td><td>0</td><td>0</td><td>--</td><td>--</td><td>38.834</td><td>28.403</td><td>--</td><td>--</td><td>--</td><td>--</td><td>0.00066595</td><td>0.0002071</td><td>--</td><td>7.4418</td><td>6.8093</td><td>--</td><td>3.9605e-12</td><td>1.323e-12</td><td>8.255e-12</td><td>3.3789e-12</td><td>--</td><td>--</td><td>1.2537</td><td>0.41882</td><td>0.90278</td><td>0.36952</td><td>--</td><td>--</td><td>206.327</td><td>41.71259</td><td>3.3701</td><td>89.28073</td><td>71.71528</td><td>206.3277</td><td>41.71255</td><td>4.0153</td><td>89.27937</td><td>71.71496</td><td>--</td><td>--</td><td>--</td><td>--</td><td>--</td><td>CLEAN_SAMPLE</td><td>xs1006_9100600002_13:45:18.3+41:42:45</td><td>xs1006_9100600002_13:45:18.7+41:42:45</td><td></td><td>P9100600002PNS003IMAGE_8044.FTZ</td><td>P9100600002PNS003IMAGE_7044.FTZ</td><td></td><td>F</td><td>F</td><td>F</td><td>F</td><td>F</td><td>F</td><td></td><td>NGC  5290</td><td></td><td>J134518.5+414242</td><td>Seyfert_2</td><td>SIMBAD</td><td>2.821</td><td>5.604</td><td>FF</td><td>2.3</td><td>53527.9490488</td><td>53527.94956963</td><td>F</td><td>9</td><td>10</td><td></td><td>406800</td><td>7106</td><td>-0.331064838472676</td><td>-0.669063826963889</td><td>0.665394370411635</td><td>nsa163956</td><td>0.0020563061519310684</td><td>206.327035,41.7125875</td></tr>\n",
       "<tr><td>58965</td><td>XMMSL2 J134519.0+414242</td><td>9129100002</td><td>12</td><td>206.329498</td><td>41.711699</td><td>2.47920</td><td>89.27446</td><td>71.71474</td><td>0.119220</td><td>0.291451</td><td>54096.5263425926</td><td>54096.5263425926</td><td>12.885</td><td>3.76319</td><td>6.4723</td><td>2.63517</td><td>6.4395</td><td>2.65753</td><td>276.02</td><td>677.61</td><td>275.55</td><td>677.12</td><td>276.49</td><td>678</td><td>0</td><td>0</td><td>0</td><td>0</td><td>0</td><td>0</td><td>53.069</td><td>26.335</td><td>27.271</td><td>--</td><td>--</td><td>--</td><td>0.00054962</td><td>0.00027254</td><td>0.00023272</td><td>6.3598</td><td>5.7043</td><td>7.2119</td><td>6.4e-12</td><td>1.8692e-12</td><td>1.0375e-11</td><td>4.2241e-12</td><td>1.2822e-12</td><td>5.2915e-13</td><td>2.0259</td><td>0.59171</td><td>1.1346</td><td>0.46196</td><td>0.8929</td><td>0.36849</td><td>206.3295</td><td>41.7117</td><td>2.4792</td><td>89.27446</td><td>71.71474</td><td>206.3302</td><td>41.71114</td><td>4.0242</td><td>89.27203</td><td>71.71481</td><td>206.3288</td><td>41.71214</td><td>3.2294</td><td>89.27667</td><td>71.71476</td><td>CLEAN_SAMPLE</td><td>xs1291_9129100002_13:45:19.0+41:42:42</td><td>xs1291_9129100002_13:45:19.0+41:42:40</td><td>xs1291_9129100002_13:45:19.0+41:42:44</td><td>P9129100002PNS003IMAGE_8058.FTZ</td><td>P9129100002PNS003IMAGE_7058.FTZ</td><td>P9129100002PNS003IMAGE_6058.FTZ</td><td>F</td><td>F</td><td>F</td><td>F</td><td>F</td><td>F</td><td></td><td>NGC  5290</td><td></td><td>J134518.5+414242</td><td>Seyfert_2</td><td>SIMBAD</td><td>2.821</td><td>5.604</td><td>FF</td><td>2.4</td><td>54096.57472009</td><td>54096.57524093</td><td>F</td><td>12</td><td>18</td><td>XMMSL1 J134519.4+414243</td><td>406800</td><td>7106</td><td>-0.331098179768032</td><td>-0.669058843591037</td><td>0.665382791456858</td><td>nsa163956</td><td>0.000802135742899054</td><td>206.329498,41.7116988</td></tr>\n",
       "<tr><td>58967</td><td>XMMSL2 J134519.0+414242</td><td>9129600004</td><td>30</td><td>206.331067</td><td>41.712760</td><td>4.27518</td><td>89.27389</td><td>71.71317</td><td>--</td><td>--</td><td>54106.9478935185</td><td>54106.9478935185</td><td>4.8458</td><td>2.30198</td><td>--</td><td>--</td><td>--</td><td>--</td><td>527.88</td><td>623.64</td><td>--</td><td>--</td><td>--</td><td>--</td><td>0</td><td>0</td><td>--</td><td>--</td><td>--</td><td>--</td><td>14.511</td><td>--</td><td>--</td><td>--</td><td>--</td><td>--</td><td>0.0011473</td><td>--</td><td>--</td><td>4.2209</td><td>--</td><td>--</td><td>3.6267e-12</td><td>1.7228e-12</td><td>--</td><td>--</td><td>--</td><td>--</td><td>1.148</td><td>0.54537</td><td>--</td><td>--</td><td>--</td><td>--</td><td>206.3311</td><td>41.71276</td><td>4.2752</td><td>89.27389</td><td>71.71317</td><td>--</td><td>--</td><td>--</td><td>--</td><td>--</td><td>--</td><td>--</td><td>--</td><td>--</td><td>--</td><td>XXXXXXXXXXXX</td><td>xs1296_9129600004_13:45:19.4+41:42:46</td><td></td><td></td><td>P9129600004PNS003IMAGE_8085.FTZ</td><td></td><td></td><td>F</td><td>F</td><td>F</td><td>F</td><td>F</td><td>F</td><td></td><td>NGC  5290</td><td></td><td>J134518.5+414242</td><td>Seyfert_2</td><td>SIMBAD</td><td>2.821</td><td>5.604</td><td>FF</td><td>5.4</td><td>54107.01970852</td><td>54107.02022935</td><td>F</td><td>5</td><td>9</td><td></td><td>--</td><td>7106</td><td>-0.33111103339567</td><td>-0.669038727748646</td><td>0.665396621825001</td><td>nsa163956</td><td>0.0009995366651166901</td><td>206.331067,41.7127603</td></tr>\n",
       "<tr><td>37963</td><td>XMMSL2 J141747.0-072445</td><td>9257800004</td><td>13</td><td>214.445560</td><td>-7.412400</td><td>4.36030</td><td>337.20870</td><td>49.62555</td><td>--</td><td>--</td><td>56663.7487268519</td><td>56663.7487268519</td><td>--</td><td>--</td><td>3.8112</td><td>2.09367</td><td>--</td><td>--</td><td>--</td><td>--</td><td>463.68</td><td>607.18</td><td>--</td><td>--</td><td>--</td><td>--</td><td>0</td><td>0</td><td>--</td><td>--</td><td>--</td><td>12.469</td><td>--</td><td>--</td><td>--</td><td>--</td><td>--</td><td>0.00039294</td><td>--</td><td>--</td><td>3.706</td><td>--</td><td>--</td><td>--</td><td>9.4037e-12</td><td>5.1659e-12</td><td>--</td><td>--</td><td>--</td><td>--</td><td>1.0284</td><td>0.56495</td><td>--</td><td>--</td><td>--</td><td>--</td><td>--</td><td>--</td><td>--</td><td>214.4456</td><td>-7.4124</td><td>4.3603</td><td>337.2087</td><td>49.62555</td><td>--</td><td>--</td><td>--</td><td>--</td><td>--</td><td>XXXXXXXXXXXX</td><td></td><td>xs2578_9257800004_14:17:47.0-07:24:45</td><td></td><td></td><td>P9257800004PNS003IMAGE_7010.FTZ</td><td></td><td>F</td><td>F</td><td>F</td><td>F</td><td>F</td><td>F</td><td></td><td></td><td></td><td></td><td></td><td></td><td>--</td><td>--</td><td>FF</td><td>6.7</td><td>56663.75965065</td><td>56663.76017148</td><td>F</td><td>3</td><td>4</td><td></td><td>--</td><td>9999</td><td>-0.56089617100874</td><td>-0.817772493077978</td><td>-0.129010212435929</td><td>pgc51055</td><td>0.028018643955932784</td><td>214.44556,-7.41240003</td></tr>\n",
       "<tr><td>15464</td><td>XMMSL2 J215609.2-493127</td><td>9254300002</td><td>38</td><td>329.038793</td><td>-49.524281</td><td>5.09495</td><td>347.05459</td><td>-49.79014</td><td>--</td><td>--</td><td>56593.0766666667</td><td>56593.0766666667</td><td>--</td><td>--</td><td>--</td><td>--</td><td>3.6095</td><td>2.03456</td><td>--</td><td>--</td><td>--</td><td>--</td><td>370.65</td><td>488.16</td><td>--</td><td>--</td><td>--</td><td>--</td><td>0</td><td>0</td><td>--</td><td>--</td><td>13.036</td><td>--</td><td>--</td><td>--</td><td>--</td><td>--</td><td>0.00024118</td><td>--</td><td>--</td><td>11.073</td><td>--</td><td>--</td><td>--</td><td>--</td><td>4.6808e-13</td><td>2.6384e-13</td><td>--</td><td>--</td><td>--</td><td>--</td><td>0.32596</td><td>0.18373</td><td>--</td><td>--</td><td>--</td><td>--</td><td>--</td><td>--</td><td>--</td><td>--</td><td>--</td><td>--</td><td>329.0388</td><td>-49.52428</td><td>5.095</td><td>347.0546</td><td>-49.79014</td><td>XXXXXXXXXXXX</td><td></td><td></td><td>xs2543_9254300002_21:56:09.2-49:31:27</td><td></td><td></td><td>P9254300002PNS003IMAGE_6020.FTZ</td><td>F</td><td>F</td><td>F</td><td>F</td><td>F</td><td>F</td><td></td><td>NGC  7155</td><td></td><td></td><td>GinGroup</td><td>SIMBAD</td><td>9.5729</td><td>--</td><td>FF</td><td>2.6</td><td>56593.0959238</td><td>56593.09644463</td><td>F</td><td>3</td><td>3</td><td></td><td>--</td><td>6700</td><td>-0.333947673380984</td><td>0.556635598164212</td><td>-0.76068111735457</td><td>pgc67663</td><td>0.0025613023415431615</td><td>329.038793,-49.5242805</td></tr>\n",
       "<tr><td>23659</td><td>XMMSL2 J230704.4-361623</td><td>9054200002</td><td>44</td><td>346.768038</td><td>-36.273075</td><td>4.20922</td><td>3.95049</td><td>-66.08817</td><td>--</td><td>--</td><td>52602.047037037</td><td>52602.1188888889</td><td>3.6885</td><td>2.03888</td><td>--</td><td>--</td><td>--</td><td>--</td><td>351.98</td><td>766.46</td><td>--</td><td>--</td><td>--</td><td>--</td><td>0</td><td>0</td><td>--</td><td>--</td><td>--</td><td>--</td><td>15.09</td><td>--</td><td>--</td><td>--</td><td>--</td><td>--</td><td>0.0002022</td><td>--</td><td>--</td><td>4.2977</td><td>--</td><td>--</td><td>2.7112e-12</td><td>1.4987e-12</td><td>--</td><td>--</td><td>--</td><td>--</td><td>0.85825</td><td>0.47441</td><td>--</td><td>--</td><td>--</td><td>--</td><td>346.768</td><td>-36.27308</td><td>4.2092</td><td>3.950491</td><td>-66.08817</td><td>--</td><td>--</td><td>--</td><td>--</td><td>--</td><td>--</td><td>--</td><td>--</td><td>--</td><td>--</td><td>XXXXXXXXXXXX</td><td>xs0542_9054200002_23:07:04.4-36:16:23</td><td></td><td></td><td>P9054200002PNS003IMAGE_804e.FTZ</td><td></td><td></td><td>F</td><td>F</td><td>F</td><td>F</td><td>F</td><td>F</td><td></td><td>NGC  7484</td><td></td><td></td><td>GinPair</td><td>SIMBAD</td><td>10.644</td><td>--</td><td>FF</td><td>1.9</td><td>52602.09018306</td><td>52602.09070389</td><td>F</td><td>4</td><td>5</td><td></td><td>--</td><td>6700</td><td>-0.184535761660196</td><td>0.784802715309546</td><td>-0.591634389392009</td><td>pgc70505</td><td>0.003117155695138371</td><td>346.768038,-36.2730754</td></tr>\n",
       "</table></div>"
      ],
      "text/plain": [
       "<Table length=11>\n",
       "xmmslewful___row xmmslewful_xmmslew_name ...         cp-coo        \n",
       "                                         ...                       \n",
       "     int32                object         ...         str22         \n",
       "---------------- ----------------------- ... ----------------------\n",
       "           71505 XMMSL2 J091356.8+791120 ...  138.486974,79.1888601\n",
       "           34972 XMMSL2 J094541.7-141935 ... 146.424154,-14.3263615\n",
       "           34974 XMMSL2 J094541.7-141935 ... 146.425364,-14.3248202\n",
       "           53012 XMMSL2 J125441.7+285642 ...  193.674468,28.9451157\n",
       "           58964 XMMSL2 J134519.0+414242 ...  206.326791,41.7087968\n",
       "           58966 XMMSL2 J134519.0+414242 ...  206.327035,41.7125875\n",
       "           58965 XMMSL2 J134519.0+414242 ...  206.329498,41.7116988\n",
       "           58967 XMMSL2 J134519.0+414242 ...  206.331067,41.7127603\n",
       "           37963 XMMSL2 J141747.0-072445 ...  214.44556,-7.41240003\n",
       "           15464 XMMSL2 J215609.2-493127 ... 329.038793,-49.5242805\n",
       "           23659 XMMSL2 J230704.4-361623 ... 346.768038,-36.2730754"
      ]
     },
     "execution_count": 168,
     "metadata": {},
     "output_type": "execute_result"
    }
   ],
   "source": [
    "cat = xmmn_matches['xmmslewful']\n",
    "cat_coo = SkyCoord(ra=cat['xmmslewful_ra'], dec=cat['xmmslewful_dec'])\n",
    "\n",
    "seps = []\n",
    "for coo, row in zip(cat_coo,cat):\n",
    "    hrow = hosts[row['hostid']==hosts['HOSTID']]\n",
    "    assert len(hrow)==1, len(hrow)\n",
    "    hrow = hrow[0]\n",
    "\n",
    "    seps.append(hrow['coord'].separation(coo))\n",
    "cat['seps'] = u.Quantity(seps)\n",
    "cat['cp-coo'] = ['{0.ra.deg:.9},{0.dec.deg:.9}'.format(coo) for coo in cat_coo]\n",
    "cat"
   ]
  },
  {
   "cell_type": "code",
   "execution_count": 169,
   "id": "9b8c1658-344e-4389-b8a3-df380f4c4bed",
   "metadata": {},
   "outputs": [],
   "source": [
    "xmmslewful_comments = {\n",
    "    'pgc25999': 'Nothing there? But visible in ROSAT',\n",
    "    'pgc27982': 'Seyfert',\n",
    "    'nsa142509': 'Nothing, including ROSAT',\n",
    "    'nsa163956': 'In ROSAT',\n",
    "    'pgc51055': 'Nothing, including ROSAT',\n",
    "    'pgc67663': 'Nothing, including ROSAT',\n",
    "    'pgc70505': 'Nothing, including ROSAT',\n",
    "}"
   ]
  },
  {
   "cell_type": "code",
   "execution_count": 171,
   "id": "b3ebaf1c-27ba-408c-8ba5-2eda696d571e",
   "metadata": {},
   "outputs": [],
   "source": [
    "cat = xmmn_matches['xmmssc']\n",
    "cat_coo = SkyCoord(ra=cat['xmmssc_ra'], dec=cat['xmmssc_dec'])\n",
    "\n",
    "seps = []\n",
    "for coo, row in zip(cat_coo,cat):\n",
    "    hrow = hosts[row['hostid']==hosts['HOSTID']]\n",
    "    assert len(hrow)==1, len(hrow)\n",
    "    hrow = hrow[0]\n",
    "\n",
    "    seps.append(hrow['coord'].separation(coo))\n",
    "cat['seps'] = u.Quantity(seps)\n",
    "cat['cp-coo'] = ['{0.ra.deg:.9},{0.dec.deg:.9}'.format(coo) for coo in cat_coo]"
   ]
  },
  {
   "cell_type": "code",
   "execution_count": 173,
   "id": "d1371efd-0745-4dca-9bf3-241fd7b841dd",
   "metadata": {},
   "outputs": [
    {
     "data": {
      "image/png": "[encoded data removed]",
      "text/plain": [
       "<Figure size 1200x500 with 3 Axes>"
      ]
     },
     "metadata": {},
     "output_type": "display_data"
    }
   ],
   "source": [
    "fig, (ax1, ax2, ax3) = plt.subplots(1, 3, figsize=(12, 5))\n",
    "ax1.hist(u.Quantity(cat['seps']).to(u.arcsec), bins=100)\n",
    "ax2.hist(u.Quantity(cat['seps']).to(u.arcsec), bins=100, range=(0*u.arcsec, 10*u.arcsec));\n",
    "ax3.hist(u.Quantity(cat['seps']).to(u.arcsec), bins=50, range=(0*u.arcsec, 2*u.arcsec));"
   ]
  },
  {
   "cell_type": "code",
   "execution_count": 174,
   "id": "899ba507-8fbc-4f80-8c8f-18a68eb61807",
   "metadata": {},
   "outputs": [
    {
     "name": "stdout",
     "output_type": "stream",
     "text": [
      "by_eye_checks = {\n",
      "'nsa133115': '',\n",
      "# 45.910458,-15.6138572\n",
      "'nsa133141': '',\n",
      "# 46.5125295,-15.6112493\n",
      "'nsa133953': '',\n",
      "# 72.136854,-6.5700972\n",
      "'nsa136403': '',\n",
      "# 150.358014,15.7699934\n",
      "'nsa13927': '',\n",
      "# 180.676083,1.9768187\n",
      "'nsa140458': '',\n",
      "# 178.988949,6.7495342\n",
      "'nsa141315': '',\n",
      "# 186.325234,4.9249453\n",
      "'nsa145729': '',\n",
      "# 224.594497,-1.0910342\n",
      "'nsa150578': '',\n",
      "# 346.236102,12.3228077\n",
      "'nsa155005': '',\n",
      "# 35.401959,-5.5213909\n",
      "'nsa164865': '',\n",
      "# 215.265411,3.2710116\n",
      "'pgc12131': '',\n",
      "# 49.0032315,-2.4273468\n",
      "'pgc14084': '',\n",
      "# 58.662132,-20.5023357\n",
      "'pgc27982': '',\n",
      "# 146.425173,-14.3263754\n",
      "'pgc28876': '',\n",
      "# 149.873013,-22.8263321\n",
      "'pgc33623': '',\n",
      "# 166.69779,72.5685398\n",
      "'pgc35869': '',\n",
      "# 173.988792,70.5356348\n",
      "'pgc43642': '',\n",
      "# 193.055234,-29.840649\n",
      "'pgc45170': '',\n",
      "# 196.059813,-10.3395694\n",
      "'pgc46441': '',\n",
      "# 199.835985,-14.8446124\n",
      "'pgc47394': '',\n",
      "# 202.453191,-17.9664979\n",
      "'pgc63571': '',\n",
      "# 295.8935,-58.6557222\n",
      "'pgc63620': '',\n",
      "# 296.313231,-54.3441973\n",
      "'pgc64446': '',\n",
      "# 304.575647,-44.8070492\n",
      "'pgc66318': '',\n",
      "# 317.967001,-49.2837654\n",
      "'pgc67146': '',\n",
      "# 325.053719,-42.5394068\n",
      "'pgc67892': '',\n",
      "# 330.590094,-18.9165097\n",
      "'pgc70094': '',\n",
      "# 344.306316,-43.3960258\n",
      "'pgc70676': '',\n",
      "# 348.031554,-28.539653\n",
      "'pgc72060': '',\n",
      "# 354.974288,-12.2927807\n",
      "}\n"
     ]
    }
   ],
   "source": [
    "possible_match_rad = 4*u.arcsec\n",
    "\n",
    "print('by_eye_checks = {')\n",
    "for hostid in np.unique(cat[u.Quantity(cat['seps'])<possible_match_rad]['hostid']):\n",
    "    row = hosts[hosts['HOSTID']==hostid][0]\n",
    "    print(f\"'{hostid}': '',\")\n",
    "    print('# {0.ra.deg:.9},{0.dec.deg:.9}'.format(row['coord']))\n",
    "print('}')"
   ]
  },
  {
   "cell_type": "markdown",
   "id": "18ec907c-9948-435c-b728-120e09063c94",
   "metadata": {},
   "source": [
    "The options are:\n",
    "* 'a' - strong point source at glx center\n",
    "* 'y' - definitely real source at glx center\n",
    "* 'm' - possible source, but not obvious\n",
    "* 'n' - galaxy definitly not x-ray source\n",
    "* 'f' - not in footprint of heasarc viewer tool"
   ]
  },
  {
   "cell_type": "code",
   "execution_count": 176,
   "id": "f51aed6a-5108-4b49-93f5-0441b3689ac9",
   "metadata": {},
   "outputs": [],
   "source": [
    "by_eye_checks_xmmssc = {\n",
    "'nsa133115': 'f',\n",
    "# 45.910458,-15.6138572\n",
    "'nsa133141': 'y',\n",
    "# 46.5125295,-15.6112493\n",
    "'nsa133953': 'm',\n",
    "# 72.136854,-6.5700972\n",
    "'nsa136403': 'y',\n",
    "# 150.358014,15.7699934\n",
    "'nsa13927': 'f',\n",
    "# 180.676083,1.9768187\n",
    "'nsa140458': 'y',\n",
    "# 178.988949,6.7495342\n",
    "'nsa141315': 'y',  # catalog source is off-center but it's a real source\n",
    "# 186.325234,4.9249453\n",
    "'nsa145729': 'n',\n",
    "# 224.594497,-1.0910342\n",
    "'nsa150578': 'm',  # there are some strong source in the spiral arms but not in the core\n",
    "# 346.236102,12.3228077\n",
    "'nsa155005': 'n',\n",
    "# 35.401959,-5.5213909\n",
    "'nsa164865': 'm',  # weak source but maybe point-like\n",
    "# 215.265411,3.2710116\n",
    "'pgc12131': 'y',  # quite strong point source... POSSIBLE AGN?\n",
    "# 49.0032315,-2.4273468\n",
    "'pgc14084': 'm',  # strong but maybe a bit extened?\n",
    "# 58.662132,-20.5023357\n",
    "'pgc27982': 'a',  # NGC 2992, famous Seyfert\n",
    "# 146.425173,-14.3263754\n",
    "'pgc28876': 'f',\n",
    "# 149.873013,-22.8263321\n",
    "'pgc33623': 'a',  # NGC 3516, Seyfert Seyfert\n",
    "# 166.69779,72.5685398\n",
    "'pgc35869': 'm',  # artifacts\n",
    "# 173.988792,70.5356348\n",
    "'pgc43642': 'm',  # very weak source\n",
    "# 193.055234,-29.840649\n",
    "'pgc45170': 'm',  # extended emission from bar, but point-like in swift?  faint though\n",
    "# 196.059813,-10.3395694\n",
    "'pgc46441': 'y',  # weak but point-like at center\n",
    "# 199.835985,-14.8446124\n",
    "'pgc47394': 'm',  # extended?\n",
    "# 202.453191,-17.9664979\n",
    "'pgc63571': 'y',  # a bit of a mess but quite strong\n",
    "# 295.8935,-58.6557222\n",
    "'pgc63620': 'y',  # weak but point-like\n",
    "# 296.313231,-54.3441973\n",
    "'pgc64446': 'y',  #point-like, possible AGN?\n",
    "# 304.575647,-44.8070492\n",
    "'pgc66318': 'm',  # weak, possibly extended\n",
    "# 317.967001,-49.2837654\n",
    "'pgc67146': 'm',  # fair amouint of extended\n",
    "# 325.053719,-42.5394068\n",
    "'pgc67892': 'm',  # weak, extended\n",
    "# 330.590094,-18.9165097\n",
    "'pgc70094': 'y',\n",
    "# 344.306316,-43.3960258\n",
    "'pgc70676': 'y',  #possible binary nucleus?  Or Xray binary in corner?  Oh, although not as promising in Chandra\n",
    "# 348.031554,-28.539653\n",
    "'pgc72060': 'm',  # weak and a bit extended\n",
    "# 354.974288,-12.2927807\n",
    "}"
   ]
  },
  {
   "cell_type": "code",
   "execution_count": 187,
   "id": "26b6b1f6-55a1-488e-8900-ec862e7398b5",
   "metadata": {},
   "outputs": [],
   "source": [
    "hosts['in_xmmssc'] = np.zeros(len(hosts), dtype=bool)\n",
    "hosts['src_in_xmmssc'] = np.zeros(len(hosts), dtype=bool)\n",
    "for k,v in by_eye_checks_xmmssc.items():\n",
    "    hostsmsk = hosts['HOSTID']==k\n",
    "    if v!='f':\n",
    "        hosts['in_xmmssc'][hostsmsk] = True\n",
    "    if v=='a' or v=='y':\n",
    "        hosts['src_in_xmmssc'][hostsmsk] = True"
   ]
  },
  {
   "cell_type": "code",
   "execution_count": 188,
   "id": "f5331a17-0037-407d-acb5-b692d12efc54",
   "metadata": {},
   "outputs": [
    {
     "data": {
      "text/plain": [
       "(0.09, 0.48148148148148145)"
      ]
     },
     "execution_count": 188,
     "metadata": {},
     "output_type": "execute_result"
    }
   ],
   "source": [
    "np.sum(hosts['in_xmmssc'])/len(hosts), np.sum(hosts['src_in_xmmssc'])/np.sum(hosts['in_xmmssc'])"
   ]
  },
  {
   "cell_type": "markdown",
   "id": "5d303998-6674-4622-b17a-419917dbb9bd",
   "metadata": {},
   "source": [
    "# Summary fractions"
   ]
  },
  {
   "cell_type": "code",
   "execution_count": 189,
   "id": "67593e90-be1c-467e-aaef-5fdd2680b80a",
   "metadata": {},
   "outputs": [
    {
     "data": {
      "text/plain": [
       "(0.16, 0.5208333333333334)"
      ]
     },
     "execution_count": 189,
     "metadata": {},
     "output_type": "execute_result"
    }
   ],
   "source": [
    "np.sum(hosts['in_xmmssc']|hosts['in_csc'])/len(hosts), np.sum(hosts['src_in_xmmssc']|hosts['src_in_csc'])/np.sum(hosts['in_xmmssc']|hosts['in_csc'])"
   ]
  },
  {
   "cell_type": "code",
   "execution_count": 190,
   "id": "19499bab-3c71-4154-94c1-535af3d14593",
   "metadata": {},
   "outputs": [
    {
     "data": {
      "text/plain": [
       "25"
      ]
     },
     "execution_count": 190,
     "metadata": {},
     "output_type": "execute_result"
    }
   ],
   "source": [
    "np.sum(hosts['src_in_xmmssc']|hosts['src_in_csc'])"
   ]
  }
 ],
 "metadata": {
  "kernelspec": {
   "display_name": "Python 3 (ipykernel)",
   "language": "python",
   "name": "python3"
  },
  "language_info": {
   "codemirror_mode": {
    "name": "ipython",
    "version": 3
   },
   "file_extension": ".py",
   "mimetype": "text/x-python",
   "name": "python",
   "nbconvert_exporter": "python",
   "pygments_lexer": "ipython3",
   "version": "3.11.6"
  }
 },
 "nbformat": 4,
 "nbformat_minor": 5
}
