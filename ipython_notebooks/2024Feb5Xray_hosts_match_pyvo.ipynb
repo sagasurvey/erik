{
 "cells": [
  {
   "cell_type": "code",
   "execution_count": 65,
   "id": "080354d2-fa5e-45ca-9f30-1e219b8f8b48",
   "metadata": {},
   "outputs": [],
   "source": [
    "import io\n",
    "from pathlib import Path\n",
    "\n",
    "import numpy as np\n",
    "\n",
    "%matplotlib inline\n",
    "from matplotlib import pyplot as plt\n",
    "\n",
    "from astropy import units as u\n",
    "from astropy import table\n",
    "from astropy.io import votable\n",
    "\n",
    "import pyvo as vo\n",
    "\n",
    "from tqdm.notebook import tqdm\n",
    "\n",
    "from multiprocess import Pool\n",
    "\n",
    "from dill import dump, load"
   ]
  },
  {
   "cell_type": "code",
   "execution_count": 4,
   "id": "014474d3-0a4d-49f8-9ea8-d9db31848730",
   "metadata": {},
   "outputs": [],
   "source": [
    "import warnings\n",
    "from astroquery.exceptions import NoResultsWarning\n",
    "warnings.simplefilter('ignore', NoResultsWarning)\n",
    "warnings.simplefilter('ignore', u.UnitsWarning) # comes up in the parsing of some heasarc tables but is just a \"discouraged by FITS standard\" issue"
   ]
  },
  {
   "cell_type": "code",
   "execution_count": 5,
   "id": "95ceb7f2-35a7-400d-b2f9-33a70dc22708",
   "metadata": {},
   "outputs": [
    {
     "name": "stdout",
     "output_type": "stream",
     "text": [
      "SAGA `shared_dir` set to /Users/etollerud/Dropbox/\n",
      "SAGA `local_dir`  set to /../\n"
     ]
    }
   ],
   "source": [
    "import SAGA\n",
    "saga = SAGA.QuickStart('/Users/etollerud/Dropbox/', '/../')"
   ]
  },
  {
   "cell_type": "code",
   "execution_count": 6,
   "id": "5dca7d3d-8a1a-47ae-8b46-02fb20fa8b2e",
   "metadata": {},
   "outputs": [],
   "source": [
    "hosts = saga.host_catalog.load()"
   ]
  },
  {
   "cell_type": "code",
   "execution_count": 26,
   "id": "f376e267-1d72-449a-972e-bc78553ec286",
   "metadata": {},
   "outputs": [
    {
     "data": {
      "text/plain": [
       "<VOTable length=300>\n",
       "  HOSTID        RA         DEC    \n",
       "  str10      float64     float64  \n",
       "---------- ----------- -----------\n",
       " nsa126115    0.995382  20.7523559\n",
       "   pgc1952    8.008776 -64.2533874\n",
       "   pgc2052    8.564589 -27.8036183\n",
       " nsa127226    8.694936  -8.3964957\n",
       "   pgc2778   11.864958 -31.4216944\n",
       "   pgc3089   13.176354 -31.2058056\n",
       "       ...         ...         ...\n",
       "  pgc72009 354.7378755 -12.9610833\n",
       "  pgc72060 354.9742875 -12.2927807\n",
       " nsa169525  356.065458  10.7670833\n",
       "  pgc72444 356.9657175 -30.5220634\n",
       " nsa153017 359.8561875  20.7499195\n",
       " pgc771919   46.033425 -26.0696911\n",
       "pgc3806285 200.0691045 -24.4462083"
      ]
     },
     "execution_count": 26,
     "metadata": {},
     "output_type": "execute_result"
    }
   ],
   "source": [
    "hosts_vot = votable.from_table(hosts['HOSTID', 'RA','DEC'])\n",
    "hosts_vot.get_first_table()"
   ]
  },
  {
   "cell_type": "markdown",
   "id": "801aecc4-2080-4c48-8f8b-98d1e472d968",
   "metadata": {},
   "source": [
    "# Match using HEASARC's PyVO interface\n",
    "\n",
    "According to Tess Jaffe, the astroquery interface is using an older not-well-supported approach, and is to be updated whenever HEASARC can get the resources to do it."
   ]
  },
  {
   "cell_type": "code",
   "execution_count": 7,
   "id": "16aba8c6-5069-4dad-b922-be7df32f4d22",
   "metadata": {},
   "outputs": [],
   "source": [
    "import pyvo"
   ]
  },
  {
   "cell_type": "code",
   "execution_count": 10,
   "id": "b87d9b02-211a-4e75-98ed-daa8c5fcb75d",
   "metadata": {},
   "outputs": [],
   "source": [
    "tap_services = pyvo.regsearch(servicetype='tap', keywords=['heasarc'])\n",
    "assert len(tap_services)==1\n",
    "heasarc_tap = tap_services[0]\n",
    "\n",
    "tables_dct = dict(heasarc_tap.service.tables.items())"
   ]
  },
  {
   "cell_type": "code",
   "execution_count": 115,
   "id": "a9796cd6-5dc2-4980-ba1f-62599dd3e6ed",
   "metadata": {},
   "outputs": [],
   "source": [
    "radius = 12*u.arcmin"
   ]
  },
  {
   "cell_type": "code",
   "execution_count": 117,
   "id": "40d85ffd-cac1-4913-a2dd-acc26d46540b",
   "metadata": {},
   "outputs": [
    {
     "data": {
      "text/plain": [
       "0.2"
      ]
     },
     "execution_count": 117,
     "metadata": {},
     "output_type": "execute_result"
    }
   ],
   "source": [
    "radius.to(u.deg).value"
   ]
  },
  {
   "cell_type": "code",
   "execution_count": 120,
   "id": "2ff21db2-2133-437b-97bb-f7d16f27f06e",
   "metadata": {},
   "outputs": [
    {
     "data": {
      "text/html": [
       "<div><i>Table length=138</i>\n",
       "<table id=\"table11665277968\" class=\"table-striped table-bordered table-condensed\">\n",
       "<thead><tr><th>chanmaster___row</th><th>chanmaster_obsid</th><th>chanmaster_status</th><th>chanmaster_name</th><th>chanmaster_ra</th><th>chanmaster_dec</th><th>chanmaster_lii</th><th>chanmaster_bii</th><th>chanmaster_time</th><th>chanmaster_detector</th><th>chanmaster_grating</th><th>chanmaster_exposure</th><th>chanmaster_type</th><th>chanmaster_pi</th><th>chanmaster_cycle</th><th>chanmaster_proposal</th><th>chanmaster_public_date</th><th>chanmaster_sequence_number</th><th>chanmaster_data_mode</th><th>chanmaster_category</th><th>chanmaster_class</th><th>chanmaster___x_ra_dec</th><th>chanmaster___y_ra_dec</th><th>chanmaster___z_ra_dec</th><th>hostid</th></tr></thead>\n",
       "<thead><tr><th></th><th></th><th></th><th></th><th>deg</th><th>deg</th><th>deg</th><th>deg</th><th>d</th><th></th><th></th><th>s</th><th></th><th></th><th></th><th></th><th>d</th><th></th><th></th><th></th><th></th><th></th><th></th><th></th><th></th></tr></thead>\n",
       "<thead><tr><th>int32</th><th>int32</th><th>object</th><th>object</th><th>float64</th><th>float64</th><th>float64</th><th>float64</th><th>float64</th><th>object</th><th>object</th><th>float64</th><th>object</th><th>object</th><th>int16</th><th>object</th><th>int32</th><th>int32</th><th>object</th><th>object</th><th>int16</th><th>float64</th><th>float64</th><th>float64</th><th>object</th></tr></thead>\n",
       "<tr><td>9685</td><td>23571</td><td>archived</td><td>SN 2009em</td><td>8.68554</td><td>-8.39933</td><td>110.24683</td><td>-70.85875</td><td>59115.954849537</td><td>ACIS-S</td><td>NONE</td><td>12080</td><td>GO</td><td>Patnaude</td><td>22</td><td>22500259</td><td>59481</td><td>503246</td><td>TE_0057A</td><td>SN, SNR AND ISOLATED NS</td><td>3200</td><td>0.149391603204477</td><td>0.977929075843426</td><td>-0.14607146029262</td><td>nsa127226</td></tr>\n",
       "<tr><td>9688</td><td>27644</td><td>archived</td><td>SN 2022jli</td><td>8.69037</td><td>-8.38671</td><td>110.26870</td><td>-70.84733</td><td>59961.4469907407</td><td>ACIS-S</td><td>NONE</td><td>10060</td><td>DDT</td><td>Chen</td><td>23</td><td>23508880</td><td>59962</td><td>503448</td><td>TE_007BC</td><td>SN, SNR AND ISOLATED NS</td><td>3200</td><td>0.149478899171775</td><td>0.977948259426569</td><td>-0.145853558705086</td><td>nsa127226</td></tr>\n",
       "<tr><td>9689</td><td>27646</td><td>archived</td><td>SN 2022jli</td><td>8.69037</td><td>-8.38671</td><td>110.26870</td><td>-70.84733</td><td>59969.882962963</td><td>ACIS-S</td><td>NONE</td><td>10060</td><td>DDT</td><td>Chen</td><td>23</td><td>23508880</td><td>59970</td><td>503450</td><td>TE_007BC</td><td>SN, SNR AND ISOLATED NS</td><td>3200</td><td>0.149478899171775</td><td>0.977948259426569</td><td>-0.145853558705086</td><td>nsa127226</td></tr>\n",
       "<tr><td>9690</td><td>27645</td><td>archived</td><td>SN 2022jli</td><td>8.69037</td><td>-8.38671</td><td>110.26870</td><td>-70.84733</td><td>59965.9437962963</td><td>ACIS-S</td><td>NONE</td><td>10060</td><td>DDT</td><td>Chen</td><td>23</td><td>23508880</td><td>59969</td><td>503449</td><td>TE_007BC</td><td>SN, SNR AND ISOLATED NS</td><td>3200</td><td>0.149478899171775</td><td>0.977948259426569</td><td>-0.145853558705086</td><td>nsa127226</td></tr>\n",
       "<tr><td>5179</td><td>16352</td><td>archived</td><td>NGC289</td><td>13.17667</td><td>-31.20583</td><td>299.12257</td><td>-85.91303</td><td>56881.5004398148</td><td>ACIS-I</td><td>NONE</td><td>50090</td><td>GTO</td><td>Garmire</td><td>15</td><td>15610062</td><td>57247</td><td>601152</td><td>TE_006E6</td><td>NORMAL GALAXIES</td><td>6000</td><td>0.194972050737596</td><td>0.832792734473645</td><td>-0.518114042310268</td><td>pgc3089</td></tr>\n",
       "<tr><td>13871</td><td>4408</td><td>archived</td><td>NGC 821</td><td>32.08750</td><td>10.99472</td><td>151.55478</td><td>-47.55719</td><td>52604.7187152778</td><td>ACIS-S</td><td>NONE</td><td>25270</td><td>GO</td><td>Fabbiano</td><td>4</td><td>04700486</td><td>52984</td><td>700685</td><td>TE_005A0</td><td>ACTIVE GALAXIES AND QUASARS</td><td>7000</td><td>0.521463199181968</td><td>0.831686583139149</td><td>0.190718534299197</td><td>pgc8160</td></tr>\n",
       "<tr><td>...</td><td>...</td><td>...</td><td>...</td><td>...</td><td>...</td><td>...</td><td>...</td><td>...</td><td>...</td><td>...</td><td>...</td><td>...</td><td>...</td><td>...</td><td>...</td><td>...</td><td>...</td><td>...</td><td>...</td><td>...</td><td>...</td><td>...</td><td>...</td><td>...</td></tr>\n",
       "<tr><td>6444</td><td>11344</td><td>archived</td><td>NGC7507</td><td>348.02917</td><td>-28.54061</td><td>23.44014</td><td>-68.03611</td><td>55471.1952893519</td><td>ACIS-S</td><td>NONE</td><td>7350</td><td>GO</td><td>Gallo</td><td>11</td><td>11620915</td><td>55483</td><td>600863</td><td>TE_00600</td><td>NORMAL GALAXIES</td><td>6000</td><td>-0.182208495439119</td><td>0.859374701084884</td><td>-0.477781526772518</td><td>pgc70676</td></tr>\n",
       "<tr><td>12598</td><td>7070</td><td>archived</td><td>NGC 7541</td><td>348.67958</td><td>4.53444</td><td>82.84005</td><td>-50.65237</td><td>54038.6863657407</td><td>ACIS-S</td><td>NONE</td><td>39480</td><td>GO</td><td>Kaaret</td><td>7</td><td>07620217</td><td>54040</td><td>600508</td><td>TE_002A2</td><td>NORMAL GALAXIES</td><td>6000</td><td>-0.195681212410991</td><td>0.977475649393056</td><td>0.0790583199479204</td><td>nsa150887</td></tr>\n",
       "<tr><td>3542</td><td>23557</td><td>archived</td><td>SN 2012dj</td><td>348.69992</td><td>-43.60619</td><td>346.40715</td><td>-64.48628</td><td>59140.7461342593</td><td>ACIS-S</td><td>NONE</td><td>13080</td><td>GO</td><td>Patnaude</td><td>22</td><td>22500259</td><td>59506</td><td>503232</td><td>TE_0057A</td><td>SN, SNR AND ISOLATED NS</td><td>3200</td><td>-0.141885075916964</td><td>0.710060281004244</td><td>-0.689697776255811</td><td>pgc70800</td></tr>\n",
       "<tr><td>11469</td><td>22526</td><td>archived</td><td>SDSS J233602.98+001728.7</td><td>354.01250</td><td>0.29131</td><td>86.40021</td><td>-57.13398</td><td>58761.0245138889</td><td>ACIS-S</td><td>NONE</td><td>30110</td><td>GO</td><td>Ruan</td><td>21</td><td>21700036</td><td>59130</td><td>703914</td><td>TE_005C6</td><td>ACTIVE GALAXIES AND QUASARS</td><td>7000</td><td>-0.104310141523773</td><td>0.994531821663823</td><td>0.00508429673882261</td><td>nsa61945</td></tr>\n",
       "<tr><td>11470</td><td>19517</td><td>archived</td><td>SDSS J233602.98+001728.7</td><td>354.01250</td><td>0.29131</td><td>86.40021</td><td>-57.13398</td><td>57958.2444212963</td><td>ACIS-S</td><td>NONE</td><td>11060</td><td>GO</td><td>Ruan</td><td>18</td><td>18700505</td><td>58323</td><td>703365</td><td>TE_004A6</td><td>ACTIVE GALAXIES AND QUASARS</td><td>7000</td><td>-0.104310141523773</td><td>0.994531821663823</td><td>0.00508429673882261</td><td>nsa61945</td></tr>\n",
       "<tr><td>9028</td><td>2045</td><td>archived</td><td>ARP 222</td><td>354.97583</td><td>-12.29194</td><td>70.94499</td><td>-67.61484</td><td>52261.0923842593</td><td>ACIS-S</td><td>NONE</td><td>19260</td><td>GO</td><td>Read</td><td>2</td><td>02600706</td><td>52639</td><td>600179</td><td>TE_002A2</td><td>NORMAL GALAXIES</td><td>6000</td><td>-0.085568343198147</td><td>0.97332145505167</td><td>-0.212892939710136</td><td>pgc72060</td></tr>\n",
       "</table></div>"
      ],
      "text/plain": [
       "<Table length=138>\n",
       "chanmaster___row chanmaster_obsid ... chanmaster___z_ra_dec   hostid \n",
       "                                  ...                                \n",
       "     int32            int32       ...        float64          object \n",
       "---------------- ---------------- ... --------------------- ---------\n",
       "            9685            23571 ...     -0.14607146029262 nsa127226\n",
       "            9688            27644 ...    -0.145853558705086 nsa127226\n",
       "            9689            27646 ...    -0.145853558705086 nsa127226\n",
       "            9690            27645 ...    -0.145853558705086 nsa127226\n",
       "            5179            16352 ...    -0.518114042310268   pgc3089\n",
       "           13871             4408 ...     0.190718534299197   pgc8160\n",
       "             ...              ... ...                   ...       ...\n",
       "            6444            11344 ...    -0.477781526772518  pgc70676\n",
       "           12598             7070 ...    0.0790583199479204 nsa150887\n",
       "            3542            23557 ...    -0.689697776255811  pgc70800\n",
       "           11469            22526 ...   0.00508429673882261  nsa61945\n",
       "           11470            19517 ...   0.00508429673882261  nsa61945\n",
       "            9028             2045 ...    -0.212892939710136  pgc72060"
      ]
     },
     "execution_count": 120,
     "metadata": {},
     "output_type": "execute_result"
    }
   ],
   "source": [
    "def get_matches_for_catalog(cat, radius, table, idcol='HOSTID'):\n",
    "    deg = radius.to(u.deg).value\n",
    "    query=f\"\"\"\n",
    "    SELECT *, mt.{idcol}\n",
    "    FROM chanmaster cat, tap_upload.mysources mt\n",
    "    WHERE \n",
    "    contains(point('ICRS',cat.ra,cat.dec),circle('ICRS',mt.ra,mt.dec,{deg}))=1\n",
    "    ORDER by cat.ra\n",
    "    \"\"\"\n",
    "    \n",
    "    vot = votable.from_table(cat[idcol, 'RA', 'DEC'])\n",
    "    bio = io.BytesIO()\n",
    "    vot.to_xml(bio)\n",
    "    bio.seek(0)\n",
    "    \n",
    "    res = heasarc_tap.service.run_async(query, uploads={'mysources': bio})\n",
    "    return res.to_table()\n",
    "\n",
    "get_matches_for_catalog(hosts, 15*u.arcmin, 'chanmaster')"
   ]
  },
  {
   "cell_type": "code",
   "execution_count": 121,
   "id": "ebd1f325-53a2-403a-be8d-3c6ce6c233da",
   "metadata": {},
   "outputs": [
    {
     "data": {
      "application/vnd.jupyter.widget-view+json": {
       "model_id": "e5b2865fb217496b8a473beb0353e255",
       "version_major": 2,
       "version_minor": 0
      },
      "text/plain": [
       "  0%|          | 0/4 [00:00<?, ?it/s]"
      ]
     },
     "metadata": {},
     "output_type": "display_data"
    }
   ],
   "source": [
    "mission_to_rad = {'xmmmaster': 15*u.arcmin, # \" telescope's field of view (FOV) of 30 arcmin and in th\"\n",
    "                  'chanmaster':8*u.arcmin, # this is ~ half ASIC's FOV\n",
    "                  'rosmaster':2.5*u.deg,  #\"5 degree diameter\"\n",
    "                  'rassmaster':2.5*u.deg,  #\"5 degree diameter\"\n",
    "                }\n",
    "\n",
    "matches = {}\n",
    "for tab in tqdm(mission_to_rad):\n",
    "    matches[tab] = get_matches_for_catalog(hosts, mission_to_rad[tab], tab)"
   ]
  }
 ],
 "metadata": {
  "kernelspec": {
   "display_name": "Python 3 (ipykernel)",
   "language": "python",
   "name": "python3"
  },
  "language_info": {
   "codemirror_mode": {
    "name": "ipython",
    "version": 3
   },
   "file_extension": ".py",
   "mimetype": "text/x-python",
   "name": "python",
   "nbconvert_exporter": "python",
   "pygments_lexer": "ipython3",
   "version": "3.11.7"
  }
 },
 "nbformat": 4,
 "nbformat_minor": 5
}
