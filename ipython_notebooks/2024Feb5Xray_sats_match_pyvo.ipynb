{
 "cells": [
  {
   "cell_type": "code",
   "execution_count": 5,
   "id": "080354d2-fa5e-45ca-9f30-1e219b8f8b48",
   "metadata": {},
   "outputs": [],
   "source": [
    "import os\n",
    "import io\n",
    "from pathlib import Path\n",
    "\n",
    "import numpy as np\n",
    "\n",
    "%matplotlib inline\n",
    "from matplotlib import pyplot as plt\n",
    "\n",
    "from astropy import units as u\n",
    "from astropy import table\n",
    "from astropy.io import votable, fits\n",
    "from astropy.coordinates import SkyCoord\n",
    "\n",
    "import pyvo as vo\n",
    "\n",
    "from tqdm.notebook import tqdm\n",
    "\n",
    "from multiprocess import Pool\n",
    "\n",
    "from dill import dump, load"
   ]
  },
  {
   "cell_type": "code",
   "execution_count": 6,
   "id": "014474d3-0a4d-49f8-9ea8-d9db31848730",
   "metadata": {},
   "outputs": [],
   "source": [
    "import warnings\n",
    "from astroquery.exceptions import NoResultsWarning\n",
    "warnings.simplefilter('ignore', NoResultsWarning)\n",
    "warnings.simplefilter('ignore', u.UnitsWarning) # comes up in the parsing of some heasarc tables but is just a \"discouraged by FITS standard\" issue"
   ]
  },
  {
   "cell_type": "markdown",
   "id": "17b80414-c206-4a88-a7b9-b6871acd6f76",
   "metadata": {},
   "source": [
    "# Get/make catalogs\n",
    "\n",
    "First we need to make sure we get the latest satellite data following https://github.com/sagasurvey/internal-data-release/blob/main/README.md#update-data-and-code-do-these-steps-every-time-there-is-a-new-release"
   ]
  },
  {
   "cell_type": "code",
   "execution_count": 7,
   "id": "6c544c49-9b9c-4ede-8fb6-462479aac2e0",
   "metadata": {},
   "outputs": [
    {
     "name": "stdout",
     "output_type": "stream",
     "text": [
      "SAGA `shared_dir` set to /Users/etollerud/Dropbox/\n",
      "SAGA `local_dir`  set to ../../sagadata/\n"
     ]
    }
   ],
   "source": [
    "import SAGA\n",
    "\n",
    "from SAGA import ObjectCuts as C\n",
    "from SAGA import HostCuts as H\n",
    "\n",
    "saga = SAGA.QuickStart('/Users/etollerud/Dropbox/', '../../sagadata/')"
   ]
  },
  {
   "cell_type": "code",
   "execution_count": 8,
   "id": "f9ce7c5d-060e-4199-8b63-d620fa61951c",
   "metadata": {},
   "outputs": [
    {
     "name": "stdout",
     "output_type": "stream",
     "text": [
      "local base and version match, no download needed\n"
     ]
    }
   ],
   "source": [
    "if os.path.exists(saga.database[\"combined_base\"].local.path) and fits.getheader(saga.database[\"combined_base\"].local.path, 1)[\"VERSION\"] == SAGA.__version__:\n",
    "    print('local base and version match, no download needed')\n",
    "else:\n",
    "    print('updating/downloading base catalog')\n",
    "    if os.path.exists(saga.database[\"host_stats\"].local.path):\n",
    "        os.remove(saga.database[\"host_stats\"].local.path)\n",
    "    saga.database[\"host_stats\"].clear_cache()\n",
    "    \n",
    "    saga.database[\"combined_base\"].remote.path = \"http://web.physics.utah.edu/~yymao/data/tdk7-r8eh-5hf4-cke7/saga_base_v3_all.fits\"\n",
    "    saga.database[\"combined_base\"].download(overwrite=True)"
   ]
  },
  {
   "cell_type": "code",
   "execution_count": 9,
   "id": "a4158b71-7798-4abd-9598-cc85a7a0f011",
   "metadata": {},
   "outputs": [],
   "source": [
    "hosts = saga.host_catalog.load(include_stats=True)"
   ]
  },
  {
   "cell_type": "code",
   "execution_count": 10,
   "id": "552480ac-f44f-4c40-b7c0-2ee87d27684e",
   "metadata": {},
   "outputs": [],
   "source": [
    "paper3_hosts = H.paper3.filter(hosts)"
   ]
  },
  {
   "cell_type": "code",
   "execution_count": 11,
   "id": "0d1c6d2e-f89c-4f78-ac32-cebd0488fb8a",
   "metadata": {},
   "outputs": [],
   "source": [
    "paper3_base = H.paper3.filter(saga.object_catalog.load_combined_base_catalog())\n",
    "paper3_sats = C.is_sat.filter(paper3_base)"
   ]
  },
  {
   "cell_type": "code",
   "execution_count": 57,
   "id": "13c6a91c-d9ab-47f1-9505-a1d9a1cc24d8",
   "metadata": {},
   "outputs": [],
   "source": [
    "paper3_sats['coord'] = SkyCoord(paper3_sats['RA'], paper3_sats['DEC'], unit=u.deg)"
   ]
  },
  {
   "cell_type": "markdown",
   "id": "801aecc4-2080-4c48-8f8b-98d1e472d968",
   "metadata": {},
   "source": [
    "# Match using HEASARC's PyVO interface\n",
    "\n",
    "According to Tess Jaffe, the astroquery interface is using an older not-well-supported approach, and is to be updated whenever HEASARC can get the resources to do it."
   ]
  },
  {
   "cell_type": "code",
   "execution_count": 12,
   "id": "16aba8c6-5069-4dad-b922-be7df32f4d22",
   "metadata": {},
   "outputs": [],
   "source": [
    "import pyvo"
   ]
  },
  {
   "cell_type": "code",
   "execution_count": 13,
   "id": "b87d9b02-211a-4e75-98ed-daa8c5fcb75d",
   "metadata": {},
   "outputs": [],
   "source": [
    "tap_services = pyvo.regsearch(servicetype='tap', keywords=['heasarc'])\n",
    "assert len(tap_services)==1\n",
    "heasarc_tap = tap_services[0]\n",
    "\n",
    "tables_dct = dict(heasarc_tap.service.tables.items())"
   ]
  },
  {
   "cell_type": "code",
   "execution_count": 17,
   "id": "2ff21db2-2133-437b-97bb-f7d16f27f06e",
   "metadata": {},
   "outputs": [
    {
     "data": {
      "text/html": [
       "<div><i>Table length=331</i>\n",
       "<table id=\"table5513904464\" class=\"table-striped table-bordered table-condensed\">\n",
       "<thead><tr><th>chanmaster___row</th><th>chanmaster_obsid</th><th>chanmaster_status</th><th>chanmaster_name</th><th>chanmaster_ra</th><th>chanmaster_dec</th><th>chanmaster_lii</th><th>chanmaster_bii</th><th>chanmaster_time</th><th>chanmaster_detector</th><th>chanmaster_grating</th><th>chanmaster_exposure</th><th>chanmaster_type</th><th>chanmaster_pi</th><th>chanmaster_cycle</th><th>chanmaster_proposal</th><th>chanmaster_public_date</th><th>chanmaster_sequence_number</th><th>chanmaster_data_mode</th><th>chanmaster_category</th><th>chanmaster_class</th><th>chanmaster___x_ra_dec</th><th>chanmaster___y_ra_dec</th><th>chanmaster___z_ra_dec</th><th>objid</th></tr></thead>\n",
       "<thead><tr><th></th><th></th><th></th><th></th><th>deg</th><th>deg</th><th>deg</th><th>deg</th><th>d</th><th></th><th></th><th>s</th><th></th><th></th><th></th><th></th><th>d</th><th></th><th></th><th></th><th></th><th></th><th></th><th></th><th></th></tr></thead>\n",
       "<thead><tr><th>int32</th><th>int32</th><th>object</th><th>object</th><th>float64</th><th>float64</th><th>float64</th><th>float64</th><th>float64</th><th>object</th><th>object</th><th>float64</th><th>object</th><th>object</th><th>int16</th><th>object</th><th>int32</th><th>int32</th><th>object</th><th>object</th><th>int16</th><th>float64</th><th>float64</th><th>float64</th><th>int64</th></tr></thead>\n",
       "<tr><td>10825</td><td>28613</td><td>unobserved</td><td>Abell 370</td><td>39.96042</td><td>-1.58560</td><td>173.00405</td><td>-53.57030</td><td>--</td><td>ACIS-I</td><td>NONE</td><td>30000</td><td>GO</td><td>Bogdan</td><td>25</td><td>25700214</td><td>--</td><td>704981</td><td>TE_006E6</td><td>ACTIVE GALAXIES AND QUASARS</td><td>7000</td><td>0.64201235175993</td><td>0.766194811184145</td><td>-0.0276704084208628</td><td>903218870000006280</td></tr>\n",
       "<tr><td>10826</td><td>28638</td><td>unobserved</td><td>Abell 370</td><td>39.96042</td><td>-1.58560</td><td>173.00405</td><td>-53.57030</td><td>--</td><td>ACIS-I</td><td>NONE</td><td>30000</td><td>GO</td><td>Bogdan</td><td>25</td><td>25700214</td><td>--</td><td>704981</td><td>TE_006E6</td><td>ACTIVE GALAXIES AND QUASARS</td><td>7000</td><td>0.64201235175993</td><td>0.766194811184145</td><td>-0.0276704084208628</td><td>903218870000006280</td></tr>\n",
       "<tr><td>10827</td><td>28605</td><td>unobserved</td><td>Abell 370</td><td>39.96042</td><td>-1.58560</td><td>173.00405</td><td>-53.57030</td><td>--</td><td>ACIS-I</td><td>NONE</td><td>30000</td><td>GO</td><td>Bogdan</td><td>25</td><td>25700214</td><td>--</td><td>704981</td><td>TE_006E6</td><td>ACTIVE GALAXIES AND QUASARS</td><td>7000</td><td>0.64201235175993</td><td>0.766194811184145</td><td>-0.0276704084208628</td><td>903218870000006280</td></tr>\n",
       "<tr><td>10828</td><td>28592</td><td>unobserved</td><td>Abell 370</td><td>39.96042</td><td>-1.58560</td><td>173.00405</td><td>-53.57030</td><td>60611.0</td><td>ACIS-I</td><td>NONE</td><td>30000</td><td>GO</td><td>Bogdan</td><td>25</td><td>25700214</td><td>--</td><td>704981</td><td>TE_006E6</td><td>ACTIVE GALAXIES AND QUASARS</td><td>7000</td><td>0.64201235175993</td><td>0.766194811184145</td><td>-0.0276704084208628</td><td>903218870000006280</td></tr>\n",
       "<tr><td>10829</td><td>28612</td><td>unobserved</td><td>Abell 370</td><td>39.96042</td><td>-1.58560</td><td>173.00405</td><td>-53.57030</td><td>--</td><td>ACIS-I</td><td>NONE</td><td>30000</td><td>GO</td><td>Bogdan</td><td>25</td><td>25700214</td><td>--</td><td>704981</td><td>TE_006E6</td><td>ACTIVE GALAXIES AND QUASARS</td><td>7000</td><td>0.64201235175993</td><td>0.766194811184145</td><td>-0.0276704084208628</td><td>903218870000006280</td></tr>\n",
       "<tr><td>10830</td><td>28635</td><td>unobserved</td><td>Abell 370</td><td>39.96042</td><td>-1.58560</td><td>173.00405</td><td>-53.57030</td><td>60576.0</td><td>ACIS-I</td><td>NONE</td><td>30000</td><td>GO</td><td>Bogdan</td><td>25</td><td>25700214</td><td>--</td><td>704981</td><td>TE_006E6</td><td>ACTIVE GALAXIES AND QUASARS</td><td>7000</td><td>0.64201235175993</td><td>0.766194811184145</td><td>-0.0276704084208628</td><td>903218870000006280</td></tr>\n",
       "<tr><td>...</td><td>...</td><td>...</td><td>...</td><td>...</td><td>...</td><td>...</td><td>...</td><td>...</td><td>...</td><td>...</td><td>...</td><td>...</td><td>...</td><td>...</td><td>...</td><td>...</td><td>...</td><td>...</td><td>...</td><td>...</td><td>...</td><td>...</td><td>...</td><td>...</td></tr>\n",
       "<tr><td>11463</td><td>3248</td><td>archived</td><td>A2631</td><td>354.41708</td><td>0.27583</td><td>87.02121</td><td>-57.35992</td><td>52463.4476273148</td><td>ACIS-I</td><td>NONE</td><td>9310</td><td>GTO</td><td>VANSPEYBROECK</td><td>3</td><td>03800994</td><td>52832</td><td>800248</td><td>TE_0048A</td><td>CLUSTERS OF GALAXIES</td><td>5000</td><td>-0.0972850885656413</td><td>0.995244912452077</td><td>0.00481412308040496</td><td>903346650000004123</td></tr>\n",
       "<tr><td>11464</td><td>11728</td><td>archived</td><td>Abell 2631</td><td>354.41708</td><td>0.27583</td><td>87.02121</td><td>-57.35992</td><td>55061.2688194444</td><td>ACIS-I</td><td>NONE</td><td>17040</td><td>GO</td><td>Bonamente</td><td>11</td><td>11800323</td><td>55427</td><td>800868</td><td>TE_00458</td><td>CLUSTERS OF GALAXIES</td><td>5000</td><td>-0.0972850885656413</td><td>0.995244912452077</td><td>0.00481412308040496</td><td>903332250000001448</td></tr>\n",
       "<tr><td>11463</td><td>3248</td><td>archived</td><td>A2631</td><td>354.41708</td><td>0.27583</td><td>87.02121</td><td>-57.35992</td><td>52463.4476273148</td><td>ACIS-I</td><td>NONE</td><td>9310</td><td>GTO</td><td>VANSPEYBROECK</td><td>3</td><td>03800994</td><td>52832</td><td>800248</td><td>TE_0048A</td><td>CLUSTERS OF GALAXIES</td><td>5000</td><td>-0.0972850885656413</td><td>0.995244912452077</td><td>0.00481412308040496</td><td>903332240000007712</td></tr>\n",
       "<tr><td>11464</td><td>11728</td><td>archived</td><td>Abell 2631</td><td>354.41708</td><td>0.27583</td><td>87.02121</td><td>-57.35992</td><td>55061.2688194444</td><td>ACIS-I</td><td>NONE</td><td>17040</td><td>GO</td><td>Bonamente</td><td>11</td><td>11800323</td><td>55427</td><td>800868</td><td>TE_00458</td><td>CLUSTERS OF GALAXIES</td><td>5000</td><td>-0.0972850885656413</td><td>0.995244912452077</td><td>0.00481412308040496</td><td>903346650000004123</td></tr>\n",
       "<tr><td>9031</td><td>2045</td><td>archived</td><td>ARP 222</td><td>354.97583</td><td>-12.29194</td><td>70.94499</td><td>-67.61484</td><td>52261.0923842593</td><td>ACIS-S</td><td>NONE</td><td>19260</td><td>GO</td><td>Read</td><td>2</td><td>02600706</td><td>52639</td><td>600179</td><td>TE_002A2</td><td>NORMAL GALAXIES</td><td>6000</td><td>-0.085568343198147</td><td>0.97332145505167</td><td>-0.212892939710136</td><td>902616890000002817</td></tr>\n",
       "<tr><td>9031</td><td>2045</td><td>archived</td><td>ARP 222</td><td>354.97583</td><td>-12.29194</td><td>70.94499</td><td>-67.61484</td><td>52261.0923842593</td><td>ACIS-S</td><td>NONE</td><td>19260</td><td>GO</td><td>Read</td><td>2</td><td>02600706</td><td>52639</td><td>600179</td><td>TE_002A2</td><td>NORMAL GALAXIES</td><td>6000</td><td>-0.085568343198147</td><td>0.97332145505167</td><td>-0.212892939710136</td><td>902602820000003112</td></tr>\n",
       "</table></div>"
      ],
      "text/plain": [
       "<Table length=331>\n",
       "chanmaster___row chanmaster_obsid ... chanmaster___z_ra_dec       objid       \n",
       "                                  ...                                         \n",
       "     int32            int32       ...        float64              int64       \n",
       "---------------- ---------------- ... --------------------- ------------------\n",
       "           10825            28613 ...   -0.0276704084208628 903218870000006280\n",
       "           10826            28638 ...   -0.0276704084208628 903218870000006280\n",
       "           10827            28605 ...   -0.0276704084208628 903218870000006280\n",
       "           10828            28592 ...   -0.0276704084208628 903218870000006280\n",
       "           10829            28612 ...   -0.0276704084208628 903218870000006280\n",
       "           10830            28635 ...   -0.0276704084208628 903218870000006280\n",
       "             ...              ... ...                   ...                ...\n",
       "           11463             3248 ...   0.00481412308040496 903346650000004123\n",
       "           11464            11728 ...   0.00481412308040496 903332250000001448\n",
       "           11463             3248 ...   0.00481412308040496 903332240000007712\n",
       "           11464            11728 ...   0.00481412308040496 903346650000004123\n",
       "            9031             2045 ...    -0.212892939710136 902616890000002817\n",
       "            9031             2045 ...    -0.212892939710136 902602820000003112"
      ]
     },
     "execution_count": 17,
     "metadata": {},
     "output_type": "execute_result"
    }
   ],
   "source": [
    "def get_matches_for_catalog(cat, radius, table, idcol='OBJID'):\n",
    "    deg = radius.to(u.deg).value\n",
    "    query=f\"\"\"\n",
    "    SELECT *, mt.{idcol}\n",
    "    FROM {table} cat, tap_upload.mysources mt\n",
    "    WHERE \n",
    "    contains(point('ICRS',cat.ra,cat.dec),circle('ICRS',mt.ra,mt.dec,{deg}))=1\n",
    "    ORDER by cat.ra\n",
    "    \"\"\"\n",
    "    \n",
    "    vot = votable.from_table(cat[idcol, 'RA', 'DEC'])\n",
    "    bio = io.BytesIO()\n",
    "    vot.to_xml(bio)\n",
    "    bio.seek(0)\n",
    "    \n",
    "    res = heasarc_tap.service.run_async(query, uploads={'mysources': bio})\n",
    "    return res.to_table()\n",
    "\n",
    "get_matches_for_catalog(paper3_sats, 15*u.arcmin, 'chanmaster')"
   ]
  },
  {
   "cell_type": "code",
   "execution_count": 19,
   "id": "22e9edef-199b-4b23-bb23-a2e3f4132a21",
   "metadata": {},
   "outputs": [
    {
     "data": {
      "application/vnd.jupyter.widget-view+json": {
       "model_id": "92ccb383a9634f298c481d93f6058597",
       "version_major": 2,
       "version_minor": 0
      },
      "text/plain": [
       "  0%|          | 0/4 [00:00<?, ?it/s]"
      ]
     },
     "metadata": {},
     "output_type": "display_data"
    },
    {
     "name": "stdout",
     "output_type": "stream",
     "text": [
      "writing to heasarc_master_satmatches.pickle\n"
     ]
    }
   ],
   "source": [
    "mission_to_rad = {'xmmmaster': 15*u.arcmin, # \" telescope's field of view (FOV) of 30 arcmin and in th\"\n",
    "                  'chanmaster':8*u.arcmin, # this is ~ half ASIC's FOV\n",
    "                  'rosmaster':2.5*u.deg,  #\"5 degree diameter\"\n",
    "                  'rassmaster':2.5*u.deg,  #\"5 degree diameter\"\n",
    "                }\n",
    "\n",
    "pth = Path('heasarc_master_satmatches.pickle')\n",
    "\n",
    "if pth.exists():\n",
    "    print(f'loading existing data from {pth}')\n",
    "    with pth.open('rb') as f:\n",
    "        matches = load(f)\n",
    "else:\n",
    "    matches = {}\n",
    "    for tab in tqdm(mission_to_rad):\n",
    "        matches[tab] = get_matches_for_catalog(paper3_sats, mission_to_rad[tab], tab)\n",
    "    \n",
    "    print(f'writing to {pth}')\n",
    "    with pth.open('wb') as f:\n",
    "        dump(matches, f)\n",
    "    \n",
    "master_matches = matches"
   ]
  },
  {
   "cell_type": "markdown",
   "id": "a9eec814-88e9-4269-a891-0341f973e513",
   "metadata": {},
   "source": [
    "How many are in the footprints?"
   ]
  },
  {
   "cell_type": "code",
   "execution_count": 20,
   "id": "1fe79a50-364f-45ad-bc09-062c8a6ec7b8",
   "metadata": {},
   "outputs": [
    {
     "data": {
      "text/plain": [
       "{'xmmmaster': 87, 'chanmaster': 39, 'rosmaster': 1862, 'rassmaster': 171}"
      ]
     },
     "execution_count": 20,
     "metadata": {},
     "output_type": "execute_result"
    }
   ],
   "source": [
    "{k:len(v) for k,v in  master_matches.items()}"
   ]
  },
  {
   "cell_type": "markdown",
   "id": "6d32ba0a-c956-4b85-ab70-0db35e12632e",
   "metadata": {},
   "source": [
    "And what fraction is that?"
   ]
  },
  {
   "cell_type": "code",
   "execution_count": 21,
   "id": "02be7927-771d-4163-88b8-7b0d3a086c1d",
   "metadata": {},
   "outputs": [
    {
     "data": {
      "text/plain": [
       "{'xmmmaster': 0.29,\n",
       " 'chanmaster': 0.13,\n",
       " 'rosmaster': 6.206666666666667,\n",
       " 'rassmaster': 0.57}"
      ]
     },
     "execution_count": 21,
     "metadata": {},
     "output_type": "execute_result"
    }
   ],
   "source": [
    "{k:len(v)/len(hosts) for k,v in  master_matches.items()}"
   ]
  },
  {
   "cell_type": "markdown",
   "id": "f86798c8-f38d-4c2a-89c3-0b79b21d33c3",
   "metadata": {},
   "source": [
    "Great!  Now lets look at mission specifc tables\n",
    "\n",
    "# IDing specific mission tables"
   ]
  },
  {
   "cell_type": "code",
   "execution_count": 22,
   "id": "a72a8026-cc96-45c5-bbeb-c76c45f8f68b",
   "metadata": {},
   "outputs": [
    {
     "data": {
      "text/plain": [
       "188"
      ]
     },
     "execution_count": 22,
     "metadata": {},
     "output_type": "execute_result"
    }
   ],
   "source": [
    "chantabs = [v.description for k,v in tables_dct.items() if 'chandra' in v.description.lower()]\n",
    "len(chantabs)"
   ]
  },
  {
   "cell_type": "markdown",
   "id": "bc440b84-2df7-455f-8e87-d100684b51ba",
   "metadata": {},
   "source": [
    "There doesn't seem to be any way to ask TAP for just *chandra* tables. Some of the above are things that aren't quite matched. So lets instead use the astroquery interface to get those:"
   ]
  },
  {
   "cell_type": "code",
   "execution_count": 23,
   "id": "eb849230-c3eb-40ec-875b-163ee7feac20",
   "metadata": {},
   "outputs": [
    {
     "data": {
      "text/html": [
       "<div><i>Table length=1185</i>\n",
       "<table id=\"table11695432528\" class=\"table-striped table-bordered table-condensed\">\n",
       "<thead><tr><th>Mission</th><th>Table</th><th>Table Description</th><th>in_tap</th></tr></thead>\n",
       "<thead><tr><th>str16</th><th>str12</th><th>str80</th><th>bool</th></tr></thead>\n",
       "<tr><td>AGILE</td><td>agilecat</td><td>First AGILE Catalog of High-Confidence Gamma-Ray Sources</td><td>True</td></tr>\n",
       "<tr><td>AGILE</td><td>agileupvar</td><td>Updated AGILE Catalog of Bright Gamma-Ray Sources and Variability</td><td>True</td></tr>\n",
       "<tr><td>AKARI</td><td>akaribsc</td><td>AKARI/FIS All-Sky Survey Bright Source Catalog, Version 1</td><td>True</td></tr>\n",
       "<tr><td>AKARI</td><td>akaripsc</td><td>AKARI/IRC All-Sky Survey Point Source Catalog, Version 1</td><td>True</td></tr>\n",
       "<tr><td>ANS</td><td>ansuvpscat</td><td>ANS Ultraviolet Photometry Catalog of Point Sources</td><td>True</td></tr>\n",
       "<tr><td>ARIEL V</td><td>ariel3a</td><td>3rd Ariel-V SSI Catalog</td><td>True</td></tr>\n",
       "<tr><td>...</td><td>...</td><td>...</td><td>...</td></tr>\n",
       "<tr><td>XMM-NEWTON</td><td>xmmstack</td><td>XMM-Newton Serendipitous Source Catalog from Stacked Observations (4XMM-DR13s)</td><td>True</td></tr>\n",
       "<tr><td>XMM-NEWTON</td><td>xmmstackob</td><td>XMM-Newton Serendipitous Source Catalog from Stacked Observations: Obs. Data</td><td>True</td></tr>\n",
       "<tr><td>XMM-NEWTON</td><td>xmmt2flare</td><td>2XMM Flares Detected from Tycho-2 Stars</td><td>True</td></tr>\n",
       "<tr><td>XMM-NEWTON</td><td>xmmvaragn</td><td>Ensemble X-Ray Variability of AGN in 2XMMi-DR3</td><td>True</td></tr>\n",
       "<tr><td>XMM-NEWTON</td><td>xmmxassist</td><td>XMM-Newton XAssist Source List</td><td>True</td></tr>\n",
       "<tr><td>XMM-NEWTON</td><td>xms</td><td>XMM-Newton Medium Sensitivity Survey (XMS) Source Catalog</td><td>True</td></tr>\n",
       "<tr><td>XMM-NEWTON</td><td>xwas</td><td>XMM-Newton Wide Angle Survey</td><td>True</td></tr>\n",
       "</table></div>"
      ],
      "text/plain": [
       "<Table length=1185>\n",
       " Mission     Table    ... in_tap\n",
       "  str16      str12    ...  bool \n",
       "---------- ---------- ... ------\n",
       "     AGILE   agilecat ...   True\n",
       "     AGILE agileupvar ...   True\n",
       "     AKARI   akaribsc ...   True\n",
       "     AKARI   akaripsc ...   True\n",
       "       ANS ansuvpscat ...   True\n",
       "   ARIEL V    ariel3a ...   True\n",
       "       ...        ... ...    ...\n",
       "XMM-NEWTON   xmmstack ...   True\n",
       "XMM-NEWTON xmmstackob ...   True\n",
       "XMM-NEWTON xmmt2flare ...   True\n",
       "XMM-NEWTON  xmmvaragn ...   True\n",
       "XMM-NEWTON xmmxassist ...   True\n",
       "XMM-NEWTON        xms ...   True\n",
       "XMM-NEWTON       xwas ...   True"
      ]
     },
     "execution_count": 23,
     "metadata": {},
     "output_type": "execute_result"
    }
   ],
   "source": [
    "from astroquery.heasarc import Heasarc\n",
    "heasarc = Heasarc()\n",
    "missions = heasarc.query_mission_list()\n",
    "missions['in_tap'] = [row['Table'] in tables_dct for row in missions]\n",
    "missions"
   ]
  },
  {
   "cell_type": "code",
   "execution_count": 24,
   "id": "52377053-1dc9-4410-aed7-19ff283f1153",
   "metadata": {},
   "outputs": [
    {
     "data": {
      "text/plain": [
       "['AGILE',\n",
       " 'AKARI',\n",
       " 'ANS',\n",
       " 'ARIEL V',\n",
       " 'ASCA',\n",
       " 'BBXRT',\n",
       " 'BEPPOSAX',\n",
       " 'CALET',\n",
       " 'CGRO',\n",
       " 'CHANDRA',\n",
       " 'COBE',\n",
       " 'COPERNICUS',\n",
       " 'COROT',\n",
       " 'COS B',\n",
       " 'EINSTEIN',\n",
       " 'EUVE',\n",
       " 'EXOSAT',\n",
       " 'FAUST',\n",
       " 'FERMI',\n",
       " 'FUSE',\n",
       " 'GALAXY CATALOG',\n",
       " 'GALEX',\n",
       " 'GAMMA-RAY BURSTS',\n",
       " 'GENERAL CATALOG',\n",
       " 'GINGA',\n",
       " 'GROUND-BASED',\n",
       " 'HALOSAT',\n",
       " 'HEAO1',\n",
       " 'HERSCHEL',\n",
       " 'HETE-2',\n",
       " 'HITOMI',\n",
       " 'HST',\n",
       " 'ICECUBE',\n",
       " 'INTEGRAL',\n",
       " 'IRAS',\n",
       " 'ISO',\n",
       " 'IUE',\n",
       " 'IXPE',\n",
       " 'KVANT',\n",
       " 'LPF',\n",
       " 'MASTER CATALOG',\n",
       " 'MAXI',\n",
       " 'MSX',\n",
       " 'NEBULA CATALOG',\n",
       " 'NICER',\n",
       " 'NUSTAR',\n",
       " 'OSO8',\n",
       " 'PLANCK',\n",
       " 'RADIO CATALOG',\n",
       " 'RHESSI',\n",
       " 'ROSAT',\n",
       " 'RXTE',\n",
       " 'SAS-2',\n",
       " 'SAS-3',\n",
       " 'SDSS',\n",
       " 'SPITZER',\n",
       " 'SRG-EROSITA',\n",
       " 'STAR CATALOG',\n",
       " 'SUZAKU',\n",
       " 'SWIFT',\n",
       " 'TD1',\n",
       " 'UHURU',\n",
       " 'UIT',\n",
       " 'VELA 5B',\n",
       " 'VERITAS',\n",
       " 'WISE',\n",
       " 'WMAP',\n",
       " 'XMM-NEWTON']"
      ]
     },
     "execution_count": 24,
     "metadata": {},
     "output_type": "execute_result"
    }
   ],
   "source": [
    "list(np.unique(missions['Mission']))"
   ]
  },
  {
   "cell_type": "code",
   "execution_count": 25,
   "id": "871bf255-3ffa-4623-b620-9adc90c951d0",
   "metadata": {},
   "outputs": [
    {
     "data": {
      "text/plain": [
       "(1184, 1185)"
      ]
     },
     "execution_count": 25,
     "metadata": {},
     "output_type": "execute_result"
    }
   ],
   "source": [
    "np.sum(missions['in_tap']), len(missions)"
   ]
  },
  {
   "cell_type": "code",
   "execution_count": 26,
   "id": "8890a1fc-0ea8-4133-891c-74b0a260f498",
   "metadata": {},
   "outputs": [
    {
     "data": {
      "text/html": [
       "<div><i>Table length=1</i>\n",
       "<table id=\"table5513207568\" class=\"table-striped table-bordered table-condensed\">\n",
       "<thead><tr><th>Mission</th><th>Table</th><th>Table Description</th><th>in_tap</th></tr></thead>\n",
       "<thead><tr><th>str16</th><th>str12</th><th>str80</th><th>bool</th></tr></thead>\n",
       "<tr><td>RADIO CATALOG</td><td>first</td><td>Faint Images of the Radio Sky at Twenty cm (FIRST)</td><td>False</td></tr>\n",
       "</table></div>"
      ],
      "text/plain": [
       "<Table length=1>\n",
       "   Mission    Table                 Table Description                  in_tap\n",
       "    str16     str12                       str80                         bool \n",
       "------------- ----- -------------------------------------------------- ------\n",
       "RADIO CATALOG first Faint Images of the Radio Sky at Twenty cm (FIRST)  False"
      ]
     },
     "execution_count": 26,
     "metadata": {},
     "output_type": "execute_result"
    }
   ],
   "source": [
    "missions[~missions['in_tap']]"
   ]
  },
  {
   "cell_type": "markdown",
   "id": "c46bb81c-b5c7-4f98-944f-a612b759fadc",
   "metadata": {},
   "source": [
    "Weird!  But ok that means we are fine for the others"
   ]
  },
  {
   "cell_type": "markdown",
   "id": "8d959ae2-0c20-4364-8ca1-5cc869d51c32",
   "metadata": {},
   "source": [
    "# Download all the source matches"
   ]
  },
  {
   "cell_type": "markdown",
   "id": "5dce3354-9669-439e-93c9-7b3ecf92e812",
   "metadata": {},
   "source": [
    "Chandra has *arcsec* resolution, but I'm not confident I understand enough about extended source catalogs to know how to interpret that for something as sensitive as Chandra.  So we'll just choose 2 arcmin as a not-crazy scale to be conservative about"
   ]
  },
  {
   "cell_type": "code",
   "execution_count": 27,
   "id": "4976348b-108a-461c-a4a7-4562fe533fa6",
   "metadata": {},
   "outputs": [
    {
     "data": {
      "text/html": [
       "<div><i>Table length=200</i>\n",
       "<table id=\"table11697978256\" class=\"table-striped table-bordered table-condensed\">\n",
       "<thead><tr><th>Mission</th><th>Table</th><th>Table Description</th><th>in_tap</th></tr></thead>\n",
       "<thead><tr><th>str16</th><th>str12</th><th>str80</th><th>bool</th></tr></thead>\n",
       "<tr><td>CHANDRA</td><td>acceptcat</td><td>Archive of Chandra Cluster Entropy Profile Tables (ACCEPT) Catalog</td><td>True</td></tr>\n",
       "<tr><td>CHANDRA</td><td>aegisx</td><td>AEGIS-X Chandra Extended Groth Strip X-Ray Point Source Catalog</td><td>True</td></tr>\n",
       "<tr><td>CHANDRA</td><td>aegisxdcxo</td><td>AEGIS-X Deep Survey Chandra X-Ray Point Source Catalog</td><td>True</td></tr>\n",
       "<tr><td>CHANDRA</td><td>aknepdfcxo</td><td>Akari North Ecliptic Pole Deep Field Chandra X-Ray Point Source Catalog</td><td>True</td></tr>\n",
       "<tr><td>CHANDRA</td><td>arcquincxo</td><td>Arches and Quintuplet Clusters Chandra X-Ray Point Source Catalog</td><td>True</td></tr>\n",
       "<tr><td>CHANDRA</td><td>bmwchancat</td><td>Brera Multi-scale Wavelet Chandra Source Catalog</td><td>True</td></tr>\n",
       "<tr><td>...</td><td>...</td><td>...</td><td>...</td></tr>\n",
       "<tr><td>CHANDRA</td><td>vlulxcat</td><td>Extremely Luminous X-Ray Source Candidates Catalog</td><td>True</td></tr>\n",
       "<tr><td>CHANDRA</td><td>w40sfrcxo</td><td>W 40 Star-Forming Region Chandra X-Ray Point Source Catalog</td><td>True</td></tr>\n",
       "<tr><td>CHANDRA</td><td>wd1cxo</td><td>Westerlund 1 Chandra X-Ray Point Source Catalog</td><td>True</td></tr>\n",
       "<tr><td>CHANDRA</td><td>xbootes</td><td>XBOOTES: NDWFS Bootes Field X-Ray Point Source Catalog</td><td>True</td></tr>\n",
       "<tr><td>CHANDRA</td><td>xbootesoid</td><td>XBOOTES: NDWFS Bootes Field Optical &amp; Near IR Counterparts</td><td>True</td></tr>\n",
       "<tr><td>CHANDRA</td><td>xdeep2</td><td>DEEP2 Galaxy Redshift Survey Fields Chandra Point Source Catalog</td><td>True</td></tr>\n",
       "<tr><td>CHANDRA</td><td>xshzagncxo</td><td>X-Ray Selected High-z AGN Catalog</td><td>True</td></tr>\n",
       "</table></div>"
      ],
      "text/plain": [
       "<Table length=200>\n",
       "Mission   Table    ... in_tap\n",
       " str16    str12    ...  bool \n",
       "------- ---------- ... ------\n",
       "CHANDRA  acceptcat ...   True\n",
       "CHANDRA     aegisx ...   True\n",
       "CHANDRA aegisxdcxo ...   True\n",
       "CHANDRA aknepdfcxo ...   True\n",
       "CHANDRA arcquincxo ...   True\n",
       "CHANDRA bmwchancat ...   True\n",
       "    ...        ... ...    ...\n",
       "CHANDRA   vlulxcat ...   True\n",
       "CHANDRA  w40sfrcxo ...   True\n",
       "CHANDRA     wd1cxo ...   True\n",
       "CHANDRA    xbootes ...   True\n",
       "CHANDRA xbootesoid ...   True\n",
       "CHANDRA     xdeep2 ...   True\n",
       "CHANDRA xshzagncxo ...   True"
      ]
     },
     "execution_count": 27,
     "metadata": {},
     "output_type": "execute_result"
    }
   ],
   "source": [
    "chandra_tables = missions[(missions['Mission']=='CHANDRA') & (np.char.count(missions['Table'], 'master')==0)]\n",
    "chandra_tables"
   ]
  },
  {
   "cell_type": "code",
   "execution_count": 28,
   "id": "5a3d9d2d-adb4-4d13-bd02-e349cb0ab433",
   "metadata": {},
   "outputs": [
    {
     "data": {
      "application/vnd.jupyter.widget-view+json": {
       "model_id": "3c73dd9300e74a51a0b5ff55ab02f2b9",
       "version_major": 2,
       "version_minor": 0
      },
      "text/plain": [
       "  0%|          | 0/200 [00:00<?, ?it/s]"
      ]
     },
     "metadata": {},
     "output_type": "display_data"
    },
    {
     "name": "stdout",
     "output_type": "stream",
     "text": [
      "errored on tab m31phatsfh\n",
      "writing to heasarc_chandra_satmatches.pickle\n"
     ]
    }
   ],
   "source": [
    "rad = 2*u.arcmin\n",
    "pth = Path('heasarc_chandra_satmatches.pickle')\n",
    "\n",
    "if pth.exists():\n",
    "    print(f'loading existing data from {pth}')\n",
    "    with pth.open('rb') as f:\n",
    "        matches = load(f)\n",
    "else:\n",
    "    matches = {}\n",
    "    for tab in tqdm(chandra_tables['Table']):\n",
    "        try:\n",
    "            matches[tab] = get_matches_for_catalog(paper3_sats, rad, tab)\n",
    "        except pyvo.DALQueryError as e:\n",
    "            print(f'errored on tab {tab}')\n",
    "            matches[tab] = e\n",
    "    \n",
    "    print(f'writing to {pth}')\n",
    "    with pth.open('wb') as f:\n",
    "        dump(matches, f)\n",
    "    \n",
    "chandra_matches = matches"
   ]
  },
  {
   "cell_type": "code",
   "execution_count": 29,
   "id": "59cf2ff0-76e1-4017-a2b4-164097f7b70e",
   "metadata": {},
   "outputs": [
    {
     "data": {
      "text/plain": [
       "DALQueryError: Error[s] detected in query preprocessing"
      ]
     },
     "execution_count": 29,
     "metadata": {},
     "output_type": "execute_result"
    }
   ],
   "source": [
    "chandra_matches['m31phatsfh']"
   ]
  },
  {
   "cell_type": "code",
   "execution_count": 30,
   "id": "f42439f2-b0be-4b8c-817f-78e702a86fb6",
   "metadata": {},
   "outputs": [],
   "source": [
    "chandra_matches = {k:v for k,v in chandra_matches.items() if k!='m31phatsfh'}"
   ]
  },
  {
   "cell_type": "markdown",
   "id": "ca500b3d-d6be-4ae5-b183-34cc74a0bffe",
   "metadata": {},
   "source": [
    "Xmm-newton claims ~arcsec as a resolution.  But take the same approach as Chandra for safety"
   ]
  },
  {
   "cell_type": "code",
   "execution_count": 31,
   "id": "8672b2b6-eab5-4d2b-b902-232bf7875278",
   "metadata": {},
   "outputs": [
    {
     "data": {
      "text/html": [
       "<div><i>Table length=103</i>\n",
       "<table id=\"table11763615248\" class=\"table-striped table-bordered table-condensed\">\n",
       "<thead><tr><th>Mission</th><th>Table</th><th>Table Description</th><th>in_tap</th></tr></thead>\n",
       "<thead><tr><th>str16</th><th>str12</th><th>str80</th><th>bool</th></tr></thead>\n",
       "<tr><td>XMM-NEWTON</td><td>agnsdssxm2</td><td>Sloan Digital Sky Survey/XMM-Newton Type1 AGN X-Ray and Radio Properties Catalog</td><td>True</td></tr>\n",
       "<tr><td>XMM-NEWTON</td><td>agnsdssxmm</td><td>Sloan Digital Sky Survey/XMM-Newton AGN Spectral Properties Catalog</td><td>True</td></tr>\n",
       "<tr><td>XMM-NEWTON</td><td>alfperxmm</td><td>Alpha Per Open Cluster XMM-Newton X-Ray Source Catalog</td><td>True</td></tr>\n",
       "<tr><td>XMM-NEWTON</td><td>axis</td><td>AXIS XMM-Newton Source Catalog</td><td>True</td></tr>\n",
       "<tr><td>XMM-NEWTON</td><td>caixa</td><td>Catalog of AGN in the XMM-Newton Archive</td><td>True</td></tr>\n",
       "<tr><td>XMM-NEWTON</td><td>carinaxmm</td><td>Carina OB1 Association XMM-Newton X-Ray Point Source Catalog</td><td>True</td></tr>\n",
       "<tr><td>...</td><td>...</td><td>...</td><td>...</td></tr>\n",
       "<tr><td>XMM-NEWTON</td><td>xmmstack</td><td>XMM-Newton Serendipitous Source Catalog from Stacked Observations (4XMM-DR13s)</td><td>True</td></tr>\n",
       "<tr><td>XMM-NEWTON</td><td>xmmstackob</td><td>XMM-Newton Serendipitous Source Catalog from Stacked Observations: Obs. Data</td><td>True</td></tr>\n",
       "<tr><td>XMM-NEWTON</td><td>xmmt2flare</td><td>2XMM Flares Detected from Tycho-2 Stars</td><td>True</td></tr>\n",
       "<tr><td>XMM-NEWTON</td><td>xmmvaragn</td><td>Ensemble X-Ray Variability of AGN in 2XMMi-DR3</td><td>True</td></tr>\n",
       "<tr><td>XMM-NEWTON</td><td>xmmxassist</td><td>XMM-Newton XAssist Source List</td><td>True</td></tr>\n",
       "<tr><td>XMM-NEWTON</td><td>xms</td><td>XMM-Newton Medium Sensitivity Survey (XMS) Source Catalog</td><td>True</td></tr>\n",
       "<tr><td>XMM-NEWTON</td><td>xwas</td><td>XMM-Newton Wide Angle Survey</td><td>True</td></tr>\n",
       "</table></div>"
      ],
      "text/plain": [
       "<Table length=103>\n",
       " Mission     Table    ... in_tap\n",
       "  str16      str12    ...  bool \n",
       "---------- ---------- ... ------\n",
       "XMM-NEWTON agnsdssxm2 ...   True\n",
       "XMM-NEWTON agnsdssxmm ...   True\n",
       "XMM-NEWTON  alfperxmm ...   True\n",
       "XMM-NEWTON       axis ...   True\n",
       "XMM-NEWTON      caixa ...   True\n",
       "XMM-NEWTON  carinaxmm ...   True\n",
       "       ...        ... ...    ...\n",
       "XMM-NEWTON   xmmstack ...   True\n",
       "XMM-NEWTON xmmstackob ...   True\n",
       "XMM-NEWTON xmmt2flare ...   True\n",
       "XMM-NEWTON  xmmvaragn ...   True\n",
       "XMM-NEWTON xmmxassist ...   True\n",
       "XMM-NEWTON        xms ...   True\n",
       "XMM-NEWTON       xwas ...   True"
      ]
     },
     "execution_count": 31,
     "metadata": {},
     "output_type": "execute_result"
    }
   ],
   "source": [
    "xmmn_tables = missions[(missions['Mission']=='XMM-NEWTON') & (np.char.count(missions['Table'], 'master')==0)]\n",
    "xmmn_tables"
   ]
  },
  {
   "cell_type": "code",
   "execution_count": 32,
   "id": "3c72aed2-1a47-4cdc-b8d5-ea4490994c8d",
   "metadata": {},
   "outputs": [
    {
     "data": {
      "application/vnd.jupyter.widget-view+json": {
       "model_id": "a1677c3b67094dd99b5166c8fcfda307",
       "version_major": 2,
       "version_minor": 0
      },
      "text/plain": [
       "  0%|          | 0/103 [00:00<?, ?it/s]"
      ]
     },
     "metadata": {},
     "output_type": "display_data"
    },
    {
     "name": "stdout",
     "output_type": "stream",
     "text": [
      "writing to heasarc_xmmnewton_satmatches.pickle\n"
     ]
    }
   ],
   "source": [
    "rad = 2*u.arcmin\n",
    "pth = Path('heasarc_xmmnewton_satmatches.pickle')\n",
    "\n",
    "if pth.exists():\n",
    "    print(f'loading existing data from {pth}')\n",
    "    with pth.open('rb') as f:\n",
    "        matches = load(f)\n",
    "else:\n",
    "    matches = {}\n",
    "    for tab in tqdm(xmmn_tables['Table']):\n",
    "        try:\n",
    "            matches[tab] = get_matches_for_catalog(paper3_sats, rad, tab)\n",
    "        except pyvo.DALQueryError as e:\n",
    "            print(f'errored on tab {tab}')\n",
    "            matches[tab] = e\n",
    "    \n",
    "    print(f'writing to {pth}')\n",
    "    with pth.open('wb') as f:\n",
    "        dump(matches, f)\n",
    "    \n",
    "xmmn_matches = matches"
   ]
  },
  {
   "cell_type": "markdown",
   "id": "e2bbd07d-08ea-4587-afd1-f5d9c8c4b86f",
   "metadata": {},
   "source": [
    "ROSAT PSPC instrument claims 25\" at 1 kev (https://heasarc.gsfc.nasa.gov/docs/rosat/pspc.html), so we will take 1 arcmin to be a match, since probably only Point Source are bright enough for rosat"
   ]
  },
  {
   "cell_type": "code",
   "execution_count": 33,
   "id": "15ce0645-e2e6-41b2-80a3-d95c40b13734",
   "metadata": {},
   "outputs": [
    {
     "data": {
      "text/html": [
       "<div><i>Table length=84</i>\n",
       "<table id=\"table11773549392\" class=\"table-striped table-bordered table-condensed\">\n",
       "<thead><tr><th>Mission</th><th>Table</th><th>Table Description</th><th>in_tap</th></tr></thead>\n",
       "<thead><tr><th>str16</th><th>str12</th><th>str80</th><th>bool</th></tr></thead>\n",
       "<tr><td>ROSAT</td><td>bhrfscid</td><td>Byurakan/Hamburg/ROSAT Catalog of Optical IDs</td><td>True</td></tr>\n",
       "<tr><td>ROSAT</td><td>bmwhricat</td><td>Brera Multi-scale Wavelet ROSAT HRI Source Catalog</td><td>True</td></tr>\n",
       "<tr><td>ROSAT</td><td>chasfrxray</td><td>ROSAT All-Sky Survey: Chamaeleon Star Forming Region Study</td><td>True</td></tr>\n",
       "<tr><td>ROSAT</td><td>cmar1xray</td><td>ROSAT PSPC Catalog of Canis Major R1 X-Ray Sources</td><td>True</td></tr>\n",
       "<tr><td>ROSAT</td><td>dxrbs</td><td>ROSAT Deep X-Ray Radio Blazar Survey Catalog</td><td>True</td></tr>\n",
       "<tr><td>ROSAT</td><td>etgalxray</td><td>Early-Type Galaxies X-Ray Luminosities Catalog</td><td>True</td></tr>\n",
       "<tr><td>...</td><td>...</td><td>...</td><td>...</td></tr>\n",
       "<tr><td>ROSAT</td><td>smcrosxry2</td><td>ROSAT PSPC Catalog of SMC X-Ray Sources (Haberl et al.)</td><td>True</td></tr>\n",
       "<tr><td>ROSAT</td><td>spidersros</td><td>SDSS-IV/SPIDERS ROSAT-Based X-Ray Point Source Spectroscopic Catalog</td><td>True</td></tr>\n",
       "<tr><td>ROSAT</td><td>w2ragncat</td><td>WISE/2MASS/RASS (W2R) AGN Sample Catalog</td><td>True</td></tr>\n",
       "<tr><td>ROSAT</td><td>warps</td><td>Wide Angle ROSAT Pointed Survey, First Phase (WARPS-I)</td><td>True</td></tr>\n",
       "<tr><td>ROSAT</td><td>warps2</td><td>Wide Angle ROSAT Pointed Survey, Second Phase (WARPS-II) Clusters Catalog</td><td>True</td></tr>\n",
       "<tr><td>ROSAT</td><td>wfcpoint</td><td>ROSAT Archival WFC EUV Data</td><td>True</td></tr>\n",
       "<tr><td>ROSAT</td><td>wgacat</td><td>ROSAT Catalog PSPC WGA Sources</td><td>True</td></tr>\n",
       "</table></div>"
      ],
      "text/plain": [
       "<Table length=84>\n",
       "Mission   Table    ... in_tap\n",
       " str16    str12    ...  bool \n",
       "------- ---------- ... ------\n",
       "  ROSAT   bhrfscid ...   True\n",
       "  ROSAT  bmwhricat ...   True\n",
       "  ROSAT chasfrxray ...   True\n",
       "  ROSAT  cmar1xray ...   True\n",
       "  ROSAT      dxrbs ...   True\n",
       "  ROSAT  etgalxray ...   True\n",
       "    ...        ... ...    ...\n",
       "  ROSAT smcrosxry2 ...   True\n",
       "  ROSAT spidersros ...   True\n",
       "  ROSAT  w2ragncat ...   True\n",
       "  ROSAT      warps ...   True\n",
       "  ROSAT     warps2 ...   True\n",
       "  ROSAT   wfcpoint ...   True\n",
       "  ROSAT     wgacat ...   True"
      ]
     },
     "execution_count": 33,
     "metadata": {},
     "output_type": "execute_result"
    }
   ],
   "source": [
    "rosat_tables = missions[(missions['Mission']=='ROSAT') & (np.char.count(missions['Table'], 'master')==0)]\n",
    "rosat_tables"
   ]
  },
  {
   "cell_type": "code",
   "execution_count": 34,
   "id": "ec261934-16ac-4e7e-8d4c-b9a15c3cf20b",
   "metadata": {},
   "outputs": [
    {
     "data": {
      "application/vnd.jupyter.widget-view+json": {
       "model_id": "506517727b0b4f97ab78a4e9bd3ebdd4",
       "version_major": 2,
       "version_minor": 0
      },
      "text/plain": [
       "  0%|          | 0/84 [00:00<?, ?it/s]"
      ]
     },
     "metadata": {},
     "output_type": "display_data"
    },
    {
     "name": "stdout",
     "output_type": "stream",
     "text": [
      "errored on tab rosprspec\n",
      "writing to heasarc_rosat_satmatches.pickle\n"
     ]
    }
   ],
   "source": [
    "rad = 1*u.arcmin\n",
    "pth = Path('heasarc_rosat_satmatches.pickle')\n",
    "\n",
    "if pth.exists():\n",
    "    print(f'loading existing data from {pth}')\n",
    "    with pth.open('rb') as f:\n",
    "        matches = load(f)\n",
    "else:\n",
    "    matches = {}\n",
    "    for tab in tqdm(rosat_tables['Table']):\n",
    "        try:\n",
    "            matches[tab] = get_matches_for_catalog(paper3_sats, rad, tab)\n",
    "        except pyvo.DALQueryError as e:\n",
    "            print(f'errored on tab {tab}')\n",
    "            matches[tab] = e\n",
    "    \n",
    "    print(f'writing to {pth}')\n",
    "    with pth.open('wb') as f:\n",
    "        dump(matches, f)\n",
    "    \n",
    "rosat_matches = matches"
   ]
  },
  {
   "cell_type": "code",
   "execution_count": 35,
   "id": "287c8c93-aa3d-4d61-881c-b32f5f5e18cf",
   "metadata": {},
   "outputs": [
    {
     "data": {
      "text/plain": [
       "DALQueryError: Error[s] detected in query preprocessing"
      ]
     },
     "execution_count": 35,
     "metadata": {},
     "output_type": "execute_result"
    }
   ],
   "source": [
    "rosat_matches['rosprspec']"
   ]
  },
  {
   "cell_type": "code",
   "execution_count": 36,
   "id": "525c38de-99c8-485f-85b1-5092382c0fec",
   "metadata": {},
   "outputs": [],
   "source": [
    "rosat_matches = {k:v for k,v in rosat_matches.items() if k!='rosprspec'}"
   ]
  },
  {
   "cell_type": "markdown",
   "id": "09898f2c-99e8-4dff-8eb1-51d0a71839b0",
   "metadata": {},
   "source": [
    "# Tabulate stuff"
   ]
  },
  {
   "cell_type": "code",
   "execution_count": 37,
   "id": "cd4001f3-f6d0-4ec3-b2af-bfdb14475ac2",
   "metadata": {},
   "outputs": [
    {
     "data": {
      "text/plain": [
       "{'bmwhricat': (3, 'Brera Multi-scale Wavelet ROSAT HRI Source Catalog'),\n",
       " 'etgalxray': (1, 'Early-Type Galaxies X-Ray Luminosities Catalog'),\n",
       " 'nwayawgros': (1,\n",
       "  'AllWISE Counterparts and Gaia Matches to ROSAT/2RXS X-Ray Source'),\n",
       " 'qorgcat': (17, 'All-Sky Optical Catalog of Radio/X-Ray Sources'),\n",
       " 'rass2rxs': (1, 'Second ROSAT All-Sky Survey Point Source Catalog (2RXS)'),\n",
       " 'rassfsc': (1, 'ROSAT All-Sky Survey: Faint Sources'),\n",
       " 'rasssdssgc': (1,\n",
       "  'ROSAT All-Sky Survey and Sloan Digital Sky Survey DR7 Galaxy Clu'),\n",
       " 'rosatlog': (6, 'ROSAT Observation Log'),\n",
       " 'roshritotal': (2, 'ROSAT Complete Results Archive Sources for the HRI'),\n",
       " 'rospspc': (1, 'ROSAT Results Archive Sources for the PSPC'),\n",
       " 'rospspctotal': (4, 'ROSAT Complete Results Archive Sources for the PSPC'),\n",
       " 'sdsswhlgc': (2, 'Sloan Digital Sky Survey DR6 Galaxy Clusters Catalog'),\n",
       " 'wgacat': (2, 'ROSAT Catalog PSPC WGA Sources')}"
      ]
     },
     "execution_count": 37,
     "metadata": {},
     "output_type": "execute_result"
    }
   ],
   "source": [
    "{k:(len(v), tables_dct[k].description) for k,v in rosat_matches.items() if len(v) > 0}"
   ]
  },
  {
   "cell_type": "markdown",
   "id": "62e884cb-0c38-432b-9557-dd457a5dd755",
   "metadata": {},
   "source": [
    "A lot of the ROSAT ones are actually *other* catalogs cross-matched, or some ancillary data set, so lets drop those:"
   ]
  },
  {
   "cell_type": "code",
   "execution_count": 38,
   "id": "6df5e559-5ce4-452d-920b-b532d846f2ee",
   "metadata": {},
   "outputs": [],
   "source": [
    "rosat_matches = {k:v for k,v in rosat_matches.items() if k not in 'hrassoptid,nwayawgros,rass6dfgs,rassusnoid,rosatlog,spidersros,wfcpoint'.split(',')}"
   ]
  },
  {
   "cell_type": "markdown",
   "id": "a428e23f-5ec7-4a6f-8ec8-5d8e0a6baf38",
   "metadata": {},
   "source": [
    "Some of those are >300!  It must be that some hosts have multiple matches.  Lets instead populate the host table"
   ]
  },
  {
   "cell_type": "code",
   "execution_count": 39,
   "id": "c51e9c46-fe4c-4361-a46b-8025355c7901",
   "metadata": {},
   "outputs": [
    {
     "data": {
      "text/plain": [
       "{'chansngcat': (5, 'Chandra ACIS Survey for X-Ray AGN in Nearby Galaxies'),\n",
       " 'chngpscliu': (31,\n",
       "  'Chandra ACIS Survey of Nearby Galaxies X-Ray Point Source Catalo'),\n",
       " 'csc': (79, 'Chandra Source Catalog, v2.0'),\n",
       " 'cxogsgsrc': (64, 'Chandra ACIS GSG Point-Like X-Ray Source Catalog'),\n",
       " 'cxoxassist': (66, 'Chandra XAssist Source List'),\n",
       " 'hcgxrbs': (2, 'X-Ray Observations of Compact Group Galaxies'),\n",
       " 'sdsss82cxo': (2,\n",
       "  'Sloan Digital Sky Survey Stripe 82 Chandra Source Match Catalog'),\n",
       " 'selhcgcxo': (46,\n",
       "  'Selected Hickson Compact Groups Chandra X-Ray Point Source Catal')}"
      ]
     },
     "execution_count": 39,
     "metadata": {},
     "output_type": "execute_result"
    }
   ],
   "source": [
    "{k:(len(v), tables_dct[k].description) for k,v in chandra_matches.items() if len(v) > 0}"
   ]
  },
  {
   "cell_type": "markdown",
   "id": "521adf0c-b21e-49ad-9dda-0ee2e5d6d9e9",
   "metadata": {},
   "source": [
    "Same deal with chandra where not all these are actual chandra data:"
   ]
  },
  {
   "cell_type": "code",
   "execution_count": 40,
   "id": "48e58beb-70ae-4ecc-b756-4c3edd14502d",
   "metadata": {},
   "outputs": [],
   "source": [
    "chandra_matches = {k:v for k,v in chandra_matches.items() if k not in 'cxoxassist,sdsss82cxo,sfgalhmxb'.split(',')}"
   ]
  },
  {
   "cell_type": "code",
   "execution_count": 41,
   "id": "733c521a-b59d-407f-896a-920f2bbb7fba",
   "metadata": {},
   "outputs": [
    {
     "data": {
      "text/plain": [
       "{'agnsdssxm2': (1,\n",
       "  'Sloan Digital Sky Survey/XMM-Newton Type1 AGN X-Ray and Radio Pr'),\n",
       " 'agnsdssxmm': (1,\n",
       "  'Sloan Digital Sky Survey/XMM-Newton AGN Spectral Properties Cata'),\n",
       " 'sdsss82xmm': (3,\n",
       "  'Sloan Digital Sky Survey Stripe 82 XMM-Newton Source Match Catal'),\n",
       " 'xmmao': (3, 'XMM-Newton Accepted Targets'),\n",
       " 'xmmlss10ks': (4,\n",
       "  'XMM-Newton Large-Scale Structure Uniform 10-ksec Exposure X-Ray'),\n",
       " 'xmmlssclas': (4,\n",
       "  'XMM-Newton Large-Scale Structure Optical Counterparts and Redshi'),\n",
       " 'xmmlssdeep': (5,\n",
       "  'XMM-Newton Large-Scale Structure Deep Full-Exposure X-Ray Source'),\n",
       " 'xmmomcat': (239, 'XMM-Newton OM Object Catalog'),\n",
       " 'xmmomsuob': (1,\n",
       "  'XMM-Newton Optical Monitor SUSS Catalog, v6.1: Observation IDs'),\n",
       " 'xmmomsuss': (486,\n",
       "  'XMM-Newton Optical Monitor Serendipitous UV Source Survey Catalo'),\n",
       " 'xmmslewful': (1, 'XMM-Newton Slew Survey Full Source Catalog, v2.0'),\n",
       " 'xmmssc': (92, 'XMM-Newton Serendipitous Source Catalog (4XMM-DR13 Version)'),\n",
       " 'xmmstack': (42,\n",
       "  'XMM-Newton Serendipitous Source Catalog from Stacked Observation'),\n",
       " 'xmmstackob': (114,\n",
       "  'XMM-Newton Serendipitous Source Catalog from Stacked Observation'),\n",
       " 'xmmxassist': (31, 'XMM-Newton XAssist Source List')}"
      ]
     },
     "execution_count": 41,
     "metadata": {},
     "output_type": "execute_result"
    }
   ],
   "source": [
    "{k:(len(v), tables_dct[k].description) for k,v in xmmn_matches.items() if len(v) > 0}"
   ]
  },
  {
   "cell_type": "markdown",
   "id": "867041fc-7314-46b9-b6fe-49fbcb368733",
   "metadata": {},
   "source": [
    "Same deal with xmm-newton where not all these are actual xray data:"
   ]
  },
  {
   "cell_type": "code",
   "execution_count": 42,
   "id": "ea2f4827-948a-45ef-9c52-1b0c4c721653",
   "metadata": {},
   "outputs": [],
   "source": [
    "xmmn_matches = {k:v for k,v in xmmn_matches.items() if k not in 'nwayawgxmm,spidersxmm,xmmao,xmmlssclas,xmmomcat,xmmomsuob,xmmomsuss,xmmxassist'.split(',')}"
   ]
  },
  {
   "cell_type": "markdown",
   "id": "49590e43-ba45-41af-8a01-8b7fbd8b624a",
   "metadata": {},
   "source": [
    "Note though that some are >300.  Must be multiple matches per host.  Lets clean this up to get an \"any x-ray-detection\" set"
   ]
  },
  {
   "cell_type": "code",
   "execution_count": 44,
   "id": "efd180be-d07f-44d9-872f-bf7b19bf5c89",
   "metadata": {},
   "outputs": [
    {
     "name": "stdout",
     "output_type": "stream",
     "text": [
      "src_in_chandra 22 0.0582010582010582\n",
      "src_in_xmmn 37 0.09788359788359788\n",
      "src_in_rosat 21 0.05555555555555555\n"
     ]
    }
   ],
   "source": [
    "for missionnm in ['chandra', 'xmmn', 'rosat']:\n",
    "    matches = globals()[f'{missionnm}_matches']\n",
    "    colnm = f'src_in_{missionnm}'\n",
    "    paper3_sats[colnm] = np.zeros(len(paper3_sats), dtype=bool)\n",
    "    for tabnm, tab in matches.items():\n",
    "        for hostid in np.unique(tab['objid']):\n",
    "            paper3_sats[colnm][paper3_sats['OBJID'] == hostid] = True\n",
    "    print(colnm, np.sum(paper3_sats[colnm]), np.sum(paper3_sats[colnm])/len(paper3_sats))"
   ]
  },
  {
   "cell_type": "code",
   "execution_count": 47,
   "id": "4bcd19a5-fcce-42a3-837c-ec682f98c8ae",
   "metadata": {},
   "outputs": [
    {
     "name": "stdout",
     "output_type": "stream",
     "text": [
      "in_xmmmaster 50 0.13227513227513227\n",
      "in_chanmaster 29 0.07671957671957672\n",
      "in_rosmaster 310 0.8201058201058201\n",
      "in_rassmaster 171 0.4523809523809524\n"
     ]
    }
   ],
   "source": [
    "for tabnm, tab in master_matches.items():\n",
    "    colnm = f'in_{tabnm}'\n",
    "    paper3_sats[colnm] = np.zeros(len(paper3_sats), dtype=bool)\n",
    "    for hostid in np.unique(tab['objid']):\n",
    "        paper3_sats[colnm][paper3_sats['OBJID'] == hostid] = True\n",
    "    print(colnm, np.sum(paper3_sats[colnm]), np.sum(paper3_sats[colnm])/len(paper3_sats))"
   ]
  },
  {
   "cell_type": "markdown",
   "id": "f1a82178-5fec-4a4d-a8a8-380581e73dbd",
   "metadata": {},
   "source": [
    "Oddity: rosmaster is for the ROSAT pointed observations, while RASSMASTER is the sky survey.  Why so different?"
   ]
  },
  {
   "cell_type": "code",
   "execution_count": 48,
   "id": "572a720b-2f5b-405d-8ff8-b3069335ae14",
   "metadata": {},
   "outputs": [
    {
     "name": "stdout",
     "output_type": "stream",
     "text": [
      "216 / 378\n"
     ]
    }
   ],
   "source": [
    "print(np.sum(paper3_sats['in_xmmmaster']|paper3_sats['in_chanmaster']|paper3_sats['in_rassmaster']), '/', len(paper3_sats))"
   ]
  },
  {
   "cell_type": "code",
   "execution_count": 51,
   "id": "9d75b865-0aac-4204-a562-0c8fc2cfa909",
   "metadata": {},
   "outputs": [
    {
     "name": "stdout",
     "output_type": "stream",
     "text": [
      "65 / 216\n"
     ]
    }
   ],
   "source": [
    "print(np.sum(paper3_sats['src_in_chandra']|paper3_sats['src_in_xmmn']|paper3_sats['src_in_rosat']), '/', np.sum(paper3_sats['in_xmmmaster']|paper3_sats['in_chanmaster']|paper3_sats['in_rassmaster']))"
   ]
  },
  {
   "cell_type": "code",
   "execution_count": 52,
   "id": "229b52be-14f5-46e5-b90c-3fdebd580a36",
   "metadata": {},
   "outputs": [
    {
     "name": "stdout",
     "output_type": "stream",
     "text": [
      "51 / 71\n"
     ]
    }
   ],
   "source": [
    "print(np.sum(paper3_sats['src_in_chandra']|paper3_sats['src_in_xmmn']), '/', np.sum(paper3_sats['in_xmmmaster']|paper3_sats['in_chanmaster']))"
   ]
  },
  {
   "cell_type": "markdown",
   "id": "2fc0b450-fa45-4b35-a1e4-a352b68b00cd",
   "metadata": {},
   "source": [
    "# Focus on core catalogs\n",
    "\n",
    "Each of these missions has a few tables that are their main source lists.  Lets focus on those"
   ]
  },
  {
   "cell_type": "markdown",
   "id": "4ce35fbd-e571-4d7e-9ba0-2c187742e9f1",
   "metadata": {},
   "source": [
    "### Chandra source catalog"
   ]
  },
  {
   "cell_type": "code",
   "execution_count": 59,
   "id": "2cca22a3-6aaa-4862-8ddd-4f250d9dc465",
   "metadata": {},
   "outputs": [],
   "source": [
    "csc = chandra_matches['csc']\n",
    "csc_coo = SkyCoord(ra=csc['csc_ra'], dec=csc['csc_dec'])\n",
    "\n",
    "seps = []\n",
    "for coo, row in zip(csc_coo,csc):\n",
    "    hrow = paper3_sats[row['objid']==paper3_sats['OBJID']]\n",
    "    assert len(hrow)==1, len(hrow)\n",
    "    hrow = hrow[0]\n",
    "\n",
    "    seps.append(hrow['coord'].separation(coo))\n",
    "csc['seps'] = u.Quantity(seps)"
   ]
  },
  {
   "cell_type": "code",
   "execution_count": 60,
   "id": "f651211d-d3ef-4b0a-b511-83312b8cb150",
   "metadata": {},
   "outputs": [
    {
     "data": {
      "image/png": "[encoded data removed]",
      "text/plain": [
       "<Figure size 1200x500 with 3 Axes>"
      ]
     },
     "metadata": {},
     "output_type": "display_data"
    }
   ],
   "source": [
    "fig, (ax1, ax2, ax3) = plt.subplots(1, 3, figsize=(12, 5))\n",
    "ax1.hist(u.Quantity(csc['seps']).to(u.arcsec), bins=100)\n",
    "ax2.hist(u.Quantity(csc['seps']).to(u.arcsec), bins=100, range=(0*u.arcsec, 10*u.arcsec));\n",
    "ax3.hist(u.Quantity(csc['seps']).to(u.arcsec), bins=50, range=(0*u.arcsec, 2*u.arcsec));"
   ]
  },
  {
   "cell_type": "markdown",
   "id": "88459f8d-56d8-4a19-be27-38e5dbf8f912",
   "metadata": {},
   "source": [
    "Now do a by-eye inspection at https://heasarc.gsfc.nasa.gov/xamin/xamin.jsp - the below prints out coordinates, as well as a blank dictionary which is to be copied into the next cell and filled out."
   ]
  },
  {
   "cell_type": "code",
   "execution_count": 64,
   "id": "fdef29e2-a7f3-4a4b-bc88-a2bfe9f5696f",
   "metadata": {},
   "outputs": [
    {
     "name": "stdout",
     "output_type": "stream",
     "text": [
      "by_eye_checks = {\n",
      "'902122150000000345': '',\n",
      "# 52.6964572,-21.0583216\n",
      "'902409060000005742': '',\n",
      "# 45.8588994,-15.6618661\n",
      "'903499470000004210': '',\n",
      "# 215.233215,3.23799031\n",
      "'903576680000004128': '',\n",
      "# 348.643948,4.49843422\n",
      "}\n"
     ]
    }
   ],
   "source": [
    "possible_match_rad = 10*u.arcsec\n",
    "\n",
    "print('by_eye_checks = {')\n",
    "for hostid in np.unique(csc[u.Quantity(csc['seps'])<possible_match_rad]['objid']):\n",
    "    row = paper3_sats[paper3_sats['OBJID']==hostid][0]\n",
    "    print(f\"'{hostid}': '',\")\n",
    "    print('# {0.ra.deg:.9},{0.dec.deg:.9}'.format(row['coord']))\n",
    "print('}')"
   ]
  },
  {
   "cell_type": "markdown",
   "id": "49f040e5-0886-4abb-9522-c5d400bda4f4",
   "metadata": {},
   "source": [
    "The options are:\n",
    "* 'a' - strong point source at glx center\n",
    "* 'y' - definitely real source at glx center\n",
    "* 'm' - possible source, but not obvious\n",
    "* 'n' - galaxy definitly not x-ray source\n",
    "* 'f' - not in footprint of heasarc viewer tool"
   ]
  },
  {
   "cell_type": "code",
   "execution_count": 80,
   "id": "0519b7c8-d131-4537-96ad-93452893b96e",
   "metadata": {},
   "outputs": [],
   "source": [
    "by_eye_checks_csc = {\n",
    "902122150000000345: 'm', # definitely an overdensity of points - 3sig, but unclear how point-source-y it is\n",
    "# 52.6964572,-21.0583216\n",
    "902409060000005742: 'm', #2.5 sigma.  Not compelling but possible\n",
    "# 45.8588994,-15.6618661\n",
    "903499470000004210: 'y', #definitely somthing there, probably point-source?  Catalog separates it into 3 sources though.\n",
    "# 215.233215,3.23799031\n",
    "903576680000004128: 'm',  # realy X-ray sources, but none in the core?  Probably not AGN then\n",
    "# 348.643948,4.49843422\n",
    "}"
   ]
  },
  {
   "cell_type": "code",
   "execution_count": 81,
   "id": "709c5f8a-9b2a-407c-828c-079fc37009db",
   "metadata": {},
   "outputs": [],
   "source": [
    "paper3_sats['in_csc'] = np.zeros(len(paper3_sats), dtype=bool)\n",
    "paper3_sats['src_in_csc'] = np.zeros(len(paper3_sats), dtype=bool)\n",
    "for k,v in by_eye_checks_csc.items():\n",
    "    paper3_satsmsk = paper3_sats['OBJID']==k\n",
    "    if v!='f':\n",
    "        paper3_sats['in_csc'][paper3_satsmsk] = True\n",
    "    if v=='a' or v=='y':\n",
    "        paper3_sats['src_in_csc'][paper3_satsmsk] = True"
   ]
  },
  {
   "cell_type": "code",
   "execution_count": 82,
   "id": "afaf998d-df34-4afd-8c3c-1241be897db6",
   "metadata": {},
   "outputs": [
    {
     "data": {
      "text/plain": [
       "(0.010582010582010581, 0.25)"
      ]
     },
     "execution_count": 82,
     "metadata": {},
     "output_type": "execute_result"
    }
   ],
   "source": [
    "np.sum(paper3_sats['in_csc'])/len(paper3_sats), np.sum(paper3_sats['src_in_csc'])/np.sum(paper3_sats['in_csc'])"
   ]
  },
  {
   "cell_type": "markdown",
   "id": "c8d67fa6-2de2-4ad1-96cf-bfb38773cccf",
   "metadata": {},
   "source": [
    "### XMM-Newton"
   ]
  },
  {
   "cell_type": "code",
   "execution_count": 83,
   "id": "a08bc451-b708-49ee-bcb8-948d3ee6fd98",
   "metadata": {},
   "outputs": [
    {
     "data": {
      "text/plain": [
       "{'agnsdssxm2': (1,\n",
       "  'Sloan Digital Sky Survey/XMM-Newton Type1 AGN X-Ray and Radio Pr'),\n",
       " 'agnsdssxmm': (1,\n",
       "  'Sloan Digital Sky Survey/XMM-Newton AGN Spectral Properties Cata'),\n",
       " 'sdsss82xmm': (3,\n",
       "  'Sloan Digital Sky Survey Stripe 82 XMM-Newton Source Match Catal'),\n",
       " 'xmmlss10ks': (4,\n",
       "  'XMM-Newton Large-Scale Structure Uniform 10-ksec Exposure X-Ray'),\n",
       " 'xmmlssdeep': (5,\n",
       "  'XMM-Newton Large-Scale Structure Deep Full-Exposure X-Ray Source'),\n",
       " 'xmmslewful': (1, 'XMM-Newton Slew Survey Full Source Catalog, v2.0'),\n",
       " 'xmmssc': (92, 'XMM-Newton Serendipitous Source Catalog (4XMM-DR13 Version)'),\n",
       " 'xmmstack': (42,\n",
       "  'XMM-Newton Serendipitous Source Catalog from Stacked Observation'),\n",
       " 'xmmstackob': (114,\n",
       "  'XMM-Newton Serendipitous Source Catalog from Stacked Observation')}"
      ]
     },
     "execution_count": 83,
     "metadata": {},
     "output_type": "execute_result"
    }
   ],
   "source": [
    "{k:(len(v), tables_dct[k].description) for k,v in xmmn_matches.items() if len(v) > 0}"
   ]
  },
  {
   "cell_type": "code",
   "execution_count": 88,
   "id": "1c5aada6-e554-4b42-b9e6-7122b658116b",
   "metadata": {},
   "outputs": [],
   "source": [
    "cat = xmmn_matches['xmmlssdeep']\n",
    "cat_coo = SkyCoord(ra=cat['xmmlssdeep_ra'], dec=cat['xmmlssdeep_dec'])\n",
    "\n",
    "seps = []\n",
    "for coo, row in zip(cat_coo,cat):\n",
    "    hrow = paper3_sats[row['objid']==paper3_sats['OBJID']]\n",
    "    assert len(hrow)==1, len(hrow)\n",
    "    hrow = hrow[0]\n",
    "\n",
    "    seps.append(hrow['coord'].separation(coo))\n",
    "cat['seps'] = u.Quantity(seps)\n",
    "cat['cp-coo'] = ['{0.ra.deg:.9},{0.dec.deg:.9}'.format(coo) for coo in cat_coo]"
   ]
  },
  {
   "cell_type": "code",
   "execution_count": 89,
   "id": "7626f205-a5b1-4705-93cd-5876c22a8d3f",
   "metadata": {},
   "outputs": [
    {
     "data": {
      "text/html": [
       "<div><i>Table length=5</i>\n",
       "<table id=\"table11711129360\" class=\"table-striped table-bordered table-condensed\">\n",
       "<thead><tr><th>xmmlssdeep___row</th><th>xmmlssdeep_source_number</th><th>xmmlssdeep_name</th><th>xmmlssdeep_ra</th><th>xmmlssdeep_dec</th><th>xmmlssdeep_lii</th><th>xmmlssdeep_bii</th><th>xmmlssdeep_sb_source_number</th><th>xmmlssdeep_sb_name</th><th>xmmlssdeep_extended_source_class</th><th>xmmlssdeep_sb_core_radius</th><th>xmmlssdeep_sb_extent_likelihood</th><th>xmmlssdeep_sb_detect_likelihood</th><th>xmmlssdeep_sb_off_axis</th><th>xmmlssdeep_sb_ra</th><th>xmmlssdeep_sb_dec</th><th>xmmlssdeep_sb_error_radius</th><th>xmmlssdeep_mos_sb_rate</th><th>xmmlssdeep_pn_sb_rate</th><th>xmmlssdeep_sb_flux</th><th>xmmlssdeep_sb_flux_flag</th><th>xmmlssdeep_hb_source_number</th><th>xmmlssdeep_hb_name</th><th>xmmlssdeep_hb_core_radius</th><th>xmmlssdeep_hb_extent_likelihood</th><th>xmmlssdeep_hb_detect_likelihood</th><th>xmmlssdeep_hb_off_axis</th><th>xmmlssdeep_hb_ra</th><th>xmmlssdeep_hb_dec</th><th>xmmlssdeep_hb_error_radius</th><th>xmmlssdeep_mos_hb_rate</th><th>xmmlssdeep_pn_hb_rate</th><th>xmmlssdeep_hb_flux</th><th>xmmlssdeep_hb_flux_flag</th><th>xmmlssdeep_old_source_number</th><th>xmmlssdeep___x_ra_dec</th><th>xmmlssdeep___y_ra_dec</th><th>xmmlssdeep___z_ra_dec</th><th>objid</th><th>seps</th><th>cp-coo</th></tr></thead>\n",
       "<thead><tr><th></th><th></th><th></th><th>deg</th><th>deg</th><th>deg</th><th>deg</th><th></th><th></th><th></th><th>arcsec</th><th></th><th></th><th>arcmin</th><th>deg</th><th>deg</th><th>arcsec</th><th>ct/s/detector</th><th>ct / s</th><th>erg/s/cm^2</th><th></th><th></th><th></th><th>arcsec</th><th></th><th></th><th>arcmin</th><th>deg</th><th>deg</th><th>arcsec</th><th>ct / s</th><th>ct / s</th><th>erg/s/cm^2</th><th></th><th></th><th></th><th></th><th></th><th></th><th>deg</th><th></th></tr></thead>\n",
       "<thead><tr><th>int32</th><th>int32</th><th>object</th><th>float64</th><th>float64</th><th>float64</th><th>float64</th><th>int32</th><th>object</th><th>int16</th><th>float64</th><th>float64</th><th>float64</th><th>float64</th><th>float64</th><th>float64</th><th>float64</th><th>float64</th><th>float64</th><th>float64</th><th>int16</th><th>int32</th><th>object</th><th>float64</th><th>float64</th><th>float64</th><th>float64</th><th>float64</th><th>float64</th><th>float64</th><th>float64</th><th>float64</th><th>float64</th><th>int16</th><th>int32</th><th>float64</th><th>float64</th><th>float64</th><th>int64</th><th>float64</th><th>str17</th></tr></thead>\n",
       "<tr><td>536</td><td>34713</td><td>2XLSSd J022120.3-054425</td><td>35.33476</td><td>-5.74053</td><td>171.96901</td><td>-59.75433</td><td>24031</td><td>2XLSSB J022120.3-054425</td><td>0</td><td>0.30</td><td>0.80084</td><td>158.09200</td><td>6.20</td><td>35.33476</td><td>-5.74053</td><td>1.0</td><td>0.0021</td><td>0.0063</td><td>1e-14</td><td>0</td><td>16884</td><td>2XLSSCD J022120.5-054422</td><td>0.39</td><td>2.75435</td><td>49.60474</td><td>6.26</td><td>35.33570</td><td>-5.73964</td><td>1.5</td><td>0.0011</td><td>0.0041</td><td>2.92e-14</td><td>1</td><td>--</td><td>0.575452247949568</td><td>0.811695748378789</td><td>-0.100023609180963</td><td>902974260000007767</td><td>0.02037096660630265</td><td>35.33476,-5.74053</td></tr>\n",
       "<tr><td>1023</td><td>29997</td><td>2XLSSd J022140.1-052751</td><td>35.41744</td><td>-5.46431</td><td>171.72103</td><td>-59.49482</td><td>19845</td><td>2XLSSB J022140.1-052751</td><td>0</td><td>0.27</td><td>0.20552</td><td>17.86321</td><td>5.54</td><td>35.41744</td><td>-5.46431</td><td>1.8</td><td>0.0004</td><td>0.0017</td><td>2.4e-15</td><td>0</td><td>13966</td><td>2XLSSCD J022140.3-052750</td><td>1.90</td><td>0.00000</td><td>13.89000</td><td>5.52</td><td>35.41793</td><td>-5.46410</td><td>2.0</td><td>0.0006</td><td>0.0007</td><td>1.01e-14</td><td>2</td><td>--</td><td>0.576895708542841</td><td>0.811248056222093</td><td>-0.0952256937004334</td><td>902988610000000459</td><td>0.024019694744505837</td><td>35.41744,-5.46431</td></tr>\n",
       "<tr><td>1109</td><td>29992</td><td>2XLSSd J022141.4-052517</td><td>35.42280</td><td>-5.42165</td><td>171.67234</td><td>-59.45965</td><td>19840</td><td>2XLSSB J022141.4-052517</td><td>0</td><td>0.77</td><td>2.28926</td><td>27.54393</td><td>6.47</td><td>35.42280</td><td>-5.42165</td><td>1.8</td><td>0.0008</td><td>0.0024</td><td>3.8e-15</td><td>0</td><td>--</td><td></td><td>--</td><td>--</td><td>--</td><td>--</td><td>--</td><td>--</td><td>--</td><td>--</td><td>--</td><td>--</td><td>--</td><td>--</td><td>0.577012532667403</td><td>0.811251636455325</td><td>-0.0944844934013333</td><td>902988610000000459</td><td>0.02462164352677621</td><td>35.4228,-5.42165</td></tr>\n",
       "<tr><td>865</td><td>30016</td><td>2XLSSd J022142.9-053204</td><td>35.42902</td><td>-5.53453</td><td>171.83102</td><td>-59.53898</td><td>19864</td><td>2XLSSB J022142.9-053204</td><td>0</td><td>0.06</td><td>2.79252</td><td>59.20136</td><td>5.34</td><td>35.42902</td><td>-5.53453</td><td>1.8</td><td>0.0011</td><td>0.0024</td><td>4.6e-15</td><td>1</td><td>--</td><td></td><td>--</td><td>--</td><td>--</td><td>--</td><td>--</td><td>--</td><td>--</td><td>--</td><td>--</td><td>--</td><td>--</td><td>--</td><td>0.576991570403708</td><td>0.811035738755662</td><td>-0.0964456227317762</td><td>902988610000001595</td><td>0.008967764481822347</td><td>35.42902,-5.53453</td></tr>\n",
       "<tr><td>1124</td><td>29986</td><td>2XLSSd J022149.3-052456</td><td>35.45543</td><td>-5.41556</td><td>171.71160</td><td>-59.43331</td><td>19834</td><td>2XLSSB J022149.3-052455</td><td>0</td><td>--</td><td>--</td><td>--</td><td>5.42</td><td>35.45553</td><td>-5.41536</td><td>1.0</td><td>0.0102</td><td>0.0364</td><td>5.28e-14</td><td>0</td><td>13961</td><td>2XLSSCD J022149.3-052456</td><td>0.85</td><td>22.89974</td><td>138.54820</td><td>5.41</td><td>35.45543</td><td>-5.41556</td><td>1.0</td><td>0.0022</td><td>0.0106</td><td>6.73e-14</td><td>1</td><td>--</td><td>0.577480269901155</td><td>0.810931071699021</td><td>-0.0943786778248474</td><td>902988610000002815</td><td>0.033166441162889936</td><td>35.45543,-5.41556</td></tr>\n",
       "</table></div>"
      ],
      "text/plain": [
       "<Table length=5>\n",
       "xmmlssdeep___row xmmlssdeep_source_number ...       cp-coo     \n",
       "                                          ...                  \n",
       "     int32                int32           ...       str17      \n",
       "---------------- ------------------------ ... -----------------\n",
       "             536                    34713 ... 35.33476,-5.74053\n",
       "            1023                    29997 ... 35.41744,-5.46431\n",
       "            1109                    29992 ...  35.4228,-5.42165\n",
       "             865                    30016 ... 35.42902,-5.53453\n",
       "            1124                    29986 ... 35.45543,-5.41556"
      ]
     },
     "execution_count": 89,
     "metadata": {},
     "output_type": "execute_result"
    }
   ],
   "source": [
    "cat"
   ]
  },
  {
   "cell_type": "markdown",
   "id": "b2b444e4-1bcd-413a-ac38-da636db582f4",
   "metadata": {},
   "source": [
    "None of these are actual sat matches, coincidental neighbors."
   ]
  },
  {
   "cell_type": "code",
   "execution_count": 92,
   "id": "b3ebaf1c-27ba-408c-8ba5-2eda696d571e",
   "metadata": {},
   "outputs": [],
   "source": [
    "cat = xmmn_matches['xmmssc']\n",
    "cat_coo = SkyCoord(ra=cat['xmmssc_ra'], dec=cat['xmmssc_dec'])\n",
    "\n",
    "seps = []\n",
    "for coo, row in zip(cat_coo,cat):\n",
    "    hrow = paper3_sats[row['objid']==paper3_sats['OBJID']]\n",
    "    assert len(hrow)==1, len(hrow)\n",
    "    hrow = hrow[0]\n",
    "\n",
    "    seps.append(hrow['coord'].separation(coo))\n",
    "cat['seps'] = u.Quantity(seps)\n",
    "cat['cp-coo'] = ['{0.ra.deg:.9},{0.dec.deg:.9}'.format(coo) for coo in cat_coo]"
   ]
  },
  {
   "cell_type": "code",
   "execution_count": 93,
   "id": "d1371efd-0745-4dca-9bf3-241fd7b841dd",
   "metadata": {},
   "outputs": [
    {
     "data": {
      "image/png": "[encoded data removed]",
      "text/plain": [
       "<Figure size 1200x500 with 3 Axes>"
      ]
     },
     "metadata": {},
     "output_type": "display_data"
    }
   ],
   "source": [
    "fig, (ax1, ax2, ax3) = plt.subplots(1, 3, figsize=(12, 5))\n",
    "ax1.hist(u.Quantity(cat['seps']).to(u.arcsec), bins=100)\n",
    "ax2.hist(u.Quantity(cat['seps']).to(u.arcsec), bins=100, range=(0*u.arcsec, 10*u.arcsec));\n",
    "ax3.hist(u.Quantity(cat['seps']).to(u.arcsec), bins=50, range=(0*u.arcsec, 2*u.arcsec));"
   ]
  },
  {
   "cell_type": "code",
   "execution_count": 95,
   "id": "899ba507-8fbc-4f80-8c8f-18a68eb61807",
   "metadata": {},
   "outputs": [
    {
     "name": "stdout",
     "output_type": "stream",
     "text": [
      "by_eye_checks = {\n",
      "'900800500000006536': '',\n",
      "# 318.017097,-49.4632837\n",
      "'900809930000006835': '',\n",
      "# 317.926824,-49.1874741\n",
      "'902409060000005742': '',\n",
      "# 45.8588994,-15.6618661\n",
      "'902409080000006997': '',\n",
      "# 46.40637,-15.8116106\n",
      "'902422950000000287': '',\n",
      "# 45.851008,-15.6226291\n",
      "'902422950000002380': '',\n",
      "# 45.9306892,-15.4845559\n",
      "'902422980000000214': '',\n",
      "# 46.6221382,-15.5689512\n",
      "'902616890000002817': '',\n",
      "# 354.779882,-12.2240098\n",
      "'902988610000001595': '',\n",
      "# 35.4379915,-5.53535544\n",
      "'903332240000007712': '',\n",
      "# 354.19548,0.330583147\n",
      "'903499470000004210': '',\n",
      "# 215.233215,3.23799031\n",
      "'903699000000000343': '',\n",
      "# 179.010299,6.67790873\n",
      "'904251140000004290': '',\n",
      "# 234.133155,16.4400328\n",
      "'915478090000003987': '',\n",
      "# 138.679741,40.8801642\n",
      "}\n"
     ]
    }
   ],
   "source": [
    "possible_match_rad = 40*u.arcsec\n",
    "\n",
    "print('by_eye_checks = {')\n",
    "for hostid in np.unique(cat[u.Quantity(cat['seps'])<possible_match_rad]['objid']):\n",
    "    row = paper3_sats[paper3_sats['OBJID']==hostid][0]\n",
    "    print(f\"'{hostid}': '',\")\n",
    "    print('# {0.ra.deg:.9},{0.dec.deg:.9}'.format(row['coord']))\n",
    "print('}')"
   ]
  },
  {
   "cell_type": "markdown",
   "id": "18ec907c-9948-435c-b728-120e09063c94",
   "metadata": {},
   "source": [
    "The options are:\n",
    "* 'a' - strong point source at glx center\n",
    "* 'y' - definitely real source at glx center\n",
    "* 'm' - possible source, but not obvious\n",
    "* 'n' - galaxy definitly not x-ray source\n",
    "* 'f' - not in footprint of heasarc viewer tool"
   ]
  },
  {
   "cell_type": "code",
   "execution_count": 105,
   "id": "f51aed6a-5108-4b49-93f5-0441b3689ac9",
   "metadata": {},
   "outputs": [],
   "source": [
    "by_eye_checks_xmmssc = {\n",
    "900800500000006536: 'n',  # very close real source but it's a nearby starr\n",
    "# 318.017097,-49.4632837\n",
    "900809930000006835: 'n',  # not the sat\n",
    "# 317.926824,-49.1874741\n",
    "902409060000005742: 'n',  # nearby source in XMM, but not in equivalent Chandra image?  Or marginal?\n",
    "# 45.8588994,-15.6618661\n",
    "902409080000006997: 'n', # nearby source, not associated?\n",
    "# 46.40637,-15.8116106\n",
    "902422950000000287: 'n',  # in outskirts, not compelling (~1-2 sig detection)\n",
    "# 45.851008,-15.6226291\n",
    "902422950000002380: 'n', #non-match\n",
    "# 45.9306892,-15.4845559\n",
    "902422980000000214: 'm',  # there's a real point-like source here.  Offset, but maybe this is an astrometry problem?\n",
    "# 46.6221382,-15.5689512\n",
    "902616890000002817: 'y',  # this one is weak but very real and in the sat center\n",
    "# 354.779882,-12.2240098\n",
    "902988610000001595: 'n', # detector artifact\n",
    "# 35.4379915,-5.53535544\n",
    "903332240000007712: 'n',\n",
    "# 354.19548,0.330583147\n",
    "903499470000004210: 'y',  # strong in EPIC but not PN? Also in Chandra as a y\n",
    "# 215.233215,3.23799031\n",
    "903699000000000343: 'n',  # nearby star-like\n",
    "# 179.010299,6.67790873\n",
    "904251140000004290: 'y',  # very strong in PN? Also in Chandra but not as point-like?  Mis-aligned with galaxy though? jet?\n",
    "# 234.133155,16.4400328\n",
    "915478090000003987: 'm',  #weak detection, also in Chandra but offset from core\n",
    "# 138.679741,40.8801642\n",
    "}"
   ]
  },
  {
   "cell_type": "code",
   "execution_count": 106,
   "id": "26b6b1f6-55a1-488e-8900-ec862e7398b5",
   "metadata": {},
   "outputs": [],
   "source": [
    "paper3_sats['in_xmmssc'] = np.zeros(len(paper3_sats), dtype=bool)\n",
    "paper3_sats['src_in_xmmssc'] = np.zeros(len(paper3_sats), dtype=bool)\n",
    "for k,v in by_eye_checks_xmmssc.items():\n",
    "    paper3_satsmsk = paper3_sats['OBJID']==k\n",
    "    if v!='f':\n",
    "        paper3_sats['in_xmmssc'][paper3_satsmsk] = True\n",
    "    if v=='a' or v=='y':\n",
    "        paper3_sats['src_in_xmmssc'][paper3_satsmsk] = True"
   ]
  },
  {
   "cell_type": "code",
   "execution_count": 107,
   "id": "f5331a17-0037-407d-acb5-b692d12efc54",
   "metadata": {},
   "outputs": [
    {
     "data": {
      "text/plain": [
       "(0.037037037037037035, 0.21428571428571427)"
      ]
     },
     "execution_count": 107,
     "metadata": {},
     "output_type": "execute_result"
    }
   ],
   "source": [
    "np.sum(paper3_sats['in_xmmssc'])/len(paper3_sats), np.sum(paper3_sats['src_in_xmmssc'])/np.sum(paper3_sats['in_xmmssc'])"
   ]
  },
  {
   "cell_type": "markdown",
   "id": "5d303998-6674-4622-b17a-419917dbb9bd",
   "metadata": {},
   "source": [
    "# Summary fractions"
   ]
  },
  {
   "cell_type": "code",
   "execution_count": 110,
   "id": "67593e90-be1c-467e-aaef-5fdd2680b80a",
   "metadata": {},
   "outputs": [
    {
     "data": {
      "text/plain": [
       "(0.042328042328042326, 0.1875)"
      ]
     },
     "execution_count": 110,
     "metadata": {},
     "output_type": "execute_result"
    }
   ],
   "source": [
    "np.sum(paper3_sats['in_xmmssc']|paper3_sats['in_csc'])/len(paper3_sats), np.sum(paper3_sats['src_in_xmmssc']|paper3_sats['src_in_csc'])/np.sum(paper3_sats['in_xmmssc']|paper3_sats['in_csc'])"
   ]
  },
  {
   "cell_type": "code",
   "execution_count": 109,
   "id": "19499bab-3c71-4154-94c1-535af3d14593",
   "metadata": {},
   "outputs": [
    {
     "data": {
      "text/plain": [
       "3"
      ]
     },
     "execution_count": 109,
     "metadata": {},
     "output_type": "execute_result"
    }
   ],
   "source": [
    "np.sum(paper3_sats['src_in_xmmssc']|paper3_sats['src_in_csc'])"
   ]
  },
  {
   "cell_type": "markdown",
   "id": "838429b5-5c39-4742-b8d5-cd4cc4038681",
   "metadata": {},
   "source": [
    "Compare to Li et al. 2016 (https://arxiv.org/pdf/1710.07355.pdf)"
   ]
  },
  {
   "cell_type": "code",
   "execution_count": 112,
   "id": "6dd0974e-4175-4d25-a090-5beaea221b59",
   "metadata": {},
   "outputs": [
    {
     "data": {
      "text/plain": [
       "[<SkyCoord (ICRS): (ra, dec) in deg\n",
       "     (351.34065625, 28.49515139)>,\n",
       " <SkyCoord (ICRS): (ra, dec) in deg\n",
       "     (26.81718005, 35.56328211)>,\n",
       " <SkyCoord (ICRS): (ra, dec) in deg\n",
       "     (293.32882845, -58.11422442)>,\n",
       " <SkyCoord (ICRS): (ra, dec) in deg\n",
       "     (229.18003277, 55.40926144)>,\n",
       " <SkyCoord (ICRS): (ra, dec) in deg\n",
       "     (131.8207542, -20.0356611)>,\n",
       " <SkyCoord (ICRS): (ra, dec) in deg\n",
       "     (21.67730184, 2.02231)>]"
      ]
     },
     "execution_count": 112,
     "metadata": {},
     "output_type": "execute_result"
    }
   ],
   "source": [
    "liscs = [SkyCoord.from_name(glxnm) for glxnm in ['UGC 12591', 'NGC 669', 'ESO142-G019', 'NGC 5908', 'UGCA 145', 'NGC 550']]    \n",
    "liscs"
   ]
  },
  {
   "cell_type": "code",
   "execution_count": null,
   "id": "f4d2ad0d-6726-4c4c-b796-fe3ae8995e0c",
   "metadata": {},
   "outputs": [],
   "source": [
    "spec.wcs."
   ]
  },
  {
   "cell_type": "code",
   "execution_count": 119,
   "id": "5c10efd3-8bfc-4055-adfa-c91cafed1001",
   "metadata": {},
   "outputs": [],
   "source": [
    "for lisc in liscs:\n",
    "    seps = paper3_hosts['coord'].separation(lisc)\n",
    "    if np.any(seps<1*u.deg):\n",
    "        msk = seps<1*u.deg\n",
    "        print(paper3_hosts[msk], seps[msk])"
   ]
  },
  {
   "cell_type": "markdown",
   "id": "f392f405-e799-4499-bb26-d027b04ad708",
   "metadata": {},
   "source": [
    "No matches to Li+ 16"
   ]
  }
 ],
 "metadata": {
  "kernelspec": {
   "display_name": "Python 3 (ipykernel)",
   "language": "python",
   "name": "python3"
  },
  "language_info": {
   "codemirror_mode": {
    "name": "ipython",
    "version": 3
   },
   "file_extension": ".py",
   "mimetype": "text/x-python",
   "name": "python",
   "nbconvert_exporter": "python",
   "pygments_lexer": "ipython3",
   "version": "3.11.7"
  }
 },
 "nbformat": 4,
 "nbformat_minor": 5
}
