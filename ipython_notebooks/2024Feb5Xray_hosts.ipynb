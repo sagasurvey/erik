{
 "cells": [
  {
   "cell_type": "code",
   "execution_count": 33,
   "id": "080354d2-fa5e-45ca-9f30-1e219b8f8b48",
   "metadata": {},
   "outputs": [
    {
     "ename": "ModuleNotFoundError",
     "evalue": "No module named 'tqdm'",
     "output_type": "error",
     "traceback": [
      "\u001b[0;31m---------------------------------------------------------------------------\u001b[0m",
      "\u001b[0;31mModuleNotFoundError\u001b[0m                       Traceback (most recent call last)",
      "Cell \u001b[0;32mIn[33], line 8\u001b[0m\n\u001b[1;32m      4\u001b[0m \u001b[38;5;28;01mfrom\u001b[39;00m \u001b[38;5;21;01mmatplotlib\u001b[39;00m \u001b[38;5;28;01mimport\u001b[39;00m pyplot \u001b[38;5;28;01mas\u001b[39;00m plt\n\u001b[1;32m      6\u001b[0m \u001b[38;5;28;01mfrom\u001b[39;00m \u001b[38;5;21;01mastropy\u001b[39;00m \u001b[38;5;28;01mimport\u001b[39;00m units \u001b[38;5;28;01mas\u001b[39;00m u\n\u001b[0;32m----> 8\u001b[0m \u001b[38;5;28;01mfrom\u001b[39;00m \u001b[38;5;21;01mtqdm\u001b[39;00m\u001b[38;5;21;01m.\u001b[39;00m\u001b[38;5;21;01mnotebook\u001b[39;00m \u001b[38;5;28;01mimport\u001b[39;00m tqdm\n",
      "\u001b[0;31mModuleNotFoundError\u001b[0m: No module named 'tqdm'"
     ]
    }
   ],
   "source": [
    "import numpy as np\n",
    "\n",
    "%matplotlib inline\n",
    "from matplotlib import pyplot as plt\n",
    "\n",
    "from astropy import units as u\n",
    "\n",
    "from tqdm.notebook import tqdm"
   ]
  },
  {
   "cell_type": "code",
   "execution_count": 2,
   "id": "95ceb7f2-35a7-400d-b2f9-33a70dc22708",
   "metadata": {},
   "outputs": [
    {
     "name": "stdout",
     "output_type": "stream",
     "text": [
      "SAGA `shared_dir` set to /Users/etollerud/Dropbox/\n",
      "SAGA `local_dir`  set to /../\n"
     ]
    }
   ],
   "source": [
    "import SAGA\n",
    "saga = SAGA.QuickStart('/Users/etollerud/Dropbox/', '/../')"
   ]
  },
  {
   "cell_type": "code",
   "execution_count": 3,
   "id": "5dca7d3d-8a1a-47ae-8b46-02fb20fa8b2e",
   "metadata": {},
   "outputs": [],
   "source": [
    "hosts = saga.host_catalog.load()"
   ]
  },
  {
   "cell_type": "code",
   "execution_count": 21,
   "id": "67bd7570-5965-4dd5-919d-46359173172b",
   "metadata": {},
   "outputs": [],
   "source": [
    "hosts.write('hosts.ecsv', format='ascii.ecsv')"
   ]
  },
  {
   "cell_type": "markdown",
   "id": "660dedd3-259a-4701-8094-2d99864db8b8",
   "metadata": {},
   "source": [
    "# First match HEASARC data"
   ]
  },
  {
   "cell_type": "code",
   "execution_count": 5,
   "id": "ab378a73-9ced-4880-81d5-e07d46d0cfb4",
   "metadata": {},
   "outputs": [],
   "source": [
    "from astroquery.heasarc import Heasarc\n",
    "heasarc = Heasarc()\n"
   ]
  },
  {
   "cell_type": "code",
   "execution_count": 7,
   "id": "0101fbe8-94aa-4681-8e9b-d2556a3fabf1",
   "metadata": {},
   "outputs": [
    {
     "data": {
      "text/html": [
       "<div><i>Table length=1185</i>\n",
       "<table id=\"table5615421072\" class=\"table-striped table-bordered table-condensed\">\n",
       "<thead><tr><th>Mission</th><th>Table</th><th>Table Description</th></tr></thead>\n",
       "<thead><tr><th>str16</th><th>str12</th><th>str80</th></tr></thead>\n",
       "<tr><td>AGILE</td><td>agilecat</td><td>First AGILE Catalog of High-Confidence Gamma-Ray Sources</td></tr>\n",
       "<tr><td>AGILE</td><td>agileupvar</td><td>Updated AGILE Catalog of Bright Gamma-Ray Sources and Variability</td></tr>\n",
       "<tr><td>AKARI</td><td>akaribsc</td><td>AKARI/FIS All-Sky Survey Bright Source Catalog, Version 1</td></tr>\n",
       "<tr><td>AKARI</td><td>akaripsc</td><td>AKARI/IRC All-Sky Survey Point Source Catalog, Version 1</td></tr>\n",
       "<tr><td>ANS</td><td>ansuvpscat</td><td>ANS Ultraviolet Photometry Catalog of Point Sources</td></tr>\n",
       "<tr><td>ARIEL V</td><td>ariel3a</td><td>3rd Ariel-V SSI Catalog</td></tr>\n",
       "<tr><td>...</td><td>...</td><td>...</td></tr>\n",
       "<tr><td>XMM-NEWTON</td><td>xmmstack</td><td>XMM-Newton Serendipitous Source Catalog from Stacked Observations (4XMM-DR13s)</td></tr>\n",
       "<tr><td>XMM-NEWTON</td><td>xmmstackob</td><td>XMM-Newton Serendipitous Source Catalog from Stacked Observations: Obs. Data</td></tr>\n",
       "<tr><td>XMM-NEWTON</td><td>xmmt2flare</td><td>2XMM Flares Detected from Tycho-2 Stars</td></tr>\n",
       "<tr><td>XMM-NEWTON</td><td>xmmvaragn</td><td>Ensemble X-Ray Variability of AGN in 2XMMi-DR3</td></tr>\n",
       "<tr><td>XMM-NEWTON</td><td>xmmxassist</td><td>XMM-Newton XAssist Source List</td></tr>\n",
       "<tr><td>XMM-NEWTON</td><td>xms</td><td>XMM-Newton Medium Sensitivity Survey (XMS) Source Catalog</td></tr>\n",
       "<tr><td>XMM-NEWTON</td><td>xwas</td><td>XMM-Newton Wide Angle Survey</td></tr>\n",
       "</table></div>"
      ],
      "text/plain": [
       "<Table length=1185>\n",
       " Mission   ...\n",
       "  str16    ...\n",
       "---------- ...\n",
       "     AGILE ...\n",
       "     AGILE ...\n",
       "     AKARI ...\n",
       "     AKARI ...\n",
       "       ANS ...\n",
       "   ARIEL V ...\n",
       "       ... ...\n",
       "XMM-NEWTON ...\n",
       "XMM-NEWTON ...\n",
       "XMM-NEWTON ...\n",
       "XMM-NEWTON ...\n",
       "XMM-NEWTON ...\n",
       "XMM-NEWTON ...\n",
       "XMM-NEWTON ..."
      ]
     },
     "execution_count": 7,
     "metadata": {},
     "output_type": "execute_result"
    }
   ],
   "source": [
    "missions = heasarc.query_mission_list()\n",
    "missions"
   ]
  },
  {
   "cell_type": "code",
   "execution_count": 9,
   "id": "37523581-acb0-4e29-90eb-2f427a075e7c",
   "metadata": {},
   "outputs": [
    {
     "data": {
      "text/plain": [
       "['AGILE',\n",
       " 'AKARI',\n",
       " 'ANS',\n",
       " 'ARIEL V',\n",
       " 'ASCA',\n",
       " 'BBXRT',\n",
       " 'BEPPOSAX',\n",
       " 'CALET',\n",
       " 'CGRO',\n",
       " 'CHANDRA',\n",
       " 'COBE',\n",
       " 'COPERNICUS',\n",
       " 'COROT',\n",
       " 'COS B',\n",
       " 'EINSTEIN',\n",
       " 'EUVE',\n",
       " 'EXOSAT',\n",
       " 'FAUST',\n",
       " 'FERMI',\n",
       " 'FUSE',\n",
       " 'GALAXY CATALOG',\n",
       " 'GALEX',\n",
       " 'GAMMA-RAY BURSTS',\n",
       " 'GENERAL CATALOG',\n",
       " 'GINGA',\n",
       " 'GROUND-BASED',\n",
       " 'HALOSAT',\n",
       " 'HEAO1',\n",
       " 'HERSCHEL',\n",
       " 'HETE-2',\n",
       " 'HITOMI',\n",
       " 'HST',\n",
       " 'ICECUBE',\n",
       " 'INTEGRAL',\n",
       " 'IRAS',\n",
       " 'ISO',\n",
       " 'IUE',\n",
       " 'IXPE',\n",
       " 'KVANT',\n",
       " 'LPF',\n",
       " 'MASTER CATALOG',\n",
       " 'MAXI',\n",
       " 'MSX',\n",
       " 'NEBULA CATALOG',\n",
       " 'NICER',\n",
       " 'NUSTAR',\n",
       " 'OSO8',\n",
       " 'PLANCK',\n",
       " 'RADIO CATALOG',\n",
       " 'RHESSI',\n",
       " 'ROSAT',\n",
       " 'RXTE',\n",
       " 'SAS-2',\n",
       " 'SAS-3',\n",
       " 'SDSS',\n",
       " 'SPITZER',\n",
       " 'SRG-EROSITA',\n",
       " 'STAR CATALOG',\n",
       " 'SUZAKU',\n",
       " 'SWIFT',\n",
       " 'TD1',\n",
       " 'UHURU',\n",
       " 'UIT',\n",
       " 'VELA 5B',\n",
       " 'VERITAS',\n",
       " 'WISE',\n",
       " 'WMAP',\n",
       " 'XMM-NEWTON']"
      ]
     },
     "execution_count": 9,
     "metadata": {},
     "output_type": "execute_result"
    }
   ],
   "source": [
    "list(np.unique(missions['Mission']))"
   ]
  },
  {
   "cell_type": "code",
   "execution_count": 28,
   "id": "83ec3c90-cbb8-48b9-894c-470168ff59c4",
   "metadata": {},
   "outputs": [],
   "source": [
    "xray_mission_tables = []"
   ]
  },
  {
   "cell_type": "code",
   "execution_count": 29,
   "id": "10a0bc9a-043e-4cb8-b834-4891d1f84e9e",
   "metadata": {},
   "outputs": [
    {
     "data": {
      "text/html": [
       "<div><i>Table length=5</i>\n",
       "<table id=\"table5621578064\" class=\"table-striped table-bordered table-condensed\">\n",
       "<thead><tr><th>Mission</th><th>Table</th><th>Table Description</th></tr></thead>\n",
       "<thead><tr><th>str16</th><th>str12</th><th>str80</th></tr></thead>\n",
       "<tr><td>SRG-EROSITA</td><td>efedshard</td><td>eROSITA eFEDS Hard X-Ray (2.3-5.0 keV) Source Catalog</td></tr>\n",
       "<tr><td>SRG-EROSITA</td><td>efedsmain</td><td>eROSITA eFEDS Main X-Ray (0.2-2.3 keV) Source Catalog</td></tr>\n",
       "<tr><td>SRG-EROSITA</td><td>erosmaster</td><td>eROSITA Observations Master Catalog</td></tr>\n",
       "<tr><td>SRG-EROSITA</td><td>etachahard</td><td>Eta Chamaeleontis eROSITA EDR Field X-Ray (2.3-5.0 keV) Source Catalog</td></tr>\n",
       "<tr><td>SRG-EROSITA</td><td>etachamain</td><td>Eta Chamaeleontis eROSITA EDR Field X-Ray (0.2-2.3 keV) Source Catalog</td></tr>\n",
       "</table></div>"
      ],
      "text/plain": [
       "<Table length=5>\n",
       "  Mission   ...\n",
       "   str16    ...\n",
       "----------- ...\n",
       "SRG-EROSITA ...\n",
       "SRG-EROSITA ...\n",
       "SRG-EROSITA ...\n",
       "SRG-EROSITA ...\n",
       "SRG-EROSITA ..."
      ]
     },
     "execution_count": 29,
     "metadata": {},
     "output_type": "execute_result"
    }
   ],
   "source": [
    "xray_mission_tables.append(missions[missions['Mission']=='SRG-EROSITA'])\n",
    "xray_mission_tables[-1]"
   ]
  },
  {
   "cell_type": "code",
   "execution_count": 30,
   "id": "8f36a1c9-df9f-445d-9bd6-291a6d532813",
   "metadata": {},
   "outputs": [
    {
     "data": {
      "text/html": [
       "<div><i>Table length=104</i>\n",
       "<table id=\"table5616374288\" class=\"table-striped table-bordered table-condensed\">\n",
       "<thead><tr><th>Mission</th><th>Table</th><th>Table Description</th></tr></thead>\n",
       "<thead><tr><th>str16</th><th>str12</th><th>str80</th></tr></thead>\n",
       "<tr><td>XMM-NEWTON</td><td>agnsdssxm2</td><td>Sloan Digital Sky Survey/XMM-Newton Type1 AGN X-Ray and Radio Properties Catalog</td></tr>\n",
       "<tr><td>XMM-NEWTON</td><td>agnsdssxmm</td><td>Sloan Digital Sky Survey/XMM-Newton AGN Spectral Properties Catalog</td></tr>\n",
       "<tr><td>XMM-NEWTON</td><td>alfperxmm</td><td>Alpha Per Open Cluster XMM-Newton X-Ray Source Catalog</td></tr>\n",
       "<tr><td>XMM-NEWTON</td><td>axis</td><td>AXIS XMM-Newton Source Catalog</td></tr>\n",
       "<tr><td>XMM-NEWTON</td><td>caixa</td><td>Catalog of AGN in the XMM-Newton Archive</td></tr>\n",
       "<tr><td>XMM-NEWTON</td><td>carinaxmm</td><td>Carina OB1 Association XMM-Newton X-Ray Point Source Catalog</td></tr>\n",
       "<tr><td>...</td><td>...</td><td>...</td></tr>\n",
       "<tr><td>XMM-NEWTON</td><td>xmmstack</td><td>XMM-Newton Serendipitous Source Catalog from Stacked Observations (4XMM-DR13s)</td></tr>\n",
       "<tr><td>XMM-NEWTON</td><td>xmmstackob</td><td>XMM-Newton Serendipitous Source Catalog from Stacked Observations: Obs. Data</td></tr>\n",
       "<tr><td>XMM-NEWTON</td><td>xmmt2flare</td><td>2XMM Flares Detected from Tycho-2 Stars</td></tr>\n",
       "<tr><td>XMM-NEWTON</td><td>xmmvaragn</td><td>Ensemble X-Ray Variability of AGN in 2XMMi-DR3</td></tr>\n",
       "<tr><td>XMM-NEWTON</td><td>xmmxassist</td><td>XMM-Newton XAssist Source List</td></tr>\n",
       "<tr><td>XMM-NEWTON</td><td>xms</td><td>XMM-Newton Medium Sensitivity Survey (XMS) Source Catalog</td></tr>\n",
       "<tr><td>XMM-NEWTON</td><td>xwas</td><td>XMM-Newton Wide Angle Survey</td></tr>\n",
       "</table></div>"
      ],
      "text/plain": [
       "<Table length=104>\n",
       " Mission   ...\n",
       "  str16    ...\n",
       "---------- ...\n",
       "XMM-NEWTON ...\n",
       "XMM-NEWTON ...\n",
       "XMM-NEWTON ...\n",
       "XMM-NEWTON ...\n",
       "XMM-NEWTON ...\n",
       "XMM-NEWTON ...\n",
       "       ... ...\n",
       "XMM-NEWTON ...\n",
       "XMM-NEWTON ...\n",
       "XMM-NEWTON ...\n",
       "XMM-NEWTON ...\n",
       "XMM-NEWTON ...\n",
       "XMM-NEWTON ...\n",
       "XMM-NEWTON ..."
      ]
     },
     "execution_count": 30,
     "metadata": {},
     "output_type": "execute_result"
    }
   ],
   "source": [
    "xray_mission_tables.append(missions[missions['Mission']=='XMM-NEWTON'])\n",
    "xray_mission_tables[-1]"
   ]
  },
  {
   "cell_type": "code",
   "execution_count": 31,
   "id": "db160035-e693-4b14-8f4f-ab3d29741258",
   "metadata": {},
   "outputs": [
    {
     "data": {
      "text/html": [
       "<div><i>Table length=86</i>\n",
       "<table id=\"table5532474640\" class=\"table-striped table-bordered table-condensed\">\n",
       "<thead><tr><th>Mission</th><th>Table</th><th>Table Description</th></tr></thead>\n",
       "<thead><tr><th>str16</th><th>str12</th><th>str80</th></tr></thead>\n",
       "<tr><td>ROSAT</td><td>bhrfscid</td><td>Byurakan/Hamburg/ROSAT Catalog of Optical IDs</td></tr>\n",
       "<tr><td>ROSAT</td><td>bmwhricat</td><td>Brera Multi-scale Wavelet ROSAT HRI Source Catalog</td></tr>\n",
       "<tr><td>ROSAT</td><td>chasfrxray</td><td>ROSAT All-Sky Survey: Chamaeleon Star Forming Region Study</td></tr>\n",
       "<tr><td>ROSAT</td><td>cmar1xray</td><td>ROSAT PSPC Catalog of Canis Major R1 X-Ray Sources</td></tr>\n",
       "<tr><td>ROSAT</td><td>dxrbs</td><td>ROSAT Deep X-Ray Radio Blazar Survey Catalog</td></tr>\n",
       "<tr><td>ROSAT</td><td>etgalxray</td><td>Early-Type Galaxies X-Ray Luminosities Catalog</td></tr>\n",
       "<tr><td>...</td><td>...</td><td>...</td></tr>\n",
       "<tr><td>ROSAT</td><td>smcrosxry2</td><td>ROSAT PSPC Catalog of SMC X-Ray Sources (Haberl et al.)</td></tr>\n",
       "<tr><td>ROSAT</td><td>spidersros</td><td>SDSS-IV/SPIDERS ROSAT-Based X-Ray Point Source Spectroscopic Catalog</td></tr>\n",
       "<tr><td>ROSAT</td><td>w2ragncat</td><td>WISE/2MASS/RASS (W2R) AGN Sample Catalog</td></tr>\n",
       "<tr><td>ROSAT</td><td>warps</td><td>Wide Angle ROSAT Pointed Survey, First Phase (WARPS-I)</td></tr>\n",
       "<tr><td>ROSAT</td><td>warps2</td><td>Wide Angle ROSAT Pointed Survey, Second Phase (WARPS-II) Clusters Catalog</td></tr>\n",
       "<tr><td>ROSAT</td><td>wfcpoint</td><td>ROSAT Archival WFC EUV Data</td></tr>\n",
       "<tr><td>ROSAT</td><td>wgacat</td><td>ROSAT Catalog PSPC WGA Sources</td></tr>\n",
       "</table></div>"
      ],
      "text/plain": [
       "<Table length=86>\n",
       "Mission ...\n",
       " str16  ...\n",
       "------- ...\n",
       "  ROSAT ...\n",
       "  ROSAT ...\n",
       "  ROSAT ...\n",
       "  ROSAT ...\n",
       "  ROSAT ...\n",
       "  ROSAT ...\n",
       "    ... ...\n",
       "  ROSAT ...\n",
       "  ROSAT ...\n",
       "  ROSAT ...\n",
       "  ROSAT ...\n",
       "  ROSAT ...\n",
       "  ROSAT ...\n",
       "  ROSAT ..."
      ]
     },
     "execution_count": 31,
     "metadata": {},
     "output_type": "execute_result"
    }
   ],
   "source": [
    "xray_mission_tables.append(missions[missions['Mission']=='ROSAT'])\n",
    "xray_mission_tables[-1]"
   ]
  },
  {
   "cell_type": "code",
   "execution_count": 32,
   "id": "1b5038a2-0d38-4615-833f-eb0f966cd76a",
   "metadata": {},
   "outputs": [
    {
     "data": {
      "text/html": [
       "<div><i>Table length=201</i>\n",
       "<table id=\"table5621893392\" class=\"table-striped table-bordered table-condensed\">\n",
       "<thead><tr><th>Mission</th><th>Table</th><th>Table Description</th></tr></thead>\n",
       "<thead><tr><th>str16</th><th>str12</th><th>str80</th></tr></thead>\n",
       "<tr><td>CHANDRA</td><td>acceptcat</td><td>Archive of Chandra Cluster Entropy Profile Tables (ACCEPT) Catalog</td></tr>\n",
       "<tr><td>CHANDRA</td><td>aegisx</td><td>AEGIS-X Chandra Extended Groth Strip X-Ray Point Source Catalog</td></tr>\n",
       "<tr><td>CHANDRA</td><td>aegisxdcxo</td><td>AEGIS-X Deep Survey Chandra X-Ray Point Source Catalog</td></tr>\n",
       "<tr><td>CHANDRA</td><td>aknepdfcxo</td><td>Akari North Ecliptic Pole Deep Field Chandra X-Ray Point Source Catalog</td></tr>\n",
       "<tr><td>CHANDRA</td><td>arcquincxo</td><td>Arches and Quintuplet Clusters Chandra X-Ray Point Source Catalog</td></tr>\n",
       "<tr><td>CHANDRA</td><td>bmwchancat</td><td>Brera Multi-scale Wavelet Chandra Source Catalog</td></tr>\n",
       "<tr><td>...</td><td>...</td><td>...</td></tr>\n",
       "<tr><td>CHANDRA</td><td>vlulxcat</td><td>Extremely Luminous X-Ray Source Candidates Catalog</td></tr>\n",
       "<tr><td>CHANDRA</td><td>w40sfrcxo</td><td>W 40 Star-Forming Region Chandra X-Ray Point Source Catalog</td></tr>\n",
       "<tr><td>CHANDRA</td><td>wd1cxo</td><td>Westerlund 1 Chandra X-Ray Point Source Catalog</td></tr>\n",
       "<tr><td>CHANDRA</td><td>xbootes</td><td>XBOOTES: NDWFS Bootes Field X-Ray Point Source Catalog</td></tr>\n",
       "<tr><td>CHANDRA</td><td>xbootesoid</td><td>XBOOTES: NDWFS Bootes Field Optical &amp; Near IR Counterparts</td></tr>\n",
       "<tr><td>CHANDRA</td><td>xdeep2</td><td>DEEP2 Galaxy Redshift Survey Fields Chandra Point Source Catalog</td></tr>\n",
       "<tr><td>CHANDRA</td><td>xshzagncxo</td><td>X-Ray Selected High-z AGN Catalog</td></tr>\n",
       "</table></div>"
      ],
      "text/plain": [
       "<Table length=201>\n",
       "Mission ...\n",
       " str16  ...\n",
       "------- ...\n",
       "CHANDRA ...\n",
       "CHANDRA ...\n",
       "CHANDRA ...\n",
       "CHANDRA ...\n",
       "CHANDRA ...\n",
       "CHANDRA ...\n",
       "    ... ...\n",
       "CHANDRA ...\n",
       "CHANDRA ...\n",
       "CHANDRA ...\n",
       "CHANDRA ...\n",
       "CHANDRA ...\n",
       "CHANDRA ...\n",
       "CHANDRA ..."
      ]
     },
     "execution_count": 32,
     "metadata": {},
     "output_type": "execute_result"
    }
   ],
   "source": [
    "xray_mission_tables.append(missions[missions['Mission']=='CHANDRA'])\n",
    "xray_mission_tables[-1]"
   ]
  },
  {
   "cell_type": "code",
   "execution_count": null,
   "id": "b3e6b1e5-3975-4e08-ae2a-3957812922a2",
   "metadata": {},
   "outputs": [],
   "source": []
  }
 ],
 "metadata": {
  "kernelspec": {
   "display_name": "Python 3 (ipykernel)",
   "language": "python",
   "name": "python3"
  },
  "language_info": {
   "codemirror_mode": {
    "name": "ipython",
    "version": 3
   },
   "file_extension": ".py",
   "mimetype": "text/x-python",
   "name": "python",
   "nbconvert_exporter": "python",
   "pygments_lexer": "ipython3",
   "version": "3.11.7"
  }
 },
 "nbformat": 4,
 "nbformat_minor": 5
}
